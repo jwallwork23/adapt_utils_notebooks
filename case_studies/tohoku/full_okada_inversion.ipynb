{
 "cells": [
  {
   "cell_type": "code",
   "execution_count": 1,
   "metadata": {},
   "outputs": [],
   "source": [
    "from thetis import *\n",
    "from firedrake_adjoint import *"
   ]
  },
  {
   "cell_type": "code",
   "execution_count": 2,
   "metadata": {},
   "outputs": [],
   "source": [
    "import adolc\n",
    "import matplotlib.pyplot as plt\n",
    "import numpy as np\n",
    "import scipy"
   ]
  },
  {
   "cell_type": "code",
   "execution_count": 3,
   "metadata": {},
   "outputs": [],
   "source": [
    "from adapt_utils.case_studies.tohoku.options.okada_options import TohokuOkadaBasisOptions\n",
    "from adapt_utils.norms import vecnorm\n",
    "from adapt_utils.unsteady.solver import AdaptiveProblem"
   ]
  },
  {
   "cell_type": "markdown",
   "metadata": {},
   "source": [
    "Following the parameter redundancy experiment, we only allow variations in slip."
   ]
  },
  {
   "cell_type": "code",
   "execution_count": 4,
   "metadata": {},
   "outputs": [],
   "source": [
    "taylor = False\n",
    "num_mins = 2\n",
    "kwargs = dict(end_time=num_mins*60, synthetic=False)\n",
    "op = TohokuOkadaBasisOptions(**kwargs)\n",
    "op.active_controls = ['slip']\n",
    "num_active_controls = len(op.active_controls)\n",
    "gauges = list(op.gauges.keys())\n",
    "tp = AdaptiveProblem(op, nonlinear=False)"
   ]
  },
  {
   "cell_type": "markdown",
   "metadata": {},
   "source": [
    "Annotate the source model to ADOL-C's tape"
   ]
  },
  {
   "cell_type": "code",
   "execution_count": 5,
   "metadata": {},
   "outputs": [
    {
     "name": "stdout",
     "output_type": "stream",
     "text": [
      "ADOL-C: num_independents    : 190\n",
      "ADOL-C: num_dependents      : 1800\n",
      "ADOL-C: num_max_lives       : 524288\n",
      "ADOL-C: tay_stack_size      : 0\n",
      "ADOL-C: op_buffer_size      : 50000000\n",
      "ADOL-C: num_operations      : 1372933\n",
      "ADOL-C: op_file_access      : 0\n",
      "ADOL-C: num_locations       : 3425924\n",
      "ADOL-C: loc_file_access     : 0\n",
      "ADOL-C: num_values          : 685140\n",
      "ADOL-C: val_file_access     : 0\n",
      "ADOL-C: loc_buffer_size     : 50000000\n",
      "ADOL-C: val_buffer_size     : 50000000\n",
      "ADOL-C: tay_buffer_size     : 50000000\n"
     ]
    }
   ],
   "source": [
    "tape_tag = 0\n",
    "tp.set_initial_condition(annotate_source=True, tag=tape_tag, separate_faults=False)\n",
    "stats = adolc.tapestats(tape_tag)\n",
    "for key in stats:\n",
    "    print(\"ADOL-C: {:20s}: {:d}\".format(key.lower(), stats[key]))\n",
    "num_subfaults = len(op.subfaults)\n",
    "q = tp.fwd_solution\n",
    "q0 = q.copy(deepcopy=True)"
   ]
  },
  {
   "cell_type": "markdown",
   "metadata": {},
   "source": [
    "Set initial condition for tsunami propagation"
   ]
  },
  {
   "cell_type": "code",
   "execution_count": 6,
   "metadata": {},
   "outputs": [],
   "source": [
    "tape = get_working_tape()\n",
    "tape.clear_tape()\n",
    "u, eta = q.split()\n",
    "u0, eta0 = q0.split()\n",
    "u.assign(0.0)\n",
    "eta.assign(eta0)\n",
    "controls = Control(eta)"
   ]
  },
  {
   "cell_type": "markdown",
   "metadata": {},
   "source": [
    "Setup QoI"
   ]
  },
  {
   "cell_type": "code",
   "execution_count": 7,
   "metadata": {},
   "outputs": [],
   "source": [
    "op.get_update_forcings(tp, 0)\n",
    "wq = Constant(0.0)\n",
    "op.J = 0\n",
    "\n",
    "def update_forcings(t):\n",
    "    tt = t - op.dt\n",
    "    for gauge in gauges:\n",
    "        tstart = op.gauges[gauge]['arrival_time']\n",
    "        tend = min(op.gauges[gauge]['departure_time'], op.end_time)\n",
    "        if t < tstart or t > tend:\n",
    "            continue\n",
    "        wq.assign(0.25*op.dt if np.isclose(tt, tstart) or np.isclose(tt, tend) else 0.5*op.dt)\n",
    "        op.gauges[gauge]['obs'].assign(op.gauges[gauge]['interpolator'](tt))\n",
    "        op.J = op.J + assemble(wq*op.gauges[gauge]['indicator']*(eta - op.gauges[gauge]['obs'])**2*dx)"
   ]
  },
  {
   "cell_type": "markdown",
   "metadata": {},
   "source": [
    "Run tsunami propagation, annotating pyadjoint's tape"
   ]
  },
  {
   "cell_type": "code",
   "execution_count": 8,
   "metadata": {},
   "outputs": [
    {
     "name": "stderr",
     "output_type": "stream",
     "text": [
      "================================================================================\n",
      "FORWARD SOLVE  time     0.00  (  0.00) seconds\n",
      "    elevation norm           at time   60.0 =  1.0584e+06\n",
      "    velocity norm            at time   60.0 =  2.2900e+04\n",
      "FORWARD SOLVE  time    60.00  (  2.45) seconds\n",
      "    elevation norm           at time  120.0 =  8.6471e+05\n",
      "    velocity norm            at time  120.0 =  3.8247e+04\n",
      "FORWARD SOLVE  time   120.00  (  1.05) seconds\n",
      "================================================================================\n"
     ]
    }
   ],
   "source": [
    "tp.setup_solver_forward_step(0)\n",
    "tp.solve_forward_step(0, update_forcings=update_forcings)\n",
    "J = op.J\n",
    "stop_annotating()\n",
    "Jhat = ReducedFunctional(J, controls)"
   ]
  },
  {
   "cell_type": "code",
   "execution_count": 9,
   "metadata": {},
   "outputs": [],
   "source": [
    "def reduced_functional(m):\n",
    "    \"\"\"\n",
    "    Compose both unrolled tapes\n",
    "    \"\"\"\n",
    "    m_array = m.reshape((num_active_controls, num_subfaults))\n",
    "    for i, control in enumerate(op.active_controls):\n",
    "        assert len(op.control_parameters[control]) == len(m_array[i])\n",
    "        op.control_parameters[control][:] = m_array[i]\n",
    "\n",
    "    # Unroll ADOL-C's tape\n",
    "    op.set_initial_condition(tp, unroll_tape=True, separate_faults=False, tag=tape_tag)\n",
    "    u, eta = tp.fwd_solution.split()\n",
    "\n",
    "    # Unroll pyadjoint's tape\n",
    "    op.J = Jhat(eta)\n",
    "    print(\"Reduced functional = {:.8e}\".format(op.J))\n",
    "    return op.J"
   ]
  },
  {
   "cell_type": "code",
   "execution_count": 10,
   "metadata": {},
   "outputs": [],
   "source": [
    "def gradient(m):\n",
    "    \"\"\"\n",
    "    Apply the chain rule to both tapes\n",
    "    \"\"\"\n",
    "\n",
    "    # Reverse propagate on pyadjoint's tape\n",
    "    dJdeta0 = Jhat.derivative()\n",
    "\n",
    "    # Restrict to source region\n",
    "    dJdeta0 = interpolate(dJdeta0, tp.P1[0])  # TODO: Avoid interpolation\n",
    "    dJdeta0 = dJdeta0.dat.data[op.indices]\n",
    "\n",
    "    # Reverse propagate on ADOL-C's tape\n",
    "    dJdm = adolc.fos_reverse(tape_tag, dJdeta0)\n",
    "    print(\"Gradient norm      = {:.8e}\".format(vecnorm(dJdm, order=np.Inf)))\n",
    "    return dJdm"
   ]
  },
  {
   "cell_type": "code",
   "execution_count": 11,
   "metadata": {},
   "outputs": [],
   "source": [
    "c = np.array(op.control_parameters['slip']).flatten()"
   ]
  },
  {
   "cell_type": "code",
   "execution_count": 12,
   "metadata": {},
   "outputs": [],
   "source": [
    "op.control_trajectory = []\n",
    "op.qoi_trajectory = []"
   ]
  },
  {
   "cell_type": "code",
   "execution_count": 13,
   "metadata": {},
   "outputs": [],
   "source": [
    "def callback(m):\n",
    "    op.control_trajectory.append(m)\n",
    "    op.qoi_trajectory.append(op.J)\n",
    "    print(\"LINE SEARCH COMPLETE\")"
   ]
  },
  {
   "cell_type": "code",
   "execution_count": 14,
   "metadata": {},
   "outputs": [
    {
     "name": "stderr",
     "output_type": "stream",
     "text": [
      "Optimisation begin...\n"
     ]
    },
    {
     "name": "stdout",
     "output_type": "stream",
     "text": [
      "Reduced functional = 7.08918674e+02\n",
      "Gradient norm      = 1.51466274e+00\n",
      "Reduced functional = 6.86002153e+02\n",
      "Gradient norm      = 1.45359372e+00\n",
      "Reduced functional = 6.03971133e+02\n",
      "Gradient norm      = 1.20931764e+00\n",
      "LINE SEARCH COMPLETE\n",
      "Reduced functional = 3.84986612e+02\n",
      "Gradient norm      = 1.03060548e+00\n",
      "LINE SEARCH COMPLETE\n",
      "Reduced functional = 3.45969074e+02\n",
      "Gradient norm      = 1.07433608e+00\n",
      "LINE SEARCH COMPLETE\n",
      "Reduced functional = 1.56833766e+02\n",
      "Gradient norm      = 9.68915665e-01\n",
      "LINE SEARCH COMPLETE\n",
      "Reduced functional = 1.12950709e+02\n",
      "Gradient norm      = 5.36085697e-01\n",
      "LINE SEARCH COMPLETE\n",
      "Reduced functional = 9.57956729e+01\n",
      "Gradient norm      = 2.77221824e-01\n",
      "LINE SEARCH COMPLETE\n",
      "Reduced functional = 9.22724585e+01\n",
      "Gradient norm      = 2.63798356e-01\n",
      "LINE SEARCH COMPLETE\n",
      "Reduced functional = 8.34201794e+01\n",
      "Gradient norm      = 1.97251825e-01\n",
      "LINE SEARCH COMPLETE\n",
      "Reduced functional = 7.26664107e+01\n",
      "Gradient norm      = 1.50483934e-01\n",
      "LINE SEARCH COMPLETE\n",
      "Reduced functional = 6.60106724e+01\n",
      "Gradient norm      = 1.74314663e-01\n",
      "LINE SEARCH COMPLETE\n",
      "Reduced functional = 6.47401208e+01\n",
      "Gradient norm      = 1.79401983e-01\n",
      "LINE SEARCH COMPLETE\n",
      "Reduced functional = 6.36082435e+01\n",
      "Gradient norm      = 1.85643071e-01\n",
      "LINE SEARCH COMPLETE\n",
      "Reduced functional = 6.09470896e+01\n",
      "Gradient norm      = 1.87352357e-01\n",
      "LINE SEARCH COMPLETE\n",
      "Reduced functional = 5.58208204e+01\n",
      "Gradient norm      = 1.70672081e-01\n",
      "LINE SEARCH COMPLETE\n",
      "Reduced functional = 4.88779076e+01\n",
      "Gradient norm      = 1.45904974e-01\n",
      "LINE SEARCH COMPLETE\n",
      "Reduced functional = 4.31343978e+01\n",
      "Gradient norm      = 1.72818160e-01\n",
      "LINE SEARCH COMPLETE\n",
      "Reduced functional = 4.01871143e+01\n",
      "Gradient norm      = 1.61306638e-01\n",
      "LINE SEARCH COMPLETE\n",
      "Reduced functional = 3.88039169e+01\n",
      "Gradient norm      = 1.31898993e-01\n",
      "LINE SEARCH COMPLETE\n",
      "Reduced functional = 3.72582943e+01\n",
      "Gradient norm      = 9.04194261e-02\n",
      "LINE SEARCH COMPLETE\n",
      "Reduced functional = 3.43360671e+01\n",
      "Gradient norm      = 6.98922177e-02\n",
      "LINE SEARCH COMPLETE\n",
      "Reduced functional = 3.02296253e+01\n",
      "Gradient norm      = 6.60496378e-02\n",
      "LINE SEARCH COMPLETE\n",
      "Reduced functional = 2.74776563e+01\n",
      "Gradient norm      = 6.83125840e-02\n",
      "LINE SEARCH COMPLETE\n",
      "Reduced functional = 2.66744297e+01\n",
      "Gradient norm      = 6.00476854e-02\n",
      "LINE SEARCH COMPLETE\n",
      "Reduced functional = 2.63493998e+01\n",
      "Gradient norm      = 6.14684717e-02\n",
      "LINE SEARCH COMPLETE\n",
      "Reduced functional = 2.57496094e+01\n",
      "Gradient norm      = 6.10117120e-02\n",
      "LINE SEARCH COMPLETE\n",
      "Reduced functional = 2.47049109e+01\n",
      "Gradient norm      = 6.09509150e-02\n",
      "LINE SEARCH COMPLETE\n",
      "Reduced functional = 2.32753233e+01\n",
      "Gradient norm      = 8.64928365e-02\n",
      "LINE SEARCH COMPLETE\n",
      "Reduced functional = 2.21888600e+01\n",
      "Gradient norm      = 7.70349179e-02\n",
      "LINE SEARCH COMPLETE\n",
      "Reduced functional = 2.16835133e+01\n",
      "Gradient norm      = 6.26179683e-02\n",
      "LINE SEARCH COMPLETE\n",
      "Reduced functional = 2.13737567e+01\n",
      "Gradient norm      = 6.05774859e-02\n",
      "LINE SEARCH COMPLETE\n",
      "Reduced functional = 2.09868063e+01\n",
      "Gradient norm      = 5.72591241e-02\n",
      "LINE SEARCH COMPLETE\n",
      "Reduced functional = 2.01880849e+01\n",
      "Gradient norm      = 5.05261431e-02\n",
      "LINE SEARCH COMPLETE\n",
      "Reduced functional = 1.89007852e+01\n",
      "Gradient norm      = 4.59394315e-02\n",
      "LINE SEARCH COMPLETE\n",
      "Reduced functional = 1.75395113e+01\n",
      "Gradient norm      = 5.37458170e-02\n",
      "LINE SEARCH COMPLETE\n",
      "Reduced functional = 1.68386879e+01\n",
      "Gradient norm      = 6.56948394e-02\n",
      "LINE SEARCH COMPLETE\n",
      "Reduced functional = 1.65971053e+01\n",
      "Gradient norm      = 6.32378558e-02\n",
      "LINE SEARCH COMPLETE\n",
      "Reduced functional = 1.63718374e+01\n",
      "Gradient norm      = 5.70886011e-02\n",
      "LINE SEARCH COMPLETE\n",
      "Reduced functional = 1.58822619e+01\n",
      "Gradient norm      = 5.75099929e-02\n",
      "LINE SEARCH COMPLETE\n",
      "Reduced functional = 1.50649064e+01\n",
      "Gradient norm      = 6.33081024e-02\n",
      "LINE SEARCH COMPLETE\n",
      "Reduced functional = 1.40677961e+01\n",
      "Gradient norm      = 6.39448367e-02\n",
      "LINE SEARCH COMPLETE\n",
      "Reduced functional = 1.34517999e+01\n",
      "Gradient norm      = 5.25315655e-02\n",
      "LINE SEARCH COMPLETE\n",
      "Reduced functional = 1.32965747e+01\n",
      "Gradient norm      = 5.30071022e-02\n",
      "LINE SEARCH COMPLETE\n",
      "Reduced functional = 1.32606595e+01\n",
      "Gradient norm      = 5.06111992e-02\n",
      "LINE SEARCH COMPLETE\n",
      "Reduced functional = 1.31628859e+01\n",
      "Gradient norm      = 4.53285228e-02\n",
      "LINE SEARCH COMPLETE\n",
      "Reduced functional = 1.28564830e+01\n",
      "Gradient norm      = 3.44280321e-02\n",
      "LINE SEARCH COMPLETE\n",
      "Reduced functional = 1.22577451e+01\n",
      "Gradient norm      = 4.53284798e-02\n",
      "LINE SEARCH COMPLETE\n",
      "Reduced functional = 1.16573069e+01\n",
      "Gradient norm      = 4.71774059e-02\n",
      "LINE SEARCH COMPLETE\n",
      "Reduced functional = 1.13334470e+01\n",
      "Gradient norm      = 3.27998792e-02\n",
      "LINE SEARCH COMPLETE\n",
      "Reduced functional = 1.11675975e+01\n",
      "Gradient norm      = 3.15536482e-02\n",
      "LINE SEARCH COMPLETE\n",
      "Reduced functional = 1.10394743e+01\n",
      "Gradient norm      = 3.36260143e-02\n",
      "LINE SEARCH COMPLETE\n",
      "Reduced functional = 1.07884957e+01\n",
      "Gradient norm      = 3.47765171e-02\n",
      "LINE SEARCH COMPLETE\n",
      "Reduced functional = 1.03242139e+01\n",
      "Gradient norm      = 3.37377202e-02\n",
      "LINE SEARCH COMPLETE\n",
      "Reduced functional = 9.56039713e+00\n",
      "Gradient norm      = 4.38229248e-02\n",
      "LINE SEARCH COMPLETE\n",
      "Reduced functional = 8.75329427e+00\n",
      "Gradient norm      = 4.41689576e-02\n",
      "LINE SEARCH COMPLETE\n",
      "Reduced functional = 8.36580993e+00\n",
      "Gradient norm      = 2.82156888e-02\n",
      "LINE SEARCH COMPLETE\n",
      "Reduced functional = 8.34303718e+00\n",
      "Gradient norm      = 3.13390206e-02\n",
      "LINE SEARCH COMPLETE\n",
      "Reduced functional = 8.35477973e+00\n",
      "Gradient norm      = 3.16438848e-02\n",
      "Reduced functional = 8.34307286e+00\n",
      "Gradient norm      = 3.13627325e-02\n",
      "Reduced functional = 8.34303248e+00\n",
      "Gradient norm      = 3.13437358e-02\n",
      "Reduced functional = 8.34304847e+00\n",
      "Gradient norm      = 3.13562736e-02\n",
      "Reduced functional = 8.34303236e+00\n",
      "Gradient norm      = 3.13462378e-02\n",
      "Reduced functional = 8.34304002e+00\n",
      "Gradient norm      = 3.13528614e-02\n",
      "Reduced functional = 8.34303297e+00\n",
      "Gradient norm      = 3.13475619e-02\n",
      "Reduced functional = 8.34303245e+00\n",
      "Gradient norm      = 3.13465111e-02\n",
      "Reduced functional = 8.34303238e+00\n",
      "Gradient norm      = 3.13462946e-02\n",
      "Reduced functional = 8.34303237e+00\n",
      "Gradient norm      = 3.13462496e-02\n",
      "Reduced functional = 8.34303237e+00\n",
      "Gradient norm      = 3.13462402e-02\n",
      "Reduced functional = 8.34303236e+00\n",
      "Gradient norm      = 3.13462383e-02\n",
      "Reduced functional = 8.34303236e+00\n",
      "Gradient norm      = 3.13462379e-02\n",
      "Reduced functional = 8.34303236e+00\n",
      "Gradient norm      = 3.13462378e-02\n",
      "Reduced functional = 8.34303236e+00\n",
      "Gradient norm      = 3.13462378e-02\n",
      "Reduced functional = 8.34303236e+00\n",
      "Gradient norm      = 3.13462378e-02\n",
      "Reduced functional = 8.34303236e+00\n",
      "Gradient norm      = 3.13462378e-02\n",
      "Reduced functional = 8.34303236e+00\n",
      "Gradient norm      = 3.13462378e-02\n",
      "Reduced functional = 8.34303236e+00\n",
      "Gradient norm      = 3.13462378e-02\n",
      "Reduced functional = 8.34303236e+00\n",
      "Gradient norm      = 3.13462378e-02\n",
      "Reduced functional = 8.34303236e+00\n",
      "Gradient norm      = 3.13462378e-02\n",
      "Reduced functional = 8.34303236e+00\n",
      "Gradient norm      = 3.13462378e-02\n",
      "Reduced functional = 8.34303236e+00\n",
      "Gradient norm      = 3.13462378e-02\n",
      "Reduced functional = 8.34303236e+00\n",
      "Gradient norm      = 3.13462378e-02\n",
      "Reduced functional = 8.34303236e+00\n",
      "Gradient norm      = 3.13462378e-02\n"
     ]
    },
    {
     "ename": "KeyboardInterrupt",
     "evalue": "",
     "output_type": "error",
     "traceback": [
      "\u001b[0;31m---------------------------------------------------------------------------\u001b[0m",
      "\u001b[0;31mKeyboardInterrupt\u001b[0m                         Traceback (most recent call last)",
      "\u001b[0;32m<ipython-input-14-305094fb4870>\u001b[0m in \u001b[0;36m<module>\u001b[0;34m\u001b[0m\n\u001b[1;32m      7\u001b[0m     \u001b[0;34m'callback'\u001b[0m\u001b[0;34m:\u001b[0m \u001b[0mcallback\u001b[0m\u001b[0;34m,\u001b[0m\u001b[0;34m\u001b[0m\u001b[0;34m\u001b[0m\u001b[0m\n\u001b[1;32m      8\u001b[0m }\n\u001b[0;32m----> 9\u001b[0;31m \u001b[0moptimised_value\u001b[0m \u001b[0;34m=\u001b[0m \u001b[0mscipy\u001b[0m\u001b[0;34m.\u001b[0m\u001b[0moptimize\u001b[0m\u001b[0;34m.\u001b[0m\u001b[0mfmin_bfgs\u001b[0m\u001b[0;34m(\u001b[0m\u001b[0mreduced_functional\u001b[0m\u001b[0;34m,\u001b[0m \u001b[0mc\u001b[0m\u001b[0;34m,\u001b[0m \u001b[0;34m**\u001b[0m\u001b[0mopt_kwargs\u001b[0m\u001b[0;34m)\u001b[0m\u001b[0;34m\u001b[0m\u001b[0;34m\u001b[0m\u001b[0m\n\u001b[0m",
      "\u001b[0;32m~/software/firedrake-no-adapt/lib/python3.6/site-packages/scipy/optimize/optimize.py\u001b[0m in \u001b[0;36mfmin_bfgs\u001b[0;34m(f, x0, fprime, args, gtol, norm, epsilon, maxiter, full_output, disp, retall, callback)\u001b[0m\n\u001b[1;32m   1041\u001b[0m             'return_all': retall}\n\u001b[1;32m   1042\u001b[0m \u001b[0;34m\u001b[0m\u001b[0m\n\u001b[0;32m-> 1043\u001b[0;31m     \u001b[0mres\u001b[0m \u001b[0;34m=\u001b[0m \u001b[0m_minimize_bfgs\u001b[0m\u001b[0;34m(\u001b[0m\u001b[0mf\u001b[0m\u001b[0;34m,\u001b[0m \u001b[0mx0\u001b[0m\u001b[0;34m,\u001b[0m \u001b[0margs\u001b[0m\u001b[0;34m,\u001b[0m \u001b[0mfprime\u001b[0m\u001b[0;34m,\u001b[0m \u001b[0mcallback\u001b[0m\u001b[0;34m=\u001b[0m\u001b[0mcallback\u001b[0m\u001b[0;34m,\u001b[0m \u001b[0;34m**\u001b[0m\u001b[0mopts\u001b[0m\u001b[0;34m)\u001b[0m\u001b[0;34m\u001b[0m\u001b[0;34m\u001b[0m\u001b[0m\n\u001b[0m\u001b[1;32m   1044\u001b[0m \u001b[0;34m\u001b[0m\u001b[0m\n\u001b[1;32m   1045\u001b[0m     \u001b[0;32mif\u001b[0m \u001b[0mfull_output\u001b[0m\u001b[0;34m:\u001b[0m\u001b[0;34m\u001b[0m\u001b[0;34m\u001b[0m\u001b[0m\n",
      "\u001b[0;32m~/software/firedrake-no-adapt/lib/python3.6/site-packages/scipy/optimize/optimize.py\u001b[0m in \u001b[0;36m_minimize_bfgs\u001b[0;34m(fun, x0, args, jac, callback, gtol, norm, eps, maxiter, disp, return_all, finite_diff_rel_step, **unknown_options)\u001b[0m\n\u001b[1;32m   1134\u001b[0m             \u001b[0malpha_k\u001b[0m\u001b[0;34m,\u001b[0m \u001b[0mfc\u001b[0m\u001b[0;34m,\u001b[0m \u001b[0mgc\u001b[0m\u001b[0;34m,\u001b[0m \u001b[0mold_fval\u001b[0m\u001b[0;34m,\u001b[0m \u001b[0mold_old_fval\u001b[0m\u001b[0;34m,\u001b[0m \u001b[0mgfkp1\u001b[0m \u001b[0;34m=\u001b[0m\u001b[0;31m \u001b[0m\u001b[0;31m\\\u001b[0m\u001b[0;34m\u001b[0m\u001b[0;34m\u001b[0m\u001b[0m\n\u001b[1;32m   1135\u001b[0m                      _line_search_wolfe12(f, myfprime, xk, pk, gfk,\n\u001b[0;32m-> 1136\u001b[0;31m                                           old_fval, old_old_fval, amin=1e-100, amax=1e100)\n\u001b[0m\u001b[1;32m   1137\u001b[0m         \u001b[0;32mexcept\u001b[0m \u001b[0m_LineSearchError\u001b[0m\u001b[0;34m:\u001b[0m\u001b[0;34m\u001b[0m\u001b[0;34m\u001b[0m\u001b[0m\n\u001b[1;32m   1138\u001b[0m             \u001b[0;31m# Line search failed to find a better solution.\u001b[0m\u001b[0;34m\u001b[0m\u001b[0;34m\u001b[0m\u001b[0;34m\u001b[0m\u001b[0m\n",
      "\u001b[0;32m~/software/firedrake-no-adapt/lib/python3.6/site-packages/scipy/optimize/optimize.py\u001b[0m in \u001b[0;36m_line_search_wolfe12\u001b[0;34m(f, fprime, xk, pk, gfk, old_fval, old_old_fval, **kwargs)\u001b[0m\n\u001b[1;32m    934\u001b[0m     ret = line_search_wolfe1(f, fprime, xk, pk, gfk,\n\u001b[1;32m    935\u001b[0m                              \u001b[0mold_fval\u001b[0m\u001b[0;34m,\u001b[0m \u001b[0mold_old_fval\u001b[0m\u001b[0;34m,\u001b[0m\u001b[0;34m\u001b[0m\u001b[0;34m\u001b[0m\u001b[0m\n\u001b[0;32m--> 936\u001b[0;31m                              **kwargs)\n\u001b[0m\u001b[1;32m    937\u001b[0m \u001b[0;34m\u001b[0m\u001b[0m\n\u001b[1;32m    938\u001b[0m     \u001b[0;32mif\u001b[0m \u001b[0mret\u001b[0m\u001b[0;34m[\u001b[0m\u001b[0;36m0\u001b[0m\u001b[0;34m]\u001b[0m \u001b[0;32mis\u001b[0m \u001b[0;32mnot\u001b[0m \u001b[0;32mNone\u001b[0m \u001b[0;32mand\u001b[0m \u001b[0mextra_condition\u001b[0m \u001b[0;32mis\u001b[0m \u001b[0;32mnot\u001b[0m \u001b[0;32mNone\u001b[0m\u001b[0;34m:\u001b[0m\u001b[0;34m\u001b[0m\u001b[0;34m\u001b[0m\u001b[0m\n",
      "\u001b[0;32m~/software/firedrake-no-adapt/lib/python3.6/site-packages/scipy/optimize/linesearch.py\u001b[0m in \u001b[0;36mline_search_wolfe1\u001b[0;34m(f, fprime, xk, pk, gfk, old_fval, old_old_fval, args, c1, c2, amax, amin, xtol)\u001b[0m\n\u001b[1;32m     96\u001b[0m     stp, fval, old_fval = scalar_search_wolfe1(\n\u001b[1;32m     97\u001b[0m             \u001b[0mphi\u001b[0m\u001b[0;34m,\u001b[0m \u001b[0mderphi\u001b[0m\u001b[0;34m,\u001b[0m \u001b[0mold_fval\u001b[0m\u001b[0;34m,\u001b[0m \u001b[0mold_old_fval\u001b[0m\u001b[0;34m,\u001b[0m \u001b[0mderphi0\u001b[0m\u001b[0;34m,\u001b[0m\u001b[0;34m\u001b[0m\u001b[0;34m\u001b[0m\u001b[0m\n\u001b[0;32m---> 98\u001b[0;31m             c1=c1, c2=c2, amax=amax, amin=amin, xtol=xtol)\n\u001b[0m\u001b[1;32m     99\u001b[0m \u001b[0;34m\u001b[0m\u001b[0m\n\u001b[1;32m    100\u001b[0m     \u001b[0;32mreturn\u001b[0m \u001b[0mstp\u001b[0m\u001b[0;34m,\u001b[0m \u001b[0mfc\u001b[0m\u001b[0;34m[\u001b[0m\u001b[0;36m0\u001b[0m\u001b[0;34m]\u001b[0m\u001b[0;34m,\u001b[0m \u001b[0mgc\u001b[0m\u001b[0;34m[\u001b[0m\u001b[0;36m0\u001b[0m\u001b[0;34m]\u001b[0m\u001b[0;34m,\u001b[0m \u001b[0mfval\u001b[0m\u001b[0;34m,\u001b[0m \u001b[0mold_fval\u001b[0m\u001b[0;34m,\u001b[0m \u001b[0mgval\u001b[0m\u001b[0;34m[\u001b[0m\u001b[0;36m0\u001b[0m\u001b[0;34m]\u001b[0m\u001b[0;34m\u001b[0m\u001b[0;34m\u001b[0m\u001b[0m\n",
      "\u001b[0;32m~/software/firedrake-no-adapt/lib/python3.6/site-packages/scipy/optimize/linesearch.py\u001b[0m in \u001b[0;36mscalar_search_wolfe1\u001b[0;34m(phi, derphi, phi0, old_phi0, derphi0, c1, c2, amax, amin, xtol)\u001b[0m\n\u001b[1;32m    170\u001b[0m         \u001b[0;32mif\u001b[0m \u001b[0mtask\u001b[0m\u001b[0;34m[\u001b[0m\u001b[0;34m:\u001b[0m\u001b[0;36m2\u001b[0m\u001b[0;34m]\u001b[0m \u001b[0;34m==\u001b[0m \u001b[0;34mb'FG'\u001b[0m\u001b[0;34m:\u001b[0m\u001b[0;34m\u001b[0m\u001b[0;34m\u001b[0m\u001b[0m\n\u001b[1;32m    171\u001b[0m             \u001b[0malpha1\u001b[0m \u001b[0;34m=\u001b[0m \u001b[0mstp\u001b[0m\u001b[0;34m\u001b[0m\u001b[0;34m\u001b[0m\u001b[0m\n\u001b[0;32m--> 172\u001b[0;31m             \u001b[0mphi1\u001b[0m \u001b[0;34m=\u001b[0m \u001b[0mphi\u001b[0m\u001b[0;34m(\u001b[0m\u001b[0mstp\u001b[0m\u001b[0;34m)\u001b[0m\u001b[0;34m\u001b[0m\u001b[0;34m\u001b[0m\u001b[0m\n\u001b[0m\u001b[1;32m    173\u001b[0m             \u001b[0mderphi1\u001b[0m \u001b[0;34m=\u001b[0m \u001b[0mderphi\u001b[0m\u001b[0;34m(\u001b[0m\u001b[0mstp\u001b[0m\u001b[0;34m)\u001b[0m\u001b[0;34m\u001b[0m\u001b[0;34m\u001b[0m\u001b[0m\n\u001b[1;32m    174\u001b[0m         \u001b[0;32melse\u001b[0m\u001b[0;34m:\u001b[0m\u001b[0;34m\u001b[0m\u001b[0;34m\u001b[0m\u001b[0m\n",
      "\u001b[0;32m~/software/firedrake-no-adapt/lib/python3.6/site-packages/scipy/optimize/linesearch.py\u001b[0m in \u001b[0;36mphi\u001b[0;34m(s)\u001b[0m\n\u001b[1;32m     82\u001b[0m     \u001b[0;32mdef\u001b[0m \u001b[0mphi\u001b[0m\u001b[0;34m(\u001b[0m\u001b[0ms\u001b[0m\u001b[0;34m)\u001b[0m\u001b[0;34m:\u001b[0m\u001b[0;34m\u001b[0m\u001b[0;34m\u001b[0m\u001b[0m\n\u001b[1;32m     83\u001b[0m         \u001b[0mfc\u001b[0m\u001b[0;34m[\u001b[0m\u001b[0;36m0\u001b[0m\u001b[0;34m]\u001b[0m \u001b[0;34m+=\u001b[0m \u001b[0;36m1\u001b[0m\u001b[0;34m\u001b[0m\u001b[0;34m\u001b[0m\u001b[0m\n\u001b[0;32m---> 84\u001b[0;31m         \u001b[0;32mreturn\u001b[0m \u001b[0mf\u001b[0m\u001b[0;34m(\u001b[0m\u001b[0mxk\u001b[0m \u001b[0;34m+\u001b[0m \u001b[0ms\u001b[0m\u001b[0;34m*\u001b[0m\u001b[0mpk\u001b[0m\u001b[0;34m,\u001b[0m \u001b[0;34m*\u001b[0m\u001b[0margs\u001b[0m\u001b[0;34m)\u001b[0m\u001b[0;34m\u001b[0m\u001b[0;34m\u001b[0m\u001b[0m\n\u001b[0m\u001b[1;32m     85\u001b[0m \u001b[0;34m\u001b[0m\u001b[0m\n\u001b[1;32m     86\u001b[0m     \u001b[0;32mdef\u001b[0m \u001b[0mderphi\u001b[0m\u001b[0;34m(\u001b[0m\u001b[0ms\u001b[0m\u001b[0;34m)\u001b[0m\u001b[0;34m:\u001b[0m\u001b[0;34m\u001b[0m\u001b[0;34m\u001b[0m\u001b[0m\n",
      "\u001b[0;32m~/software/firedrake-no-adapt/lib/python3.6/site-packages/scipy/optimize/_differentiable_functions.py\u001b[0m in \u001b[0;36mfun\u001b[0;34m(self, x)\u001b[0m\n\u001b[1;32m    180\u001b[0m         \u001b[0;32mif\u001b[0m \u001b[0;32mnot\u001b[0m \u001b[0mnp\u001b[0m\u001b[0;34m.\u001b[0m\u001b[0marray_equal\u001b[0m\u001b[0;34m(\u001b[0m\u001b[0mx\u001b[0m\u001b[0;34m,\u001b[0m \u001b[0mself\u001b[0m\u001b[0;34m.\u001b[0m\u001b[0mx\u001b[0m\u001b[0;34m)\u001b[0m\u001b[0;34m:\u001b[0m\u001b[0;34m\u001b[0m\u001b[0;34m\u001b[0m\u001b[0m\n\u001b[1;32m    181\u001b[0m             \u001b[0mself\u001b[0m\u001b[0;34m.\u001b[0m\u001b[0m_update_x_impl\u001b[0m\u001b[0;34m(\u001b[0m\u001b[0mx\u001b[0m\u001b[0;34m)\u001b[0m\u001b[0;34m\u001b[0m\u001b[0;34m\u001b[0m\u001b[0m\n\u001b[0;32m--> 182\u001b[0;31m         \u001b[0mself\u001b[0m\u001b[0;34m.\u001b[0m\u001b[0m_update_fun\u001b[0m\u001b[0;34m(\u001b[0m\u001b[0;34m)\u001b[0m\u001b[0;34m\u001b[0m\u001b[0;34m\u001b[0m\u001b[0m\n\u001b[0m\u001b[1;32m    183\u001b[0m         \u001b[0;32mreturn\u001b[0m \u001b[0mself\u001b[0m\u001b[0;34m.\u001b[0m\u001b[0mf\u001b[0m\u001b[0;34m\u001b[0m\u001b[0;34m\u001b[0m\u001b[0m\n\u001b[1;32m    184\u001b[0m \u001b[0;34m\u001b[0m\u001b[0m\n",
      "\u001b[0;32m~/software/firedrake-no-adapt/lib/python3.6/site-packages/scipy/optimize/_differentiable_functions.py\u001b[0m in \u001b[0;36m_update_fun\u001b[0;34m(self)\u001b[0m\n\u001b[1;32m    164\u001b[0m     \u001b[0;32mdef\u001b[0m \u001b[0m_update_fun\u001b[0m\u001b[0;34m(\u001b[0m\u001b[0mself\u001b[0m\u001b[0;34m)\u001b[0m\u001b[0;34m:\u001b[0m\u001b[0;34m\u001b[0m\u001b[0;34m\u001b[0m\u001b[0m\n\u001b[1;32m    165\u001b[0m         \u001b[0;32mif\u001b[0m \u001b[0;32mnot\u001b[0m \u001b[0mself\u001b[0m\u001b[0;34m.\u001b[0m\u001b[0mf_updated\u001b[0m\u001b[0;34m:\u001b[0m\u001b[0;34m\u001b[0m\u001b[0;34m\u001b[0m\u001b[0m\n\u001b[0;32m--> 166\u001b[0;31m             \u001b[0mself\u001b[0m\u001b[0;34m.\u001b[0m\u001b[0m_update_fun_impl\u001b[0m\u001b[0;34m(\u001b[0m\u001b[0;34m)\u001b[0m\u001b[0;34m\u001b[0m\u001b[0;34m\u001b[0m\u001b[0m\n\u001b[0m\u001b[1;32m    167\u001b[0m             \u001b[0mself\u001b[0m\u001b[0;34m.\u001b[0m\u001b[0mf_updated\u001b[0m \u001b[0;34m=\u001b[0m \u001b[0;32mTrue\u001b[0m\u001b[0;34m\u001b[0m\u001b[0;34m\u001b[0m\u001b[0m\n\u001b[1;32m    168\u001b[0m \u001b[0;34m\u001b[0m\u001b[0m\n",
      "\u001b[0;32m~/software/firedrake-no-adapt/lib/python3.6/site-packages/scipy/optimize/_differentiable_functions.py\u001b[0m in \u001b[0;36mupdate_fun\u001b[0;34m()\u001b[0m\n\u001b[1;32m     71\u001b[0m \u001b[0;34m\u001b[0m\u001b[0m\n\u001b[1;32m     72\u001b[0m         \u001b[0;32mdef\u001b[0m \u001b[0mupdate_fun\u001b[0m\u001b[0;34m(\u001b[0m\u001b[0;34m)\u001b[0m\u001b[0;34m:\u001b[0m\u001b[0;34m\u001b[0m\u001b[0;34m\u001b[0m\u001b[0m\n\u001b[0;32m---> 73\u001b[0;31m             \u001b[0mself\u001b[0m\u001b[0;34m.\u001b[0m\u001b[0mf\u001b[0m \u001b[0;34m=\u001b[0m \u001b[0mfun_wrapped\u001b[0m\u001b[0;34m(\u001b[0m\u001b[0mself\u001b[0m\u001b[0;34m.\u001b[0m\u001b[0mx\u001b[0m\u001b[0;34m)\u001b[0m\u001b[0;34m\u001b[0m\u001b[0;34m\u001b[0m\u001b[0m\n\u001b[0m\u001b[1;32m     74\u001b[0m \u001b[0;34m\u001b[0m\u001b[0m\n\u001b[1;32m     75\u001b[0m         \u001b[0mself\u001b[0m\u001b[0;34m.\u001b[0m\u001b[0m_update_fun_impl\u001b[0m \u001b[0;34m=\u001b[0m \u001b[0mupdate_fun\u001b[0m\u001b[0;34m\u001b[0m\u001b[0;34m\u001b[0m\u001b[0m\n",
      "\u001b[0;32m~/software/firedrake-no-adapt/lib/python3.6/site-packages/scipy/optimize/_differentiable_functions.py\u001b[0m in \u001b[0;36mfun_wrapped\u001b[0;34m(x)\u001b[0m\n\u001b[1;32m     68\u001b[0m         \u001b[0;32mdef\u001b[0m \u001b[0mfun_wrapped\u001b[0m\u001b[0;34m(\u001b[0m\u001b[0mx\u001b[0m\u001b[0;34m)\u001b[0m\u001b[0;34m:\u001b[0m\u001b[0;34m\u001b[0m\u001b[0;34m\u001b[0m\u001b[0m\n\u001b[1;32m     69\u001b[0m             \u001b[0mself\u001b[0m\u001b[0;34m.\u001b[0m\u001b[0mnfev\u001b[0m \u001b[0;34m+=\u001b[0m \u001b[0;36m1\u001b[0m\u001b[0;34m\u001b[0m\u001b[0;34m\u001b[0m\u001b[0m\n\u001b[0;32m---> 70\u001b[0;31m             \u001b[0;32mreturn\u001b[0m \u001b[0mfun\u001b[0m\u001b[0;34m(\u001b[0m\u001b[0mx\u001b[0m\u001b[0;34m,\u001b[0m \u001b[0;34m*\u001b[0m\u001b[0margs\u001b[0m\u001b[0;34m)\u001b[0m\u001b[0;34m\u001b[0m\u001b[0;34m\u001b[0m\u001b[0m\n\u001b[0m\u001b[1;32m     71\u001b[0m \u001b[0;34m\u001b[0m\u001b[0m\n\u001b[1;32m     72\u001b[0m         \u001b[0;32mdef\u001b[0m \u001b[0mupdate_fun\u001b[0m\u001b[0;34m(\u001b[0m\u001b[0;34m)\u001b[0m\u001b[0;34m:\u001b[0m\u001b[0;34m\u001b[0m\u001b[0;34m\u001b[0m\u001b[0m\n",
      "\u001b[0;32m<ipython-input-9-40b5413a9280>\u001b[0m in \u001b[0;36mreduced_functional\u001b[0;34m(m)\u001b[0m\n\u001b[1;32m     13\u001b[0m \u001b[0;34m\u001b[0m\u001b[0m\n\u001b[1;32m     14\u001b[0m     \u001b[0;31m# Unroll pyadjoint's tape\u001b[0m\u001b[0;34m\u001b[0m\u001b[0;34m\u001b[0m\u001b[0;34m\u001b[0m\u001b[0m\n\u001b[0;32m---> 15\u001b[0;31m     \u001b[0mop\u001b[0m\u001b[0;34m.\u001b[0m\u001b[0mJ\u001b[0m \u001b[0;34m=\u001b[0m \u001b[0mJhat\u001b[0m\u001b[0;34m(\u001b[0m\u001b[0meta\u001b[0m\u001b[0;34m)\u001b[0m\u001b[0;34m\u001b[0m\u001b[0;34m\u001b[0m\u001b[0m\n\u001b[0m\u001b[1;32m     16\u001b[0m     \u001b[0mprint\u001b[0m\u001b[0;34m(\u001b[0m\u001b[0;34m\"Reduced functional = {:.8e}\"\u001b[0m\u001b[0;34m.\u001b[0m\u001b[0mformat\u001b[0m\u001b[0;34m(\u001b[0m\u001b[0mop\u001b[0m\u001b[0;34m.\u001b[0m\u001b[0mJ\u001b[0m\u001b[0;34m)\u001b[0m\u001b[0;34m)\u001b[0m\u001b[0;34m\u001b[0m\u001b[0;34m\u001b[0m\u001b[0m\n\u001b[1;32m     17\u001b[0m     \u001b[0;32mreturn\u001b[0m \u001b[0mop\u001b[0m\u001b[0;34m.\u001b[0m\u001b[0mJ\u001b[0m\u001b[0;34m\u001b[0m\u001b[0;34m\u001b[0m\u001b[0m\n",
      "\u001b[0;32m~/software/firedrake-no-adapt/src/pyadjoint/pyadjoint/tape.py\u001b[0m in \u001b[0;36mwrapper\u001b[0;34m(*args, **kwargs)\u001b[0m\n\u001b[1;32m     44\u001b[0m     \u001b[0;32mdef\u001b[0m \u001b[0mwrapper\u001b[0m\u001b[0;34m(\u001b[0m\u001b[0;34m*\u001b[0m\u001b[0margs\u001b[0m\u001b[0;34m,\u001b[0m \u001b[0;34m**\u001b[0m\u001b[0mkwargs\u001b[0m\u001b[0;34m)\u001b[0m\u001b[0;34m:\u001b[0m\u001b[0;34m\u001b[0m\u001b[0;34m\u001b[0m\u001b[0m\n\u001b[1;32m     45\u001b[0m         \u001b[0;32mwith\u001b[0m \u001b[0mstop_annotating\u001b[0m\u001b[0;34m(\u001b[0m\u001b[0;34m)\u001b[0m\u001b[0;34m:\u001b[0m\u001b[0;34m\u001b[0m\u001b[0;34m\u001b[0m\u001b[0m\n\u001b[0;32m---> 46\u001b[0;31m             \u001b[0;32mreturn\u001b[0m \u001b[0mfunction\u001b[0m\u001b[0;34m(\u001b[0m\u001b[0;34m*\u001b[0m\u001b[0margs\u001b[0m\u001b[0;34m,\u001b[0m \u001b[0;34m**\u001b[0m\u001b[0mkwargs\u001b[0m\u001b[0;34m)\u001b[0m\u001b[0;34m\u001b[0m\u001b[0;34m\u001b[0m\u001b[0m\n\u001b[0m\u001b[1;32m     47\u001b[0m \u001b[0;34m\u001b[0m\u001b[0m\n\u001b[1;32m     48\u001b[0m     \u001b[0;32mreturn\u001b[0m \u001b[0mwrapper\u001b[0m\u001b[0;34m\u001b[0m\u001b[0;34m\u001b[0m\u001b[0m\n",
      "\u001b[0;32m~/software/firedrake-no-adapt/src/pyadjoint/pyadjoint/reduced_functional.py\u001b[0m in \u001b[0;36m__call__\u001b[0;34m(self, values)\u001b[0m\n\u001b[1;32m    133\u001b[0m             \u001b[0;32mwith\u001b[0m \u001b[0mstop_annotating\u001b[0m\u001b[0;34m(\u001b[0m\u001b[0;34m)\u001b[0m\u001b[0;34m:\u001b[0m\u001b[0;34m\u001b[0m\u001b[0;34m\u001b[0m\u001b[0m\n\u001b[1;32m    134\u001b[0m                 \u001b[0;32mfor\u001b[0m \u001b[0mi\u001b[0m \u001b[0;32min\u001b[0m \u001b[0mrange\u001b[0m\u001b[0;34m(\u001b[0m\u001b[0mlen\u001b[0m\u001b[0;34m(\u001b[0m\u001b[0mblocks\u001b[0m\u001b[0;34m)\u001b[0m\u001b[0;34m)\u001b[0m\u001b[0;34m:\u001b[0m\u001b[0;34m\u001b[0m\u001b[0;34m\u001b[0m\u001b[0m\n\u001b[0;32m--> 135\u001b[0;31m                     \u001b[0mblocks\u001b[0m\u001b[0;34m[\u001b[0m\u001b[0mi\u001b[0m\u001b[0;34m]\u001b[0m\u001b[0;34m.\u001b[0m\u001b[0mrecompute\u001b[0m\u001b[0;34m(\u001b[0m\u001b[0;34m)\u001b[0m\u001b[0;34m\u001b[0m\u001b[0;34m\u001b[0m\u001b[0m\n\u001b[0m\u001b[1;32m    136\u001b[0m \u001b[0;34m\u001b[0m\u001b[0m\n\u001b[1;32m    137\u001b[0m         \u001b[0mfunc_value\u001b[0m \u001b[0;34m=\u001b[0m \u001b[0mself\u001b[0m\u001b[0;34m.\u001b[0m\u001b[0mscale\u001b[0m \u001b[0;34m*\u001b[0m \u001b[0mself\u001b[0m\u001b[0;34m.\u001b[0m\u001b[0mfunctional\u001b[0m\u001b[0;34m.\u001b[0m\u001b[0mblock_variable\u001b[0m\u001b[0;34m.\u001b[0m\u001b[0mcheckpoint\u001b[0m\u001b[0;34m\u001b[0m\u001b[0;34m\u001b[0m\u001b[0m\n",
      "\u001b[0;32m~/software/firedrake-no-adapt/src/pyadjoint/pyadjoint/block.py\u001b[0m in \u001b[0;36mrecompute\u001b[0;34m(self, markings)\u001b[0m\n\u001b[1;32m    350\u001b[0m                                               \u001b[0mout\u001b[0m\u001b[0;34m,\u001b[0m\u001b[0;34m\u001b[0m\u001b[0;34m\u001b[0m\u001b[0m\n\u001b[1;32m    351\u001b[0m                                               \u001b[0midx\u001b[0m\u001b[0;34m,\u001b[0m\u001b[0;34m\u001b[0m\u001b[0;34m\u001b[0m\u001b[0m\n\u001b[0;32m--> 352\u001b[0;31m                                               prepared)\n\u001b[0m\u001b[1;32m    353\u001b[0m             \u001b[0;32mif\u001b[0m \u001b[0moutput\u001b[0m \u001b[0;32mis\u001b[0m \u001b[0;32mnot\u001b[0m \u001b[0;32mNone\u001b[0m\u001b[0;34m:\u001b[0m\u001b[0;34m\u001b[0m\u001b[0;34m\u001b[0m\u001b[0m\n\u001b[1;32m    354\u001b[0m                 \u001b[0mout\u001b[0m\u001b[0;34m.\u001b[0m\u001b[0mcheckpoint\u001b[0m \u001b[0;34m=\u001b[0m \u001b[0moutput\u001b[0m\u001b[0;34m\u001b[0m\u001b[0;34m\u001b[0m\u001b[0m\n",
      "\u001b[0;32m~/software/firedrake-no-adapt/src/firedrake/firedrake/adjoint/blocks.py\u001b[0m in \u001b[0;36mrecompute_component\u001b[0;34m(self, inputs, block_variable, idx, prepared)\u001b[0m\n\u001b[1;32m    335\u001b[0m \u001b[0;34m\u001b[0m\u001b[0m\n\u001b[1;32m    336\u001b[0m     \u001b[0;32mdef\u001b[0m \u001b[0mrecompute_component\u001b[0m\u001b[0;34m(\u001b[0m\u001b[0mself\u001b[0m\u001b[0;34m,\u001b[0m \u001b[0minputs\u001b[0m\u001b[0;34m,\u001b[0m \u001b[0mblock_variable\u001b[0m\u001b[0;34m,\u001b[0m \u001b[0midx\u001b[0m\u001b[0;34m,\u001b[0m \u001b[0mprepared\u001b[0m\u001b[0;34m)\u001b[0m\u001b[0;34m:\u001b[0m\u001b[0;34m\u001b[0m\u001b[0;34m\u001b[0m\u001b[0m\n\u001b[0;32m--> 337\u001b[0;31m         \u001b[0;32mreturn\u001b[0m \u001b[0mself\u001b[0m\u001b[0;34m.\u001b[0m\u001b[0mbackend\u001b[0m\u001b[0;34m.\u001b[0m\u001b[0minterpolate\u001b[0m\u001b[0;34m(\u001b[0m\u001b[0mprepared\u001b[0m\u001b[0;34m,\u001b[0m \u001b[0mself\u001b[0m\u001b[0;34m.\u001b[0m\u001b[0mV\u001b[0m\u001b[0;34m)\u001b[0m\u001b[0;34m\u001b[0m\u001b[0;34m\u001b[0m\u001b[0m\n\u001b[0m",
      "\u001b[0;32m~/software/firedrake-no-adapt/src/firedrake/firedrake/interpolation.py\u001b[0m in \u001b[0;36minterpolate\u001b[0;34m(expr, V, subset, access)\u001b[0m\n\u001b[1;32m     48\u001b[0m        \u001b[0mperformance\u001b[0m \u001b[0mby\u001b[0m \u001b[0musing\u001b[0m \u001b[0man\u001b[0m \u001b[0;34m:\u001b[0m\u001b[0;32mclass\u001b[0m\u001b[0;34m:\u001b[0m\u001b[0;31m`\u001b[0m\u001b[0mInterpolator\u001b[0m\u001b[0;31m`\u001b[0m \u001b[0minstead\u001b[0m\u001b[0;34m.\u001b[0m\u001b[0;34m\u001b[0m\u001b[0;34m\u001b[0m\u001b[0m\n\u001b[1;32m     49\u001b[0m     \"\"\"\n\u001b[0;32m---> 50\u001b[0;31m     \u001b[0;32mreturn\u001b[0m \u001b[0mInterpolator\u001b[0m\u001b[0;34m(\u001b[0m\u001b[0mexpr\u001b[0m\u001b[0;34m,\u001b[0m \u001b[0mV\u001b[0m\u001b[0;34m,\u001b[0m \u001b[0msubset\u001b[0m\u001b[0;34m=\u001b[0m\u001b[0msubset\u001b[0m\u001b[0;34m,\u001b[0m \u001b[0maccess\u001b[0m\u001b[0;34m=\u001b[0m\u001b[0maccess\u001b[0m\u001b[0;34m)\u001b[0m\u001b[0;34m.\u001b[0m\u001b[0minterpolate\u001b[0m\u001b[0;34m(\u001b[0m\u001b[0;34m)\u001b[0m\u001b[0;34m\u001b[0m\u001b[0;34m\u001b[0m\u001b[0m\n\u001b[0m\u001b[1;32m     51\u001b[0m \u001b[0;34m\u001b[0m\u001b[0m\n\u001b[1;32m     52\u001b[0m \u001b[0;34m\u001b[0m\u001b[0m\n",
      "\u001b[0;32m~/software/firedrake-no-adapt/src/firedrake/firedrake/interpolation.py\u001b[0m in \u001b[0;36m__init__\u001b[0;34m(self, expr, V, subset, freeze_expr, access)\u001b[0m\n\u001b[1;32m     71\u001b[0m     \u001b[0;32mdef\u001b[0m \u001b[0m__init__\u001b[0m\u001b[0;34m(\u001b[0m\u001b[0mself\u001b[0m\u001b[0;34m,\u001b[0m \u001b[0mexpr\u001b[0m\u001b[0;34m,\u001b[0m \u001b[0mV\u001b[0m\u001b[0;34m,\u001b[0m \u001b[0msubset\u001b[0m\u001b[0;34m=\u001b[0m\u001b[0;32mNone\u001b[0m\u001b[0;34m,\u001b[0m \u001b[0mfreeze_expr\u001b[0m\u001b[0;34m=\u001b[0m\u001b[0;32mFalse\u001b[0m\u001b[0;34m,\u001b[0m \u001b[0maccess\u001b[0m\u001b[0;34m=\u001b[0m\u001b[0mop2\u001b[0m\u001b[0;34m.\u001b[0m\u001b[0mWRITE\u001b[0m\u001b[0;34m)\u001b[0m\u001b[0;34m:\u001b[0m\u001b[0;34m\u001b[0m\u001b[0;34m\u001b[0m\u001b[0m\n\u001b[1;32m     72\u001b[0m         \u001b[0;32mtry\u001b[0m\u001b[0;34m:\u001b[0m\u001b[0;34m\u001b[0m\u001b[0;34m\u001b[0m\u001b[0m\n\u001b[0;32m---> 73\u001b[0;31m             \u001b[0mself\u001b[0m\u001b[0;34m.\u001b[0m\u001b[0mcallable\u001b[0m\u001b[0;34m,\u001b[0m \u001b[0marguments\u001b[0m \u001b[0;34m=\u001b[0m \u001b[0mmake_interpolator\u001b[0m\u001b[0;34m(\u001b[0m\u001b[0mexpr\u001b[0m\u001b[0;34m,\u001b[0m \u001b[0mV\u001b[0m\u001b[0;34m,\u001b[0m \u001b[0msubset\u001b[0m\u001b[0;34m,\u001b[0m \u001b[0maccess\u001b[0m\u001b[0;34m)\u001b[0m\u001b[0;34m\u001b[0m\u001b[0;34m\u001b[0m\u001b[0m\n\u001b[0m\u001b[1;32m     74\u001b[0m         \u001b[0;32mexcept\u001b[0m \u001b[0mFIAT\u001b[0m\u001b[0;34m.\u001b[0m\u001b[0mhdiv_trace\u001b[0m\u001b[0;34m.\u001b[0m\u001b[0mTraceError\u001b[0m\u001b[0;34m:\u001b[0m\u001b[0;34m\u001b[0m\u001b[0;34m\u001b[0m\u001b[0m\n\u001b[1;32m     75\u001b[0m             \u001b[0;32mraise\u001b[0m \u001b[0mNotImplementedError\u001b[0m\u001b[0;34m(\u001b[0m\u001b[0;34m\"Can't interpolate onto traces sorry\"\u001b[0m\u001b[0;34m)\u001b[0m\u001b[0;34m\u001b[0m\u001b[0;34m\u001b[0m\u001b[0m\n",
      "\u001b[0;32m~/software/firedrake-no-adapt/src/firedrake/firedrake/interpolation.py\u001b[0m in \u001b[0;36mmake_interpolator\u001b[0;34m(expr, V, subset, access)\u001b[0m\n\u001b[1;32m    187\u001b[0m             raise NotImplementedError(\n\u001b[1;32m    188\u001b[0m                 \"UFL expressions for mixed functions are not yet supported.\")\n\u001b[0;32m--> 189\u001b[0;31m         \u001b[0mloops\u001b[0m\u001b[0;34m.\u001b[0m\u001b[0mextend\u001b[0m\u001b[0;34m(\u001b[0m\u001b[0m_interpolator\u001b[0m\u001b[0;34m(\u001b[0m\u001b[0mV\u001b[0m\u001b[0;34m,\u001b[0m \u001b[0mtensor\u001b[0m\u001b[0;34m,\u001b[0m \u001b[0mexpr\u001b[0m\u001b[0;34m,\u001b[0m \u001b[0msubset\u001b[0m\u001b[0;34m,\u001b[0m \u001b[0marguments\u001b[0m\u001b[0;34m,\u001b[0m \u001b[0maccess\u001b[0m\u001b[0;34m)\u001b[0m\u001b[0;34m)\u001b[0m\u001b[0;34m\u001b[0m\u001b[0;34m\u001b[0m\u001b[0m\n\u001b[0m\u001b[1;32m    190\u001b[0m     \u001b[0;32melif\u001b[0m \u001b[0mhasattr\u001b[0m\u001b[0;34m(\u001b[0m\u001b[0mexpr\u001b[0m\u001b[0;34m,\u001b[0m \u001b[0;34m'eval'\u001b[0m\u001b[0;34m)\u001b[0m\u001b[0;34m:\u001b[0m\u001b[0;34m\u001b[0m\u001b[0;34m\u001b[0m\u001b[0m\n\u001b[1;32m    191\u001b[0m         \u001b[0;32mif\u001b[0m \u001b[0mlen\u001b[0m\u001b[0;34m(\u001b[0m\u001b[0mV\u001b[0m\u001b[0;34m)\u001b[0m \u001b[0;34m>\u001b[0m \u001b[0;36m1\u001b[0m\u001b[0;34m:\u001b[0m\u001b[0;34m\u001b[0m\u001b[0;34m\u001b[0m\u001b[0m\n",
      "\u001b[0;32m<decorator-gen-150>\u001b[0m in \u001b[0;36m_interpolator\u001b[0;34m(V, tensor, expr, subset, arguments, access)\u001b[0m\n",
      "\u001b[0;32m~/software/firedrake-no-adapt/src/firedrake/firedrake/utils.py\u001b[0m in \u001b[0;36mwrapper\u001b[0;34m(f, *args, **kwargs)\u001b[0m\n\u001b[1;32m     71\u001b[0m         \u001b[0mopts\u001b[0m\u001b[0;34m[\u001b[0m\u001b[0;34m\"type_check\"\u001b[0m\u001b[0;34m]\u001b[0m \u001b[0;34m=\u001b[0m \u001b[0msafe\u001b[0m\u001b[0;34m\u001b[0m\u001b[0;34m\u001b[0m\u001b[0m\n\u001b[1;32m     72\u001b[0m         \u001b[0;32mtry\u001b[0m\u001b[0;34m:\u001b[0m\u001b[0;34m\u001b[0m\u001b[0;34m\u001b[0m\u001b[0m\n\u001b[0;32m---> 73\u001b[0;31m             \u001b[0;32mreturn\u001b[0m \u001b[0mf\u001b[0m\u001b[0;34m(\u001b[0m\u001b[0;34m*\u001b[0m\u001b[0margs\u001b[0m\u001b[0;34m,\u001b[0m \u001b[0;34m**\u001b[0m\u001b[0mkwargs\u001b[0m\u001b[0;34m)\u001b[0m\u001b[0;34m\u001b[0m\u001b[0;34m\u001b[0m\u001b[0m\n\u001b[0m\u001b[1;32m     74\u001b[0m         \u001b[0;32mfinally\u001b[0m\u001b[0;34m:\u001b[0m\u001b[0;34m\u001b[0m\u001b[0;34m\u001b[0m\u001b[0m\n\u001b[1;32m     75\u001b[0m             \u001b[0mopts\u001b[0m\u001b[0;34m[\u001b[0m\u001b[0;34m\"type_check\"\u001b[0m\u001b[0;34m]\u001b[0m \u001b[0;34m=\u001b[0m \u001b[0mcheck\u001b[0m\u001b[0;34m\u001b[0m\u001b[0;34m\u001b[0m\u001b[0m\n",
      "\u001b[0;32m~/software/firedrake-no-adapt/src/firedrake/firedrake/interpolation.py\u001b[0m in \u001b[0;36m_interpolator\u001b[0;34m(V, tensor, expr, subset, arguments, access)\u001b[0m\n\u001b[1;32m    235\u001b[0m                                                                                                                        \u001b[0mdomain\u001b[0m\u001b[0;34m=\u001b[0m\u001b[0mV\u001b[0m\u001b[0;34m.\u001b[0m\u001b[0mmesh\u001b[0m\u001b[0;34m(\u001b[0m\u001b[0;34m)\u001b[0m\u001b[0;34m,\u001b[0m\u001b[0;34m\u001b[0m\u001b[0;34m\u001b[0m\u001b[0m\n\u001b[1;32m    236\u001b[0m                                                                                                                        \u001b[0mparameters\u001b[0m\u001b[0;34m=\u001b[0m\u001b[0mparameters\u001b[0m\u001b[0;34m,\u001b[0m\u001b[0;34m\u001b[0m\u001b[0;34m\u001b[0m\u001b[0m\n\u001b[0;32m--> 237\u001b[0;31m                                                                                                                        coffee=False)\n\u001b[0m\u001b[1;32m    238\u001b[0m         \u001b[0mkernel\u001b[0m \u001b[0;34m=\u001b[0m \u001b[0mop2\u001b[0m\u001b[0;34m.\u001b[0m\u001b[0mKernel\u001b[0m\u001b[0;34m(\u001b[0m\u001b[0mast\u001b[0m\u001b[0;34m,\u001b[0m \u001b[0mast\u001b[0m\u001b[0;34m.\u001b[0m\u001b[0mname\u001b[0m\u001b[0;34m,\u001b[0m \u001b[0mrequires_zeroed_output_arguments\u001b[0m\u001b[0;34m=\u001b[0m\u001b[0;32mTrue\u001b[0m\u001b[0;34m)\u001b[0m\u001b[0;34m\u001b[0m\u001b[0;34m\u001b[0m\u001b[0m\n\u001b[1;32m    239\u001b[0m     \u001b[0;32melif\u001b[0m \u001b[0mhasattr\u001b[0m\u001b[0;34m(\u001b[0m\u001b[0mexpr\u001b[0m\u001b[0;34m,\u001b[0m \u001b[0;34m\"eval\"\u001b[0m\u001b[0;34m)\u001b[0m\u001b[0;34m:\u001b[0m\u001b[0;34m\u001b[0m\u001b[0;34m\u001b[0m\u001b[0m\n",
      "\u001b[0;32m~/software/firedrake-no-adapt/src/tsfc/tsfc/driver.py\u001b[0m in \u001b[0;36mcompile_expression_dual_evaluation\u001b[0;34m(expression, to_element, domain, interface, parameters, coffee)\u001b[0m\n\u001b[1;32m    435\u001b[0m     \u001b[0mbuilder\u001b[0m\u001b[0;34m.\u001b[0m\u001b[0mregister_requirements\u001b[0m\u001b[0;34m(\u001b[0m\u001b[0;34m[\u001b[0m\u001b[0mir\u001b[0m\u001b[0;34m]\u001b[0m\u001b[0;34m)\u001b[0m\u001b[0;34m\u001b[0m\u001b[0;34m\u001b[0m\u001b[0m\n\u001b[1;32m    436\u001b[0m     \u001b[0;31m# Build kernel tuple\u001b[0m\u001b[0;34m\u001b[0m\u001b[0;34m\u001b[0m\u001b[0;34m\u001b[0m\u001b[0m\n\u001b[0;32m--> 437\u001b[0;31m     \u001b[0;32mreturn\u001b[0m \u001b[0mbuilder\u001b[0m\u001b[0;34m.\u001b[0m\u001b[0mconstruct_kernel\u001b[0m\u001b[0;34m(\u001b[0m\u001b[0mreturn_arg\u001b[0m\u001b[0;34m,\u001b[0m \u001b[0mimpero_c\u001b[0m\u001b[0;34m,\u001b[0m \u001b[0mindex_names\u001b[0m\u001b[0;34m,\u001b[0m \u001b[0mfirst_coefficient_fake_coords\u001b[0m\u001b[0;34m)\u001b[0m\u001b[0;34m\u001b[0m\u001b[0;34m\u001b[0m\u001b[0m\n\u001b[0m\u001b[1;32m    438\u001b[0m \u001b[0;34m\u001b[0m\u001b[0m\n\u001b[1;32m    439\u001b[0m \u001b[0;34m\u001b[0m\u001b[0m\n",
      "\u001b[0;32m~/software/firedrake-no-adapt/src/tsfc/tsfc/kernel_interface/firedrake_loopy.py\u001b[0m in \u001b[0;36mconstruct_kernel\u001b[0;34m(self, return_arg, impero_c, index_names, first_coefficient_fake_coords)\u001b[0m\n\u001b[1;32m    174\u001b[0m \u001b[0;34m\u001b[0m\u001b[0m\n\u001b[1;32m    175\u001b[0m         loopy_kernel = generate_loopy(impero_c, args, self.scalar_type,\n\u001b[0;32m--> 176\u001b[0;31m                                       \"expression_kernel\", index_names)\n\u001b[0m\u001b[1;32m    177\u001b[0m         return ExpressionKernel(loopy_kernel, self.oriented, self.cell_sizes,\n\u001b[1;32m    178\u001b[0m                                 \u001b[0mself\u001b[0m\u001b[0;34m.\u001b[0m\u001b[0mcoefficients\u001b[0m\u001b[0;34m,\u001b[0m \u001b[0mfirst_coefficient_fake_coords\u001b[0m\u001b[0;34m,\u001b[0m\u001b[0;34m\u001b[0m\u001b[0;34m\u001b[0m\u001b[0m\n",
      "\u001b[0;32m~/software/firedrake-no-adapt/src/tsfc/tsfc/loopy.py\u001b[0m in \u001b[0;36mgenerate\u001b[0;34m(impero_c, args, scalar_type, kernel_name, index_names, return_increments)\u001b[0m\n\u001b[1;32m    225\u001b[0m     \u001b[0;31m# Create loopy kernel\u001b[0m\u001b[0;34m\u001b[0m\u001b[0;34m\u001b[0m\u001b[0;34m\u001b[0m\u001b[0m\n\u001b[1;32m    226\u001b[0m     knl = lp.make_function(domains, instructions, data, name=kernel_name, target=lp.CTarget(),\n\u001b[0;32m--> 227\u001b[0;31m                            seq_dependencies=True, silenced_warnings=[\"summing_if_branches_ops\"])\n\u001b[0m\u001b[1;32m    228\u001b[0m \u001b[0;34m\u001b[0m\u001b[0m\n\u001b[1;32m    229\u001b[0m     \u001b[0;31m# Prevent loopy interchange by loopy\u001b[0m\u001b[0;34m\u001b[0m\u001b[0;34m\u001b[0m\u001b[0;34m\u001b[0m\u001b[0m\n",
      "\u001b[0;32m~/software/firedrake-no-adapt/src/loopy/loopy/kernel/creation.py\u001b[0m in \u001b[0;36mmake_function\u001b[0;34m(*args, **kwargs)\u001b[0m\n\u001b[1;32m   2351\u001b[0m \u001b[0;34m\u001b[0m\u001b[0m\n\u001b[1;32m   2352\u001b[0m     \u001b[0mkwargs\u001b[0m\u001b[0;34m[\u001b[0m\u001b[0;34m'is_callee_kernel'\u001b[0m\u001b[0;34m]\u001b[0m \u001b[0;34m=\u001b[0m \u001b[0;32mTrue\u001b[0m\u001b[0;34m\u001b[0m\u001b[0;34m\u001b[0m\u001b[0m\n\u001b[0;32m-> 2353\u001b[0;31m     \u001b[0;32mreturn\u001b[0m \u001b[0mmake_kernel\u001b[0m\u001b[0;34m(\u001b[0m\u001b[0;34m*\u001b[0m\u001b[0margs\u001b[0m\u001b[0;34m,\u001b[0m \u001b[0;34m**\u001b[0m\u001b[0mkwargs\u001b[0m\u001b[0;34m)\u001b[0m\u001b[0;34m\u001b[0m\u001b[0;34m\u001b[0m\u001b[0m\n\u001b[0m\u001b[1;32m   2354\u001b[0m \u001b[0;34m\u001b[0m\u001b[0m\n\u001b[1;32m   2355\u001b[0m \u001b[0;31m# }}}\u001b[0m\u001b[0;34m\u001b[0m\u001b[0;34m\u001b[0m\u001b[0;34m\u001b[0m\u001b[0m\n",
      "\u001b[0;32m~/software/firedrake-no-adapt/src/loopy/loopy/kernel/creation.py\u001b[0m in \u001b[0;36mmake_kernel\u001b[0;34m(***failed resolving arguments***)\u001b[0m\n\u001b[1;32m   2312\u001b[0m     \u001b[0mknl\u001b[0m \u001b[0;34m=\u001b[0m \u001b[0mdetermine_shapes_of_temporaries\u001b[0m\u001b[0;34m(\u001b[0m\u001b[0mknl\u001b[0m\u001b[0;34m)\u001b[0m\u001b[0;34m\u001b[0m\u001b[0;34m\u001b[0m\u001b[0m\n\u001b[1;32m   2313\u001b[0m \u001b[0;34m\u001b[0m\u001b[0m\n\u001b[0;32m-> 2314\u001b[0;31m     \u001b[0mknl\u001b[0m \u001b[0;34m=\u001b[0m \u001b[0mexpand_defines_in_shapes\u001b[0m\u001b[0;34m(\u001b[0m\u001b[0mknl\u001b[0m\u001b[0;34m,\u001b[0m \u001b[0mdefines\u001b[0m\u001b[0;34m)\u001b[0m\u001b[0;34m\u001b[0m\u001b[0;34m\u001b[0m\u001b[0m\n\u001b[0m\u001b[1;32m   2315\u001b[0m     \u001b[0mknl\u001b[0m \u001b[0;34m=\u001b[0m \u001b[0mguess_arg_shape_if_requested\u001b[0m\u001b[0;34m(\u001b[0m\u001b[0mknl\u001b[0m\u001b[0;34m,\u001b[0m \u001b[0mdefault_order\u001b[0m\u001b[0;34m)\u001b[0m\u001b[0;34m\u001b[0m\u001b[0;34m\u001b[0m\u001b[0m\n\u001b[1;32m   2316\u001b[0m     \u001b[0mknl\u001b[0m \u001b[0;34m=\u001b[0m \u001b[0mapply_default_order_to_args\u001b[0m\u001b[0;34m(\u001b[0m\u001b[0mknl\u001b[0m\u001b[0;34m,\u001b[0m \u001b[0mdefault_order\u001b[0m\u001b[0;34m)\u001b[0m\u001b[0;34m\u001b[0m\u001b[0;34m\u001b[0m\u001b[0m\n",
      "\u001b[0;32m~/software/firedrake-no-adapt/src/loopy/loopy/kernel/creation.py\u001b[0m in \u001b[0;36mexpand_defines_in_shapes\u001b[0;34m(kernel, defines)\u001b[0m\n\u001b[1;32m   1602\u001b[0m     \u001b[0mprocessed_temp_vars\u001b[0m \u001b[0;34m=\u001b[0m \u001b[0;34m{\u001b[0m\u001b[0;34m}\u001b[0m\u001b[0;34m\u001b[0m\u001b[0;34m\u001b[0m\u001b[0m\n\u001b[1;32m   1603\u001b[0m     \u001b[0;32mfor\u001b[0m \u001b[0mtv\u001b[0m \u001b[0;32min\u001b[0m \u001b[0msix\u001b[0m\u001b[0;34m.\u001b[0m\u001b[0mitervalues\u001b[0m\u001b[0;34m(\u001b[0m\u001b[0mkernel\u001b[0m\u001b[0;34m.\u001b[0m\u001b[0mtemporary_variables\u001b[0m\u001b[0;34m)\u001b[0m\u001b[0;34m:\u001b[0m\u001b[0;34m\u001b[0m\u001b[0;34m\u001b[0m\u001b[0m\n\u001b[0;32m-> 1604\u001b[0;31m         \u001b[0mprocessed_temp_vars\u001b[0m\u001b[0;34m[\u001b[0m\u001b[0mtv\u001b[0m\u001b[0;34m.\u001b[0m\u001b[0mname\u001b[0m\u001b[0;34m]\u001b[0m \u001b[0;34m=\u001b[0m \u001b[0mtv\u001b[0m\u001b[0;34m.\u001b[0m\u001b[0mmap_exprs\u001b[0m\u001b[0;34m(\u001b[0m\u001b[0mexpr_map\u001b[0m\u001b[0;34m)\u001b[0m\u001b[0;34m\u001b[0m\u001b[0;34m\u001b[0m\u001b[0m\n\u001b[0m\u001b[1;32m   1605\u001b[0m \u001b[0;34m\u001b[0m\u001b[0m\n\u001b[1;32m   1606\u001b[0m     return kernel.copy(\n",
      "\u001b[0;32m~/software/firedrake-no-adapt/src/loopy/loopy/kernel/array.py\u001b[0m in \u001b[0;36mmap_exprs\u001b[0;34m(self, mapper)\u001b[0m\n\u001b[1;32m    964\u001b[0m         \u001b[0;32mif\u001b[0m \u001b[0mself\u001b[0m\u001b[0;34m.\u001b[0m\u001b[0mdim_tags\u001b[0m \u001b[0;32mis\u001b[0m \u001b[0;32mnot\u001b[0m \u001b[0;32mNone\u001b[0m\u001b[0;34m:\u001b[0m\u001b[0;34m\u001b[0m\u001b[0;34m\u001b[0m\u001b[0m\n\u001b[1;32m    965\u001b[0m             kwargs[\"dim_tags\"] = [dim_tag.map_expr(mapper)\n\u001b[0;32m--> 966\u001b[0;31m                     for dim_tag in self.dim_tags]\n\u001b[0m\u001b[1;32m    967\u001b[0m \u001b[0;34m\u001b[0m\u001b[0m\n\u001b[1;32m    968\u001b[0m         \u001b[0;31m# offset is not an expression, do not map.\u001b[0m\u001b[0;34m\u001b[0m\u001b[0;34m\u001b[0m\u001b[0;34m\u001b[0m\u001b[0m\n",
      "\u001b[0;32m~/software/firedrake-no-adapt/src/loopy/loopy/kernel/array.py\u001b[0m in \u001b[0;36m<listcomp>\u001b[0;34m(.0)\u001b[0m\n\u001b[1;32m    964\u001b[0m         \u001b[0;32mif\u001b[0m \u001b[0mself\u001b[0m\u001b[0;34m.\u001b[0m\u001b[0mdim_tags\u001b[0m \u001b[0;32mis\u001b[0m \u001b[0;32mnot\u001b[0m \u001b[0;32mNone\u001b[0m\u001b[0;34m:\u001b[0m\u001b[0;34m\u001b[0m\u001b[0;34m\u001b[0m\u001b[0m\n\u001b[1;32m    965\u001b[0m             kwargs[\"dim_tags\"] = [dim_tag.map_expr(mapper)\n\u001b[0;32m--> 966\u001b[0;31m                     for dim_tag in self.dim_tags]\n\u001b[0m\u001b[1;32m    967\u001b[0m \u001b[0;34m\u001b[0m\u001b[0m\n\u001b[1;32m    968\u001b[0m         \u001b[0;31m# offset is not an expression, do not map.\u001b[0m\u001b[0;34m\u001b[0m\u001b[0;34m\u001b[0m\u001b[0;34m\u001b[0m\u001b[0m\n",
      "\u001b[0;32m~/software/firedrake-no-adapt/src/loopy/loopy/kernel/array.py\u001b[0m in \u001b[0;36mmap_expr\u001b[0;34m(self, mapper)\u001b[0m\n\u001b[1;32m    124\u001b[0m \u001b[0;34m\u001b[0m\u001b[0m\n\u001b[1;32m    125\u001b[0m     \u001b[0;32mdef\u001b[0m \u001b[0mmap_expr\u001b[0m\u001b[0;34m(\u001b[0m\u001b[0mself\u001b[0m\u001b[0;34m,\u001b[0m \u001b[0mmapper\u001b[0m\u001b[0;34m)\u001b[0m\u001b[0;34m:\u001b[0m\u001b[0;34m\u001b[0m\u001b[0;34m\u001b[0m\u001b[0m\n\u001b[0;32m--> 126\u001b[0;31m         \u001b[0;32mreturn\u001b[0m \u001b[0mself\u001b[0m\u001b[0;34m.\u001b[0m\u001b[0mcopy\u001b[0m\u001b[0;34m(\u001b[0m\u001b[0mstride\u001b[0m\u001b[0;34m=\u001b[0m\u001b[0mmapper\u001b[0m\u001b[0;34m(\u001b[0m\u001b[0mself\u001b[0m\u001b[0;34m.\u001b[0m\u001b[0mstride\u001b[0m\u001b[0;34m)\u001b[0m\u001b[0;34m)\u001b[0m\u001b[0;34m\u001b[0m\u001b[0;34m\u001b[0m\u001b[0m\n\u001b[0m\u001b[1;32m    127\u001b[0m \u001b[0;34m\u001b[0m\u001b[0m\n\u001b[1;32m    128\u001b[0m \u001b[0;34m\u001b[0m\u001b[0m\n",
      "\u001b[0;32m~/software/firedrake-no-adapt/src/loopy/loopy/kernel/creation.py\u001b[0m in \u001b[0;36mexpr_map\u001b[0;34m(expr)\u001b[0m\n\u001b[1;32m   1591\u001b[0m \u001b[0;34m\u001b[0m\u001b[0m\n\u001b[1;32m   1592\u001b[0m     \u001b[0;32mdef\u001b[0m \u001b[0mexpr_map\u001b[0m\u001b[0;34m(\u001b[0m\u001b[0mexpr\u001b[0m\u001b[0;34m)\u001b[0m\u001b[0;34m:\u001b[0m\u001b[0;34m\u001b[0m\u001b[0;34m\u001b[0m\u001b[0m\n\u001b[0;32m-> 1593\u001b[0;31m         \u001b[0;32mreturn\u001b[0m \u001b[0mexpand_defines_in_expr\u001b[0m\u001b[0;34m(\u001b[0m\u001b[0mexpr\u001b[0m\u001b[0;34m,\u001b[0m \u001b[0mdefines\u001b[0m\u001b[0;34m)\u001b[0m\u001b[0;34m\u001b[0m\u001b[0;34m\u001b[0m\u001b[0m\n\u001b[0m\u001b[1;32m   1594\u001b[0m \u001b[0;34m\u001b[0m\u001b[0m\n\u001b[1;32m   1595\u001b[0m     \u001b[0mprocessed_args\u001b[0m \u001b[0;34m=\u001b[0m \u001b[0;34m[\u001b[0m\u001b[0;34m]\u001b[0m\u001b[0;34m\u001b[0m\u001b[0;34m\u001b[0m\u001b[0m\n",
      "\u001b[0;32m~/software/firedrake-no-adapt/src/loopy/loopy/kernel/creation.py\u001b[0m in \u001b[0;36mexpand_defines_in_expr\u001b[0;34m(expr, defines)\u001b[0m\n\u001b[1;32m    151\u001b[0m             \u001b[0;32mreturn\u001b[0m \u001b[0;32mNone\u001b[0m\u001b[0;34m\u001b[0m\u001b[0;34m\u001b[0m\u001b[0m\n\u001b[1;32m    152\u001b[0m \u001b[0;34m\u001b[0m\u001b[0m\n\u001b[0;32m--> 153\u001b[0;31m     \u001b[0;32mfrom\u001b[0m \u001b[0mloopy\u001b[0m\u001b[0;34m.\u001b[0m\u001b[0msymbolic\u001b[0m \u001b[0;32mimport\u001b[0m \u001b[0mSubstitutionMapper\u001b[0m\u001b[0;34m,\u001b[0m \u001b[0mPartialEvaluationMapper\u001b[0m\u001b[0;34m\u001b[0m\u001b[0;34m\u001b[0m\u001b[0m\n\u001b[0m\u001b[1;32m    154\u001b[0m     return PartialEvaluationMapper()(\n\u001b[1;32m    155\u001b[0m             SubstitutionMapper(subst_func)(expr))\n",
      "\u001b[0;32m/usr/lib/python3.6/importlib/_bootstrap.py\u001b[0m in \u001b[0;36m_handle_fromlist\u001b[0;34m(module, fromlist, import_, recursive)\u001b[0m\n",
      "\u001b[0;31mKeyboardInterrupt\u001b[0m: "
     ]
    }
   ],
   "source": [
    "# Run optimisation\n",
    "print_output(\"Optimisation begin...\")\n",
    "opt_kwargs = {\n",
    "    'maxiter': 1000,\n",
    "    'gtol': 1.0e-02,\n",
    "    'fprime': gradient,\n",
    "    'callback': callback,\n",
    "}\n",
    "optimised_value = scipy.optimize.fmin_bfgs(reduced_functional, c, **opt_kwargs)"
   ]
  },
  {
   "cell_type": "code",
   "execution_count": 31,
   "metadata": {},
   "outputs": [],
   "source": [
    "m_array = op.control_trajectory[0].reshape((num_active_controls, num_subfaults))\n",
    "for i, control in enumerate(op.active_controls):\n",
    "    assert len(op.control_parameters[control]) == len(m_array[i])\n",
    "    op.control_parameters[control][:] = m_array[i]\n",
    "eta0 = op.set_initial_condition(tp, unroll_tape=True, separate_faults=False, tag=tape_tag)\n",
    "m_array = op.control_trajectory[-1].reshape((num_active_controls, num_subfaults))\n",
    "for i, control in enumerate(op.active_controls):\n",
    "    assert len(op.control_parameters[control]) == len(m_array[i])\n",
    "    op.control_parameters[control][:] = m_array[i]\n",
    "eta = op.set_initial_condition(tp, unroll_tape=True, separate_faults=False, tag=tape_tag)"
   ]
  },
  {
   "cell_type": "code",
   "execution_count": 32,
   "metadata": {},
   "outputs": [
    {
     "data": {
      "image/png": "[encoded data removed]",
      "text/plain": [
       "<Figure size 1368x576 with 4 Axes>"
      ]
     },
     "metadata": {
      "needs_background": "light"
     },
     "output_type": "display_data"
    }
   ],
   "source": [
    "fig, axes = plt.subplots(ncols=2, figsize=(19, 8))\n",
    "for i, f in enumerate((eta0, eta)):\n",
    "    tc = tricontourf(f, axes=axes[i], cmap='coolwarm', levels=50)\n",
    "    cbar = fig.colorbar(tc, ax=axes[i])\n",
    "    axes[i].axis(False);"
   ]
  },
  {
   "cell_type": "code",
   "execution_count": 30,
   "metadata": {},
   "outputs": [
    {
     "data": {
      "image/png": "[encoded data removed]",
      "text/plain": [
       "<Figure size 576x576 with 1 Axes>"
      ]
     },
     "metadata": {
      "needs_background": "light"
     },
     "output_type": "display_data"
    }
   ],
   "source": [
    "fig, axes = plt.subplots(figsize=(8, 8))\n",
    "axes.plot(op.qoi_trajectory)\n",
    "axes.set_xlabel(\"Iteration\")\n",
    "axes.set_ylabel(\"QoI\")\n",
    "axes.grid(True, which='both');"
   ]
  },
  {
   "cell_type": "markdown",
   "metadata": {},
   "source": [
    "# TODO:\n",
    "* Plot timeseries"
   ]
  }
 ],
 "metadata": {
  "kernelspec": {
   "display_name": "Python 2",
   "language": "python",
   "name": "python2"
  },
  "language_info": {
   "codemirror_mode": {
    "name": "ipython",
    "version": 3
   },
   "file_extension": ".py",
   "mimetype": "text/x-python",
   "name": "python",
   "nbconvert_exporter": "python",
   "pygments_lexer": "ipython3",
   "version": "3.6.9"
  }
 },
 "nbformat": 4,
 "nbformat_minor": 4
}
