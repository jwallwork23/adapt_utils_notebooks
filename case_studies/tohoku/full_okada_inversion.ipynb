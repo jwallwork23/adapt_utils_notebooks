{
 "cells": [
  {
   "cell_type": "code",
   "execution_count": 1,
   "metadata": {},
   "outputs": [],
   "source": [
    "from thetis import *\n",
    "from firedrake_adjoint import *"
   ]
  },
  {
   "cell_type": "code",
   "execution_count": 2,
   "metadata": {},
   "outputs": [],
   "source": [
    "import adolc\n",
    "import matplotlib.pyplot as plt\n",
    "import numpy as np\n",
    "import scipy"
   ]
  },
  {
   "cell_type": "code",
   "execution_count": 3,
   "metadata": {},
   "outputs": [],
   "source": [
    "from adapt_utils.case_studies.tohoku.options.okada_options import TohokuOkadaBasisOptions\n",
    "from adapt_utils.norms import vecnorm\n",
    "from adapt_utils.unsteady.solver import AdaptiveProblem"
   ]
  },
  {
   "cell_type": "code",
   "execution_count": 4,
   "metadata": {},
   "outputs": [],
   "source": [
    "taylor = False\n",
    "num_mins = 2\n",
    "kwargs = dict(end_time=num_mins*60, synthetic=False)\n",
    "op = TohokuOkadaBasisOptions(**kwargs)\n",
    "op.active_controls = ['slip']\n",
    "num_active_controls = len(op.active_controls)\n",
    "gauges = list(op.gauges.keys())\n",
    "tp = AdaptiveProblem(op, nonlinear=False)"
   ]
  },
  {
   "cell_type": "markdown",
   "metadata": {},
   "source": [
    "Annotate the source model to ADOL-C's tape"
   ]
  },
  {
   "cell_type": "code",
   "execution_count": 5,
   "metadata": {},
   "outputs": [
    {
     "name": "stdout",
     "output_type": "stream",
     "text": [
      "ADOL-C: num_independents    : 190\n",
      "ADOL-C: num_dependents      : 1800\n",
      "ADOL-C: num_max_lives       : 524288\n",
      "ADOL-C: tay_stack_size      : 0\n",
      "ADOL-C: op_buffer_size      : 50000000\n",
      "ADOL-C: num_operations      : 1372933\n",
      "ADOL-C: op_file_access      : 0\n",
      "ADOL-C: num_locations       : 3425924\n",
      "ADOL-C: loc_file_access     : 0\n",
      "ADOL-C: num_values          : 685140\n",
      "ADOL-C: val_file_access     : 0\n",
      "ADOL-C: loc_buffer_size     : 50000000\n",
      "ADOL-C: val_buffer_size     : 50000000\n",
      "ADOL-C: tay_buffer_size     : 50000000\n"
     ]
    }
   ],
   "source": [
    "tape_tag = 0\n",
    "tp.set_initial_condition(annotate_source=True, tag=tape_tag, separate_faults=False)\n",
    "stats = adolc.tapestats(tape_tag)\n",
    "for key in stats:\n",
    "    print(\"ADOL-C: {:20s}: {:d}\".format(key.lower(), stats[key]))\n",
    "num_subfaults = len(op.subfaults)\n",
    "q = tp.fwd_solution\n",
    "q0 = q.copy(deepcopy=True)"
   ]
  },
  {
   "cell_type": "markdown",
   "metadata": {},
   "source": [
    "Set initial condition for tsunami propagation"
   ]
  },
  {
   "cell_type": "code",
   "execution_count": 6,
   "metadata": {},
   "outputs": [],
   "source": [
    "tape = get_working_tape()\n",
    "tape.clear_tape()\n",
    "u, eta = q.split()\n",
    "u0, eta0 = q0.split()\n",
    "u.assign(0.0)\n",
    "eta.assign(eta0)\n",
    "controls = Control(eta)"
   ]
  },
  {
   "cell_type": "markdown",
   "metadata": {},
   "source": [
    "Setup QoI"
   ]
  },
  {
   "cell_type": "code",
   "execution_count": 7,
   "metadata": {},
   "outputs": [],
   "source": [
    "op.get_update_forcings(tp, 0)\n",
    "wq = Constant(0.0)\n",
    "op.J = 0\n",
    "\n",
    "def update_forcings(t):\n",
    "    tt = t - op.dt\n",
    "    for gauge in gauges:\n",
    "        tstart = op.gauges[gauge]['arrival_time']\n",
    "        tend = min(op.gauges[gauge]['departure_time'], op.end_time)\n",
    "        if t < tstart or t > tend:\n",
    "            continue\n",
    "        wq.assign(0.25*op.dt if np.isclose(tt, tstart) or np.isclose(tt, tend) else 0.5*op.dt)\n",
    "        op.gauges[gauge]['obs'].assign(op.gauges[gauge]['interpolator'](tt))\n",
    "        op.J = op.J + assemble(wq*op.gauges[gauge]['indicator']*(eta - op.gauges[gauge]['obs'])**2*dx)"
   ]
  },
  {
   "cell_type": "markdown",
   "metadata": {},
   "source": [
    "Run tsunami propagation, annotating pyadjoint's tape"
   ]
  },
  {
   "cell_type": "code",
   "execution_count": 8,
   "metadata": {},
   "outputs": [
    {
     "name": "stderr",
     "output_type": "stream",
     "text": [
      "================================================================================\n",
      "FORWARD SOLVE  time     0.00  (  0.00) seconds\n",
      "    elevation norm           at time   60.0 =  1.0584e+06\n",
      "    velocity norm            at time   60.0 =  2.2900e+04\n",
      "FORWARD SOLVE  time    60.00  (  2.63) seconds\n",
      "    elevation norm           at time  120.0 =  8.6471e+05\n",
      "    velocity norm            at time  120.0 =  3.8247e+04\n",
      "FORWARD SOLVE  time   120.00  (  1.14) seconds\n",
      "================================================================================\n"
     ]
    }
   ],
   "source": [
    "tp.setup_solver_forward_step(0)\n",
    "tp.solve_forward_step(0, update_forcings=update_forcings)\n",
    "J = op.J\n",
    "stop_annotating()\n",
    "Jhat = ReducedFunctional(J, controls)"
   ]
  },
  {
   "cell_type": "code",
   "execution_count": 9,
   "metadata": {},
   "outputs": [],
   "source": [
    "def reduced_functional(m):\n",
    "    \"\"\"\n",
    "    Compose both unrolled tapes\n",
    "    \"\"\"\n",
    "    m_array = m.reshape((num_active_controls, num_subfaults))\n",
    "    for i, control in enumerate(op.active_controls):\n",
    "        assert len(op.control_parameters[control]) == len(m_array[i])\n",
    "        op.control_parameters[control][:] = m_array[i]\n",
    "\n",
    "    # Unroll ADOL-C's tape\n",
    "    op.set_initial_condition(tp, unroll_tape=True, separate_faults=False, tag=tape_tag)\n",
    "    u, eta = tp.fwd_solution.split()\n",
    "\n",
    "    # Unroll pyadjoint's tape\n",
    "    op.J = Jhat(eta)\n",
    "    print(\"Reduced functional = {:.8e}\".format(op.J))\n",
    "    return op.J"
   ]
  },
  {
   "cell_type": "code",
   "execution_count": 10,
   "metadata": {},
   "outputs": [],
   "source": [
    "def gradient(m):\n",
    "    \"\"\"\n",
    "    Apply the chain rule to both tapes\n",
    "    \"\"\"\n",
    "\n",
    "    # Reverse propagate on pyadjoint's tape\n",
    "    dJdeta0 = Jhat.derivative()\n",
    "\n",
    "    # Restrict to source region\n",
    "    dJdeta0 = interpolate(dJdeta0, tp.P1[0])  # TODO: Avoid interpolation\n",
    "    dJdeta0 = dJdeta0.dat.data[op.indices]\n",
    "\n",
    "    # Reverse propagate on ADOL-C's tape\n",
    "    dJdm = adolc.fos_reverse(tape_tag, dJdeta0)\n",
    "    print(\"Gradient norm      = {:.8e}\".format(vecnorm(dJdm, order=np.Inf)))\n",
    "    return dJdm"
   ]
  },
  {
   "cell_type": "code",
   "execution_count": 11,
   "metadata": {},
   "outputs": [],
   "source": [
    "c = np.array(op.control_parameters['slip']).flatten()"
   ]
  },
  {
   "cell_type": "code",
   "execution_count": 12,
   "metadata": {},
   "outputs": [],
   "source": [
    "op.control_trajectory = []\n",
    "op.qoi_trajectory = []"
   ]
  },
  {
   "cell_type": "code",
   "execution_count": 13,
   "metadata": {},
   "outputs": [],
   "source": [
    "def callback(m):\n",
    "    op.control_trajectory.append(m)\n",
    "    op.qoi_trajectory.append(op.J)\n",
    "    print(\"LINE SEARCH COMPLETE\")"
   ]
  },
  {
   "cell_type": "code",
   "execution_count": null,
   "metadata": {},
   "outputs": [
    {
     "name": "stderr",
     "output_type": "stream",
     "text": [
      "Optimisation begin...\n"
     ]
    },
    {
     "name": "stdout",
     "output_type": "stream",
     "text": [
      "Reduced functional = 7.08918674e+02\n",
      "Gradient norm      = 1.51466274e+00\n",
      "Reduced functional = 6.86002153e+02\n",
      "Gradient norm      = 1.45359372e+00\n",
      "Reduced functional = 6.03971133e+02\n"
     ]
    },
    {
     "name": "stderr",
     "output_type": "stream",
     "text": [
      "LINE SEARCH COMPLETE\n"
     ]
    },
    {
     "name": "stdout",
     "output_type": "stream",
     "text": [
      "Gradient norm      = 1.20931764e+00\n",
      "Reduced functional = 3.84986612e+02\n"
     ]
    },
    {
     "name": "stderr",
     "output_type": "stream",
     "text": [
      "LINE SEARCH COMPLETE\n"
     ]
    },
    {
     "name": "stdout",
     "output_type": "stream",
     "text": [
      "Gradient norm      = 1.03060548e+00\n",
      "Reduced functional = 3.45969074e+02\n"
     ]
    },
    {
     "name": "stderr",
     "output_type": "stream",
     "text": [
      "LINE SEARCH COMPLETE\n"
     ]
    },
    {
     "name": "stdout",
     "output_type": "stream",
     "text": [
      "Gradient norm      = 1.07433608e+00\n",
      "Reduced functional = 1.56833766e+02\n"
     ]
    },
    {
     "name": "stderr",
     "output_type": "stream",
     "text": [
      "LINE SEARCH COMPLETE\n"
     ]
    },
    {
     "name": "stdout",
     "output_type": "stream",
     "text": [
      "Gradient norm      = 9.68915665e-01\n",
      "Reduced functional = 1.12950709e+02\n"
     ]
    },
    {
     "name": "stderr",
     "output_type": "stream",
     "text": [
      "LINE SEARCH COMPLETE\n"
     ]
    },
    {
     "name": "stdout",
     "output_type": "stream",
     "text": [
      "Gradient norm      = 5.36085697e-01\n",
      "Reduced functional = 9.57956729e+01\n"
     ]
    },
    {
     "name": "stderr",
     "output_type": "stream",
     "text": [
      "LINE SEARCH COMPLETE\n"
     ]
    },
    {
     "name": "stdout",
     "output_type": "stream",
     "text": [
      "Gradient norm      = 2.77221824e-01\n",
      "Reduced functional = 9.22724585e+01\n"
     ]
    },
    {
     "name": "stderr",
     "output_type": "stream",
     "text": [
      "LINE SEARCH COMPLETE\n"
     ]
    },
    {
     "name": "stdout",
     "output_type": "stream",
     "text": [
      "Gradient norm      = 2.63798356e-01\n",
      "Reduced functional = 8.34201794e+01\n"
     ]
    },
    {
     "name": "stderr",
     "output_type": "stream",
     "text": [
      "LINE SEARCH COMPLETE\n"
     ]
    },
    {
     "name": "stdout",
     "output_type": "stream",
     "text": [
      "Gradient norm      = 1.97251825e-01\n",
      "Reduced functional = 7.26664107e+01\n"
     ]
    },
    {
     "name": "stderr",
     "output_type": "stream",
     "text": [
      "LINE SEARCH COMPLETE\n"
     ]
    },
    {
     "name": "stdout",
     "output_type": "stream",
     "text": [
      "Gradient norm      = 1.50483934e-01\n",
      "Reduced functional = 6.60106724e+01\n"
     ]
    },
    {
     "name": "stderr",
     "output_type": "stream",
     "text": [
      "LINE SEARCH COMPLETE\n"
     ]
    },
    {
     "name": "stdout",
     "output_type": "stream",
     "text": [
      "Gradient norm      = 1.74314663e-01\n",
      "Reduced functional = 6.47401208e+01\n"
     ]
    },
    {
     "name": "stderr",
     "output_type": "stream",
     "text": [
      "LINE SEARCH COMPLETE\n"
     ]
    },
    {
     "name": "stdout",
     "output_type": "stream",
     "text": [
      "Gradient norm      = 1.79401983e-01\n",
      "Reduced functional = 6.36082435e+01\n"
     ]
    },
    {
     "name": "stderr",
     "output_type": "stream",
     "text": [
      "LINE SEARCH COMPLETE\n"
     ]
    },
    {
     "name": "stdout",
     "output_type": "stream",
     "text": [
      "Gradient norm      = 1.85643071e-01\n",
      "Reduced functional = 6.09470896e+01\n"
     ]
    },
    {
     "name": "stderr",
     "output_type": "stream",
     "text": [
      "LINE SEARCH COMPLETE\n"
     ]
    },
    {
     "name": "stdout",
     "output_type": "stream",
     "text": [
      "Gradient norm      = 1.87352357e-01\n",
      "Reduced functional = 5.58208204e+01\n"
     ]
    },
    {
     "name": "stderr",
     "output_type": "stream",
     "text": [
      "LINE SEARCH COMPLETE\n"
     ]
    },
    {
     "name": "stdout",
     "output_type": "stream",
     "text": [
      "Gradient norm      = 1.70672081e-01\n",
      "Reduced functional = 4.88779076e+01\n"
     ]
    },
    {
     "name": "stderr",
     "output_type": "stream",
     "text": [
      "LINE SEARCH COMPLETE\n"
     ]
    },
    {
     "name": "stdout",
     "output_type": "stream",
     "text": [
      "Gradient norm      = 1.45904974e-01\n",
      "Reduced functional = 4.31343978e+01\n"
     ]
    },
    {
     "name": "stderr",
     "output_type": "stream",
     "text": [
      "LINE SEARCH COMPLETE\n"
     ]
    },
    {
     "name": "stdout",
     "output_type": "stream",
     "text": [
      "Gradient norm      = 1.72818160e-01\n",
      "Reduced functional = 4.01871143e+01\n"
     ]
    },
    {
     "name": "stderr",
     "output_type": "stream",
     "text": [
      "LINE SEARCH COMPLETE\n"
     ]
    },
    {
     "name": "stdout",
     "output_type": "stream",
     "text": [
      "Gradient norm      = 1.61306638e-01\n",
      "Reduced functional = 3.88039169e+01\n"
     ]
    },
    {
     "name": "stderr",
     "output_type": "stream",
     "text": [
      "LINE SEARCH COMPLETE\n"
     ]
    },
    {
     "name": "stdout",
     "output_type": "stream",
     "text": [
      "Gradient norm      = 1.31898993e-01\n",
      "Reduced functional = 3.72582943e+01\n"
     ]
    },
    {
     "name": "stderr",
     "output_type": "stream",
     "text": [
      "LINE SEARCH COMPLETE\n"
     ]
    },
    {
     "name": "stdout",
     "output_type": "stream",
     "text": [
      "Gradient norm      = 9.04194261e-02\n",
      "Reduced functional = 3.43360671e+01\n"
     ]
    },
    {
     "name": "stderr",
     "output_type": "stream",
     "text": [
      "LINE SEARCH COMPLETE\n"
     ]
    },
    {
     "name": "stdout",
     "output_type": "stream",
     "text": [
      "Gradient norm      = 6.98922177e-02\n",
      "Reduced functional = 3.02296253e+01\n"
     ]
    },
    {
     "name": "stderr",
     "output_type": "stream",
     "text": [
      "LINE SEARCH COMPLETE\n"
     ]
    },
    {
     "name": "stdout",
     "output_type": "stream",
     "text": [
      "Gradient norm      = 6.60496378e-02\n",
      "Reduced functional = 2.74776563e+01\n"
     ]
    },
    {
     "name": "stderr",
     "output_type": "stream",
     "text": [
      "LINE SEARCH COMPLETE\n"
     ]
    },
    {
     "name": "stdout",
     "output_type": "stream",
     "text": [
      "Gradient norm      = 6.83125840e-02\n",
      "Reduced functional = 2.66744297e+01\n"
     ]
    },
    {
     "name": "stderr",
     "output_type": "stream",
     "text": [
      "LINE SEARCH COMPLETE\n"
     ]
    },
    {
     "name": "stdout",
     "output_type": "stream",
     "text": [
      "Gradient norm      = 6.00476854e-02\n",
      "Reduced functional = 2.63493998e+01\n"
     ]
    },
    {
     "name": "stderr",
     "output_type": "stream",
     "text": [
      "LINE SEARCH COMPLETE\n"
     ]
    },
    {
     "name": "stdout",
     "output_type": "stream",
     "text": [
      "Gradient norm      = 6.14684717e-02\n",
      "Reduced functional = 2.57496094e+01\n"
     ]
    },
    {
     "name": "stderr",
     "output_type": "stream",
     "text": [
      "LINE SEARCH COMPLETE\n"
     ]
    },
    {
     "name": "stdout",
     "output_type": "stream",
     "text": [
      "Gradient norm      = 6.10117120e-02\n",
      "Reduced functional = 2.47049109e+01\n"
     ]
    },
    {
     "name": "stderr",
     "output_type": "stream",
     "text": [
      "LINE SEARCH COMPLETE\n"
     ]
    },
    {
     "name": "stdout",
     "output_type": "stream",
     "text": [
      "Gradient norm      = 6.09509150e-02\n",
      "Reduced functional = 2.32753233e+01\n"
     ]
    },
    {
     "name": "stderr",
     "output_type": "stream",
     "text": [
      "LINE SEARCH COMPLETE\n"
     ]
    },
    {
     "name": "stdout",
     "output_type": "stream",
     "text": [
      "Gradient norm      = 8.64928365e-02\n",
      "Reduced functional = 2.21888600e+01\n"
     ]
    },
    {
     "name": "stderr",
     "output_type": "stream",
     "text": [
      "LINE SEARCH COMPLETE\n"
     ]
    },
    {
     "name": "stdout",
     "output_type": "stream",
     "text": [
      "Gradient norm      = 7.70349179e-02\n",
      "Reduced functional = 2.16835133e+01\n"
     ]
    },
    {
     "name": "stderr",
     "output_type": "stream",
     "text": [
      "LINE SEARCH COMPLETE\n"
     ]
    },
    {
     "name": "stdout",
     "output_type": "stream",
     "text": [
      "Gradient norm      = 6.26179683e-02\n",
      "Reduced functional = 2.13737567e+01\n"
     ]
    },
    {
     "name": "stderr",
     "output_type": "stream",
     "text": [
      "LINE SEARCH COMPLETE\n"
     ]
    },
    {
     "name": "stdout",
     "output_type": "stream",
     "text": [
      "Gradient norm      = 6.05774859e-02\n",
      "Reduced functional = 2.09868063e+01\n"
     ]
    },
    {
     "name": "stderr",
     "output_type": "stream",
     "text": [
      "LINE SEARCH COMPLETE\n"
     ]
    },
    {
     "name": "stdout",
     "output_type": "stream",
     "text": [
      "Gradient norm      = 5.72591241e-02\n",
      "Reduced functional = 2.01880849e+01\n"
     ]
    },
    {
     "name": "stderr",
     "output_type": "stream",
     "text": [
      "LINE SEARCH COMPLETE\n"
     ]
    },
    {
     "name": "stdout",
     "output_type": "stream",
     "text": [
      "Gradient norm      = 5.05261431e-02\n",
      "Reduced functional = 1.89007852e+01\n"
     ]
    },
    {
     "name": "stderr",
     "output_type": "stream",
     "text": [
      "LINE SEARCH COMPLETE\n"
     ]
    },
    {
     "name": "stdout",
     "output_type": "stream",
     "text": [
      "Gradient norm      = 4.59394315e-02\n",
      "Reduced functional = 1.75395113e+01\n"
     ]
    },
    {
     "name": "stderr",
     "output_type": "stream",
     "text": [
      "LINE SEARCH COMPLETE\n"
     ]
    },
    {
     "name": "stdout",
     "output_type": "stream",
     "text": [
      "Gradient norm      = 5.37458170e-02\n",
      "Reduced functional = 1.68386879e+01\n"
     ]
    },
    {
     "name": "stderr",
     "output_type": "stream",
     "text": [
      "LINE SEARCH COMPLETE\n"
     ]
    },
    {
     "name": "stdout",
     "output_type": "stream",
     "text": [
      "Gradient norm      = 6.56948394e-02\n"
     ]
    }
   ],
   "source": [
    "# Run optimisation\n",
    "print_output(\"Optimisation begin...\")\n",
    "opt_kwargs = {\n",
    "    'maxiter': 1000,\n",
    "    'gtol': 1.0e-08,\n",
    "    'fprime': gradient,\n",
    "    'callback': lambda m: print_output(\"LINE SEARCH COMPLETE\"),\n",
    "}\n",
    "optimised_value = scipy.optimize.fmin_bfgs(reduced_functional, c, **opt_kwargs)"
   ]
  },
  {
   "cell_type": "code",
   "execution_count": null,
   "metadata": {},
   "outputs": [],
   "source": []
  }
 ],
 "metadata": {
  "kernelspec": {
   "display_name": "Python 2",
   "language": "python",
   "name": "python2"
  },
  "language_info": {
   "codemirror_mode": {
    "name": "ipython",
    "version": 3
   },
   "file_extension": ".py",
   "mimetype": "text/x-python",
   "name": "python",
   "nbconvert_exporter": "python",
   "pygments_lexer": "ipython3",
   "version": "3.6.9"
  }
 },
 "nbformat": 4,
 "nbformat_minor": 4
}
