{
 "cells": [
  {
   "cell_type": "code",
   "execution_count": 1,
   "metadata": {},
   "outputs": [],
   "source": [
    "%matplotlib inline"
   ]
  },
  {
   "cell_type": "code",
   "execution_count": 2,
   "metadata": {},
   "outputs": [],
   "source": [
    "from firedrake import tricontourf"
   ]
  },
  {
   "cell_type": "code",
   "execution_count": 3,
   "metadata": {},
   "outputs": [],
   "source": [
    "import adolc\n",
    "import matplotlib.pyplot as plt\n",
    "import numpy as np"
   ]
  },
  {
   "cell_type": "code",
   "execution_count": 4,
   "metadata": {},
   "outputs": [],
   "source": [
    "from adapt_utils.case_studies.tohoku.options.okada_options import TohokuOkadaBasisOptions\n",
    "from adapt_utils.unsteady.solver import AdaptiveProblem\n",
    "from adapt_utils.unsteady.swe.tsunami.conversion import lonlat_to_utm"
   ]
  },
  {
   "cell_type": "code",
   "execution_count": 18,
   "metadata": {},
   "outputs": [],
   "source": [
    "plt.rc('font', **{'size': 16})"
   ]
  },
  {
   "cell_type": "code",
   "execution_count": 5,
   "metadata": {},
   "outputs": [],
   "source": [
    "kwargs = {\n",
    "    'level': 1,\n",
    "    'debug': True,\n",
    "    'okada_grid_lon_min': 140,\n",
    "    'okada_grid_lon_max': 145,\n",
    "    'okada_grid_lat_min': 35,\n",
    "    'okada_grid_lat_max': 41,\n",
    "}\n",
    "plotting_kwargs = {\n",
    "    'cmap': 'coolwarm',\n",
    "    'levels': 50,\n",
    "}"
   ]
  },
  {
   "cell_type": "code",
   "execution_count": 6,
   "metadata": {},
   "outputs": [
    {
     "name": "stderr",
     "output_type": "stream",
     "text": [
      "INIT: Loading mesh...\n",
      "INIT: Checking validity of gauge coordinates...\n",
      "WARNING: Cannot check validity of coordinates.\n"
     ]
    }
   ],
   "source": [
    "op = TohokuOkadaBasisOptions(**kwargs)"
   ]
  },
  {
   "cell_type": "code",
   "execution_count": 7,
   "metadata": {},
   "outputs": [
    {
     "name": "stderr",
     "output_type": "stream",
     "text": [
      "********************************************************************************\n",
      "AdaptiveProblem initialisation begin\n",
      "********************************************************************************\n",
      "\n",
      "SETUP: Setting default meshes...\n",
      "SETUP: Mesh 0 has 62626 elements and 32096 vertices\n",
      "SETUP: Creating finite elements...\n",
      "SETUP: Creating function spaces...\n",
      "SETUP: Creating solutions...\n",
      "SETUP: Creating fields...\n",
      "INIT: Reading bathymetry file...\n",
      "INIT: Creating bathymetry interpolator...\n",
      "INIT: Interpolating bathymetry...\n",
      "INIT: Capping bathymetry...\n",
      "INIT: Computing CFL number on mesh 0...\n",
      "INIT:   dx = 2.0138e+03  dt = 3.0000e+01  CFL number = 4.5998e+00 > 1\n",
      "SETUP: Setting stabilisation parameters...\n",
      "SETUP: Setting boundary conditions...\n",
      "SETUP: Creating output files...\n",
      "Subfault 0: shear modulus 4.0e+10 Pa, seismic moment is 2.1e+17\n",
      "Subfault 1: shear modulus 4.0e+10 Pa, seismic moment is 6.4e+19\n",
      "Subfault 2: shear modulus 4.0e+10 Pa, seismic moment is 1.2e+20\n",
      "Subfault 3: shear modulus 4.0e+10 Pa, seismic moment is 2.5e+20\n",
      "Subfault 4: shear modulus 4.0e+10 Pa, seismic moment is 4.0e+20\n",
      "Subfault 5: shear modulus 4.0e+10 Pa, seismic moment is 5.5e+20\n",
      "Subfault 6: shear modulus 4.0e+10 Pa, seismic moment is 6.6e+20\n",
      "Subfault 7: shear modulus 4.0e+10 Pa, seismic moment is 6.9e+20\n",
      "Subfault 8: shear modulus 4.0e+10 Pa, seismic moment is 7.0e+20\n",
      "Subfault 9: shear modulus 4.0e+10 Pa, seismic moment is 6.9e+20\n",
      "Subfault 10: shear modulus 4.0e+10 Pa, seismic moment is 6.3e+20\n",
      "Subfault 11: shear modulus 4.0e+10 Pa, seismic moment is 4.9e+20\n",
      "Subfault 12: shear modulus 4.0e+10 Pa, seismic moment is 3.4e+20\n",
      "Subfault 13: shear modulus 4.0e+10 Pa, seismic moment is 2.2e+20\n",
      "Subfault 14: shear modulus 4.0e+10 Pa, seismic moment is 1.3e+20\n",
      "Subfault 15: shear modulus 4.0e+10 Pa, seismic moment is 4.8e+19\n",
      "Subfault 16: shear modulus 4.0e+10 Pa, seismic moment is 2.1e+18\n",
      "Subfault 17: shear modulus 4.0e+10 Pa, seismic moment is 7.3e+18\n",
      "Subfault 18: shear modulus 4.0e+10 Pa, seismic moment is 1.9e+18\n",
      "Subfault 19: shear modulus 4.0e+10 Pa, seismic moment is 1.7e+18\n",
      "Subfault 20: shear modulus 4.0e+10 Pa, seismic moment is 6.9e+19\n",
      "Subfault 21: shear modulus 4.0e+10 Pa, seismic moment is 1.8e+20\n",
      "Subfault 22: shear modulus 4.0e+10 Pa, seismic moment is 4.0e+20\n",
      "Subfault 23: shear modulus 4.0e+10 Pa, seismic moment is 6.4e+20\n",
      "Subfault 24: shear modulus 4.0e+10 Pa, seismic moment is 9.1e+20\n",
      "Subfault 25: shear modulus 4.0e+10 Pa, seismic moment is 1.1e+21\n",
      "Subfault 26: shear modulus 4.0e+10 Pa, seismic moment is 1.2e+21\n",
      "Subfault 27: shear modulus 4.0e+10 Pa, seismic moment is 1.2e+21\n",
      "Subfault 28: shear modulus 4.0e+10 Pa, seismic moment is 1.1e+21\n",
      "Subfault 29: shear modulus 4.0e+10 Pa, seismic moment is 9.8e+20\n",
      "Subfault 30: shear modulus 4.0e+10 Pa, seismic moment is 7.5e+20\n",
      "Subfault 31: shear modulus 4.0e+10 Pa, seismic moment is 5.0e+20\n",
      "Subfault 32: shear modulus 4.0e+10 Pa, seismic moment is 3.4e+20\n",
      "Subfault 33: shear modulus 4.0e+10 Pa, seismic moment is 2.1e+20\n",
      "Subfault 34: shear modulus 4.0e+10 Pa, seismic moment is 1.1e+20\n",
      "Subfault 35: shear modulus 4.0e+10 Pa, seismic moment is 2.0e+19\n",
      "Subfault 36: shear modulus 4.0e+10 Pa, seismic moment is 5.9e+18\n",
      "Subfault 37: shear modulus 4.0e+10 Pa, seismic moment is 1.4e+18\n",
      "Subfault 38: shear modulus 4.0e+10 Pa, seismic moment is 8.4e+17\n",
      "Subfault 39: shear modulus 4.0e+10 Pa, seismic moment is 6.0e+19\n",
      "Subfault 40: shear modulus 4.0e+10 Pa, seismic moment is 1.8e+20\n",
      "Subfault 41: shear modulus 4.0e+10 Pa, seismic moment is 3.9e+20\n",
      "Subfault 42: shear modulus 4.0e+10 Pa, seismic moment is 6.5e+20\n",
      "Subfault 43: shear modulus 4.0e+10 Pa, seismic moment is 9.5e+20\n",
      "Subfault 44: shear modulus 4.0e+10 Pa, seismic moment is 1.1e+21\n",
      "Subfault 45: shear modulus 4.0e+10 Pa, seismic moment is 1.2e+21\n",
      "Subfault 46: shear modulus 4.0e+10 Pa, seismic moment is 1.2e+21\n",
      "Subfault 47: shear modulus 4.0e+10 Pa, seismic moment is 1.1e+21\n",
      "Subfault 48: shear modulus 4.0e+10 Pa, seismic moment is 9.0e+20\n",
      "Subfault 49: shear modulus 4.0e+10 Pa, seismic moment is 6.5e+20\n",
      "Subfault 50: shear modulus 4.0e+10 Pa, seismic moment is 3.9e+20\n",
      "Subfault 51: shear modulus 4.0e+10 Pa, seismic moment is 2.5e+20\n",
      "Subfault 52: shear modulus 4.0e+10 Pa, seismic moment is 1.9e+20\n",
      "Subfault 53: shear modulus 4.0e+10 Pa, seismic moment is 1.5e+20\n",
      "Subfault 54: shear modulus 4.0e+10 Pa, seismic moment is 6.2e+19\n",
      "Subfault 55: shear modulus 4.0e+10 Pa, seismic moment is 1.6e+18\n",
      "Subfault 56: shear modulus 4.0e+10 Pa, seismic moment is 7.1e+16\n",
      "Subfault 57: shear modulus 4.0e+10 Pa, seismic moment is 3.3e+18\n",
      "Subfault 58: shear modulus 4.0e+10 Pa, seismic moment is 1.4e+19\n",
      "Subfault 59: shear modulus 4.0e+10 Pa, seismic moment is 1.1e+20\n",
      "Subfault 60: shear modulus 4.0e+10 Pa, seismic moment is 3.0e+20\n",
      "Subfault 61: shear modulus 4.0e+10 Pa, seismic moment is 5.3e+20\n",
      "Subfault 62: shear modulus 4.0e+10 Pa, seismic moment is 7.6e+20\n",
      "Subfault 63: shear modulus 4.0e+10 Pa, seismic moment is 9.2e+20\n",
      "Subfault 64: shear modulus 4.0e+10 Pa, seismic moment is 9.5e+20\n",
      "Subfault 65: shear modulus 4.0e+10 Pa, seismic moment is 9.5e+20\n",
      "Subfault 66: shear modulus 4.0e+10 Pa, seismic moment is 8.1e+20\n",
      "Subfault 67: shear modulus 4.0e+10 Pa, seismic moment is 5.8e+20\n",
      "Subfault 68: shear modulus 4.0e+10 Pa, seismic moment is 4.0e+20\n",
      "Subfault 69: shear modulus 4.0e+10 Pa, seismic moment is 2.4e+20\n",
      "Subfault 70: shear modulus 4.0e+10 Pa, seismic moment is 1.1e+20\n",
      "Subfault 71: shear modulus 4.0e+10 Pa, seismic moment is 1.4e+20\n",
      "Subfault 72: shear modulus 4.0e+10 Pa, seismic moment is 1.3e+20\n",
      "Subfault 73: shear modulus 4.0e+10 Pa, seismic moment is 9.1e+19\n",
      "Subfault 74: shear modulus 4.0e+10 Pa, seismic moment is 1.2e+19\n",
      "Subfault 75: shear modulus 4.0e+10 Pa, seismic moment is 7.8e+17\n",
      "Subfault 76: shear modulus 4.0e+10 Pa, seismic moment is 3.2e+18\n",
      "Subfault 77: shear modulus 4.0e+10 Pa, seismic moment is 3.5e+18\n",
      "Subfault 78: shear modulus 4.0e+10 Pa, seismic moment is 2.9e+19\n",
      "Subfault 79: shear modulus 4.0e+10 Pa, seismic moment is 1.2e+20\n",
      "Subfault 80: shear modulus 4.0e+10 Pa, seismic moment is 2.9e+20\n",
      "Subfault 81: shear modulus 4.0e+10 Pa, seismic moment is 4.7e+20\n",
      "Subfault 82: shear modulus 4.0e+10 Pa, seismic moment is 5.6e+20\n",
      "Subfault 83: shear modulus 4.0e+10 Pa, seismic moment is 5.5e+20\n",
      "Subfault 84: shear modulus 4.0e+10 Pa, seismic moment is 5.4e+20\n",
      "Subfault 85: shear modulus 4.0e+10 Pa, seismic moment is 5.1e+20\n",
      "Subfault 86: shear modulus 4.0e+10 Pa, seismic moment is 3.1e+20\n",
      "Subfault 87: shear modulus 4.0e+10 Pa, seismic moment is 1.6e+20\n",
      "Subfault 88: shear modulus 4.0e+10 Pa, seismic moment is 8.8e+17\n",
      "Subfault 89: shear modulus 4.0e+10 Pa, seismic moment is 4.1e+19\n",
      "Subfault 90: shear modulus 4.0e+10 Pa, seismic moment is 1.4e+20\n",
      "Subfault 91: shear modulus 4.0e+10 Pa, seismic moment is 1.2e+20\n",
      "Subfault 92: shear modulus 4.0e+10 Pa, seismic moment is 7.9e+19\n",
      "Subfault 93: shear modulus 4.0e+10 Pa, seismic moment is 1.7e+19\n",
      "Subfault 94: shear modulus 4.0e+10 Pa, seismic moment is 3.5e+17\n",
      "Subfault 95: shear modulus 4.0e+10 Pa, seismic moment is 5.3e+19\n",
      "Subfault 96: shear modulus 4.0e+10 Pa, seismic moment is 6.5e+19\n",
      "Subfault 97: shear modulus 4.0e+10 Pa, seismic moment is 2.2e+17\n",
      "Subfault 98: shear modulus 4.0e+10 Pa, seismic moment is 5.2e+18\n",
      "Subfault 99: shear modulus 4.0e+10 Pa, seismic moment is 9.5e+19\n",
      "Subfault 100: shear modulus 4.0e+10 Pa, seismic moment is 2.9e+20\n",
      "Subfault 101: shear modulus 4.0e+10 Pa, seismic moment is 3.0e+20\n",
      "Subfault 102: shear modulus 4.0e+10 Pa, seismic moment is 2.9e+20\n",
      "Subfault 103: shear modulus 4.0e+10 Pa, seismic moment is 3.3e+20\n",
      "Subfault 104: shear modulus 4.0e+10 Pa, seismic moment is 3.5e+20\n",
      "Subfault 105: shear modulus 4.0e+10 Pa, seismic moment is 3.3e+20\n",
      "Subfault 106: shear modulus 4.0e+10 Pa, seismic moment is 8.0e+19\n",
      "Subfault 107: shear modulus 4.0e+10 Pa, seismic moment is 1.8e+17\n",
      "Subfault 108: shear modulus 4.0e+10 Pa, seismic moment is 3.1e+19\n",
      "Subfault 109: shear modulus 4.0e+10 Pa, seismic moment is 6.5e+18\n",
      "Subfault 110: shear modulus 4.0e+10 Pa, seismic moment is 4.3e+18\n",
      "Subfault 111: shear modulus 4.0e+10 Pa, seismic moment is 5.4e+18\n",
      "Subfault 112: shear modulus 4.0e+10 Pa, seismic moment is 4.9e+19\n",
      "Subfault 113: shear modulus 4.0e+10 Pa, seismic moment is 1.9e+19\n",
      "Subfault 114: shear modulus 4.0e+10 Pa, seismic moment is 6.0e+19\n"
     ]
    },
    {
     "name": "stderr",
     "output_type": "stream",
     "text": [
      "Subfault 115: shear modulus 4.0e+10 Pa, seismic moment is 1.7e+20\n",
      "Subfault 116: shear modulus 4.0e+10 Pa, seismic moment is 1.2e+20\n",
      "Subfault 117: shear modulus 4.0e+10 Pa, seismic moment is 1.2e+19\n",
      "Subfault 118: shear modulus 4.0e+10 Pa, seismic moment is 9.9e+17\n",
      "Subfault 119: shear modulus 4.0e+10 Pa, seismic moment is 1.4e+20\n",
      "Subfault 120: shear modulus 4.0e+10 Pa, seismic moment is 6.8e+19\n",
      "Subfault 121: shear modulus 4.0e+10 Pa, seismic moment is 2.1e+20\n",
      "Subfault 122: shear modulus 4.0e+10 Pa, seismic moment is 3.6e+20\n",
      "Subfault 123: shear modulus 4.0e+10 Pa, seismic moment is 4.1e+20\n",
      "Subfault 124: shear modulus 4.0e+10 Pa, seismic moment is 4.3e+20\n",
      "Subfault 125: shear modulus 4.0e+10 Pa, seismic moment is 2.0e+20\n",
      "Subfault 126: shear modulus 4.0e+10 Pa, seismic moment is 8.0e+19\n",
      "Subfault 127: shear modulus 4.0e+10 Pa, seismic moment is 4.3e+19\n",
      "Subfault 128: shear modulus 4.0e+10 Pa, seismic moment is 1.3e+19\n",
      "Subfault 129: shear modulus 4.0e+10 Pa, seismic moment is 1.3e+19\n",
      "Subfault 130: shear modulus 4.0e+10 Pa, seismic moment is 5.2e+19\n",
      "Subfault 131: shear modulus 4.0e+10 Pa, seismic moment is 7.0e+19\n",
      "Subfault 132: shear modulus 4.0e+10 Pa, seismic moment is 4.7e+19\n",
      "Subfault 133: shear modulus 4.0e+10 Pa, seismic moment is 6.0e+19\n",
      "Subfault 134: shear modulus 4.0e+10 Pa, seismic moment is 2.6e+20\n",
      "Subfault 135: shear modulus 4.0e+10 Pa, seismic moment is 2.2e+20\n",
      "Subfault 136: shear modulus 4.0e+10 Pa, seismic moment is 9.3e+19\n",
      "Subfault 137: shear modulus 4.0e+10 Pa, seismic moment is 2.4e+19\n",
      "Subfault 138: shear modulus 4.0e+10 Pa, seismic moment is 3.3e+17\n",
      "Subfault 139: shear modulus 4.0e+10 Pa, seismic moment is 9.6e+19\n",
      "Subfault 140: shear modulus 4.0e+10 Pa, seismic moment is 2.9e+20\n",
      "Subfault 141: shear modulus 4.0e+10 Pa, seismic moment is 4.7e+20\n",
      "Subfault 142: shear modulus 4.0e+10 Pa, seismic moment is 4.8e+20\n",
      "Subfault 143: shear modulus 4.0e+10 Pa, seismic moment is 3.7e+20\n",
      "Subfault 144: shear modulus 4.0e+10 Pa, seismic moment is 2.0e+20\n",
      "Subfault 145: shear modulus 4.0e+10 Pa, seismic moment is 9.1e+19\n",
      "Subfault 146: shear modulus 4.0e+10 Pa, seismic moment is 6.7e+19\n",
      "Subfault 147: shear modulus 4.0e+10 Pa, seismic moment is 3.9e+19\n",
      "Subfault 148: shear modulus 4.0e+10 Pa, seismic moment is 5.9e+19\n",
      "Subfault 149: shear modulus 4.0e+10 Pa, seismic moment is 1.1e+20\n",
      "Subfault 150: shear modulus 4.0e+10 Pa, seismic moment is 9.9e+19\n",
      "Subfault 151: shear modulus 4.0e+10 Pa, seismic moment is 5.8e+19\n",
      "Subfault 152: shear modulus 4.0e+10 Pa, seismic moment is 5.9e+19\n",
      "Subfault 153: shear modulus 4.0e+10 Pa, seismic moment is 2.5e+20\n",
      "Subfault 154: shear modulus 4.0e+10 Pa, seismic moment is 2.5e+20\n",
      "Subfault 155: shear modulus 4.0e+10 Pa, seismic moment is 1.4e+20\n",
      "Subfault 156: shear modulus 4.0e+10 Pa, seismic moment is 4.6e+19\n",
      "Subfault 157: shear modulus 4.0e+10 Pa, seismic moment is 2.3e+19\n",
      "Subfault 158: shear modulus 4.0e+10 Pa, seismic moment is 2.7e+19\n",
      "Subfault 159: shear modulus 4.0e+10 Pa, seismic moment is 2.2e+20\n",
      "Subfault 160: shear modulus 4.0e+10 Pa, seismic moment is 3.4e+20\n",
      "Subfault 161: shear modulus 4.0e+10 Pa, seismic moment is 2.8e+20\n",
      "Subfault 162: shear modulus 4.0e+10 Pa, seismic moment is 2.1e+20\n",
      "Subfault 163: shear modulus 4.0e+10 Pa, seismic moment is 1.6e+20\n",
      "Subfault 164: shear modulus 4.0e+10 Pa, seismic moment is 9.5e+19\n",
      "Subfault 165: shear modulus 4.0e+10 Pa, seismic moment is 7.1e+19\n",
      "Subfault 166: shear modulus 4.0e+10 Pa, seismic moment is 6.4e+19\n",
      "Subfault 167: shear modulus 4.0e+10 Pa, seismic moment is 7.7e+19\n",
      "Subfault 168: shear modulus 4.0e+10 Pa, seismic moment is 1.0e+20\n",
      "Subfault 169: shear modulus 4.0e+10 Pa, seismic moment is 9.4e+19\n",
      "Subfault 170: shear modulus 4.0e+10 Pa, seismic moment is 5.9e+19\n",
      "Subfault 171: shear modulus 4.0e+10 Pa, seismic moment is 5.9e+19\n",
      "Subfault 172: shear modulus 4.0e+10 Pa, seismic moment is 6.0e+19\n",
      "Subfault 173: shear modulus 4.0e+10 Pa, seismic moment is 5.9e+19\n",
      "Subfault 174: shear modulus 4.0e+10 Pa, seismic moment is 5.6e+19\n",
      "Subfault 175: shear modulus 4.0e+10 Pa, seismic moment is 5.7e+19\n",
      "Subfault 176: shear modulus 4.0e+10 Pa, seismic moment is 5.8e+19\n",
      "Subfault 177: shear modulus 4.0e+10 Pa, seismic moment is 3.7e+19\n",
      "Subfault 178: shear modulus 4.0e+10 Pa, seismic moment is 4.8e+19\n",
      "Subfault 179: shear modulus 4.0e+10 Pa, seismic moment is 6.0e+19\n",
      "Subfault 180: shear modulus 4.0e+10 Pa, seismic moment is 5.9e+19\n",
      "Subfault 181: shear modulus 4.0e+10 Pa, seismic moment is 5.9e+19\n",
      "Subfault 182: shear modulus 4.0e+10 Pa, seismic moment is 5.5e+19\n",
      "Subfault 183: shear modulus 4.0e+10 Pa, seismic moment is 5.9e+19\n",
      "Subfault 184: shear modulus 4.0e+10 Pa, seismic moment is 5.3e+19\n",
      "Subfault 185: shear modulus 4.0e+10 Pa, seismic moment is 5.9e+19\n",
      "Subfault 186: shear modulus 4.0e+10 Pa, seismic moment is 5.5e+19\n",
      "Subfault 187: shear modulus 4.0e+10 Pa, seismic moment is 6.0e+19\n",
      "Subfault 188: shear modulus 4.0e+10 Pa, seismic moment is 5.0e+19\n",
      "Subfault 189: shear modulus 4.0e+10 Pa, seismic moment is 4.9e+19\n"
     ]
    },
    {
     "name": "stdout",
     "output_type": "stream",
     "text": [
      "created topography for subfault 1/190 (0.0 seconds)\n",
      "created topography for subfault 11/190 (0.1 seconds)\n",
      "created topography for subfault 21/190 (0.1 seconds)\n",
      "created topography for subfault 31/190 (0.1 seconds)\n",
      "created topography for subfault 41/190 (0.1 seconds)\n",
      "created topography for subfault 51/190 (0.1 seconds)\n",
      "created topography for subfault 61/190 (0.1 seconds)\n",
      "created topography for subfault 71/190 (0.1 seconds)\n",
      "created topography for subfault 81/190 (0.1 seconds)\n",
      "created topography for subfault 91/190 (0.0 seconds)\n",
      "created topography for subfault 101/190 (0.0 seconds)\n",
      "created topography for subfault 111/190 (0.0 seconds)\n",
      "created topography for subfault 121/190 (0.1 seconds)\n",
      "created topography for subfault 131/190 (0.0 seconds)\n",
      "created topography for subfault 141/190 (0.0 seconds)\n",
      "created topography for subfault 151/190 (0.0 seconds)\n",
      "created topography for subfault 161/190 (0.0 seconds)\n"
     ]
    },
    {
     "name": "stderr",
     "output_type": "stream",
     "text": [
      "Fault corresponds to an earthquake with moment magnitude 9.1e+00\n",
      "INIT: Subtracting initial surface from bathymetry field...\n",
      "INIT: Interpolating bathymetry...\n"
     ]
    },
    {
     "name": "stdout",
     "output_type": "stream",
     "text": [
      "created topography for subfault 171/190 (0.0 seconds)\n",
      "created topography for subfault 181/190 (0.0 seconds)\n"
     ]
    },
    {
     "name": "stderr",
     "output_type": "stream",
     "text": [
      "INIT: Capping bathymetry...\n"
     ]
    }
   ],
   "source": [
    "swp = AdaptiveProblem(op, nonlinear=False, print_progress=False)\n",
    "swp.set_initial_condition(annotate_source=False)"
   ]
  },
  {
   "cell_type": "code",
   "execution_count": 8,
   "metadata": {},
   "outputs": [
    {
     "name": "stderr",
     "output_type": "stream",
     "text": [
      "INIT: Loading mesh...\n",
      "INIT: Checking validity of gauge coordinates...\n",
      "WARNING: Cannot check validity of coordinates.\n"
     ]
    }
   ],
   "source": [
    "kwargs['control_parameters'] = op.control_parameters\n",
    "mu = 0\n",
    "sigma = 5\n",
    "for control in op.active_controls:\n",
    "    size = np.shape(op.control_parameters[control])\n",
    "    kwargs['control_parameters'][control] += np.random.normal(loc=mu, scale=sigma, size=size)\n",
    "op_opt = TohokuOkadaBasisOptions(**kwargs)\n",
    "for gauge in op_opt.gauges:\n",
    "    op_opt.gauges[gauge][\"data\"] = op.gauges[gauge][\"data\"]"
   ]
  },
  {
   "cell_type": "code",
   "execution_count": 9,
   "metadata": {},
   "outputs": [
    {
     "name": "stderr",
     "output_type": "stream",
     "text": [
      "********************************************************************************\n",
      "AdaptiveProblem initialisation begin\n",
      "********************************************************************************\n",
      "\n",
      "SETUP: Setting default meshes...\n",
      "SETUP: Mesh 0 has 62626 elements and 32096 vertices\n",
      "SETUP: Creating finite elements...\n",
      "SETUP: Creating function spaces...\n",
      "SETUP: Creating solutions...\n",
      "SETUP: Creating fields...\n",
      "INIT: Reading bathymetry file...\n",
      "INIT: Creating bathymetry interpolator...\n",
      "INIT: Interpolating bathymetry...\n",
      "INIT: Capping bathymetry...\n",
      "INIT: Computing CFL number on mesh 0...\n",
      "INIT:   dx = 2.0138e+03  dt = 3.0000e+01  CFL number = 4.5998e+00 > 1\n",
      "SETUP: Setting stabilisation parameters...\n",
      "SETUP: Setting boundary conditions...\n",
      "SETUP: Creating output files...\n",
      "Subfault 0: shear modulus 4.0e+10 Pa, seismic moment is 5.3e+19\n",
      "Subfault 1: shear modulus 4.0e+10 Pa, seismic moment is 4.3e+17\n",
      "Subfault 2: shear modulus 4.0e+10 Pa, seismic moment is 5.2e+19\n",
      "Subfault 3: shear modulus 4.0e+10 Pa, seismic moment is 4.2e+20\n",
      "Subfault 4: shear modulus 4.0e+10 Pa, seismic moment is 3.3e+20\n",
      "Subfault 5: shear modulus 4.0e+10 Pa, seismic moment is 5.1e+20\n",
      "Subfault 6: shear modulus 4.0e+10 Pa, seismic moment is 6.0e+20\n",
      "Subfault 7: shear modulus 4.0e+10 Pa, seismic moment is 6.8e+20\n",
      "Subfault 8: shear modulus 4.0e+10 Pa, seismic moment is 8.1e+20\n",
      "Subfault 9: shear modulus 4.0e+10 Pa, seismic moment is 7.7e+20\n",
      "Subfault 10: shear modulus 4.0e+10 Pa, seismic moment is 4.7e+20\n",
      "Subfault 11: shear modulus 4.0e+10 Pa, seismic moment is 4.9e+20\n",
      "Subfault 12: shear modulus 4.0e+10 Pa, seismic moment is 4.1e+20\n",
      "Subfault 13: shear modulus 4.0e+10 Pa, seismic moment is 1.0e+20\n",
      "Subfault 14: shear modulus 4.0e+10 Pa, seismic moment is 1.0e+20\n",
      "Subfault 15: shear modulus 4.0e+10 Pa, seismic moment is 1.5e+19\n",
      "Subfault 16: shear modulus 4.0e+10 Pa, seismic moment is 1.2e+20\n",
      "Subfault 17: shear modulus 4.0e+10 Pa, seismic moment is 1.9e+20\n",
      "Subfault 18: shear modulus 4.0e+10 Pa, seismic moment is 9.2e+19\n",
      "Subfault 19: shear modulus 4.0e+10 Pa, seismic moment is 2.7e+19\n",
      "Subfault 20: shear modulus 4.0e+10 Pa, seismic moment is 2.6e+20\n",
      "Subfault 21: shear modulus 4.0e+10 Pa, seismic moment is 1.7e+19\n",
      "Subfault 22: shear modulus 4.0e+10 Pa, seismic moment is 3.9e+20\n",
      "Subfault 23: shear modulus 4.0e+10 Pa, seismic moment is 6.3e+20\n",
      "Subfault 24: shear modulus 4.0e+10 Pa, seismic moment is 9.4e+20\n",
      "Subfault 25: shear modulus 4.0e+10 Pa, seismic moment is 1.3e+21\n",
      "Subfault 26: shear modulus 4.0e+10 Pa, seismic moment is 1.0e+21\n",
      "Subfault 27: shear modulus 4.0e+10 Pa, seismic moment is 1.4e+21\n",
      "Subfault 28: shear modulus 4.0e+10 Pa, seismic moment is 1.2e+21\n",
      "Subfault 29: shear modulus 4.0e+10 Pa, seismic moment is 1.1e+21\n",
      "Subfault 30: shear modulus 4.0e+10 Pa, seismic moment is 8.5e+20\n",
      "Subfault 31: shear modulus 4.0e+10 Pa, seismic moment is 2.4e+20\n",
      "Subfault 32: shear modulus 4.0e+10 Pa, seismic moment is 2.7e+20\n",
      "Subfault 33: shear modulus 4.0e+10 Pa, seismic moment is 1.8e+20\n",
      "Subfault 34: shear modulus 4.0e+10 Pa, seismic moment is 1.4e+20\n",
      "Subfault 35: shear modulus 4.0e+10 Pa, seismic moment is 9.4e+19\n",
      "Subfault 36: shear modulus 4.0e+10 Pa, seismic moment is 1.7e+19\n",
      "Subfault 37: shear modulus 4.0e+10 Pa, seismic moment is 8.5e+19\n",
      "Subfault 38: shear modulus 4.0e+10 Pa, seismic moment is 1.2e+20\n",
      "Subfault 39: shear modulus 4.0e+10 Pa, seismic moment is 3.3e+19\n",
      "Subfault 40: shear modulus 4.0e+10 Pa, seismic moment is 1.3e+20\n",
      "Subfault 41: shear modulus 4.0e+10 Pa, seismic moment is 5.3e+20\n",
      "Subfault 42: shear modulus 4.0e+10 Pa, seismic moment is 5.2e+20\n",
      "Subfault 43: shear modulus 4.0e+10 Pa, seismic moment is 7.3e+20\n",
      "Subfault 44: shear modulus 4.0e+10 Pa, seismic moment is 1.2e+21\n",
      "Subfault 45: shear modulus 4.0e+10 Pa, seismic moment is 1.3e+21\n",
      "Subfault 46: shear modulus 4.0e+10 Pa, seismic moment is 1.2e+21\n",
      "Subfault 47: shear modulus 4.0e+10 Pa, seismic moment is 1.2e+21\n",
      "Subfault 48: shear modulus 4.0e+10 Pa, seismic moment is 8.9e+20\n",
      "Subfault 49: shear modulus 4.0e+10 Pa, seismic moment is 6.7e+20\n",
      "Subfault 50: shear modulus 4.0e+10 Pa, seismic moment is 4.9e+20\n",
      "Subfault 51: shear modulus 4.0e+10 Pa, seismic moment is 1.9e+20\n",
      "Subfault 52: shear modulus 4.0e+10 Pa, seismic moment is 3.2e+20\n",
      "Subfault 53: shear modulus 4.0e+10 Pa, seismic moment is 2.4e+20\n",
      "Subfault 54: shear modulus 4.0e+10 Pa, seismic moment is 3.2e+18\n",
      "Subfault 55: shear modulus 4.0e+10 Pa, seismic moment is 1.0e+19\n",
      "Subfault 56: shear modulus 4.0e+10 Pa, seismic moment is 7.7e+19\n",
      "Subfault 57: shear modulus 4.0e+10 Pa, seismic moment is 5.1e+19\n",
      "Subfault 58: shear modulus 4.0e+10 Pa, seismic moment is 9.9e+18\n",
      "Subfault 59: shear modulus 4.0e+10 Pa, seismic moment is 3.9e+19\n",
      "Subfault 60: shear modulus 4.0e+10 Pa, seismic moment is 3.0e+20\n",
      "Subfault 61: shear modulus 4.0e+10 Pa, seismic moment is 4.9e+20\n",
      "Subfault 62: shear modulus 4.0e+10 Pa, seismic moment is 8.1e+20\n",
      "Subfault 63: shear modulus 4.0e+10 Pa, seismic moment is 8.9e+20\n",
      "Subfault 64: shear modulus 4.0e+10 Pa, seismic moment is 1.0e+21\n",
      "Subfault 65: shear modulus 4.0e+10 Pa, seismic moment is 1.1e+21\n",
      "Subfault 66: shear modulus 4.0e+10 Pa, seismic moment is 8.5e+20\n",
      "Subfault 67: shear modulus 4.0e+10 Pa, seismic moment is 3.3e+20\n",
      "Subfault 68: shear modulus 4.0e+10 Pa, seismic moment is 4.6e+20\n",
      "Subfault 69: shear modulus 4.0e+10 Pa, seismic moment is 1.7e+20\n",
      "Subfault 70: shear modulus 4.0e+10 Pa, seismic moment is 6.0e+19\n",
      "Subfault 71: shear modulus 4.0e+10 Pa, seismic moment is 7.0e+19\n",
      "Subfault 72: shear modulus 4.0e+10 Pa, seismic moment is 1.8e+20\n",
      "Subfault 73: shear modulus 4.0e+10 Pa, seismic moment is 2.6e+20\n",
      "Subfault 74: shear modulus 4.0e+10 Pa, seismic moment is 9.4e+18\n",
      "Subfault 75: shear modulus 4.0e+10 Pa, seismic moment is 1.4e+20\n",
      "Subfault 76: shear modulus 4.0e+10 Pa, seismic moment is 9.9e+18\n",
      "Subfault 77: shear modulus 4.0e+10 Pa, seismic moment is 1.4e+20\n",
      "Subfault 78: shear modulus 4.0e+10 Pa, seismic moment is 6.5e+19\n",
      "Subfault 79: shear modulus 4.0e+10 Pa, seismic moment is 1.3e+20\n",
      "Subfault 80: shear modulus 4.0e+10 Pa, seismic moment is 4.3e+20\n",
      "Subfault 81: shear modulus 4.0e+10 Pa, seismic moment is 3.5e+20\n",
      "Subfault 82: shear modulus 4.0e+10 Pa, seismic moment is 6.5e+20\n",
      "Subfault 83: shear modulus 4.0e+10 Pa, seismic moment is 5.0e+20\n",
      "Subfault 84: shear modulus 4.0e+10 Pa, seismic moment is 5.0e+20\n",
      "Subfault 85: shear modulus 4.0e+10 Pa, seismic moment is 5.7e+20\n",
      "Subfault 86: shear modulus 4.0e+10 Pa, seismic moment is 3.0e+20\n",
      "Subfault 87: shear modulus 4.0e+10 Pa, seismic moment is 1.0e+20\n",
      "Subfault 88: shear modulus 4.0e+10 Pa, seismic moment is 6.7e+19\n",
      "Subfault 89: shear modulus 4.0e+10 Pa, seismic moment is 1.6e+19\n",
      "Subfault 90: shear modulus 4.0e+10 Pa, seismic moment is 1.5e+20\n",
      "Subfault 91: shear modulus 4.0e+10 Pa, seismic moment is 9.3e+19\n",
      "Subfault 92: shear modulus 4.0e+10 Pa, seismic moment is 2.9e+19\n",
      "Subfault 93: shear modulus 4.0e+10 Pa, seismic moment is 1.8e+20\n",
      "Subfault 94: shear modulus 4.0e+10 Pa, seismic moment is 1.1e+20\n",
      "Subfault 95: shear modulus 4.0e+10 Pa, seismic moment is 6.8e+19\n",
      "Subfault 96: shear modulus 4.0e+10 Pa, seismic moment is 6.1e+19\n",
      "Subfault 97: shear modulus 4.0e+10 Pa, seismic moment is 2.0e+19\n",
      "Subfault 98: shear modulus 4.0e+10 Pa, seismic moment is 7.4e+19\n",
      "Subfault 99: shear modulus 4.0e+10 Pa, seismic moment is 9.7e+18\n",
      "Subfault 100: shear modulus 4.0e+10 Pa, seismic moment is 2.1e+20\n",
      "Subfault 101: shear modulus 4.0e+10 Pa, seismic moment is 3.6e+20\n",
      "Subfault 102: shear modulus 4.0e+10 Pa, seismic moment is 2.2e+20\n",
      "Subfault 103: shear modulus 4.0e+10 Pa, seismic moment is 2.8e+20\n",
      "Subfault 104: shear modulus 4.0e+10 Pa, seismic moment is 4.3e+20\n",
      "Subfault 105: shear modulus 4.0e+10 Pa, seismic moment is 2.3e+20\n",
      "Subfault 106: shear modulus 4.0e+10 Pa, seismic moment is 8.9e+19\n",
      "Subfault 107: shear modulus 4.0e+10 Pa, seismic moment is 2.5e+19\n",
      "Subfault 108: shear modulus 4.0e+10 Pa, seismic moment is 1.1e+20\n",
      "Subfault 109: shear modulus 4.0e+10 Pa, seismic moment is 3.5e+19\n",
      "Subfault 110: shear modulus 4.0e+10 Pa, seismic moment is 2.6e+19\n",
      "Subfault 111: shear modulus 4.0e+10 Pa, seismic moment is 4.2e+19\n",
      "Subfault 112: shear modulus 4.0e+10 Pa, seismic moment is 9.7e+19\n",
      "Subfault 113: shear modulus 4.0e+10 Pa, seismic moment is 6.9e+19\n",
      "Subfault 114: shear modulus 4.0e+10 Pa, seismic moment is 8.1e+19\n"
     ]
    },
    {
     "name": "stderr",
     "output_type": "stream",
     "text": [
      "Subfault 115: shear modulus 4.0e+10 Pa, seismic moment is 2.2e+20\n",
      "Subfault 116: shear modulus 4.0e+10 Pa, seismic moment is 1.9e+20\n",
      "Subfault 117: shear modulus 4.0e+10 Pa, seismic moment is 6.0e+18\n",
      "Subfault 118: shear modulus 4.0e+10 Pa, seismic moment is 1.8e+19\n",
      "Subfault 119: shear modulus 4.0e+10 Pa, seismic moment is 2.1e+20\n",
      "Subfault 120: shear modulus 4.0e+10 Pa, seismic moment is 1.1e+20\n",
      "Subfault 121: shear modulus 4.0e+10 Pa, seismic moment is 1.9e+20\n",
      "Subfault 122: shear modulus 4.0e+10 Pa, seismic moment is 4.0e+20\n",
      "Subfault 123: shear modulus 4.0e+10 Pa, seismic moment is 3.6e+20\n",
      "Subfault 124: shear modulus 4.0e+10 Pa, seismic moment is 3.7e+20\n",
      "Subfault 125: shear modulus 4.0e+10 Pa, seismic moment is 2.2e+20\n",
      "Subfault 126: shear modulus 4.0e+10 Pa, seismic moment is 2.2e+20\n",
      "Subfault 127: shear modulus 4.0e+10 Pa, seismic moment is 2.5e+20\n",
      "Subfault 128: shear modulus 4.0e+10 Pa, seismic moment is 1.7e+19\n",
      "Subfault 129: shear modulus 4.0e+10 Pa, seismic moment is 1.4e+20\n",
      "Subfault 130: shear modulus 4.0e+10 Pa, seismic moment is 7.1e+19\n",
      "Subfault 131: shear modulus 4.0e+10 Pa, seismic moment is 1.4e+19\n",
      "Subfault 132: shear modulus 4.0e+10 Pa, seismic moment is 1.3e+19\n",
      "Subfault 133: shear modulus 4.0e+10 Pa, seismic moment is 1.4e+20\n",
      "Subfault 134: shear modulus 4.0e+10 Pa, seismic moment is 2.5e+20\n",
      "Subfault 135: shear modulus 4.0e+10 Pa, seismic moment is 2.4e+20\n",
      "Subfault 136: shear modulus 4.0e+10 Pa, seismic moment is 3.4e+19\n",
      "Subfault 137: shear modulus 4.0e+10 Pa, seismic moment is 9.9e+19\n",
      "Subfault 138: shear modulus 4.0e+10 Pa, seismic moment is 7.5e+19\n",
      "Subfault 139: shear modulus 4.0e+10 Pa, seismic moment is 1.7e+20\n",
      "Subfault 140: shear modulus 4.0e+10 Pa, seismic moment is 4.3e+20\n",
      "Subfault 141: shear modulus 4.0e+10 Pa, seismic moment is 5.5e+20\n",
      "Subfault 142: shear modulus 4.0e+10 Pa, seismic moment is 4.7e+20\n",
      "Subfault 143: shear modulus 4.0e+10 Pa, seismic moment is 3.0e+20\n",
      "Subfault 144: shear modulus 4.0e+10 Pa, seismic moment is 1.0e+20\n",
      "Subfault 145: shear modulus 4.0e+10 Pa, seismic moment is 1.4e+20\n",
      "Subfault 146: shear modulus 4.0e+10 Pa, seismic moment is 5.5e+18\n",
      "Subfault 147: shear modulus 4.0e+10 Pa, seismic moment is 6.0e+19\n",
      "Subfault 148: shear modulus 4.0e+10 Pa, seismic moment is 9.6e+19\n",
      "Subfault 149: shear modulus 4.0e+10 Pa, seismic moment is 2.6e+20\n",
      "Subfault 150: shear modulus 4.0e+10 Pa, seismic moment is 2.8e+20\n",
      "Subfault 151: shear modulus 4.0e+10 Pa, seismic moment is 6.1e+19\n",
      "Subfault 152: shear modulus 4.0e+10 Pa, seismic moment is 1.8e+20\n",
      "Subfault 153: shear modulus 4.0e+10 Pa, seismic moment is 3.7e+20\n",
      "Subfault 154: shear modulus 4.0e+10 Pa, seismic moment is 3.4e+20\n",
      "Subfault 155: shear modulus 4.0e+10 Pa, seismic moment is 1.2e+19\n",
      "Subfault 156: shear modulus 4.0e+10 Pa, seismic moment is 6.6e+19\n",
      "Subfault 157: shear modulus 4.0e+10 Pa, seismic moment is 6.0e+19\n",
      "Subfault 158: shear modulus 4.0e+10 Pa, seismic moment is 1.0e+20\n",
      "Subfault 159: shear modulus 4.0e+10 Pa, seismic moment is 1.9e+20\n",
      "Subfault 160: shear modulus 4.0e+10 Pa, seismic moment is 3.5e+20\n",
      "Subfault 161: shear modulus 4.0e+10 Pa, seismic moment is 1.5e+20\n",
      "Subfault 162: shear modulus 4.0e+10 Pa, seismic moment is 2.7e+20\n",
      "Subfault 163: shear modulus 4.0e+10 Pa, seismic moment is 1.2e+20\n",
      "Subfault 164: shear modulus 4.0e+10 Pa, seismic moment is 2.2e+19\n",
      "Subfault 165: shear modulus 4.0e+10 Pa, seismic moment is 1.4e+20\n",
      "Subfault 166: shear modulus 4.0e+10 Pa, seismic moment is 1.6e+19\n",
      "Subfault 167: shear modulus 4.0e+10 Pa, seismic moment is 8.3e+19\n",
      "Subfault 168: shear modulus 4.0e+10 Pa, seismic moment is 4.2e+19\n",
      "Subfault 169: shear modulus 4.0e+10 Pa, seismic moment is 2.7e+20\n",
      "Subfault 170: shear modulus 4.0e+10 Pa, seismic moment is 1.2e+20\n",
      "Subfault 171: shear modulus 4.0e+10 Pa, seismic moment is 8.6e+19\n",
      "Subfault 172: shear modulus 4.0e+10 Pa, seismic moment is 2.6e+19\n",
      "Subfault 173: shear modulus 4.0e+10 Pa, seismic moment is 8.3e+19\n",
      "Subfault 174: shear modulus 4.0e+10 Pa, seismic moment is 1.2e+19\n",
      "Subfault 175: shear modulus 4.0e+10 Pa, seismic moment is 3.5e+19\n",
      "Subfault 176: shear modulus 4.0e+10 Pa, seismic moment is 1.1e+20\n",
      "Subfault 177: shear modulus 4.0e+10 Pa, seismic moment is 2.5e+20\n",
      "Subfault 178: shear modulus 4.0e+10 Pa, seismic moment is 1.0e+20\n",
      "Subfault 179: shear modulus 4.0e+10 Pa, seismic moment is 4.3e+19\n",
      "Subfault 180: shear modulus 4.0e+10 Pa, seismic moment is 7.0e+19\n",
      "Subfault 181: shear modulus 4.0e+10 Pa, seismic moment is 7.0e+19\n",
      "Subfault 182: shear modulus 4.0e+10 Pa, seismic moment is 6.8e+19\n",
      "Subfault 183: shear modulus 4.0e+10 Pa, seismic moment is 4.3e+19\n",
      "Subfault 184: shear modulus 4.0e+10 Pa, seismic moment is 4.8e+19\n",
      "Subfault 185: shear modulus 4.0e+10 Pa, seismic moment is 9.9e+19\n",
      "Subfault 186: shear modulus 4.0e+10 Pa, seismic moment is 2.4e+20\n",
      "Subfault 187: shear modulus 4.0e+10 Pa, seismic moment is 7.0e+19\n",
      "Subfault 188: shear modulus 4.0e+10 Pa, seismic moment is 1.9e+20\n",
      "Subfault 189: shear modulus 4.0e+10 Pa, seismic moment is 1.7e+20\n",
      "SETUP: Creating topography using Okada model...\n"
     ]
    },
    {
     "name": "stdout",
     "output_type": "stream",
     "text": [
      "created topography for subfault 1/190 (1.2 seconds)\n",
      "created topography for subfault 11/190 (8.5 seconds)\n",
      "created topography for subfault 21/190 (8.3 seconds)\n",
      "created topography for subfault 31/190 (8.7 seconds)\n",
      "created topography for subfault 41/190 (9.2 seconds)\n",
      "created topography for subfault 51/190 (8.5 seconds)\n",
      "created topography for subfault 61/190 (8.7 seconds)\n",
      "created topography for subfault 71/190 (9.0 seconds)\n",
      "created topography for subfault 81/190 (8.7 seconds)\n",
      "created topography for subfault 91/190 (8.9 seconds)\n",
      "created topography for subfault 101/190 (8.8 seconds)\n",
      "created topography for subfault 111/190 (8.7 seconds)\n",
      "created topography for subfault 121/190 (9.1 seconds)\n",
      "created topography for subfault 131/190 (8.5 seconds)\n",
      "created topography for subfault 141/190 (8.8 seconds)\n",
      "created topography for subfault 151/190 (9.0 seconds)\n",
      "created topography for subfault 161/190 (9.0 seconds)\n",
      "created topography for subfault 171/190 (8.6 seconds)\n",
      "created topography for subfault 181/190 (8.9 seconds)\n"
     ]
    },
    {
     "name": "stderr",
     "output_type": "stream",
     "text": [
      "Fault corresponds to an earthquake with moment magnitude 9.1e+00\n",
      "INIT: Subtracting initial surface from bathymetry field...\n",
      "INIT: Interpolating bathymetry...\n",
      "INIT: Capping bathymetry...\n"
     ]
    }
   ],
   "source": [
    "tape_tag = 0\n",
    "swp = AdaptiveProblem(op_opt, nonlinear=False, print_progress=False)\n",
    "swp.set_initial_condition(annotate_source=True, tag=tape_tag)"
   ]
  },
  {
   "cell_type": "code",
   "execution_count": 21,
   "metadata": {},
   "outputs": [],
   "source": [
    "lonlat_corners = [\n",
    "    (kwargs['okada_grid_lon_min'], kwargs['okada_grid_lat_min']),\n",
    "    (kwargs['okada_grid_lon_max'], kwargs['okada_grid_lat_min']),\n",
    "    (kwargs['okada_grid_lon_min'], kwargs['okada_grid_lat_max']),\n",
    "]\n",
    "utm_corners = [lonlat_to_utm(*corner, 54) for corner in lonlat_corners]\n",
    "xlim = [utm_corners[0][0], utm_corners[1][0]]\n",
    "ylim = [utm_corners[0][1], utm_corners[2][1]]"
   ]
  },
  {
   "cell_type": "code",
   "execution_count": 22,
   "metadata": {},
   "outputs": [
    {
     "data": {
      "image/png": "[encoded data removed]",
      "text/plain": [
       "<Figure size 432x432 with 2 Axes>"
      ]
     },
     "metadata": {
      "needs_background": "light"
     },
     "output_type": "display_data"
    }
   ],
   "source": [
    "fig, axes = plt.subplots(figsize=(6, 6))\n",
    "eta = swp.fwd_solutions[0].split()[1].copy(deepcopy=True)\n",
    "fig.colorbar(tricontourf(eta, axes=axes, cmap='coolwarm', levels=50), ax=axes);\n",
    "axes.axis(False);\n",
    "axes.set_title(\"Perturbed source\");\n",
    "axes.set_xlim(xlim);\n",
    "axes.set_ylim(ylim);"
   ]
  },
  {
   "cell_type": "code",
   "execution_count": 12,
   "metadata": {},
   "outputs": [],
   "source": [
    "op_opt.get_input_vector()\n",
    "op_opt.get_seed_matrices();"
   ]
  },
  {
   "cell_type": "code",
   "execution_count": 13,
   "metadata": {},
   "outputs": [],
   "source": [
    "N = len(op_opt.indices)"
   ]
  },
  {
   "cell_type": "markdown",
   "metadata": {},
   "source": [
    "## Test forward propagation"
   ]
  },
  {
   "cell_type": "code",
   "execution_count": 14,
   "metadata": {},
   "outputs": [],
   "source": [
    "F = adolc.zos_forward(tape_tag, op_opt.input_vector, keep=0)"
   ]
  },
  {
   "cell_type": "code",
   "execution_count": 15,
   "metadata": {},
   "outputs": [],
   "source": [
    "F = F.reshape(190, N)\n",
    "F = np.sum(F, axis=0)\n",
    "dZ_pert = op_opt.fault.dtopo.dZ.reshape(F.shape)\n",
    "assert np.allclose(dZ_pert, F)"
   ]
  },
  {
   "cell_type": "markdown",
   "metadata": {},
   "source": [
    "## Test forward mode differentation"
   ]
  },
  {
   "cell_type": "code",
   "execution_count": 16,
   "metadata": {},
   "outputs": [],
   "source": [
    "F, dFdm = adolc.fov_forward(tape_tag, op_opt.input_vector, op_opt.seed_matrices)"
   ]
  },
  {
   "cell_type": "code",
   "execution_count": 17,
   "metadata": {},
   "outputs": [
    {
     "name": "stdout",
     "output_type": "stream",
     "text": [
      "(190, 2742, 4)\n"
     ]
    }
   ],
   "source": [
    "F = F.reshape(190, N)\n",
    "F = np.sum(F, axis=0)\n",
    "assert np.allclose(dZ_pert, F)\n",
    "dFdm = dFdm.reshape(190, N, 4)\n",
    "print(dFdm.shape)"
   ]
  },
  {
   "cell_type": "code",
   "execution_count": 29,
   "metadata": {},
   "outputs": [
    {
     "data": {
      "image/png": "[encoded data removed]",
      "text/plain": [
       "<Figure size 1152x288 with 6 Axes>"
      ]
     },
     "metadata": {
      "needs_background": "light"
     },
     "output_type": "display_data"
    }
   ],
   "source": [
    "fig, axes = plt.subplots(ncols=3, figsize=(16, 4))\n",
    "X = op.fault.dtopo.X\n",
    "Y = op.fault.dtopo.Y\n",
    "dZ = op.fault.dtopo.dZ.reshape(N)\n",
    "dZ_pert = op_opt.fault.dtopo.dZ.reshape(N)\n",
    "fig.colorbar(axes[0].tricontourf(X, Y, dZ, **plotting_kwargs), ax=axes[0]);\n",
    "axes[0].set_title(\"Original source\");\n",
    "fig.colorbar(axes[1].tricontourf(X, Y, dZ_pert, **plotting_kwargs), ax=axes[1]);\n",
    "axes[1].set_title(\"Perturbed source\");\n",
    "fig.colorbar(axes[2].tricontourf(X, Y, F, **plotting_kwargs), ax=axes[2]);\n",
    "axes[2].set_title(\"Perturbed source by unrolling tape\");\n",
    "eps = 0.5\n",
    "for ax in axes:\n",
    "    ax.set_xlim([lonlat_corners[0][0]-eps, lonlat_corners[1][0]+eps])\n",
    "    ax.set_ylim([lonlat_corners[0][1]-eps, lonlat_corners[2][1]+eps])"
   ]
  },
  {
   "cell_type": "code",
   "execution_count": null,
   "metadata": {},
   "outputs": [],
   "source": []
  }
 ],
 "metadata": {
  "kernelspec": {
   "display_name": "Python 3",
   "language": "python",
   "name": "python3"
  },
  "language_info": {
   "codemirror_mode": {
    "name": "ipython",
    "version": 3
   },
   "file_extension": ".py",
   "mimetype": "text/x-python",
   "name": "python",
   "nbconvert_exporter": "python",
   "pygments_lexer": "ipython3",
   "version": "3.6.9"
  }
 },
 "nbformat": 4,
 "nbformat_minor": 4
}
