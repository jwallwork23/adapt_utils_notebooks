{
 "cells": [
  {
   "cell_type": "code",
   "execution_count": 1,
   "metadata": {},
   "outputs": [],
   "source": [
    "%matplotlib inline"
   ]
  },
  {
   "cell_type": "code",
   "execution_count": 2,
   "metadata": {},
   "outputs": [],
   "source": [
    "from thetis import *"
   ]
  },
  {
   "cell_type": "code",
   "execution_count": 3,
   "metadata": {},
   "outputs": [],
   "source": [
    "import matplotlib.pyplot as plt\n",
    "import numpy as np"
   ]
  },
  {
   "cell_type": "code",
   "execution_count": 4,
   "metadata": {},
   "outputs": [],
   "source": [
    "from adapt_utils.case_studies.tohoku.options.okada_options import TohokuOkadaBasisOptions\n",
    "from adapt_utils.case_studies.tohoku.options.radial_options import TohokuRadialBasisOptions"
   ]
  },
  {
   "cell_type": "code",
   "execution_count": 5,
   "metadata": {},
   "outputs": [],
   "source": [
    "from adapt_utils.unsteady.solver import AdaptiveProblem"
   ]
  },
  {
   "cell_type": "markdown",
   "metadata": {},
   "source": [
    "We want to project into the Okada basis defined by varying slip and rake parameters.\n",
    "However, if slip is everywhere zero then rake is also everywhere zero, meaning we cannot construct basis functions in the usual way.\n",
    "Instead, we start by fixing rake at zero and solving only for slip.\n",
    "Having solved for slip, we hold it fixed and solve for rake."
   ]
  },
  {
   "cell_type": "code",
   "execution_count": 6,
   "metadata": {},
   "outputs": [
    {
     "name": "stderr",
     "output_type": "stream",
     "text": [
      "WARNING: Cannot check validity of coordinates.\n"
     ]
    }
   ],
   "source": [
    "level = 1\n",
    "kwargs = {\n",
    "    'level': level,\n",
    "    'okada_grid_lon_min': 140,\n",
    "    'okada_grid_lon_max': 145,\n",
    "    'okada_grid_lat_min': 35,\n",
    "    'okada_grid_lat_max': 41,\n",
    "}\n",
    "op = TohokuOkadaBasisOptions(**kwargs)"
   ]
  },
  {
   "cell_type": "markdown",
   "metadata": {},
   "source": [
    "## Get slip basis functions (with zero rake)"
   ]
  },
  {
   "cell_type": "code",
   "execution_count": 7,
   "metadata": {},
   "outputs": [],
   "source": [
    "op.control_parameters['rake'] = np.zeros(190)"
   ]
  },
  {
   "cell_type": "code",
   "execution_count": 8,
   "metadata": {},
   "outputs": [],
   "source": [
    "op.active_controls = ('slip', )"
   ]
  },
  {
   "cell_type": "code",
   "execution_count": 9,
   "metadata": {},
   "outputs": [
    {
     "name": "stderr",
     "output_type": "stream",
     "text": [
      "INIT: Assembling Okada basis function array...\n"
     ]
    }
   ],
   "source": [
    "phi = [bf.split()[1] for bf in op.basis_functions['slip']]"
   ]
  },
  {
   "cell_type": "code",
   "execution_count": 10,
   "metadata": {},
   "outputs": [],
   "source": [
    "assert np.array([np.linalg.norm(phi_i.dat.data) for phi_i in phi]).min() > 0"
   ]
  },
  {
   "cell_type": "markdown",
   "metadata": {},
   "source": [
    "## Define the target image"
   ]
  },
  {
   "cell_type": "code",
   "execution_count": 11,
   "metadata": {},
   "outputs": [],
   "source": [
    "op_src = TohokuRadialBasisOptions(mesh=op.default_mesh, nx=1, ny=1, control_parameters=[6], level=level)\n",
    "swp_src = AdaptiveProblem(op_src)\n",
    "swp_src.set_initial_condition()\n",
    "f_src = swp_src.fwd_solutions[0].split()[1]\n",
    "del swp_src\n",
    "del op_src"
   ]
  },
  {
   "cell_type": "markdown",
   "metadata": {},
   "source": [
    "## Assemble RHS for slip solve"
   ]
  },
  {
   "cell_type": "code",
   "execution_count": 12,
   "metadata": {},
   "outputs": [],
   "source": [
    "b = np.zeros(190)\n",
    "for i in range(190):\n",
    "    b[i] = assemble(f_src*phi[i]*dx)"
   ]
  },
  {
   "cell_type": "markdown",
   "metadata": {},
   "source": [
    "## Solve for slip"
   ]
  },
  {
   "cell_type": "code",
   "execution_count": 13,
   "metadata": {},
   "outputs": [],
   "source": [
    "swp = AdaptiveProblem(op)"
   ]
  },
  {
   "cell_type": "code",
   "execution_count": 14,
   "metadata": {},
   "outputs": [],
   "source": [
    "N = 190\n",
    "A = np.zeros((N, N))\n",
    "for i in range(N):\n",
    "    for j in range(i+1):\n",
    "        A[i, j] = assemble(phi[i]*phi[j]*dx)\n",
    "for i in range(N):\n",
    "    for j in range(i+1, N):\n",
    "        A[i, j] = A[j, i]"
   ]
  },
  {
   "cell_type": "code",
   "execution_count": 15,
   "metadata": {},
   "outputs": [],
   "source": [
    "op.control_parameters['slip'] = np.linalg.solve(A, b)"
   ]
  },
  {
   "cell_type": "code",
   "execution_count": 16,
   "metadata": {},
   "outputs": [],
   "source": [
    "surf = op.set_initial_condition(swp)"
   ]
  },
  {
   "cell_type": "code",
   "execution_count": 17,
   "metadata": {},
   "outputs": [
    {
     "data": {
      "image/png": "[encoded data removed]",
      "text/plain": [
       "<Figure size 576x576 with 2 Axes>"
      ]
     },
     "metadata": {
      "needs_background": "light"
     },
     "output_type": "display_data"
    }
   ],
   "source": [
    "fig, axes = plt.subplots(figsize=(8, 8))\n",
    "fig.colorbar(tricontourf(surf, cmap='coolwarm', levels=50, axes=axes), ax=axes)\n",
    "axes.axis(False);"
   ]
  },
  {
   "cell_type": "markdown",
   "metadata": {},
   "source": [
    "## Get rake basis functions"
   ]
  },
  {
   "cell_type": "code",
   "execution_count": 18,
   "metadata": {},
   "outputs": [],
   "source": [
    "op.active_controls = ('rake', )"
   ]
  },
  {
   "cell_type": "code",
   "execution_count": 19,
   "metadata": {},
   "outputs": [
    {
     "name": "stderr",
     "output_type": "stream",
     "text": [
      "INIT: Assembling Okada basis function array...\n"
     ]
    }
   ],
   "source": [
    "phi = [bf.split()[1] for bf in op.basis_functions['rake']]"
   ]
  },
  {
   "cell_type": "code",
   "execution_count": 20,
   "metadata": {},
   "outputs": [],
   "source": [
    "assert np.array([np.linalg.norm(phi_i.dat.data) for phi_i in phi]).min() > 0"
   ]
  },
  {
   "cell_type": "markdown",
   "metadata": {},
   "source": [
    "## Assemble RHS for rake solve"
   ]
  },
  {
   "cell_type": "code",
   "execution_count": 21,
   "metadata": {},
   "outputs": [],
   "source": [
    "b = np.zeros(190)\n",
    "for i in range(190):\n",
    "    b[i] = assemble(f_src*phi[i]*dx)"
   ]
  },
  {
   "cell_type": "markdown",
   "metadata": {},
   "source": [
    "## Solve for rake"
   ]
  },
  {
   "cell_type": "code",
   "execution_count": 22,
   "metadata": {},
   "outputs": [],
   "source": [
    "for i in range(N):\n",
    "    for j in range(i+1):\n",
    "        A[i, j] = assemble(phi[i]*phi[j]*dx)\n",
    "for i in range(N):\n",
    "    for j in range(i+1, N):\n",
    "        A[i, j] = A[j, i]"
   ]
  },
  {
   "cell_type": "code",
   "execution_count": 23,
   "metadata": {},
   "outputs": [],
   "source": [
    "op.control_parameters['rake'] = np.linalg.solve(A, b)"
   ]
  },
  {
   "cell_type": "code",
   "execution_count": 24,
   "metadata": {},
   "outputs": [],
   "source": [
    "surf = op.set_initial_condition(swp)"
   ]
  },
  {
   "cell_type": "code",
   "execution_count": 25,
   "metadata": {},
   "outputs": [
    {
     "data": {
      "image/png": "[encoded data removed]",
      "text/plain": [
       "<Figure size 576x576 with 2 Axes>"
      ]
     },
     "metadata": {
      "needs_background": "light"
     },
     "output_type": "display_data"
    }
   ],
   "source": [
    "fig, axes = plt.subplots(figsize=(8, 8))\n",
    "fig.colorbar(tricontourf(surf, cmap='coolwarm', levels=50, axes=axes), ax=axes)\n",
    "axes.axis(False);"
   ]
  },
  {
   "cell_type": "code",
   "execution_count": null,
   "metadata": {},
   "outputs": [],
   "source": []
  }
 ],
 "metadata": {
  "kernelspec": {
   "display_name": "Python 3",
   "language": "python",
   "name": "python3"
  },
  "language_info": {
   "codemirror_mode": {
    "name": "ipython",
    "version": 3
   },
   "file_extension": ".py",
   "mimetype": "text/x-python",
   "name": "python",
   "nbconvert_exporter": "python",
   "pygments_lexer": "ipython3",
   "version": "3.6.9"
  }
 },
 "nbformat": 4,
 "nbformat_minor": 4
}
