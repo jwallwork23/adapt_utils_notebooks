{
 "cells": [
  {
   "cell_type": "code",
   "execution_count": 1,
   "metadata": {},
   "outputs": [],
   "source": [
    "%matplotlib inline"
   ]
  },
  {
   "cell_type": "code",
   "execution_count": 2,
   "metadata": {},
   "outputs": [],
   "source": [
    "from thetis import *\n",
    "from firedrake_adjoint import *"
   ]
  },
  {
   "cell_type": "code",
   "execution_count": 3,
   "metadata": {},
   "outputs": [],
   "source": [
    "import adolc\n",
    "import matplotlib.pyplot as plt\n",
    "import numpy as np"
   ]
  },
  {
   "cell_type": "code",
   "execution_count": 4,
   "metadata": {},
   "outputs": [],
   "source": [
    "from adapt_utils.case_studies.tohoku.options.okada_options import TohokuOkadaBasisOptions\n",
    "from adapt_utils.optimisation import taylor_test\n",
    "from adapt_utils.unsteady.solver import AdaptiveProblem\n",
    "from adapt_utils.unsteady.solver_adjoint import AdaptiveDiscreteAdjointProblem\n",
    "from adapt_utils.unsteady.swe.tsunami.conversion import lonlat_to_utm"
   ]
  },
  {
   "cell_type": "code",
   "execution_count": 5,
   "metadata": {},
   "outputs": [],
   "source": [
    "lonlat_corners = [(138, 32), (148, 42), (138, 42)]\n",
    "utm_corners = [lonlat_to_utm(*corner, 54) for corner in lonlat_corners]\n",
    "xlim = [utm_corners[0][0], utm_corners[1][0]]\n",
    "ylim = [utm_corners[0][1], utm_corners[2][1]]"
   ]
  },
  {
   "cell_type": "markdown",
   "metadata": {},
   "source": [
    "# Taylor test for the gradient of timeseries misfit w.r.t. Okada parameters\n",
    "\n",
    "In the previous notebook we computed the gradient using a propagation through the forward mode of AD for the Okada model.\n",
    "Here we propagate unity through the reverse mode of AD for both models and perform a Taylor test."
   ]
  },
  {
   "cell_type": "markdown",
   "metadata": {},
   "source": [
    "### Initialisation\n",
    "\n",
    "Set parameters and create a `TohokuOkadaBasisOptions` object to hold them"
   ]
  },
  {
   "cell_type": "code",
   "execution_count": 6,
   "metadata": {},
   "outputs": [],
   "source": [
    "kwargs = {\n",
    "    \n",
    "    # Tsunami propagation model\n",
    "    'level': 0,\n",
    "    'synthetic': True,\n",
    "    'plot_pvd': False,\n",
    "    'save_timeseries': True,\n",
    "    'family': 'dg-cg',\n",
    "    'stabilisation': None,\n",
    "    \n",
    "    # Okada model\n",
    "    'okada_grid_lon_min': 140,\n",
    "    'okada_grid_lon_max': 145,\n",
    "    'okada_grid_lat_min': 35,\n",
    "    'okada_grid_lat_max': 41,\n",
    "    \n",
    "    'debug': False,\n",
    "}\n",
    "nonlinear = False\n",
    "print_progress = False"
   ]
  },
  {
   "cell_type": "code",
   "execution_count": 7,
   "metadata": {},
   "outputs": [],
   "source": [
    "# active_controls = ('slip', 'rake', 'strike', 'dip')\n",
    "active_controls = ('slip', 'rake')"
   ]
  },
  {
   "cell_type": "code",
   "execution_count": 8,
   "metadata": {},
   "outputs": [
    {
     "name": "stderr",
     "output_type": "stream",
     "text": [
      "WARNING: Cannot check validity of coordinates.\n"
     ]
    }
   ],
   "source": [
    "op_data = TohokuOkadaBasisOptions(**kwargs)\n",
    "op_data.active_controls = active_controls"
   ]
  },
  {
   "cell_type": "markdown",
   "metadata": {},
   "source": [
    "### Get timeseries data\n",
    "\n",
    "We use a 'synthetic' approach whereby 'the truth' is given by timeseries extracted from a model run with some Okada parameters."
   ]
  },
  {
   "cell_type": "code",
   "execution_count": 9,
   "metadata": {},
   "outputs": [],
   "source": [
    "with stop_annotating():\n",
    "    swp = AdaptiveProblem(op_data, nonlinear=nonlinear, print_progress=print_progress)\n",
    "    swp.solve_forward()  # NOTE: pyadolc annotation is also off\n",
    "    for gauge in op_data.gauges:\n",
    "        op_data.gauges[gauge][\"data\"] = op_data.gauges[gauge][\"timeseries\"]"
   ]
  },
  {
   "cell_type": "markdown",
   "metadata": {},
   "source": [
    "Perturb the control parameters with some Normal random noise so that the source is different from that used to generate the gauge timeseries data."
   ]
  },
  {
   "cell_type": "code",
   "execution_count": 10,
   "metadata": {},
   "outputs": [],
   "source": [
    "kwargs['control_parameters'] = op_data.control_parameters\n",
    "mu = 0\n",
    "sigma = 5\n",
    "for control in op_data.active_controls:\n",
    "    size = np.shape(op_data.control_parameters[control])\n",
    "    kwargs['control_parameters'][control] += np.random.normal(loc=mu, scale=sigma, size=size)"
   ]
  },
  {
   "cell_type": "code",
   "execution_count": 11,
   "metadata": {},
   "outputs": [
    {
     "name": "stderr",
     "output_type": "stream",
     "text": [
      "WARNING: Cannot check validity of coordinates.\n"
     ]
    }
   ],
   "source": [
    "op_pert = TohokuOkadaBasisOptions(**kwargs)\n",
    "op_pert.active_controls = active_controls\n",
    "for gauge in op_pert.gauges:\n",
    "    op_pert.gauges[gauge][\"data\"] = op_data.gauges[gauge][\"data\"]"
   ]
  },
  {
   "cell_type": "markdown",
   "metadata": {},
   "source": [
    "### Annotate the source model\n",
    "\n",
    "When setting the free surface initial condition using the Okada model, we tell `pyadolc` to annotate its tape."
   ]
  },
  {
   "cell_type": "code",
   "execution_count": 12,
   "metadata": {},
   "outputs": [],
   "source": [
    "tape_tag = 0\n",
    "swp = AdaptiveDiscreteAdjointProblem(op_pert, nonlinear=nonlinear, print_progress=print_progress)\n",
    "swp.set_initial_condition(annotate_source=True, tag=tape_tag, separate_faults=False)"
   ]
  },
  {
   "cell_type": "code",
   "execution_count": 13,
   "metadata": {},
   "outputs": [
    {
     "data": {
      "text/plain": [
       "{'NUM_INDEPENDENTS': 380,\n",
       " 'NUM_DEPENDENTS': 752,\n",
       " 'NUM_MAX_LIVES': 262144,\n",
       " 'TAY_STACK_SIZE': 0,\n",
       " 'OP_BUFFER_SIZE': 50000000,\n",
       " 'NUM_OPERATIONS': 575687,\n",
       " 'OP_FILE_ACCESS': 0,\n",
       " 'NUM_LOCATIONS': 1435288,\n",
       " 'LOC_FILE_ACCESS': 0,\n",
       " 'NUM_VALUES': 286900,\n",
       " 'VAL_FILE_ACCESS': 0,\n",
       " 'LOC_BUFFER_SIZE': 50000000,\n",
       " 'VAL_BUFFER_SIZE': 50000000,\n",
       " 'TAY_BUFFER_SIZE': 50000000}"
      ]
     },
     "execution_count": 13,
     "metadata": {},
     "output_type": "execute_result"
    }
   ],
   "source": [
    "adolc.tapestats(tape_tag)"
   ]
  },
  {
   "cell_type": "markdown",
   "metadata": {},
   "source": [
    "### Annotate the tsunami model\n",
    "\n",
    "Now `pyadjoint` annotates its tape."
   ]
  },
  {
   "cell_type": "code",
   "execution_count": 14,
   "metadata": {},
   "outputs": [
    {
     "name": "stdout",
     "output_type": "stream",
     "text": [
      "QoI: 1.6274e+05\n"
     ]
    }
   ],
   "source": [
    "init_pert = swp.fwd_solutions[0].copy(deepcopy=True)\n",
    "source_control = Control(swp.fwd_solutions[0])\n",
    "swp.setup_solver_forward_step(0)\n",
    "swp.solve_forward_step(0)\n",
    "J_pert = op_pert.J\n",
    "print(\"QoI: {:.4e}\".format(J_pert))"
   ]
  },
  {
   "cell_type": "code",
   "execution_count": 15,
   "metadata": {},
   "outputs": [],
   "source": [
    "m_init = op_pert.input_vector\n",
    "controls_pert = op_pert.control_parameters.copy()"
   ]
  },
  {
   "cell_type": "markdown",
   "metadata": {},
   "source": [
    "### Reduced functional\n",
    "\n",
    "Create a `pyadjoint` `ReducedFunctional`."
   ]
  },
  {
   "cell_type": "code",
   "execution_count": 16,
   "metadata": {},
   "outputs": [],
   "source": [
    "Jhat = ReducedFunctional(swp.op.J, source_control)"
   ]
  },
  {
   "cell_type": "code",
   "execution_count": 17,
   "metadata": {},
   "outputs": [],
   "source": [
    "stop_annotating();"
   ]
  },
  {
   "cell_type": "code",
   "execution_count": 18,
   "metadata": {},
   "outputs": [],
   "source": [
    "def reduced_functional(m):\n",
    "    \"\"\"\n",
    "    Given a vector of control parameters `m`:\n",
    "      1. run the Okada model to generate the corresponding dislocation field;\n",
    "      2. set an initial ocean free surface displacement from the dislocation field;\n",
    "      3. run the tsunami propagation model by traversing the pyadjoint tape.\n",
    "      \n",
    "    :return: the corresponding square timeseries error misfit functional value.\n",
    "    \"\"\"\n",
    "    op = swp.op\n",
    "    num_subfaults = len(op.subfaults)\n",
    "    num_active_controls = len(op.active_controls)\n",
    "    \n",
    "    if isinstance(m, Function):\n",
    "        print_output(\"Setting initial condition directly...\")\n",
    "        swp.fwd_solutions[0].assign(m)\n",
    "    else:\n",
    "        print_output(\"Unrolling PyADOL-C's tape...\")\n",
    "        op.set_initial_condition(swp, unroll_tape=True, separate_faults=False)\n",
    "        \n",
    "    # Update the initial condition data stored in the ReducedFunctional object\n",
    "    init = swp.fwd_solutions[0].copy(deepcopy=True)\n",
    "    Jhat.controls[0].update(init)\n",
    "    \n",
    "    # Check the initial conditions match (debugging)\n",
    "    if not isinstance(m, Function) and np.allclose(m, m_init):\n",
    "        msg = \"Initial conditions do not match: {:.4e} vs. {:.4e}\"\n",
    "        assert np.isclose(errornorm(init, init_pert), 0.0), msg.format(norm(init), norm(init_pert))\n",
    "    \n",
    "    # Extract an array from the initial condition data and pass it to the NumPy reduced functional\n",
    "    print_output(\"Unrolling pyadjoint's tape...\")\n",
    "    return Jhat(init)  # FIXME: Why does this call break op.lonlat_mesh?"
   ]
  },
  {
   "cell_type": "markdown",
   "metadata": {},
   "source": [
    "First, test the reduced functional with a NumPy array as input, which implies that the Okada model is run."
   ]
  },
  {
   "cell_type": "code",
   "execution_count": 19,
   "metadata": {},
   "outputs": [
    {
     "name": "stderr",
     "output_type": "stream",
     "text": [
      "Unrolling PyADOL-C's tape...\n",
      "Unrolling pyadjoint's tape...\n",
      "QoI: 1.6274e+05\n"
     ]
    }
   ],
   "source": [
    "J = reduced_functional(m_init)\n",
    "print_output(\"QoI: {:.4e}\".format(J))"
   ]
  },
  {
   "cell_type": "code",
   "execution_count": 20,
   "metadata": {},
   "outputs": [
    {
     "data": {
      "image/png": "[encoded data removed]",
      "text/plain": [
       "<Figure size 504x504 with 2 Axes>"
      ]
     },
     "metadata": {
      "needs_background": "light"
     },
     "output_type": "display_data"
    }
   ],
   "source": [
    "fig, axes = plt.subplots(figsize=(7, 7))\n",
    "tc = tricontourf(swp.fwd_solutions[0].split()[1], cmap='coolwarm', levels=50, axes=axes)\n",
    "cbar = fig.colorbar(tc, ax=axes)\n",
    "# cbar.set_ticks(np.linspace(-1, 7, 5))\n",
    "axes.set_xlim(xlim)\n",
    "axes.set_ylim(ylim)\n",
    "axes.axis(False);"
   ]
  },
  {
   "cell_type": "code",
   "execution_count": 21,
   "metadata": {},
   "outputs": [],
   "source": [
    "for control in active_controls:\n",
    "    assert np.allclose(swp.op.control_parameters[control], controls_pert[control])\n",
    "assert np.isclose(J_pert, J)"
   ]
  },
  {
   "cell_type": "markdown",
   "metadata": {},
   "source": [
    "Next, test the reduced functional with a `Function` as input, which implies that the Okada model is not run."
   ]
  },
  {
   "cell_type": "code",
   "execution_count": 22,
   "metadata": {},
   "outputs": [
    {
     "name": "stderr",
     "output_type": "stream",
     "text": [
      "Setting initial condition directly...\n",
      "Unrolling pyadjoint's tape...\n",
      "QoI: 1.6274e+05\n"
     ]
    }
   ],
   "source": [
    "J = reduced_functional(init_pert)\n",
    "print_output(\"QoI: {:.4e}\".format(J))"
   ]
  },
  {
   "cell_type": "code",
   "execution_count": 23,
   "metadata": {},
   "outputs": [],
   "source": [
    "for control in active_controls:\n",
    "    assert np.allclose(swp.op.control_parameters[control], controls_pert[control])\n",
    "assert np.isclose(J_pert, J)"
   ]
  },
  {
   "cell_type": "markdown",
   "metadata": {},
   "source": [
    "### Gradient"
   ]
  },
  {
   "cell_type": "code",
   "execution_count": 24,
   "metadata": {},
   "outputs": [],
   "source": [
    "def gradient(m):\n",
    "    \"\"\"\n",
    "    Given a vector of control parameters `m`, compute the gradient of the reduced functional.\n",
    "    This is done as follows:\n",
    "      1. Propagate unity through the *reverse* mode of AD on pyadjoint's tape to endow\n",
    "         its SolveBlocks with adjoint solutions. Extract the one corresponding to time t = 0.\n",
    "      2. Propagate `m` through the *forward* mode of AD on pyadolc's tape using an appropriate\n",
    "         seed matrix. This computes the derivative of the Okada model.\n",
    "      3. Assemble the gradient by integrating the L2 inner product of adjoint solution at time\n",
    "         t = 0 with each component of the derivative of the Okada model.\n",
    "    \"\"\"\n",
    "    op = swp.op\n",
    "    num_subfaults = len(op.subfaults)\n",
    "    num_active_controls = len(op.active_controls)\n",
    "    N = len(op.indices)\n",
    "    \n",
    "    # Differentiate tsunami propagation\n",
    "    print_output(\"Differentiating the tsunami propagation model...\")\n",
    "    dJdq0 = Jhat.derivative()\n",
    "    if isinstance(m, Function):\n",
    "        return dJdq0  # FIXME: Not consistent\n",
    "    \n",
    "    # Differentiate Okada\n",
    "    print_output(\"Differentiating the Okada model...\")\n",
    "    dJdeta0 = interpolate(dJdq0.split()[1], swp.P1[0])\n",
    "    dJdeta0 = dJdeta0.dat.data[op_pert.indices]\n",
    "    dJdm = adolc.fos_reverse(tape_tag, dJdeta0)\n",
    "    return dJdm"
   ]
  },
  {
   "cell_type": "markdown",
   "metadata": {},
   "source": [
    "### Taylor test"
   ]
  },
  {
   "cell_type": "markdown",
   "metadata": {},
   "source": [
    "Again, we first perform the Taylor test with a NumPy array as input."
   ]
  },
  {
   "cell_type": "code",
   "execution_count": 25,
   "metadata": {},
   "outputs": [],
   "source": [
    "# np.random.seed(23)"
   ]
  },
  {
   "cell_type": "code",
   "execution_count": 26,
   "metadata": {},
   "outputs": [
    {
     "name": "stderr",
     "output_type": "stream",
     "text": [
      "========================TAYLOR TEST========================\n",
      "Unrolling PyADOL-C's tape...\n",
      "Unrolling pyadjoint's tape...\n",
      "Differentiating the tsunami propagation model...\n",
      "Differentiating the Okada model...\n",
      "h = 1.0000e+00\n",
      "Unrolling PyADOL-C's tape...\n",
      "Unrolling pyadjoint's tape...\n",
      "Taylor remainder = 1.9030e+01\n",
      "h = 5.0000e-01\n",
      "Unrolling PyADOL-C's tape...\n",
      "Unrolling pyadjoint's tape...\n",
      "Taylor remainder = 9.5151e+00\n"
     ]
    },
    {
     "ename": "ConvergenceError",
     "evalue": "Taylor remainders do not decrease quadratically (ratio 2.0000e+00 < 3.9500e+00)",
     "output_type": "error",
     "traceback": [
      "\u001b[0;31m---------------------------------------------------------------------------\u001b[0m",
      "\u001b[0;31mAssertionError\u001b[0m                            Traceback (most recent call last)",
      "\u001b[0;32m~/src/adapt_utils/optimisation.py\u001b[0m in \u001b[0;36mtaylor_test\u001b[0;34m(function, gradient, m, delta_m, verbose, ratio_tol)\u001b[0m\n\u001b[1;32m     46\u001b[0m             \u001b[0;32mtry\u001b[0m\u001b[0;34m:\u001b[0m\u001b[0;34m\u001b[0m\u001b[0;34m\u001b[0m\u001b[0m\n\u001b[0;32m---> 47\u001b[0;31m                 \u001b[0;32massert\u001b[0m \u001b[0mratio\u001b[0m \u001b[0;34m>\u001b[0m \u001b[0mratio_tol\u001b[0m\u001b[0;34m\u001b[0m\u001b[0;34m\u001b[0m\u001b[0m\n\u001b[0m\u001b[1;32m     48\u001b[0m             \u001b[0;32mexcept\u001b[0m \u001b[0mAssertionError\u001b[0m\u001b[0;34m:\u001b[0m\u001b[0;34m\u001b[0m\u001b[0;34m\u001b[0m\u001b[0m\n",
      "\u001b[0;31mAssertionError\u001b[0m: ",
      "\nDuring handling of the above exception, another exception occurred:\n",
      "\u001b[0;31mConvergenceError\u001b[0m                          Traceback (most recent call last)",
      "\u001b[0;32m<ipython-input-26-796e69eee6fe>\u001b[0m in \u001b[0;36m<module>\u001b[0;34m\u001b[0m\n\u001b[0;32m----> 1\u001b[0;31m \u001b[0mtaylor_test\u001b[0m\u001b[0;34m(\u001b[0m\u001b[0mreduced_functional\u001b[0m\u001b[0;34m,\u001b[0m \u001b[0mgradient\u001b[0m\u001b[0;34m,\u001b[0m \u001b[0mm_init\u001b[0m\u001b[0;34m,\u001b[0m \u001b[0mverbose\u001b[0m\u001b[0;34m=\u001b[0m\u001b[0;32mTrue\u001b[0m\u001b[0;34m,\u001b[0m \u001b[0mratio_tol\u001b[0m\u001b[0;34m=\u001b[0m\u001b[0;36m3.95\u001b[0m\u001b[0;34m)\u001b[0m\u001b[0;34m\u001b[0m\u001b[0;34m\u001b[0m\u001b[0m\n\u001b[0m",
      "\u001b[0;32m~/src/adapt_utils/optimisation.py\u001b[0m in \u001b[0;36mtaylor_test\u001b[0;34m(function, gradient, m, delta_m, verbose, ratio_tol)\u001b[0m\n\u001b[1;32m     48\u001b[0m             \u001b[0;32mexcept\u001b[0m \u001b[0mAssertionError\u001b[0m\u001b[0;34m:\u001b[0m\u001b[0;34m\u001b[0m\u001b[0;34m\u001b[0m\u001b[0m\n\u001b[1;32m     49\u001b[0m                 \u001b[0mmsg\u001b[0m \u001b[0;34m=\u001b[0m \u001b[0;34m\"Taylor remainders do not decrease quadratically (ratio {:.4e} < {:.4e})\"\u001b[0m\u001b[0;34m\u001b[0m\u001b[0;34m\u001b[0m\u001b[0m\n\u001b[0;32m---> 50\u001b[0;31m                 \u001b[0;32mraise\u001b[0m \u001b[0mConvergenceError\u001b[0m\u001b[0;34m(\u001b[0m\u001b[0mmsg\u001b[0m\u001b[0;34m.\u001b[0m\u001b[0mformat\u001b[0m\u001b[0;34m(\u001b[0m\u001b[0mratio\u001b[0m\u001b[0;34m,\u001b[0m \u001b[0mratio_tol\u001b[0m\u001b[0;34m)\u001b[0m\u001b[0;34m)\u001b[0m\u001b[0;34m\u001b[0m\u001b[0;34m\u001b[0m\u001b[0m\n\u001b[0m\u001b[1;32m     51\u001b[0m     \u001b[0;32mif\u001b[0m \u001b[0mverbose\u001b[0m\u001b[0;34m:\u001b[0m\u001b[0;34m\u001b[0m\u001b[0;34m\u001b[0m\u001b[0m\n\u001b[1;32m     52\u001b[0m         \u001b[0mprint_output\u001b[0m\u001b[0;34m(\u001b[0m\u001b[0;36m20\u001b[0m\u001b[0;34m*\u001b[0m\u001b[0;34m\"=\"\u001b[0m \u001b[0;34m+\u001b[0m \u001b[0;34m\"TAYLOR TEST PASSED!\"\u001b[0m \u001b[0;34m+\u001b[0m \u001b[0;36m20\u001b[0m\u001b[0;34m*\u001b[0m\u001b[0;34m\"=\"\u001b[0m\u001b[0;34m)\u001b[0m\u001b[0;34m\u001b[0m\u001b[0;34m\u001b[0m\u001b[0m\n",
      "\u001b[0;31mConvergenceError\u001b[0m: Taylor remainders do not decrease quadratically (ratio 2.0000e+00 < 3.9500e+00)"
     ]
    }
   ],
   "source": [
    "taylor_test(reduced_functional, gradient, m_init, verbose=True, ratio_tol=3.95)"
   ]
  },
  {
   "cell_type": "markdown",
   "metadata": {},
   "source": [
    "Then we perform the Taylor test with a `Function` as input."
   ]
  },
  {
   "cell_type": "markdown",
   "metadata": {},
   "source": [
    "# [TO DO]"
   ]
  },
  {
   "cell_type": "code",
   "execution_count": null,
   "metadata": {},
   "outputs": [],
   "source": [
    "# import pyadjoint\n",
    "# h = init_pert.copy(deepcopy=True)\n",
    "# h.dat.data[0][:] = np.random.normal(loc=0.0, scale=1.0, size=h.dat.data[0].shape)\n",
    "# h.dat.data[1][:] = np.random.normal(loc=0.0, scale=1.0, size=h.dat.data[1].shape)\n",
    "# pyadjoint.taylor_test(reduced_functional, init_pert, h, dJdm=gradient(init_pert))"
   ]
  },
  {
   "cell_type": "code",
   "execution_count": null,
   "metadata": {},
   "outputs": [],
   "source": []
  }
 ],
 "metadata": {
  "kernelspec": {
   "display_name": "Python 3",
   "language": "python",
   "name": "python3"
  },
  "language_info": {
   "codemirror_mode": {
    "name": "ipython",
    "version": 3
   },
   "file_extension": ".py",
   "mimetype": "text/x-python",
   "name": "python",
   "nbconvert_exporter": "python",
   "pygments_lexer": "ipython3",
   "version": "3.6.9"
  }
 },
 "nbformat": 4,
 "nbformat_minor": 4
}
