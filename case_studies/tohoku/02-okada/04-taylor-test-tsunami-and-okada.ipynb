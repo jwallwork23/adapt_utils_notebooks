{
 "cells": [
  {
   "cell_type": "code",
   "execution_count": 1,
   "metadata": {},
   "outputs": [],
   "source": [
    "%matplotlib inline"
   ]
  },
  {
   "cell_type": "code",
   "execution_count": 2,
   "metadata": {},
   "outputs": [],
   "source": [
    "from thetis import *\n",
    "from firedrake_adjoint import *"
   ]
  },
  {
   "cell_type": "code",
   "execution_count": 3,
   "metadata": {},
   "outputs": [],
   "source": [
    "import adolc\n",
    "import numpy as np"
   ]
  },
  {
   "cell_type": "code",
   "execution_count": 4,
   "metadata": {},
   "outputs": [],
   "source": [
    "from adapt_utils.case_studies.tohoku.options.okada_options import TohokuOkadaBasisOptions\n",
    "from adapt_utils.optimisation import taylor_test\n",
    "from adapt_utils.unsteady.solver import AdaptiveProblem\n",
    "from adapt_utils.unsteady.solver_adjoint import AdaptiveDiscreteAdjointProblem"
   ]
  },
  {
   "cell_type": "markdown",
   "metadata": {},
   "source": [
    "# Taylor test for the gradient of timeseries misfit w.r.t. Okada parameters\n",
    "\n",
    "See the previous notebook for a description of the derivation.\n",
    "Here we wrap code in functions and perform a Taylor test."
   ]
  },
  {
   "cell_type": "markdown",
   "metadata": {},
   "source": [
    "### Initialisation\n",
    "\n",
    "Set parameters and create a `TohokuOkadaBasisOptions` object to hold them"
   ]
  },
  {
   "cell_type": "code",
   "execution_count": 5,
   "metadata": {},
   "outputs": [],
   "source": [
    "kwargs = {\n",
    "    \n",
    "    # Tsunami propagation model\n",
    "    'level': 0,\n",
    "    'synthetic': True,\n",
    "    'plot_pvd': False,\n",
    "    'save_timeseries': True,\n",
    "    'family': 'dg-cg',\n",
    "    'stabilisation': None,\n",
    "    \n",
    "    # Okada model\n",
    "    'okada_grid_lon_min': 140,\n",
    "    'okada_grid_lon_max': 145,\n",
    "    'okada_grid_lat_min': 35,\n",
    "    'okada_grid_lat_max': 41,\n",
    "    \n",
    "    'debug': False,\n",
    "}\n",
    "nonlinear = False\n",
    "print_progress = False"
   ]
  },
  {
   "cell_type": "code",
   "execution_count": 6,
   "metadata": {},
   "outputs": [],
   "source": [
    "active_controls = ('slip', 'rake', 'strike', 'dip')"
   ]
  },
  {
   "cell_type": "code",
   "execution_count": 7,
   "metadata": {},
   "outputs": [
    {
     "name": "stderr",
     "output_type": "stream",
     "text": [
      "WARNING: Cannot check validity of coordinates.\n"
     ]
    }
   ],
   "source": [
    "op_data = TohokuOkadaBasisOptions(**kwargs)\n",
    "op_data.active_controls = active_controls"
   ]
  },
  {
   "cell_type": "markdown",
   "metadata": {},
   "source": [
    "### Get timeseries data\n",
    "\n",
    "We use a 'synthetic' approach whereby 'the truth' is given by timeseries extracted from a model run with some Okada parameters."
   ]
  },
  {
   "cell_type": "code",
   "execution_count": 8,
   "metadata": {},
   "outputs": [],
   "source": [
    "with stop_annotating():\n",
    "    swp = AdaptiveProblem(op_data, nonlinear=nonlinear, print_progress=print_progress)\n",
    "    swp.solve_forward()  # NOTE: pyadolc annotation is also off\n",
    "    for gauge in op_data.gauges:\n",
    "        op_data.gauges[gauge][\"data\"] = op_data.gauges[gauge][\"timeseries\"]"
   ]
  },
  {
   "cell_type": "markdown",
   "metadata": {},
   "source": [
    "Perturb the control parameters with some Normal random noise so that the source is different from that used to generate the gauge timeseries data."
   ]
  },
  {
   "cell_type": "code",
   "execution_count": 9,
   "metadata": {},
   "outputs": [],
   "source": [
    "kwargs['control_parameters'] = op_data.control_parameters\n",
    "mu = 0\n",
    "sigma = 5\n",
    "for control in op_data.active_controls:\n",
    "    size = np.shape(op_data.control_parameters[control])\n",
    "    kwargs['control_parameters'][control] += np.random.normal(loc=mu, scale=sigma, size=size)"
   ]
  },
  {
   "cell_type": "code",
   "execution_count": 10,
   "metadata": {},
   "outputs": [
    {
     "name": "stderr",
     "output_type": "stream",
     "text": [
      "WARNING: Cannot check validity of coordinates.\n"
     ]
    }
   ],
   "source": [
    "op_pert = TohokuOkadaBasisOptions(**kwargs)\n",
    "op_pert.active_controls = active_controls\n",
    "for gauge in op_pert.gauges:\n",
    "    op_pert.gauges[gauge][\"data\"] = op_data.gauges[gauge][\"data\"]"
   ]
  },
  {
   "cell_type": "markdown",
   "metadata": {},
   "source": [
    "### Annotate the source model\n",
    "\n",
    "When setting the free surface initial condition using the Okada model, we tell `pyadolc` to annotate its tape."
   ]
  },
  {
   "cell_type": "code",
   "execution_count": 11,
   "metadata": {},
   "outputs": [],
   "source": [
    "tape_tag = 0\n",
    "swp = AdaptiveDiscreteAdjointProblem(op_pert, nonlinear=nonlinear, print_progress=print_progress)\n",
    "swp.set_initial_condition(annotate_source=True, tag=tape_tag)"
   ]
  },
  {
   "cell_type": "markdown",
   "metadata": {},
   "source": [
    "### Annotate the tsunami model\n",
    "\n",
    "Now `pyadjoint` annotates its tape."
   ]
  },
  {
   "cell_type": "code",
   "execution_count": 12,
   "metadata": {},
   "outputs": [
    {
     "name": "stdout",
     "output_type": "stream",
     "text": [
      "QoI: 1.5719e+05\n"
     ]
    }
   ],
   "source": [
    "init_pert = swp.fwd_solutions[0].copy(deepcopy=True)\n",
    "source_control = Control(swp.fwd_solutions[0])\n",
    "swp.setup_solver_forward_step(0)\n",
    "swp.solve_forward_step(0)\n",
    "J_pert = op_pert.J\n",
    "print(\"QoI: {:.4e}\".format(J_pert))"
   ]
  },
  {
   "cell_type": "code",
   "execution_count": 13,
   "metadata": {},
   "outputs": [],
   "source": [
    "m_init = op_pert.input_vector\n",
    "controls_pert = op_pert.control_parameters.copy()"
   ]
  },
  {
   "cell_type": "markdown",
   "metadata": {},
   "source": [
    "### Reduced functional\n",
    "\n",
    "Create a `pyadjoint` `ReducedFunctional`."
   ]
  },
  {
   "cell_type": "code",
   "execution_count": 14,
   "metadata": {},
   "outputs": [],
   "source": [
    "Jhat = ReducedFunctional(swp.op.J, source_control)"
   ]
  },
  {
   "cell_type": "code",
   "execution_count": 15,
   "metadata": {},
   "outputs": [],
   "source": [
    "stop_annotating();"
   ]
  },
  {
   "cell_type": "code",
   "execution_count": 17,
   "metadata": {},
   "outputs": [],
   "source": [
    "def reduced_functional(m):\n",
    "    \"\"\"\n",
    "    Given a vector of control parameters `m`:\n",
    "      1. run the Okada model to generate the corresponding dislocation field;\n",
    "      2. set an initial ocean free surface displacement from the dislocation field;\n",
    "      3. run the tsunami propagation model by traversing the pyadjoint tape.\n",
    "      \n",
    "    :return: the corresponding square timeseries error misfit functional value.\n",
    "    \"\"\"\n",
    "    op = swp.op\n",
    "    num_subfaults = len(op.subfaults)\n",
    "    num_active_controls = len(op.active_controls)\n",
    "    \n",
    "    if isinstance(m, Function):\n",
    "        print_output(\"Setting initial condition directly...\")\n",
    "        swp.fwd_solutions[0].assign(m)\n",
    "    else:\n",
    "        print_output(\"Setting initial condition via Okada model...\")\n",
    "\n",
    "        # Extract active control parameter values from the input vector\n",
    "        m_arr = m.reshape(num_subfaults, num_active_controls)\n",
    "        for i, subfault in enumerate(op.subfaults):\n",
    "            for j, control in enumerate(op.active_controls):\n",
    "                op.control_parameters[control][i] = m_arr[i, j]\n",
    "\n",
    "        # Set initial condition based on the control parameters\n",
    "        swp.set_fields()\n",
    "        try:\n",
    "            swp.set_initial_condition(annotate_source=False)\n",
    "        except TypeError:\n",
    "            op.get_subfaults(reset=True)  # FIXME\n",
    "            swp.set_initial_condition(annotate_source=False)\n",
    "        \n",
    "    # Update the initial condition data stored in the ReducedFunctional object\n",
    "    init = swp.fwd_solutions[0].copy(deepcopy=True)\n",
    "    Jhat.controls[0].update(init)\n",
    "    \n",
    "    # Check the initial conditions match (debugging)\n",
    "    if not isinstance(m, Function) and np.allclose(m, m_init):\n",
    "        msg = \"Initial conditions do not match: {:.4e} vs. {:.4e}\"\n",
    "        assert np.isclose(errornorm(init, init_pert), 0.0), msg.format(norm(init), norm(init_pert))\n",
    "    \n",
    "    # Extract an array from the initial condition data and pass it to the NumPy reduced functional\n",
    "    print_output(\"Unrolling pyadjoint's tape...\")\n",
    "    return Jhat(init)  # FIXME: Why does this call break op.lonlat_mesh?"
   ]
  },
  {
   "cell_type": "markdown",
   "metadata": {},
   "source": [
    "First, test the reduced functional with a NumPy array as input, which implies that the Okada model is run."
   ]
  },
  {
   "cell_type": "code",
   "execution_count": 18,
   "metadata": {},
   "outputs": [
    {
     "name": "stderr",
     "output_type": "stream",
     "text": [
      "Setting initial condition via Okada model...\n",
      "WARNING: Cannot check validity of coordinates.\n",
      "Unrolling pyadjoint's tape...\n",
      "QoI: 1.5719e+05\n"
     ]
    }
   ],
   "source": [
    "J = reduced_functional(m_init)\n",
    "print_output(\"QoI: {:.4e}\".format(J))"
   ]
  },
  {
   "cell_type": "code",
   "execution_count": 20,
   "metadata": {},
   "outputs": [],
   "source": [
    "for control in active_controls:\n",
    "    assert np.allclose(swp.op.control_parameters[control], controls_pert[control])\n",
    "assert np.isclose(J_pert, J)"
   ]
  },
  {
   "cell_type": "markdown",
   "metadata": {},
   "source": [
    "Next, test the reduced functional with a `Function` as input, which implies that the Okada model is not run."
   ]
  },
  {
   "cell_type": "code",
   "execution_count": 22,
   "metadata": {},
   "outputs": [
    {
     "name": "stderr",
     "output_type": "stream",
     "text": [
      "Setting initial condition directly...\n",
      "Unrolling pyadjoint's tape...\n",
      "QoI: 1.5719e+05\n"
     ]
    }
   ],
   "source": [
    "J = reduced_functional(init_pert)\n",
    "print_output(\"QoI: {:.4e}\".format(J))"
   ]
  },
  {
   "cell_type": "code",
   "execution_count": 23,
   "metadata": {},
   "outputs": [],
   "source": [
    "for control in active_controls:\n",
    "    assert np.allclose(swp.op.control_parameters[control], controls_pert[control])\n",
    "assert np.isclose(J_pert, J)"
   ]
  },
  {
   "cell_type": "markdown",
   "metadata": {},
   "source": [
    "### Gradient"
   ]
  },
  {
   "cell_type": "code",
   "execution_count": 25,
   "metadata": {},
   "outputs": [],
   "source": [
    "def gradient(m):\n",
    "    \"\"\"\n",
    "    Given a vector of control parameters `m`, compute the gradient of the reduced functional.\n",
    "    This is done as follows:\n",
    "      1. Propagate unity through the *reverse* mode of AD on pyadjoint's tape to endow\n",
    "         its SolveBlocks with adjoint solutions. Extract the one corresponding to time t = 0.\n",
    "      2. Propagate `m` through the *forward* mode of AD on pyadolc's tape using an appropriate\n",
    "         seed matrix. This computes the derivative of the Okada model.\n",
    "      3. Assemble the gradient by integrating the L2 inner product of adjoint solution at time\n",
    "         t = 0 with each component of the derivative of the Okada model.\n",
    "    \"\"\"\n",
    "    op = swp.op\n",
    "    num_subfaults = len(op.subfaults)\n",
    "    num_active_controls = len(op.active_controls)\n",
    "    N = len(op.indices)\n",
    "    \n",
    "    # Differentiate tsunami propagation\n",
    "    print_output(\"Differentiating the tsunami propagation model...\")\n",
    "    dJdeta0 = Jhat.derivative()\n",
    "    if isinstance(m, Function):\n",
    "        return dJdeta0  # FIXME: Not consistent\n",
    "    swp.extract_adjoint_solution(0)\n",
    "    u_star, eta_star = swp.adj_solutions[0].split()\n",
    "    \n",
    "    # Differentiate Okada\n",
    "    print_output(\"Differentiating the Okada model...\")\n",
    "    F, dFdm = adolc.fov_forward(tape_tag, m, op.seed_matrices)\n",
    "    F = np.sum(F.reshape(num_subfaults, N), axis=0)\n",
    "    dFdm = dFdm.reshape(num_subfaults, N, num_active_controls)\n",
    "    \n",
    "    # Assemble gradient\n",
    "    print_output(\"Assembling gradient...\")\n",
    "    dJdm = np.zeros((num_subfaults, num_active_controls))\n",
    "    deta0dm  = Function(swp.P1[0])\n",
    "    for i, subfault in enumerate(op.subfaults):\n",
    "        for j, control in enumerate(op.active_controls):\n",
    "            deta0dm.assign(0.0)\n",
    "            deta0dm.dat.data[op.indices] = dFdm[i, :, j]\n",
    "            dJdm[i, j] = assemble(eta_star*deta0dm*dx)\n",
    "            \n",
    "    return dJdm.flatten()"
   ]
  },
  {
   "cell_type": "markdown",
   "metadata": {},
   "source": [
    "### Taylor test"
   ]
  },
  {
   "cell_type": "markdown",
   "metadata": {},
   "source": [
    "Again, we first perform the Taylor test with a NumPy array as input."
   ]
  },
  {
   "cell_type": "code",
   "execution_count": 26,
   "metadata": {},
   "outputs": [],
   "source": [
    "# np.random.seed(23)"
   ]
  },
  {
   "cell_type": "code",
   "execution_count": 27,
   "metadata": {},
   "outputs": [
    {
     "name": "stderr",
     "output_type": "stream",
     "text": [
      "========================TAYLOR TEST========================\n",
      "Setting initial condition via Okada model...\n",
      "WARNING: Cannot check validity of coordinates.\n",
      "Unrolling pyadjoint's tape...\n",
      "Differentiating the tsunami propagation model...\n",
      "Differentiating the Okada model...\n",
      "Assembling gradient...\n",
      "h = 1.0000e+00\n",
      "Setting initial condition via Okada model...\n",
      "WARNING: Cannot check validity of coordinates.\n",
      "Unrolling pyadjoint's tape...\n",
      "Taylor remainder = 3.1440e+02\n",
      "h = 5.0000e-01\n",
      "Setting initial condition via Okada model...\n",
      "WARNING: Cannot check validity of coordinates.\n",
      "Unrolling pyadjoint's tape...\n",
      "Taylor remainder = 1.5720e+02\n"
     ]
    },
    {
     "ename": "ConvergenceError",
     "evalue": "Taylor remainders do not decrease quadratically (ratio 2.0000e+00 < 3.9500e+00)",
     "output_type": "error",
     "traceback": [
      "\u001b[0;31m---------------------------------------------------------------------------\u001b[0m",
      "\u001b[0;31mAssertionError\u001b[0m                            Traceback (most recent call last)",
      "\u001b[0;32m~/src/adapt_utils/optimisation.py\u001b[0m in \u001b[0;36mtaylor_test\u001b[0;34m(function, gradient, m, verbose, ratio_tol)\u001b[0m\n\u001b[1;32m     45\u001b[0m             \u001b[0;32mtry\u001b[0m\u001b[0;34m:\u001b[0m\u001b[0;34m\u001b[0m\u001b[0;34m\u001b[0m\u001b[0m\n\u001b[0;32m---> 46\u001b[0;31m                 \u001b[0;32massert\u001b[0m \u001b[0mratio\u001b[0m \u001b[0;34m>\u001b[0m \u001b[0mratio_tol\u001b[0m\u001b[0;34m\u001b[0m\u001b[0;34m\u001b[0m\u001b[0m\n\u001b[0m\u001b[1;32m     47\u001b[0m             \u001b[0;32mexcept\u001b[0m \u001b[0mAssertionError\u001b[0m\u001b[0;34m:\u001b[0m\u001b[0;34m\u001b[0m\u001b[0;34m\u001b[0m\u001b[0m\n",
      "\u001b[0;31mAssertionError\u001b[0m: ",
      "\nDuring handling of the above exception, another exception occurred:\n",
      "\u001b[0;31mConvergenceError\u001b[0m                          Traceback (most recent call last)",
      "\u001b[0;32m<ipython-input-27-796e69eee6fe>\u001b[0m in \u001b[0;36m<module>\u001b[0;34m\u001b[0m\n\u001b[0;32m----> 1\u001b[0;31m \u001b[0mtaylor_test\u001b[0m\u001b[0;34m(\u001b[0m\u001b[0mreduced_functional\u001b[0m\u001b[0;34m,\u001b[0m \u001b[0mgradient\u001b[0m\u001b[0;34m,\u001b[0m \u001b[0mm_init\u001b[0m\u001b[0;34m,\u001b[0m \u001b[0mverbose\u001b[0m\u001b[0;34m=\u001b[0m\u001b[0;32mTrue\u001b[0m\u001b[0;34m,\u001b[0m \u001b[0mratio_tol\u001b[0m\u001b[0;34m=\u001b[0m\u001b[0;36m3.95\u001b[0m\u001b[0;34m)\u001b[0m\u001b[0;34m\u001b[0m\u001b[0;34m\u001b[0m\u001b[0m\n\u001b[0m",
      "\u001b[0;32m~/src/adapt_utils/optimisation.py\u001b[0m in \u001b[0;36mtaylor_test\u001b[0;34m(function, gradient, m, verbose, ratio_tol)\u001b[0m\n\u001b[1;32m     47\u001b[0m             \u001b[0;32mexcept\u001b[0m \u001b[0mAssertionError\u001b[0m\u001b[0;34m:\u001b[0m\u001b[0;34m\u001b[0m\u001b[0;34m\u001b[0m\u001b[0m\n\u001b[1;32m     48\u001b[0m                 \u001b[0mmsg\u001b[0m \u001b[0;34m=\u001b[0m \u001b[0;34m\"Taylor remainders do not decrease quadratically (ratio {:.4e} < {:.4e})\"\u001b[0m\u001b[0;34m\u001b[0m\u001b[0;34m\u001b[0m\u001b[0m\n\u001b[0;32m---> 49\u001b[0;31m                 \u001b[0;32mraise\u001b[0m \u001b[0mConvergenceError\u001b[0m\u001b[0;34m(\u001b[0m\u001b[0mmsg\u001b[0m\u001b[0;34m.\u001b[0m\u001b[0mformat\u001b[0m\u001b[0;34m(\u001b[0m\u001b[0mratio\u001b[0m\u001b[0;34m,\u001b[0m \u001b[0mratio_tol\u001b[0m\u001b[0;34m)\u001b[0m\u001b[0;34m)\u001b[0m\u001b[0;34m\u001b[0m\u001b[0;34m\u001b[0m\u001b[0m\n\u001b[0m\u001b[1;32m     50\u001b[0m     \u001b[0;32mif\u001b[0m \u001b[0mverbose\u001b[0m\u001b[0;34m:\u001b[0m\u001b[0;34m\u001b[0m\u001b[0;34m\u001b[0m\u001b[0m\n\u001b[1;32m     51\u001b[0m         \u001b[0mprint_output\u001b[0m\u001b[0;34m(\u001b[0m\u001b[0;36m20\u001b[0m\u001b[0;34m*\u001b[0m\u001b[0;34m\"=\"\u001b[0m \u001b[0;34m+\u001b[0m \u001b[0;34m\"TAYLOR TEST PASSED!\"\u001b[0m \u001b[0;34m+\u001b[0m \u001b[0;36m20\u001b[0m\u001b[0;34m*\u001b[0m\u001b[0;34m\"=\"\u001b[0m\u001b[0;34m)\u001b[0m\u001b[0;34m\u001b[0m\u001b[0;34m\u001b[0m\u001b[0m\n",
      "\u001b[0;31mConvergenceError\u001b[0m: Taylor remainders do not decrease quadratically (ratio 2.0000e+00 < 3.9500e+00)"
     ]
    }
   ],
   "source": [
    "taylor_test(reduced_functional, gradient, m_init, verbose=True, ratio_tol=3.95)"
   ]
  },
  {
   "cell_type": "markdown",
   "metadata": {},
   "source": [
    "Then we perform the Taylor test with a `Function` as input."
   ]
  },
  {
   "cell_type": "markdown",
   "metadata": {},
   "source": [
    "# [TO DO]"
   ]
  },
  {
   "cell_type": "code",
   "execution_count": 30,
   "metadata": {},
   "outputs": [
    {
     "name": "stderr",
     "output_type": "stream",
     "text": [
      "Differentiating the tsunami propagation model...\n",
      "Setting initial condition directly...\n",
      "Unrolling pyadjoint's tape...\n"
     ]
    },
    {
     "name": "stdout",
     "output_type": "stream",
     "text": [
      "Running Taylor test\n"
     ]
    },
    {
     "name": "stderr",
     "output_type": "stream",
     "text": [
      "Setting initial condition directly...\n",
      "Unrolling pyadjoint's tape...\n",
      "UFL:ERROR Can't add expressions with different shapes.\n"
     ]
    },
    {
     "ename": "UFLException",
     "evalue": "Can't add expressions with different shapes.",
     "output_type": "error",
     "traceback": [
      "\u001b[0;31m---------------------------------------------------------------------------\u001b[0m",
      "\u001b[0;31mUFLException\u001b[0m                              Traceback (most recent call last)",
      "\u001b[0;32m<ipython-input-30-479ab02c2d52>\u001b[0m in \u001b[0;36m<module>\u001b[0;34m\u001b[0m\n\u001b[1;32m      3\u001b[0m \u001b[0mh\u001b[0m\u001b[0;34m.\u001b[0m\u001b[0mdat\u001b[0m\u001b[0;34m.\u001b[0m\u001b[0mdata\u001b[0m\u001b[0;34m[\u001b[0m\u001b[0;36m0\u001b[0m\u001b[0;34m]\u001b[0m\u001b[0;34m[\u001b[0m\u001b[0;34m:\u001b[0m\u001b[0;34m]\u001b[0m \u001b[0;34m=\u001b[0m \u001b[0mnp\u001b[0m\u001b[0;34m.\u001b[0m\u001b[0mrandom\u001b[0m\u001b[0;34m.\u001b[0m\u001b[0mnormal\u001b[0m\u001b[0;34m(\u001b[0m\u001b[0mloc\u001b[0m\u001b[0;34m=\u001b[0m\u001b[0;36m0.0\u001b[0m\u001b[0;34m,\u001b[0m \u001b[0mscale\u001b[0m\u001b[0;34m=\u001b[0m\u001b[0;36m1.0\u001b[0m\u001b[0;34m,\u001b[0m \u001b[0msize\u001b[0m\u001b[0;34m=\u001b[0m\u001b[0mh\u001b[0m\u001b[0;34m.\u001b[0m\u001b[0mdat\u001b[0m\u001b[0;34m.\u001b[0m\u001b[0mdata\u001b[0m\u001b[0;34m[\u001b[0m\u001b[0;36m0\u001b[0m\u001b[0;34m]\u001b[0m\u001b[0;34m.\u001b[0m\u001b[0mshape\u001b[0m\u001b[0;34m)\u001b[0m\u001b[0;34m\u001b[0m\u001b[0;34m\u001b[0m\u001b[0m\n\u001b[1;32m      4\u001b[0m \u001b[0mh\u001b[0m\u001b[0;34m.\u001b[0m\u001b[0mdat\u001b[0m\u001b[0;34m.\u001b[0m\u001b[0mdata\u001b[0m\u001b[0;34m[\u001b[0m\u001b[0;36m1\u001b[0m\u001b[0;34m]\u001b[0m\u001b[0;34m[\u001b[0m\u001b[0;34m:\u001b[0m\u001b[0;34m]\u001b[0m \u001b[0;34m=\u001b[0m \u001b[0mnp\u001b[0m\u001b[0;34m.\u001b[0m\u001b[0mrandom\u001b[0m\u001b[0;34m.\u001b[0m\u001b[0mnormal\u001b[0m\u001b[0;34m(\u001b[0m\u001b[0mloc\u001b[0m\u001b[0;34m=\u001b[0m\u001b[0;36m0.0\u001b[0m\u001b[0;34m,\u001b[0m \u001b[0mscale\u001b[0m\u001b[0;34m=\u001b[0m\u001b[0;36m1.0\u001b[0m\u001b[0;34m,\u001b[0m \u001b[0msize\u001b[0m\u001b[0;34m=\u001b[0m\u001b[0mh\u001b[0m\u001b[0;34m.\u001b[0m\u001b[0mdat\u001b[0m\u001b[0;34m.\u001b[0m\u001b[0mdata\u001b[0m\u001b[0;34m[\u001b[0m\u001b[0;36m1\u001b[0m\u001b[0;34m]\u001b[0m\u001b[0;34m.\u001b[0m\u001b[0mshape\u001b[0m\u001b[0;34m)\u001b[0m\u001b[0;34m\u001b[0m\u001b[0;34m\u001b[0m\u001b[0m\n\u001b[0;32m----> 5\u001b[0;31m \u001b[0mpyadjoint\u001b[0m\u001b[0;34m.\u001b[0m\u001b[0mtaylor_test\u001b[0m\u001b[0;34m(\u001b[0m\u001b[0mreduced_functional\u001b[0m\u001b[0;34m,\u001b[0m \u001b[0minit_pert\u001b[0m\u001b[0;34m,\u001b[0m \u001b[0mh\u001b[0m\u001b[0;34m,\u001b[0m \u001b[0mdJdm\u001b[0m\u001b[0;34m=\u001b[0m\u001b[0mgradient\u001b[0m\u001b[0;34m(\u001b[0m\u001b[0minit_pert\u001b[0m\u001b[0;34m)\u001b[0m\u001b[0;34m)\u001b[0m\u001b[0;34m\u001b[0m\u001b[0;34m\u001b[0m\u001b[0m\n\u001b[0m",
      "\u001b[0;32m~/software/firedrake-adapt/src/pyadjoint/pyadjoint/verification.py\u001b[0m in \u001b[0;36mtaylor_test\u001b[0;34m(J, m, h, dJdm, Hm)\u001b[0m\n\u001b[1;32m     51\u001b[0m         \u001b[0;32mfor\u001b[0m \u001b[0meps\u001b[0m \u001b[0;32min\u001b[0m \u001b[0mepsilons\u001b[0m\u001b[0;34m:\u001b[0m\u001b[0;34m\u001b[0m\u001b[0;34m\u001b[0m\u001b[0m\n\u001b[1;32m     52\u001b[0m             \u001b[0mJp\u001b[0m \u001b[0;34m=\u001b[0m \u001b[0mJ\u001b[0m\u001b[0;34m(\u001b[0m\u001b[0mperturbe\u001b[0m\u001b[0;34m(\u001b[0m\u001b[0meps\u001b[0m\u001b[0;34m)\u001b[0m\u001b[0;34m)\u001b[0m\u001b[0;34m\u001b[0m\u001b[0;34m\u001b[0m\u001b[0m\n\u001b[0;32m---> 53\u001b[0;31m             \u001b[0mres\u001b[0m \u001b[0;34m=\u001b[0m \u001b[0mabs\u001b[0m\u001b[0;34m(\u001b[0m\u001b[0mJp\u001b[0m \u001b[0;34m-\u001b[0m \u001b[0mJm\u001b[0m \u001b[0;34m-\u001b[0m \u001b[0meps\u001b[0m \u001b[0;34m*\u001b[0m \u001b[0mdJdm\u001b[0m \u001b[0;34m-\u001b[0m \u001b[0;36m0.5\u001b[0m \u001b[0;34m*\u001b[0m \u001b[0meps\u001b[0m \u001b[0;34m**\u001b[0m \u001b[0;36m2\u001b[0m \u001b[0;34m*\u001b[0m \u001b[0mHm\u001b[0m\u001b[0;34m)\u001b[0m\u001b[0;34m\u001b[0m\u001b[0;34m\u001b[0m\u001b[0m\n\u001b[0m\u001b[1;32m     54\u001b[0m             \u001b[0mresiduals\u001b[0m\u001b[0;34m.\u001b[0m\u001b[0mappend\u001b[0m\u001b[0;34m(\u001b[0m\u001b[0mres\u001b[0m\u001b[0;34m)\u001b[0m\u001b[0;34m\u001b[0m\u001b[0;34m\u001b[0m\u001b[0m\n\u001b[1;32m     55\u001b[0m \u001b[0;34m\u001b[0m\u001b[0m\n",
      "\u001b[0;32m~/software/firedrake-adapt/src/ufl/ufl/exproperators.py\u001b[0m in \u001b[0;36m_rsub\u001b[0;34m(self, o)\u001b[0m\n\u001b[1;32m    230\u001b[0m     \u001b[0;32mif\u001b[0m \u001b[0;32mnot\u001b[0m \u001b[0misinstance\u001b[0m\u001b[0;34m(\u001b[0m\u001b[0mo\u001b[0m\u001b[0;34m,\u001b[0m \u001b[0m_valid_types\u001b[0m\u001b[0;34m)\u001b[0m\u001b[0;34m:\u001b[0m\u001b[0;34m\u001b[0m\u001b[0;34m\u001b[0m\u001b[0m\n\u001b[1;32m    231\u001b[0m         \u001b[0;32mreturn\u001b[0m \u001b[0mNotImplemented\u001b[0m\u001b[0;34m\u001b[0m\u001b[0;34m\u001b[0m\u001b[0m\n\u001b[0;32m--> 232\u001b[0;31m     \u001b[0;32mreturn\u001b[0m \u001b[0mSum\u001b[0m\u001b[0;34m(\u001b[0m\u001b[0mo\u001b[0m\u001b[0;34m,\u001b[0m \u001b[0;34m-\u001b[0m\u001b[0mself\u001b[0m\u001b[0;34m)\u001b[0m\u001b[0;34m\u001b[0m\u001b[0;34m\u001b[0m\u001b[0m\n\u001b[0m\u001b[1;32m    233\u001b[0m \u001b[0;34m\u001b[0m\u001b[0m\n\u001b[1;32m    234\u001b[0m \u001b[0;34m\u001b[0m\u001b[0m\n",
      "\u001b[0;32m~/software/firedrake-adapt/src/ufl/ufl/algebra.py\u001b[0m in \u001b[0;36m__new__\u001b[0;34m(cls, a, b)\u001b[0m\n\u001b[1;32m     39\u001b[0m         \u001b[0mfid\u001b[0m \u001b[0;34m=\u001b[0m \u001b[0ma\u001b[0m\u001b[0;34m.\u001b[0m\u001b[0mufl_index_dimensions\u001b[0m\u001b[0;34m\u001b[0m\u001b[0;34m\u001b[0m\u001b[0m\n\u001b[1;32m     40\u001b[0m         \u001b[0;32mif\u001b[0m \u001b[0mb\u001b[0m\u001b[0;34m.\u001b[0m\u001b[0mufl_shape\u001b[0m \u001b[0;34m!=\u001b[0m \u001b[0msh\u001b[0m\u001b[0;34m:\u001b[0m\u001b[0;34m\u001b[0m\u001b[0;34m\u001b[0m\u001b[0m\n\u001b[0;32m---> 41\u001b[0;31m             \u001b[0merror\u001b[0m\u001b[0;34m(\u001b[0m\u001b[0;34m\"Can't add expressions with different shapes.\"\u001b[0m\u001b[0;34m)\u001b[0m\u001b[0;34m\u001b[0m\u001b[0;34m\u001b[0m\u001b[0m\n\u001b[0m\u001b[1;32m     42\u001b[0m         \u001b[0;32mif\u001b[0m \u001b[0mb\u001b[0m\u001b[0;34m.\u001b[0m\u001b[0mufl_free_indices\u001b[0m \u001b[0;34m!=\u001b[0m \u001b[0mfi\u001b[0m\u001b[0;34m:\u001b[0m\u001b[0;34m\u001b[0m\u001b[0;34m\u001b[0m\u001b[0m\n\u001b[1;32m     43\u001b[0m             \u001b[0merror\u001b[0m\u001b[0;34m(\u001b[0m\u001b[0;34m\"Can't add expressions with different free indices.\"\u001b[0m\u001b[0;34m)\u001b[0m\u001b[0;34m\u001b[0m\u001b[0;34m\u001b[0m\u001b[0m\n",
      "\u001b[0;32m~/software/firedrake-adapt/src/ufl/ufl/log.py\u001b[0m in \u001b[0;36merror\u001b[0;34m(self, *message)\u001b[0m\n\u001b[1;32m    156\u001b[0m         \u001b[0;34m\"Write error message and raise an exception.\"\u001b[0m\u001b[0;34m\u001b[0m\u001b[0;34m\u001b[0m\u001b[0m\n\u001b[1;32m    157\u001b[0m         \u001b[0mself\u001b[0m\u001b[0;34m.\u001b[0m\u001b[0m_log\u001b[0m\u001b[0;34m.\u001b[0m\u001b[0merror\u001b[0m\u001b[0;34m(\u001b[0m\u001b[0;34m*\u001b[0m\u001b[0mmessage\u001b[0m\u001b[0;34m)\u001b[0m\u001b[0;34m\u001b[0m\u001b[0;34m\u001b[0m\u001b[0m\n\u001b[0;32m--> 158\u001b[0;31m         \u001b[0;32mraise\u001b[0m \u001b[0mself\u001b[0m\u001b[0;34m.\u001b[0m\u001b[0m_exception_type\u001b[0m\u001b[0;34m(\u001b[0m\u001b[0mself\u001b[0m\u001b[0;34m.\u001b[0m\u001b[0m_format_raw\u001b[0m\u001b[0;34m(\u001b[0m\u001b[0;34m*\u001b[0m\u001b[0mmessage\u001b[0m\u001b[0;34m)\u001b[0m\u001b[0;34m)\u001b[0m\u001b[0;34m\u001b[0m\u001b[0;34m\u001b[0m\u001b[0m\n\u001b[0m\u001b[1;32m    159\u001b[0m \u001b[0;34m\u001b[0m\u001b[0m\n\u001b[1;32m    160\u001b[0m     \u001b[0;32mdef\u001b[0m \u001b[0mbegin\u001b[0m\u001b[0;34m(\u001b[0m\u001b[0mself\u001b[0m\u001b[0;34m,\u001b[0m \u001b[0;34m*\u001b[0m\u001b[0mmessage\u001b[0m\u001b[0;34m)\u001b[0m\u001b[0;34m:\u001b[0m\u001b[0;34m\u001b[0m\u001b[0;34m\u001b[0m\u001b[0m\n",
      "\u001b[0;31mUFLException\u001b[0m: Can't add expressions with different shapes."
     ]
    }
   ],
   "source": [
    "import pyadjoint\n",
    "h = init_pert.copy(deepcopy=True)\n",
    "h.dat.data[0][:] = np.random.normal(loc=0.0, scale=1.0, size=h.dat.data[0].shape)\n",
    "h.dat.data[1][:] = np.random.normal(loc=0.0, scale=1.0, size=h.dat.data[1].shape)\n",
    "pyadjoint.taylor_test(reduced_functional, init_pert, h, dJdm=gradient(init_pert))"
   ]
  },
  {
   "cell_type": "code",
   "execution_count": null,
   "metadata": {},
   "outputs": [],
   "source": []
  }
 ],
 "metadata": {
  "kernelspec": {
   "display_name": "Python 3",
   "language": "python",
   "name": "python3"
  },
  "language_info": {
   "codemirror_mode": {
    "name": "ipython",
    "version": 3
   },
   "file_extension": ".py",
   "mimetype": "text/x-python",
   "name": "python",
   "nbconvert_exporter": "python",
   "pygments_lexer": "ipython3",
   "version": "3.6.9"
  }
 },
 "nbformat": 4,
 "nbformat_minor": 4
}
