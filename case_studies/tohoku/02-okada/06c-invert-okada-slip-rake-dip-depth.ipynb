{
 "cells": [
  {
   "cell_type": "code",
   "execution_count": 1,
   "metadata": {},
   "outputs": [],
   "source": [
    "%matplotlib inline"
   ]
  },
  {
   "cell_type": "code",
   "execution_count": 2,
   "metadata": {},
   "outputs": [],
   "source": [
    "import adolc"
   ]
  },
  {
   "cell_type": "code",
   "execution_count": 3,
   "metadata": {},
   "outputs": [],
   "source": [
    "from adapt_utils.case_studies.tohoku.options.okada_options import TohokuOkadaBasisOptions\n",
    "from adapt_utils.optimisation import taylor_test\n",
    "from adapt_utils.norms import vecnorm"
   ]
  },
  {
   "cell_type": "code",
   "execution_count": 4,
   "metadata": {},
   "outputs": [],
   "source": [
    "import matplotlib.pyplot as plt\n",
    "import numpy as np\n",
    "import scipy"
   ]
  },
  {
   "cell_type": "code",
   "execution_count": 5,
   "metadata": {},
   "outputs": [],
   "source": [
    "np.random.seed(0)  # make results reproducible"
   ]
  },
  {
   "cell_type": "code",
   "execution_count": 6,
   "metadata": {},
   "outputs": [],
   "source": [
    "def use_degrees(axes, x=True, y=True):\n",
    "    if x:\n",
    "        xlim = axes.get_xlim()\n",
    "        axes.set_xticks(axes.get_xticks())\n",
    "        axes.set_xticklabels([r\"${:.0f}^\\circ$\".format(tick) for tick in axes.get_xticks()])\n",
    "        axes.set_xlim(xlim)\n",
    "    if y:\n",
    "        ylim = axes.get_ylim()\n",
    "        axes.set_yticks(axes.get_yticks())\n",
    "        axes.set_yticklabels([r\"${:.0f}^\\circ$\".format(tick) for tick in axes.get_yticks()])\n",
    "        axes.set_ylim(ylim)"
   ]
  },
  {
   "cell_type": "code",
   "execution_count": 7,
   "metadata": {},
   "outputs": [],
   "source": [
    "def use_percent(axes, x=True, y=True):\n",
    "    if x:\n",
    "        xlim = axes.get_xlim()\n",
    "        axes.set_xticks(axes.get_xticks())\n",
    "        axes.set_xticklabels([r\"{:.0f}\\%\".format(tick) for tick in axes.get_xticks()])\n",
    "        axes.set_xlim(xlim)\n",
    "    if y:\n",
    "        ylim = axes.get_ylim()\n",
    "        axes.set_yticks(axes.get_yticks())\n",
    "        axes.set_yticklabels([r\"{:.0f}\\%\".format(tick) for tick in axes.get_yticks()])\n",
    "        axes.set_ylim(ylim)"
   ]
  },
  {
   "cell_type": "markdown",
   "metadata": {},
   "source": [
    "# Inverting the Okada model for slip, rake, dip and depth"
   ]
  },
  {
   "cell_type": "markdown",
   "metadata": {},
   "source": [
    "### Initialisation\n",
    "\n",
    "Set parameters and create a `TohokuOkadaBasisOptions` object to hold them.\n",
    "Apply the Okada model with default input parameters to give the field we want to invert for, stored in memory as `eta`."
   ]
  },
  {
   "cell_type": "code",
   "execution_count": 8,
   "metadata": {},
   "outputs": [],
   "source": [
    "kwargs = {\n",
    "    'okada_grid_resolution': 51,\n",
    "    'okada_grid_lon_min': 140,\n",
    "    'okada_grid_lon_max': 145,\n",
    "    'okada_grid_lat_min': 35,\n",
    "    'okada_grid_lat_max': 41,\n",
    "    'debug': False,\n",
    "}\n",
    "active_controls = ['slip', 'rake', 'dip', 'depth']"
   ]
  },
  {
   "cell_type": "code",
   "execution_count": 9,
   "metadata": {},
   "outputs": [],
   "source": [
    "plotting_kwargs = dict(cmap='coolwarm', levels=50)\n",
    "fontsize = 30\n",
    "tick_fontsize = 26"
   ]
  },
  {
   "cell_type": "code",
   "execution_count": 10,
   "metadata": {},
   "outputs": [
    {
     "name": "stderr",
     "output_type": "stream",
     "text": [
      "/home/joe/software/clawpack/clawpack-v5-7-0/geoclaw/src/python/geoclaw/dtopotools.py:1134: SyntaxWarning: \"is\" with a literal. Did you mean \"==\"?\n",
      "  if self.rupture_type is 'static':\n"
     ]
    }
   ],
   "source": [
    "op = TohokuOkadaBasisOptions(**kwargs)\n",
    "op.active_controls = active_controls\n",
    "op.create_topography()\n",
    "N = op.N\n",
    "X = op.fault.dtopo.X\n",
    "Y = op.fault.dtopo.Y\n",
    "eta = op.fault.dtopo.dZ.copy()\n",
    "m_orig = op.input_vector.copy()"
   ]
  },
  {
   "cell_type": "code",
   "execution_count": 11,
   "metadata": {},
   "outputs": [],
   "source": [
    "np.save(\"notebook_6c_m_orig.npy\", m_orig)"
   ]
  },
  {
   "cell_type": "markdown",
   "metadata": {},
   "source": [
    "### Differentatiate the source model\n",
    "\n",
    "Perturb the control parameters with some Normal random noise so that the source is different from that used to generate the gauge timeseries data.\n",
    "This effectively means 'choose an initial guess'."
   ]
  },
  {
   "cell_type": "code",
   "execution_count": 12,
   "metadata": {},
   "outputs": [],
   "source": [
    "kwargs['control_parameters'] = op.control_parameters\n",
    "for control in op.active_controls:\n",
    "    size = np.shape(op.control_parameters[control])\n",
    "    std = np.std(op.control_parameters[control])\n",
    "    kwargs['control_parameters'][control] += np.random.normal(loc=0, scale=std/2, size=size)"
   ]
  },
  {
   "cell_type": "code",
   "execution_count": 13,
   "metadata": {},
   "outputs": [],
   "source": [
    "kwargs['control_parameters']['slip'] = np.abs(kwargs['control_parameters']['slip'])\n",
    "for i, dip in enumerate(kwargs['control_parameters']['dip']):\n",
    "    kwargs['control_parameters']['dip'][i] = dip % 90\n",
    "kwargs['control_parameters']['depth'] = np.abs(kwargs['control_parameters']['depth'])"
   ]
  },
  {
   "cell_type": "markdown",
   "metadata": {},
   "source": [
    "When setting the free surface initial condition using the Okada model, we tell `pyadolc` to annotate its tape.\n",
    "For this application we need to modify the way that the tape is annotated by default and therefore pass the `interpolate` flag as `True`:"
   ]
  },
  {
   "cell_type": "code",
   "execution_count": 14,
   "metadata": {},
   "outputs": [
    {
     "name": "stdout",
     "output_type": "stream",
     "text": [
      "QoI = 9.7456e-01\n"
     ]
    }
   ],
   "source": [
    "tape_tag = 0\n",
    "op = TohokuOkadaBasisOptions(**kwargs)\n",
    "op._data_to_interpolate = eta\n",
    "op.active_controls = active_controls\n",
    "op.create_topography(annotate=True, interpolate=True, tag=tape_tag)\n",
    "print(\"QoI = {:.4e}\".format(op.J.val))\n",
    "# assert np.isclose(op.J.val, 7.1307e-01, rtol=1.0e-04)  # from previous run"
   ]
  },
  {
   "cell_type": "markdown",
   "metadata": {},
   "source": [
    "Create some arrays to keep track of the optimisation routine"
   ]
  },
  {
   "cell_type": "code",
   "execution_count": 15,
   "metadata": {},
   "outputs": [],
   "source": [
    "op.J_progress = []\n",
    "op.dJdm_progress = []"
   ]
  },
  {
   "cell_type": "markdown",
   "metadata": {},
   "source": [
    "Sum over all subfaults to get the total QoI.\n",
    "By unrolling the tape, we can easily express the reduced functional as a function of the active controls.\n",
    "Note that we raise a flag which prepares for a subsequent reverse mode propagation."
   ]
  },
  {
   "cell_type": "code",
   "execution_count": 16,
   "metadata": {},
   "outputs": [],
   "source": [
    "def reduced_functional(m):\n",
    "    \"\"\"\n",
    "    Apply the Okada model by unrolling the tape and compute the QoI.\n",
    "    \"\"\"\n",
    "    J = sum(adolc.zos_forward(tape_tag, m, keep=1))\n",
    "    op.J_progress.append(J)\n",
    "    return J"
   ]
  },
  {
   "cell_type": "code",
   "execution_count": 17,
   "metadata": {},
   "outputs": [
    {
     "ename": "AssertionError",
     "evalue": "Replay isn't correct! 72.52823711027973 vs. 0.9745625273141328",
     "output_type": "error",
     "traceback": [
      "\u001b[0;31m---------------------------------------------------------------------------\u001b[0m",
      "\u001b[0;31mAssertionError\u001b[0m                            Traceback (most recent call last)",
      "\u001b[0;32m<ipython-input-17-5d237398f00d>\u001b[0m in \u001b[0;36m<module>\u001b[0;34m\u001b[0m\n\u001b[1;32m      1\u001b[0m \u001b[0mJ\u001b[0m \u001b[0;34m=\u001b[0m \u001b[0mreduced_functional\u001b[0m\u001b[0;34m(\u001b[0m\u001b[0mop\u001b[0m\u001b[0;34m.\u001b[0m\u001b[0minput_vector\u001b[0m\u001b[0;34m)\u001b[0m\u001b[0;34m\u001b[0m\u001b[0;34m\u001b[0m\u001b[0m\n\u001b[0;32m----> 2\u001b[0;31m \u001b[0;32massert\u001b[0m \u001b[0mnp\u001b[0m\u001b[0;34m.\u001b[0m\u001b[0misclose\u001b[0m\u001b[0;34m(\u001b[0m\u001b[0mJ\u001b[0m\u001b[0;34m,\u001b[0m \u001b[0mop\u001b[0m\u001b[0;34m.\u001b[0m\u001b[0mJ\u001b[0m\u001b[0;34m.\u001b[0m\u001b[0mval\u001b[0m\u001b[0;34m)\u001b[0m\u001b[0;34m,\u001b[0m \u001b[0;34mf\"Replay isn't correct! {J} vs. {op.J.val}\"\u001b[0m\u001b[0;34m\u001b[0m\u001b[0;34m\u001b[0m\u001b[0m\n\u001b[0m",
      "\u001b[0;31mAssertionError\u001b[0m: Replay isn't correct! 72.52823711027973 vs. 0.9745625273141328"
     ]
    }
   ],
   "source": [
    "J = reduced_functional(op.input_vector)\n",
    "assert np.isclose(J, op.J.val), f\"Replay isn't correct! {J} vs. {op.J.val}\""
   ]
  },
  {
   "cell_type": "markdown",
   "metadata": {},
   "source": [
    "The reverse mode of AD computes\n",
    "\n",
    "$$\n",
    "    \\mathbf m_b:=\\frac{\\mathrm dJ}{\\mathrm d\\mathbf m}^T\\:J_b,\n",
    "$$\n",
    "\n",
    "where $J_b$ is a scalar *seed* and $\\mathbf m_b$ is of the same dimension as the control parameter vector.\n",
    "Therefore we can propagate through the reverse mode of AD to get the gradient by choosing a unit seed."
   ]
  },
  {
   "cell_type": "code",
   "execution_count": null,
   "metadata": {},
   "outputs": [],
   "source": [
    "def gradient(m):\n",
    "    \"\"\"\n",
    "    Compute the gradient of the QoI with respect to the input parameters.\n",
    "    \"\"\"\n",
    "    dJdm = adolc.fos_reverse(tape_tag, 1.0)\n",
    "    op.dJdm_progress.append(vecnorm(dJdm, order=np.Inf))\n",
    "    return dJdm"
   ]
  },
  {
   "cell_type": "code",
   "execution_count": null,
   "metadata": {},
   "outputs": [],
   "source": [
    "g = gradient(op.input_vector)\n",
    "assert len(g) == len(op.input_vector)\n",
    "print(\"J = {:.4e}  ||dJdm|| = {:.4e}\".format(op.J_progress[-1], op.dJdm_progress[-1]))\n",
    "# assert np.isclose(op.dJdm_progress[-1], 7.8922e-03, rtol=1.0e-04)  # from previous run"
   ]
  },
  {
   "cell_type": "code",
   "execution_count": null,
   "metadata": {},
   "outputs": [],
   "source": [
    "eta_pert = op.fault.dtopo.dZ.copy()\n",
    "eta_pert = op.fault.dtopo.dZ.reshape(N, N)"
   ]
  },
  {
   "cell_type": "markdown",
   "metadata": {},
   "source": [
    "Check that the function stored to tape evaluates as it should"
   ]
  },
  {
   "cell_type": "code",
   "execution_count": null,
   "metadata": {},
   "outputs": [],
   "source": [
    "fig, axes = plt.subplots(figsize=(7, 7))\n",
    "cbar = fig.colorbar(axes.contourf(X, Y, eta, **plotting_kwargs), ax=axes);\n",
    "cbar.set_label(r\"Elevation [$\\mathrm m$]\", fontsize=fontsize)\n",
    "cbar.ax.tick_params(labelsize=tick_fontsize);\n",
    "axes.set_xlabel(\"Longitude\", fontsize=fontsize);\n",
    "axes.set_ylabel(\"Latitude\", fontsize=fontsize);\n",
    "use_degrees(axes)\n",
    "for tick in axes.xaxis.get_major_ticks():\n",
    "    tick.label.set_fontsize(tick_fontsize);\n",
    "for tick in axes.yaxis.get_major_ticks():\n",
    "    tick.label.set_fontsize(tick_fontsize);\n",
    "plt.tight_layout()\n",
    "plt.savefig(\"plots/notebook_6c_original_source.jpg\")\n",
    "\n",
    "fig, axes = plt.subplots(figsize=(7, 7))\n",
    "cbar = fig.colorbar(axes.contourf(X, Y, eta_pert, **plotting_kwargs), ax=axes);\n",
    "cbar.ax.tick_params(labelsize=tick_fontsize);\n",
    "cbar.set_label(r\"Elevation [$\\mathrm m$]\", fontsize=fontsize)\n",
    "axes.set_xlabel(\"Longitude\", fontsize=fontsize);\n",
    "axes.set_ylabel(\"Latitude\", fontsize=fontsize);\n",
    "use_degrees(axes)\n",
    "for tick in axes.xaxis.get_major_ticks():\n",
    "    tick.label.set_fontsize(tick_fontsize);\n",
    "for tick in axes.yaxis.get_major_ticks():\n",
    "    tick.label.set_fontsize(tick_fontsize);\n",
    "plt.tight_layout()\n",
    "plt.savefig(\"plots/notebook_6c_perturbed_source.jpg\")"
   ]
  },
  {
   "cell_type": "markdown",
   "metadata": {},
   "source": [
    "### Taylor test\n",
    "\n",
    "Before attempting gradient-based optimisation, we better check that our gradient function is consistent."
   ]
  },
  {
   "cell_type": "code",
   "execution_count": null,
   "metadata": {},
   "outputs": [],
   "source": [
    "taylor_test(reduced_functional, gradient, op.input_vector, verbose=True)"
   ]
  },
  {
   "cell_type": "markdown",
   "metadata": {},
   "source": [
    "### Inversion\n",
    "\n",
    "Now we are ready to do the gradient-based optimisation.\n",
    "Here we use BFGS and require that the gradient norm is smaller than $10^{-8}$ for convergence."
   ]
  },
  {
   "cell_type": "code",
   "execution_count": null,
   "metadata": {},
   "outputs": [],
   "source": [
    "# Reset progress arrays\n",
    "op.J_progress = []\n",
    "op.dJdm_progress = []\n",
    "\n",
    "def opt_cb(m):\n",
    "    \"\"\"\n",
    "    Print progress after every successful line search.\n",
    "    \"\"\"\n",
    "    msg = \"{:4d}: J = {:.4e}  ||dJdm|| = {:.4e}\"\n",
    "    counter = len(op.J_progress)\n",
    "    if counter % 10 == 0:\n",
    "        print(msg.format(counter, op.J_progress[-1], op.dJdm_progress[-1]))\n",
    "\n",
    "bounds = [bound for subfault in op.subfaults for bound in [(0, np.Inf), (-np.Inf, np.Inf), (-np.Inf, np.Inf), (0, np.Inf)]]\n",
    "opt_parameters = {\n",
    "    'maxiter': 40000,\n",
    "    'disp': True,\n",
    "    'pgtol': 1.0e-08,\n",
    "    'callback': opt_cb,\n",
    "    'bounds': bounds,\n",
    "    'fprime': gradient,\n",
    "}\n",
    "\n",
    "m_opt, J_opt, out = scipy.optimize.fmin_l_bfgs_b(reduced_functional, op.input_vector, **opt_parameters)"
   ]
  },
  {
   "cell_type": "code",
   "execution_count": null,
   "metadata": {},
   "outputs": [],
   "source": [
    "np.save(\"notebook_6c_m_opt.npy\", m_opt)\n",
    "np.save(\"notebook_6c_J_progress.npy\", op.J_progress)\n",
    "np.save(\"notebook_6c_dJdm_progress.npy\", op.dJdm_progress)"
   ]
  },
  {
   "cell_type": "markdown",
   "metadata": {},
   "source": [
    "Let's take a look at the progress of the reduced functional and gradient"
   ]
  },
  {
   "cell_type": "code",
   "execution_count": null,
   "metadata": {},
   "outputs": [],
   "source": [
    "op.J_progress = np.load(\"notebook_6c_J_progress.npy\")\n",
    "op.dJdm_progress = np.load(\"notebook_6c_dJdm_progress.npy\")\n",
    "\n",
    "fig, axes = plt.subplots()\n",
    "axes.semilogy(op.J_progress);\n",
    "axes.set_xlabel(\"Iteration\", fontsize=fontsize);\n",
    "axes.set_ylabel(\"Mean square error\", fontsize=fontsize);\n",
    "for tick in axes.xaxis.get_major_ticks():\n",
    "    tick.label.set_fontsize(tick_fontsize);\n",
    "for tick in axes.yaxis.get_major_ticks():\n",
    "    tick.label.set_fontsize(tick_fontsize);\n",
    "axes.grid(True);\n",
    "plt.tight_layout()\n",
    "plt.savefig(\"plots/notebook_6c_J_progress.pdf\")\n",
    "\n",
    "fig, axes = plt.subplots()\n",
    "axes.semilogy(op.dJdm_progress);\n",
    "axes.set_xlabel(\"Iteration\", fontsize=fontsize);\n",
    "axes.set_ylabel(r\"$\\ell_\\infty$-norm of gradient\", fontsize=fontsize);\n",
    "for tick in axes.xaxis.get_major_ticks():\n",
    "    tick.label.set_fontsize(tick_fontsize);\n",
    "for tick in axes.yaxis.get_major_ticks():\n",
    "    tick.label.set_fontsize(tick_fontsize);\n",
    "axes.grid(True);\n",
    "plt.tight_layout()\n",
    "plt.savefig(\"plots/notebook_6c_dJdm_progress.pdf\")"
   ]
  },
  {
   "cell_type": "markdown",
   "metadata": {},
   "source": [
    "Compare the optimised parameters, `m_opt`, against the original ones, `m_orig`."
   ]
  },
  {
   "cell_type": "code",
   "execution_count": null,
   "metadata": {},
   "outputs": [],
   "source": [
    "m_opt = np.load(\"notebook_6c_m_opt.npy\")\n",
    "m_orig = np.load(\"notebook_6c_m_orig.npy\")\n",
    "diff = m_opt - m_orig\n",
    "print(\"Mean square error of controls = {:.4e}\".format(np.linalg.norm(diff)**2/len(m_opt)))"
   ]
  },
  {
   "cell_type": "code",
   "execution_count": null,
   "metadata": {},
   "outputs": [],
   "source": [
    "diff = diff.reshape(op.nx*op.ny, len(op.active_controls))\n",
    "m_orig = m_orig.reshape(op.nx*op.ny, len(op.active_controls))\n",
    "m_opt = m_opt.reshape(op.nx*op.ny, len(op.active_controls))"
   ]
  },
  {
   "cell_type": "code",
   "execution_count": null,
   "metadata": {},
   "outputs": [],
   "source": [
    "fig, axes = plt.subplots(figsize=(7, 7))\n",
    "labels = [control.capitalize() for control in op.active_controls]\n",
    "colours = ['C0', 'C9', 'C1', 'C2']\n",
    "axes.hist(diff, bins=21, histtype='bar', density=True, stacked=True, label=labels, color=colours);\n",
    "plt.yscale('log');\n",
    "use_degrees(axes, x=True, y=False)\n",
    "axes.set_xlabel(\"Difference in control parameter\");\n",
    "axes.set_ylabel(\"Number of control parameters\");\n",
    "axes.grid(True)\n",
    "axes.legend()\n",
    "plt.tight_layout()\n",
    "plt.savefig(\"plots/notebook_6c_histogram.pdf\")"
   ]
  },
  {
   "cell_type": "code",
   "execution_count": null,
   "metadata": {},
   "outputs": [],
   "source": [
    "# for j, row in enumerate(diff):\n",
    "#     print(\"{:3d}: {:8.4f}, {:8.4f}\".format(j, *row))"
   ]
  },
  {
   "cell_type": "code",
   "execution_count": null,
   "metadata": {},
   "outputs": [],
   "source": [
    "msg = \"Maximum pointwise difference: {:.4f} degree difference in {:s} on subfault {:d}\"\n",
    "loc = np.unravel_index(np.argmax(np.abs(diff), axis=None), diff.shape)\n",
    "print(msg.format(diff[loc], op.active_controls[loc[1]], loc[0]))"
   ]
  },
  {
   "cell_type": "code",
   "execution_count": null,
   "metadata": {},
   "outputs": [],
   "source": [
    "rel_diff = diff.copy()\n",
    "for i in range(len(op.active_controls)):\n",
    "    rel_diff[:, i] /= np.abs(m_orig[:, 0].max())\n",
    "rel_diff *= 100"
   ]
  },
  {
   "cell_type": "code",
   "execution_count": null,
   "metadata": {},
   "outputs": [],
   "source": [
    "fig, axes = plt.subplots(figsize=(7, 7))\n",
    "colours = ['C0', 'C9', 'C1', 'C2']\n",
    "markers = ['o', 'x', '+', 's']\n",
    "for i, (control, colour, marker) in enumerate(zip(op.active_controls, colours, markers)):\n",
    "    axes.plot(m_orig[:, 0], rel_diff[:, i], marker, label=control.capitalize(), color=colour)\n",
    "axes.grid(True);\n",
    "axes.set_xlabel(\"Target slip [$\\mathrm m$]\")\n",
    "axes.set_ylabel(\"Relative difference\")\n",
    "axes.set_yticks([-40, -20, 0, 20, 40])\n",
    "use_percent(axes, x=False, y=True)\n",
    "\n",
    "axes.legend()\n",
    "plt.tight_layout()\n",
    "plt.savefig(\"plots/notebook_6c_slip_vs_diff.pdf\")"
   ]
  },
  {
   "cell_type": "code",
   "execution_count": null,
   "metadata": {},
   "outputs": [],
   "source": [
    "fig, axes = plt.subplots(figsize=(6, 5))\n",
    "for i, (control, colour, marker) in enumerate(zip(op.active_controls, colours, markers)):\n",
    "    axes.plot(m_orig[:, 1], diff[:, i], marker, label=control.capitalize(), color=colour)\n",
    "axes.grid(True);\n",
    "axes.set_xlabel(\"Target rake\")\n",
    "axes.set_ylabel(\"Relative difference\")\n",
    "axes.set_xticks([30, 45, 60, 75, 90])\n",
    "use_percent(axes, x=False, y=True)\n",
    "use_degrees(axes, x=True, y=False)\n",
    "# axes.legend()\n",
    "plt.tight_layout()\n",
    "plt.savefig(\"plots/notebook_6c_rake_vs_diff.pdf\")"
   ]
  },
  {
   "cell_type": "code",
   "execution_count": null,
   "metadata": {},
   "outputs": [],
   "source": [
    "m_opt = np.load(\"notebook_6c_m_opt.npy\")\n",
    "m_opt = m_opt.reshape(op.nx*op.ny, len(op.active_controls))\n",
    "for i, control in enumerate(op.active_controls):\n",
    "    kwargs['control_parameters'][control] = m_opt[:, i]"
   ]
  },
  {
   "cell_type": "code",
   "execution_count": null,
   "metadata": {},
   "outputs": [],
   "source": [
    "# kwargs['control_parameters']['slip'] = kwargs['control_parameters']['Slip']\n",
    "# kwargs['control_parameters']['rake'] = kwargs['control_parameters']['Rake']"
   ]
  },
  {
   "cell_type": "code",
   "execution_count": null,
   "metadata": {},
   "outputs": [],
   "source": [
    "op = TohokuOkadaBasisOptions(**kwargs)\n",
    "op.active_controls = active_controls\n",
    "op.create_topography()"
   ]
  },
  {
   "cell_type": "code",
   "execution_count": null,
   "metadata": {},
   "outputs": [],
   "source": [
    "eta_opt = op.fault.dtopo.dZ.reshape(N, N)\n",
    "eta_err = np.abs(eta - eta_opt)*1000\n",
    "\n",
    "fig, axes = plt.subplots(figsize=(7, 7))\n",
    "cbar = fig.colorbar(axes.contourf(X, Y, eta_opt, **plotting_kwargs), ax=axes);\n",
    "cbar.ax.tick_params(labelsize=tick_fontsize);\n",
    "cbar.set_label(r'Elevation [$\\mathrm m$]', size=fontsize);\n",
    "axes.set_xlabel(\"Longitude\", fontsize=fontsize);\n",
    "axes.set_ylabel(\"Latitude\", fontsize=fontsize);\n",
    "use_degrees(axes)\n",
    "for tick in axes.xaxis.get_major_ticks():\n",
    "    tick.label.set_fontsize(tick_fontsize);\n",
    "for tick in axes.yaxis.get_major_ticks():\n",
    "    tick.label.set_fontsize(tick_fontsize);\n",
    "plt.tight_layout()\n",
    "plt.savefig(\"plots/notebook_6c_optimised_source.jpg\")\n",
    "\n",
    "fig, axes = plt.subplots(figsize=(7, 7))\n",
    "cbar = fig.colorbar(axes.contourf(X, Y, eta_err, **plotting_kwargs), ax=axes);\n",
    "cbar.ax.tick_params(labelsize=tick_fontsize);\n",
    "cbar.set_label(r'Elevation [$\\mathrm{mm}$]', size=fontsize);\n",
    "axes.set_xlabel(\"Longitude\", fontsize=fontsize);\n",
    "axes.set_ylabel(\"Latitude\", fontsize=fontsize);\n",
    "use_degrees(axes)\n",
    "for tick in axes.xaxis.get_major_ticks():\n",
    "    tick.label.set_fontsize(tick_fontsize);\n",
    "for tick in axes.yaxis.get_major_ticks():\n",
    "    tick.label.set_fontsize(tick_fontsize);\n",
    "plt.tight_layout()\n",
    "plt.savefig(\"plots/notebook_6c_pointwise_error.jpg\")"
   ]
  },
  {
   "cell_type": "code",
   "execution_count": null,
   "metadata": {},
   "outputs": [],
   "source": []
  }
 ],
 "metadata": {
  "kernelspec": {
   "display_name": "Python 3",
   "language": "python",
   "name": "python3"
  },
  "language_info": {
   "codemirror_mode": {
    "name": "ipython",
    "version": 3
   },
   "file_extension": ".py",
   "mimetype": "text/x-python",
   "name": "python",
   "nbconvert_exporter": "python",
   "pygments_lexer": "ipython3",
   "version": "3.8.5"
  }
 },
 "nbformat": 4,
 "nbformat_minor": 4
}
