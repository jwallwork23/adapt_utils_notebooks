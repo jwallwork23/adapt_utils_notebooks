{
 "cells": [
  {
   "cell_type": "markdown",
   "metadata": {},
   "source": [
    "# Tohoku tsunami inversion\n",
    "\n",
    "Try solving the shallow water equations *without* using a mixed space.\n",
    "Apply Explicit Euler to each component and solve iteratively."
   ]
  },
  {
   "cell_type": "code",
   "execution_count": 1,
   "metadata": {},
   "outputs": [],
   "source": [
    "%matplotlib inline"
   ]
  },
  {
   "cell_type": "code",
   "execution_count": 2,
   "metadata": {},
   "outputs": [],
   "source": [
    "from thetis import *\n",
    "from firedrake_adjoint import *"
   ]
  },
  {
   "cell_type": "code",
   "execution_count": 3,
   "metadata": {},
   "outputs": [],
   "source": [
    "import matplotlib.pyplot as plt"
   ]
  },
  {
   "cell_type": "code",
   "execution_count": 4,
   "metadata": {},
   "outputs": [],
   "source": [
    "from adapt_utils.case_studies.tohoku.options.options import TohokuInversionOptions\n",
    "from adapt_utils.misc import gaussian, ellipse"
   ]
  },
  {
   "cell_type": "code",
   "execution_count": 5,
   "metadata": {
    "code_folding": [
     0
    ]
   },
   "outputs": [],
   "source": [
    "def plot_field(field, figure=None, axes=None, height=5, **kwargs):\n",
    "    CG1 = field.ufl_element().degree() == 1 and field.ufl_element().family() == 'Lagrange'\n",
    "    fs_constructor = FunctionSpace if len(field.function_space().shape) == 0 else VectorFunctionSpace\n",
    "    out = field if CG1 else interpolate(field, fs_constructor(field.function_space().mesh(), \"CG\", 1))\n",
    "    \n",
    "    if figure is None and axes is None:\n",
    "        figure, axes = plt.subplots(figsize=(height*1.2, height))\n",
    "    if axes is None:\n",
    "        axes = plt.gca()\n",
    "    figure.colorbar(tricontourf(out, levels=50, axes=axes, cmap='coolwarm', **kwargs), ax=axes);\n",
    "    axes.axis(False);\n",
    "    axes.set_title(field.dat.name);\n",
    "    return axes"
   ]
  },
  {
   "cell_type": "markdown",
   "metadata": {},
   "source": [
    "### Forward model"
   ]
  },
  {
   "cell_type": "code",
   "execution_count": 6,
   "metadata": {},
   "outputs": [
    {
     "name": "stdout",
     "output_type": "stream",
     "text": [
      "['801', '802', '803', '804', '806', '807', 'P02', 'P06']\n"
     ]
    }
   ],
   "source": [
    "level = 0\n",
    "op = TohokuInversionOptions(level=level)\n",
    "gauges = list(op.gauges.keys())\n",
    "for gauge in gauges:\n",
    "    if gauge[:2] not in ('P0','80'):\n",
    "        op.gauges.pop(gauge)\n",
    "gauges = list(op.gauges.keys())\n",
    "print(gauges)\n",
    "op.end_time = 60*30\n",
    "op.dt = 2.0"
   ]
  },
  {
   "cell_type": "code",
   "execution_count": 7,
   "metadata": {},
   "outputs": [],
   "source": [
    "mesh = op.default_mesh\n",
    "P2 = VectorFunctionSpace(mesh, \"CG\", 2)\n",
    "P1 = FunctionSpace(mesh, \"CG\", 1)\n",
    "P0 = FunctionSpace(mesh, \"DG\", 0)"
   ]
  },
  {
   "cell_type": "code",
   "execution_count": 8,
   "metadata": {},
   "outputs": [],
   "source": [
    "b = Function(P1).assign(op.set_bathymetry(P1))\n",
    "g = Constant(op.g)\n",
    "f = Function(P1).assign(op.set_coriolis(P1))"
   ]
  },
  {
   "cell_type": "code",
   "execution_count": 9,
   "metadata": {},
   "outputs": [],
   "source": [
    "boundary_conditions = {100: ['freeslip', 'dirichlet'], 200: ['freeslip'], 300: ['freeslip']}"
   ]
  },
  {
   "cell_type": "code",
   "execution_count": 10,
   "metadata": {},
   "outputs": [],
   "source": [
    "dtc = Constant(op.dt)\n",
    "n = FacetNormal(mesh)\n",
    "\n",
    "u = Function(P2)\n",
    "eta = Function(P1)\n",
    "\n",
    "u_trial = TrialFunction(P2)\n",
    "eta_trial = TrialFunction(P1)\n",
    "z = TestFunction(P2)\n",
    "zeta = TestFunction(P1)\n",
    "\n",
    "u_ = Function(P2)\n",
    "eta_ = Function(P1)\n",
    "\n",
    "lhs_u = inner(z, u_trial)*dx\n",
    "rhs_u = inner(z, u_)*dx\n",
    "rhs_u += -dtc*g*inner(z, grad(eta_))*dx\n",
    "rhs_u += -dtc*f*inner(z, as_vector((-u_[1], u_[0])))*dx\n",
    "\n",
    "lhs_eta = inner(zeta, eta_trial)*dx\n",
    "rhs_eta = inner(zeta, eta_)*dx\n",
    "rhs_eta += dtc*inner(grad(zeta), b*u_)*dx\n",
    "\n",
    "bcs = [\n",
    "    DirichletBC(P1, 0, tag)\n",
    "    for tag in boundary_conditions\n",
    "    if \"dirichlet\" in boundary_conditions[tag]\n",
    "]\n",
    "\n",
    "params = {\n",
    "    \"snes_type\": \"ksponly\",\n",
    "    \"ksp_type\": \"gmres\",\n",
    "    \"pc_type\": \"sor\",\n",
    "}\n",
    "u_prob = LinearVariationalProblem(lhs_u, rhs_u, u, bcs=[])\n",
    "eta_prob = LinearVariationalProblem(lhs_eta, rhs_eta, eta, bcs=bcs)\n",
    "u_solver = LinearVariationalSolver(u_prob, solver_parameters=params)\n",
    "eta_solver = LinearVariationalSolver(eta_prob, solver_parameters=params)"
   ]
  },
  {
   "cell_type": "markdown",
   "metadata": {},
   "source": [
    "# Source model"
   ]
  },
  {
   "cell_type": "code",
   "execution_count": 11,
   "metadata": {},
   "outputs": [
    {
     "data": {
      "image/png": "[encoded data removed]",
      "text/plain": [
       "<Figure size 432x360 with 2 Axes>"
      ]
     },
     "metadata": {
      "needs_background": "light"
     },
     "output_type": "display_data"
    }
   ],
   "source": [
    "eta0 = Function(P1)\n",
    "loc = (0.7e+06, 4.2e+06)\n",
    "radii = (48e+03, 96e+03)\n",
    "angle = pi/12\n",
    "eta0.interpolate(10*gaussian([loc + radii], mesh, rotation=angle))\n",
    "\n",
    "eta0.dat.name = \"Initial surface\"\n",
    "axes = plot_field(eta0);\n",
    "xg, yg = op.gauges[\"P02\"][\"coords\"]\n",
    "axes.set_xlim([xg - 0.3e+06, xg + 0.3e+06]);\n",
    "axes.set_ylim([yg - 0.35e+06, yg + 0.35e+06]);\n",
    "op.annotate_plot(axes)"
   ]
  },
  {
   "cell_type": "markdown",
   "metadata": {},
   "source": [
    "## Forward solve\n",
    "\n",
    "Now run the forward model, time integrating the QoI as time progresses."
   ]
  },
  {
   "cell_type": "code",
   "execution_count": 12,
   "metadata": {},
   "outputs": [],
   "source": [
    "def solve_forward(init):\n",
    "    u_.assign(0.0)\n",
    "    eta_.assign(init)\n",
    "    t = 0.0\n",
    "    J = 0\n",
    "    iteration = 0\n",
    "    wq = Constant(0.5)\n",
    "    eta_obs = Constant(0.0)\n",
    "    for gauge in gauges:\n",
    "        op.gauges[gauge]['init'] = None\n",
    "        if t < op.gauges[gauge]['arrival_time']:\n",
    "                continue\n",
    "        op.gauges[gauge]['init'] = eta_.at(op.gauges[gauge]['coords'])\n",
    "        eta_obs.assign(op.gauges[gauge]['init'])\n",
    "        J = J + assemble(wq*op.gauges[gauge]['indicator']*(eta - eta_obs)**2*dx)\n",
    "    while t < op.end_time:\n",
    "        if iteration % 30 == 0:\n",
    "            print(\"t = {:2.0f} mins\".format(t/60))\n",
    "\n",
    "        # Solve forward equation at current timestep\n",
    "        u_solver.solve()\n",
    "        eta_solver.solve()\n",
    "        u_.assign(u)\n",
    "        eta_.assign(eta)\n",
    "        t += op.dt\n",
    "        iteration += 1\n",
    "\n",
    "        # Time integrate QoI\n",
    "        for gauge in op.gauges:\n",
    "            if t < op.gauges[gauge]['arrival_time']:\n",
    "                continue\n",
    "            elif np.isclose(t, op.gauges[gauge]['arrival_time']):\n",
    "                wq.assign(0.5*0.5*op.dt)\n",
    "            elif np.isclose(t, op.gauges[gauge]['departure_time']):\n",
    "                wq.assign(0.5*0.5*op.dt)\n",
    "            elif t > op.gauges[gauge]['departure_time']:\n",
    "                continue\n",
    "            else:\n",
    "                wq.assign(0.5*1.0*op.dt)\n",
    "                \n",
    "            # Interpolate observations\n",
    "            if op.gauges[gauge]['init'] is None:\n",
    "                op.gauges[gauge]['init'] = eta.at(op.gauges[gauge]['coords'])\n",
    "            eta_obs.assign(float(op.gauges[gauge]['interpolator'](t)) + op.gauges[gauge]['init'])\n",
    "\n",
    "            # Continuous form of error\n",
    "            J = J + assemble(wq*op.gauges[gauge]['indicator']*(eta - eta_obs)**2*dx)\n",
    "\n",
    "    assert np.allclose(t, op.end_time), \"mismatching end time ({:.2f} vs {:.2f})\".format(t, op.end_time)\n",
    "    return J"
   ]
  },
  {
   "cell_type": "markdown",
   "metadata": {},
   "source": [
    "Define gauge indicators"
   ]
  },
  {
   "cell_type": "code",
   "execution_count": 13,
   "metadata": {},
   "outputs": [],
   "source": [
    "radius = 20.0e+03*pow(0.5, level)  # The finer the mesh, the more precise the indicator region\n",
    "for gauge in gauges:\n",
    "    loc = op.gauges[gauge][\"coords\"]\n",
    "    op.gauges[gauge]['indicator'] = interpolate(ellipse([loc + (radius,)], mesh), P0)\n",
    "    area = assemble(op.gauges[gauge]['indicator']*dx)\n",
    "    op.gauges[gauge]['indicator'].assign(op.gauges[gauge]['indicator']/area)\n",
    "    op.sample_timeseries(gauge, sample=op.gauges[gauge]['sample'], detide=True)"
   ]
  },
  {
   "cell_type": "code",
   "execution_count": 14,
   "metadata": {},
   "outputs": [
    {
     "name": "stdout",
     "output_type": "stream",
     "text": [
      "t = 0.00\n",
      "t = 60.00\n",
      "t = 120.00\n",
      "t = 180.00\n",
      "t = 240.00\n",
      "t = 300.00\n",
      "t = 360.00\n",
      "t = 420.00\n",
      "t = 480.00\n",
      "t = 540.00\n",
      "t = 600.00\n",
      "t = 660.00\n",
      "t = 720.00\n",
      "t = 780.00\n",
      "t = 840.00\n",
      "t = 900.00\n",
      "t = 960.00\n",
      "t = 1020.00\n",
      "t = 1080.00\n",
      "t = 1140.00\n",
      "t = 1200.00\n",
      "t = 1260.00\n",
      "t = 1320.00\n",
      "t = 1380.00\n",
      "t = 1440.00\n",
      "t = 1500.00\n",
      "t = 1560.00\n",
      "t = 1620.00\n",
      "t = 1680.00\n",
      "t = 1740.00\n",
      "Quantity of interest = 2.1358e+04\n"
     ]
    }
   ],
   "source": [
    "J = solve_forward(eta0)\n",
    "print(\"Quantity of interest = {:.4e}\".format(J))"
   ]
  },
  {
   "cell_type": "code",
   "execution_count": 15,
   "metadata": {},
   "outputs": [
    {
     "data": {
      "text/plain": [
       "<AxesSubplot:title={'center':'Free surface'}>"
      ]
     },
     "execution_count": 15,
     "metadata": {},
     "output_type": "execute_result"
    },
    {
     "data": {
      "image/png": "[encoded data removed]",
      "text/plain": [
       "<Figure size 432x360 with 2 Axes>"
      ]
     },
     "metadata": {
      "needs_background": "light"
     },
     "output_type": "display_data"
    }
   ],
   "source": [
    "eta.dat.name = 'Free surface'\n",
    "plot_field(eta)"
   ]
  },
  {
   "cell_type": "markdown",
   "metadata": {},
   "source": [
    "## Discrete adjoint\n",
    "\n",
    "Note that we only Taylor test the elevation and effectively zero out the perturbation away from the source."
   ]
  },
  {
   "cell_type": "code",
   "execution_count": 17,
   "metadata": {},
   "outputs": [],
   "source": [
    "c = Control(eta0)"
   ]
  },
  {
   "cell_type": "code",
   "execution_count": 18,
   "metadata": {},
   "outputs": [],
   "source": [
    "stop_annotating();"
   ]
  },
  {
   "cell_type": "code",
   "execution_count": 19,
   "metadata": {},
   "outputs": [],
   "source": [
    "Jhat = ReducedFunctional(J, c)"
   ]
  },
  {
   "cell_type": "code",
   "execution_count": 20,
   "metadata": {},
   "outputs": [
    {
     "name": "stdout",
     "output_type": "stream",
     "text": [
      "Running Taylor test\n",
      "epsilon 1.0000e-02  residual 6.4904e-01\n",
      "epsilon 5.0000e-03  residual 1.6219e-01\n",
      "epsilon 2.5000e-03  residual 4.0516e-02\n",
      "epsilon 1.2500e-03  residual 1.0113e-02\n",
      "Computed residuals: [0.649036058665672, 0.1621904613006393, 0.040516173899234786, 0.010112709481838067]\n",
      "Computed convergence rates: [2.000609657956896, 2.0011191283301493, 2.0023283532628797]\n"
     ]
    }
   ],
   "source": [
    "np.random.seed(0)\n",
    "m0 = Function(P1).assign(eta0)\n",
    "dm0 = Function(P1)\n",
    "dm0.dat.data[:] = np.random.rand(*dm0.dat.data.shape)*m0.dat.data\n",
    "m0 += dm0\n",
    "minconv = taylor_test(Jhat, m0, dm0)\n",
    "assert minconv > 1.90, minconv"
   ]
  },
  {
   "cell_type": "code",
   "execution_count": null,
   "metadata": {},
   "outputs": [],
   "source": []
  }
 ],
 "metadata": {
  "kernelspec": {
   "display_name": "Python 3",
   "language": "python",
   "name": "python3"
  },
  "language_info": {
   "codemirror_mode": {
    "name": "ipython",
    "version": 3
   },
   "file_extension": ".py",
   "mimetype": "text/x-python",
   "name": "python",
   "nbconvert_exporter": "python",
   "pygments_lexer": "ipython3",
   "version": "3.6.9"
  }
 },
 "nbformat": 4,
 "nbformat_minor": 4
}
