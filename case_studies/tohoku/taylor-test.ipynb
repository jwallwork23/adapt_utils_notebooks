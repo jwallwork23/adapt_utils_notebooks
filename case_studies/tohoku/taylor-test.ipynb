{
 "cells": [
  {
   "cell_type": "code",
   "execution_count": 1,
   "metadata": {},
   "outputs": [],
   "source": [
    "%matplotlib inline"
   ]
  },
  {
   "cell_type": "code",
   "execution_count": 2,
   "metadata": {},
   "outputs": [],
   "source": [
    "from thetis import *\n",
    "from firedrake_adjoint import *"
   ]
  },
  {
   "cell_type": "code",
   "execution_count": 3,
   "metadata": {},
   "outputs": [],
   "source": [
    "import matplotlib.pyplot as plt\n",
    "import numpy as np"
   ]
  },
  {
   "cell_type": "code",
   "execution_count": 4,
   "metadata": {},
   "outputs": [],
   "source": [
    "from adapt_utils.unsteady.solver_adjoint import AdaptiveDiscreteAdjointProblem\n",
    "from adapt_utils.case_studies.tohoku.options.box_options import TohokuBoxBasisOptions\n",
    "from adapt_utils.case_studies.tohoku.options.radial_options import TohokuRadialBasisOptions"
   ]
  },
  {
   "cell_type": "markdown",
   "metadata": {},
   "source": [
    "### Taylor test tsunami propagation\n",
    "\n",
    "First, solve forward for a short amount of time and check that the we can accurately compute the gradient of the norm of the final solution tuple w.r.t. the initial solution tuple."
   ]
  },
  {
   "cell_type": "code",
   "execution_count": 5,
   "metadata": {},
   "outputs": [],
   "source": [
    "kwargs = {\n",
    "    'level': 0,\n",
    "    'end_time': 60,\n",
    "    'debug': True,\n",
    "    'debug_mode': 'light',\n",
    "}\n",
    "nonlinear = False"
   ]
  },
  {
   "cell_type": "code",
   "execution_count": 6,
   "metadata": {},
   "outputs": [
    {
     "name": "stderr",
     "output_type": "stream",
     "text": [
      "INIT: Loading mesh...\n",
      "WARNING: Removing gauge class far_field_pressure due to late arrival time.\n",
      "WARNING: Removing gauge class southern_pressure due to late arrival time.\n",
      "INIT: Checking validity of gauge coordinates...\n",
      "INIT: QoI normalisation factor (in time): 2.5253e-05\n",
      "INIT: overall QoI normalisation factor: 2.5253e-05\n",
      "INIT: Assigning control parameter values...\n",
      "********************************************************************************\n",
      "AdaptiveDiscreteAdjointProblem initialisation begin\n",
      "********************************************************************************\n",
      "\n",
      "SETUP: Setting default meshes...\n",
      "SETUP: Mesh 0 has 15849 elements and 8322 vertices\n",
      "SETUP: Creating finite elements...\n",
      "SETUP: Creating function spaces...\n",
      "SETUP: Creating solutions...\n",
      "SETUP: Creating fields...\n",
      "INIT: Reading bathymetry file...\n",
      "INIT: Creating bathymetry interpolator...\n",
      "INIT: Interpolating bathymetry...\n",
      "INIT: Capping bathymetry...\n",
      "INIT: Computing CFL number on mesh 0...\n",
      "INIT:   dx = 3.1817e+03  dt = 6.0000e+01  CFL number = 5.8199e+00 > 1\n",
      "SETUP: Setting stabilisation parameters...\n",
      "SETUP: Setting boundary conditions...\n",
      "SETUP: Creating output files...\n",
      "INIT: Assembling rotated radial basis function array...\n",
      "INIT: Assembling initial surface...\n",
      "INIT: Subtracting initial surface from bathymetry field...\n",
      "INIT: Interpolating bathymetry...\n",
      "INIT: Capping bathymetry...\n"
     ]
    }
   ],
   "source": [
    "kwargs_src = kwargs.copy()\n",
    "gaussian_scaling = 6.0\n",
    "kwargs_src['control_parameters'] = [gaussian_scaling, ]\n",
    "kwargs_src['nx'], kwargs_src['ny'] = 1, 1\n",
    "op_src = TohokuRadialBasisOptions(**kwargs_src)\n",
    "swp = AdaptiveDiscreteAdjointProblem(op_src, nonlinear=nonlinear)\n",
    "swp.set_initial_condition()\n",
    "f_src = swp.fwd_solutions[0].split()[1]"
   ]
  },
  {
   "cell_type": "markdown",
   "metadata": {},
   "source": [
    "Create another `Options` object on the same mesh which uses a basis array."
   ]
  },
  {
   "cell_type": "code",
   "execution_count": 7,
   "metadata": {},
   "outputs": [
    {
     "name": "stderr",
     "output_type": "stream",
     "text": [
      "INIT: Loading mesh...\n",
      "WARNING: Removing gauge class far_field_pressure due to late arrival time.\n",
      "WARNING: Removing gauge class southern_pressure due to late arrival time.\n",
      "INIT: Checking validity of gauge coordinates...\n",
      "INIT: QoI normalisation factor (in time): 2.5253e-05\n",
      "INIT: overall QoI normalisation factor: 2.5253e-05\n",
      "INIT: Assigning control parameter values...\n"
     ]
    }
   ],
   "source": [
    "op = TohokuBoxBasisOptions(mesh=op_src.default_mesh, **kwargs)\n",
    "# op = TohokuRadialBasisOptions(mesh=op_src.default_mesh, **kwargs)"
   ]
  },
  {
   "cell_type": "markdown",
   "metadata": {},
   "source": [
    "Project the source field into the array basis."
   ]
  },
  {
   "cell_type": "code",
   "execution_count": 8,
   "metadata": {},
   "outputs": [
    {
     "name": "stderr",
     "output_type": "stream",
     "text": [
      "********************************************************************************\n",
      "AdaptiveDiscreteAdjointProblem initialisation begin\n",
      "********************************************************************************\n",
      "\n",
      "SETUP: Setting default meshes...\n",
      "SETUP: Mesh 0 has 15849 elements and 8322 vertices\n",
      "SETUP: Creating finite elements...\n",
      "SETUP: Creating function spaces...\n",
      "SETUP: Creating solutions...\n",
      "SETUP: Creating fields...\n",
      "INIT: Reading bathymetry file...\n",
      "INIT: Creating bathymetry interpolator...\n",
      "INIT: Interpolating bathymetry...\n",
      "INIT: Capping bathymetry...\n",
      "INIT: Computing CFL number on mesh 0...\n",
      "INIT:   dx = 3.1817e+03  dt = 6.0000e+01  CFL number = 5.8199e+00 > 1\n",
      "SETUP: Setting stabilisation parameters...\n",
      "SETUP: Setting boundary conditions...\n",
      "SETUP: Creating output files...\n",
      "INIT: Assembling rotated array of indicator functions...\n",
      "WARNING: basis function 62 has zero mass!\n",
      "WARNING: basis function 84 has zero mass!\n",
      "WARNING: basis function 116 has zero mass!\n",
      "WARNING: basis function 126 has zero mass!\n"
     ]
    }
   ],
   "source": [
    "swp = AdaptiveDiscreteAdjointProblem(op, nonlinear=nonlinear)\n",
    "op.project(swp, f_src)\n",
    "kwargs['control_parameters'] = [m.dat.data[0] for m in op.control_parameters]"
   ]
  },
  {
   "cell_type": "code",
   "execution_count": 9,
   "metadata": {},
   "outputs": [],
   "source": [
    "# tricontourf(op.basis_functions[62].split()[1]);"
   ]
  },
  {
   "cell_type": "code",
   "execution_count": 10,
   "metadata": {},
   "outputs": [],
   "source": [
    "swp.clear_tape()"
   ]
  },
  {
   "cell_type": "code",
   "execution_count": 11,
   "metadata": {},
   "outputs": [
    {
     "name": "stderr",
     "output_type": "stream",
     "text": [
      "INIT: Assembling initial surface...\n",
      "INIT: Subtracting initial surface from bathymetry field...\n",
      "INIT: Interpolating bathymetry...\n",
      "INIT: Capping bathymetry...\n"
     ]
    }
   ],
   "source": [
    "swp.set_initial_condition()"
   ]
  },
  {
   "cell_type": "code",
   "execution_count": 13,
   "metadata": {},
   "outputs": [],
   "source": [
    "init = swp.fwd_solutions[0].copy(deepcopy=True)\n",
    "control = Control(swp.fwd_solutions[0])"
   ]
  },
  {
   "cell_type": "code",
   "execution_count": 14,
   "metadata": {},
   "outputs": [
    {
     "name": "stderr",
     "output_type": "stream",
     "text": [
      "SETUP: Creating forward equations on mesh 0...\n",
      "SETUP: Creating forward timesteppers on mesh 0...\n",
      "SETUP: Adding callbacks on mesh 0...\n",
      "SETUP: Creating CallbackManagers...\n",
      "================================================================================\n",
      "SOLVE: Entering forward timeloop on mesh 0...\n",
      "FORWARD SOLVE  time     0.00  (  0.00) seconds\n",
      "INIT: Applying UTide de-tiding algorithm to gauge 801...\n",
      "INIT: Applying UTide de-tiding algorithm to gauge 802...\n",
      "INIT: Applying UTide de-tiding algorithm to gauge 803...\n",
      "INIT: Applying UTide de-tiding algorithm to gauge 804...\n",
      "INIT: Applying UTide de-tiding algorithm to gauge 806...\n",
      "INIT: Applying UTide de-tiding algorithm to gauge 807...\n",
      "INIT: Applying UTide de-tiding algorithm to gauge P02...\n",
      "INIT: Applying UTide de-tiding algorithm to gauge P06...\n",
      "INIT: Applying UTide de-tiding algorithm to gauge KPG1...\n",
      "INIT: Applying UTide de-tiding algorithm to gauge KPG2...\n",
      "INIT: Applying UTide de-tiding algorithm to gauge 21418...\n",
      "    elevation norm           at time    0.0 =  4.6759e+05\n",
      "    velocity norm            at time    0.0 =  0.0000e+00\n",
      "FORWARD SOLVE  time    60.00  ( 14.82) seconds\n",
      "    elevation norm           at time   60.0 =  4.5321e+05\n",
      "    velocity norm            at time   60.0 =  5.7556e+03\n",
      "================================================================================\n"
     ]
    }
   ],
   "source": [
    "swp.setup_solver_forward_step(0)\n",
    "swp.solve_forward_step(0)"
   ]
  },
  {
   "cell_type": "code",
   "execution_count": 21,
   "metadata": {},
   "outputs": [],
   "source": [
    "# u, eta = init.split()\n",
    "# fig, axes = plt.subplots(figsize=(8, 7))\n",
    "# tricontourf(eta, axes=axes, cmap='coolwarm', levels=50)\n",
    "# axes.axis(False);\n",
    "\n",
    "# u, eta = swp.fwd_solutions[0].split()\n",
    "# fig, axes = plt.subplots(figsize=(8, 7))\n",
    "# tricontourf(eta, axes=axes, cmap='coolwarm', levels=50)\n",
    "# axes.axis(False);"
   ]
  },
  {
   "cell_type": "markdown",
   "metadata": {},
   "source": [
    "QoI: $J=\\int_\\Omega\\mathbf q(\\mathbf x,T)\\cdot\\mathbf q(\\mathbf x,T)\\;\\mathrm dx$\n",
    "\n",
    "Control: $\\mathbf c=\\mathbf q(\\mathbf x,0)$"
   ]
  },
  {
   "cell_type": "code",
   "execution_count": 15,
   "metadata": {},
   "outputs": [],
   "source": [
    "q = swp.fwd_solutions[0]\n",
    "J = assemble(inner(q, q)*dx)\n",
    "Jhat = ReducedFunctional(J, control)"
   ]
  },
  {
   "cell_type": "markdown",
   "metadata": {},
   "source": [
    "Option 1: test the gradient in a random direction for a random initial condition"
   ]
  },
  {
   "cell_type": "code",
   "execution_count": 16,
   "metadata": {},
   "outputs": [],
   "source": [
    "# c = Function(q)\n",
    "# c.dat.data[0][:] = np.random.rand(*c.dat.data[0].shape)\n",
    "# c.dat.data[1][:] = np.random.rand(*c.dat.data[1].shape)"
   ]
  },
  {
   "cell_type": "markdown",
   "metadata": {},
   "source": [
    "Option 2: test the gradient in a random direction at the chosen initial condition"
   ]
  },
  {
   "cell_type": "code",
   "execution_count": 17,
   "metadata": {},
   "outputs": [],
   "source": [
    "c = Function(init)"
   ]
  },
  {
   "cell_type": "code",
   "execution_count": 18,
   "metadata": {},
   "outputs": [],
   "source": [
    "dc = Function(q)\n",
    "dc.dat.data[0][:] = np.random.rand(*dc.dat.data[0].shape)\n",
    "dc.dat.data[1][:] = np.random.rand(*dc.dat.data[1].shape)"
   ]
  },
  {
   "cell_type": "code",
   "execution_count": 19,
   "metadata": {},
   "outputs": [
    {
     "name": "stdout",
     "output_type": "stream",
     "text": [
      "Running Taylor test\n",
      "Computed residuals: [3436683586.907537, 859196252.6811701, 214811672.761926, 53711484.24494616]\n",
      "Computed convergence rates: [1.9999574236396214, 1.9999153103318845, 1.9997698966983544]\n"
     ]
    }
   ],
   "source": [
    "minconv = taylor_test(Jhat, c, dc)\n",
    "assert minconv > 1.90"
   ]
  },
  {
   "cell_type": "markdown",
   "metadata": {},
   "source": [
    "### Timeseries QoI\n",
    "\n",
    "Everything seems to be okay for the simple norm functional. What about the timeseries QoI (that we actually care about)?"
   ]
  },
  {
   "cell_type": "markdown",
   "metadata": {},
   "source": [
    "QoI: $J=\\text{[timeseries misfit]}$\n",
    "\n",
    "Control: $\\mathbf c=\\mathbf q(\\mathbf x,0)$"
   ]
  },
  {
   "cell_type": "code",
   "execution_count": 24,
   "metadata": {},
   "outputs": [],
   "source": [
    "Jhat = ReducedFunctional(op.J, control)"
   ]
  },
  {
   "cell_type": "code",
   "execution_count": 25,
   "metadata": {},
   "outputs": [
    {
     "name": "stdout",
     "output_type": "stream",
     "text": [
      "Running Taylor test\n",
      "Computed residuals: [7.272883430422685e-07, 1.8185597708857077e-07, 4.549420260457722e-08, 1.1393509485495259e-08]\n",
      "Computed convergence rates: [1.9997311091540773, 1.9990417265404195, 1.997470510593494]\n"
     ]
    }
   ],
   "source": [
    "minconv = taylor_test(Jhat, c, dc)\n",
    "assert minconv > 1.90"
   ]
  },
  {
   "cell_type": "code",
   "execution_count": 26,
   "metadata": {},
   "outputs": [],
   "source": [
    "swp.clear_tape()"
   ]
  },
  {
   "cell_type": "markdown",
   "metadata": {},
   "source": [
    "### Projection\n",
    "\n",
    "The forward propagation is okay. What about the projection from box basis to $\\mathbb P2$?"
   ]
  },
  {
   "cell_type": "code",
   "execution_count": 27,
   "metadata": {},
   "outputs": [
    {
     "name": "stderr",
     "output_type": "stream",
     "text": [
      "INIT: Assigning control parameter values...\n"
     ]
    }
   ],
   "source": [
    "# control_values = np.random.rand(len(op.control_parameters))\n",
    "control_values = [m.dat.data[0] for m in op.control_parameters]\n",
    "op.assign_control_parameters(control_values)\n",
    "controls = [Control(m) for m in op.control_parameters]"
   ]
  },
  {
   "cell_type": "code",
   "execution_count": 28,
   "metadata": {},
   "outputs": [
    {
     "name": "stderr",
     "output_type": "stream",
     "text": [
      "INIT: Assembling initial surface...\n",
      "INIT: Subtracting initial surface from bathymetry field...\n",
      "INIT: Interpolating bathymetry...\n",
      "INIT: Capping bathymetry...\n"
     ]
    }
   ],
   "source": [
    "swp.set_initial_condition()"
   ]
  },
  {
   "cell_type": "markdown",
   "metadata": {},
   "source": [
    "QoI: $J=\\int_\\Omega\\mathbf q(\\mathbf x,T)\\cdot\\mathbf q(\\mathbf x,T)\\;\\mathrm dx$\n",
    "\n",
    "Control: $\\mathbf c=\\text{[basis coefficients for source]}$"
   ]
  },
  {
   "cell_type": "code",
   "execution_count": 29,
   "metadata": {},
   "outputs": [],
   "source": [
    "q = swp.fwd_solutions[0]\n",
    "J = assemble(inner(q, q)*dx)\n",
    "Jhat = ReducedFunctional(J, controls)"
   ]
  },
  {
   "cell_type": "markdown",
   "metadata": {},
   "source": [
    "Option 1: test the gradient in a random direction for a random initial condition"
   ]
  },
  {
   "cell_type": "code",
   "execution_count": 30,
   "metadata": {},
   "outputs": [],
   "source": [
    "# c = [Function(m) for m in op.control_parameters]\n",
    "# for m in c:\n",
    "#     m.dat.data[0] = np.random.random()"
   ]
  },
  {
   "cell_type": "markdown",
   "metadata": {},
   "source": [
    "Option 2: test the gradient in a random direction at the chosen initial condition"
   ]
  },
  {
   "cell_type": "code",
   "execution_count": 33,
   "metadata": {},
   "outputs": [],
   "source": [
    "c = [Function(m) for m in op.control_parameters]"
   ]
  },
  {
   "cell_type": "code",
   "execution_count": 31,
   "metadata": {},
   "outputs": [],
   "source": [
    "dc = [Function(m) for m in op.control_parameters]\n",
    "for m in dc:\n",
    "    m.dat.data[0] = np.random.random()"
   ]
  },
  {
   "cell_type": "code",
   "execution_count": 34,
   "metadata": {},
   "outputs": [
    {
     "name": "stdout",
     "output_type": "stream",
     "text": [
      "Running Taylor test\n",
      "Computed residuals: [3778616.9859530926, 944654.246470809, 236163.5612847209, 59040.89032253623]\n",
      "Computed convergence rates: [2.0000000000266716, 2.0000000020341435, 1.9999999999668654]\n"
     ]
    }
   ],
   "source": [
    "minconv = taylor_test(Jhat, c, dc)\n",
    "assert minconv > 1.90"
   ]
  },
  {
   "cell_type": "code",
   "execution_count": 35,
   "metadata": {},
   "outputs": [],
   "source": [
    "swp.clear_tape()"
   ]
  },
  {
   "cell_type": "markdown",
   "metadata": {},
   "source": [
    "### Combined\n",
    "\n",
    "The projection is also okay. Let's check everything is okay when the two are chained together."
   ]
  },
  {
   "cell_type": "code",
   "execution_count": 36,
   "metadata": {},
   "outputs": [
    {
     "name": "stderr",
     "output_type": "stream",
     "text": [
      "INIT: Assigning control parameter values...\n"
     ]
    }
   ],
   "source": [
    "op.assign_control_parameters(control_values)\n",
    "controls = [Control(m) for m in op.control_parameters]"
   ]
  },
  {
   "cell_type": "code",
   "execution_count": 37,
   "metadata": {},
   "outputs": [
    {
     "name": "stderr",
     "output_type": "stream",
     "text": [
      "INIT: Assembling initial surface...\n",
      "INIT: Subtracting initial surface from bathymetry field...\n",
      "INIT: Interpolating bathymetry...\n",
      "INIT: Capping bathymetry...\n"
     ]
    }
   ],
   "source": [
    "swp.set_initial_condition()\n",
    "init = swp.fwd_solutions[0].copy(deepcopy=True)"
   ]
  },
  {
   "cell_type": "code",
   "execution_count": 38,
   "metadata": {},
   "outputs": [
    {
     "name": "stderr",
     "output_type": "stream",
     "text": [
      "SETUP: Creating forward equations on mesh 0...\n",
      "SETUP: Creating forward timesteppers on mesh 0...\n",
      "SETUP: Adding callbacks on mesh 0...\n",
      "SETUP: Creating CallbackManagers...\n",
      "================================================================================\n",
      "SOLVE: Entering forward timeloop on mesh 0...\n",
      "FORWARD SOLVE  time     0.00  (  0.00) seconds\n",
      "INIT: Applying UTide de-tiding algorithm to gauge 801...\n",
      "INIT: Applying UTide de-tiding algorithm to gauge 802...\n",
      "INIT: Applying UTide de-tiding algorithm to gauge 803...\n",
      "INIT: Applying UTide de-tiding algorithm to gauge 804...\n",
      "INIT: Applying UTide de-tiding algorithm to gauge 806...\n",
      "INIT: Applying UTide de-tiding algorithm to gauge 807...\n",
      "INIT: Applying UTide de-tiding algorithm to gauge P02...\n",
      "INIT: Applying UTide de-tiding algorithm to gauge P06...\n",
      "INIT: Applying UTide de-tiding algorithm to gauge KPG1...\n",
      "INIT: Applying UTide de-tiding algorithm to gauge KPG2...\n",
      "INIT: Applying UTide de-tiding algorithm to gauge 21418...\n",
      "    elevation norm           at time    0.0 =  4.6759e+05\n",
      "    velocity norm            at time    0.0 =  0.0000e+00\n",
      "FORWARD SOLVE  time    60.00  ( 12.56) seconds\n",
      "    elevation norm           at time   60.0 =  4.5321e+05\n",
      "    velocity norm            at time   60.0 =  5.7556e+03\n",
      "================================================================================\n"
     ]
    }
   ],
   "source": [
    "swp.setup_solver_forward_step(0)\n",
    "swp.solve_forward_step(0)"
   ]
  },
  {
   "cell_type": "markdown",
   "metadata": {},
   "source": [
    "QoI: $J=\\int_\\Omega\\mathbf q(\\mathbf x,T)\\cdot\\mathbf q(\\mathbf x,T)\\;\\mathrm dx$\n",
    "\n",
    "Control: $\\mathbf c=\\text{[basis coefficients for source]}$"
   ]
  },
  {
   "cell_type": "code",
   "execution_count": 39,
   "metadata": {},
   "outputs": [],
   "source": [
    "q = swp.fwd_solutions[0]\n",
    "J = assemble(inner(q, q)*dx)\n",
    "Jhat = ReducedFunctional(J, controls)"
   ]
  },
  {
   "cell_type": "code",
   "execution_count": 40,
   "metadata": {},
   "outputs": [
    {
     "name": "stdout",
     "output_type": "stream",
     "text": [
      "Running Taylor test\n",
      "Computed residuals: [3356300.35702312, 839132.0311726928, 209811.4297861755, 52467.06232045591]\n",
      "Computed convergence rates: [1.9999020981138973, 1.9998045528503388, 1.9996093534703405]\n"
     ]
    }
   ],
   "source": [
    "minconv = taylor_test(Jhat, c, dc)\n",
    "assert minconv > 1.90"
   ]
  },
  {
   "cell_type": "markdown",
   "metadata": {},
   "source": [
    "### Timeseries QoI\n",
    "\n",
    "Everything seems to be okay for the simple norm functional. What about the timeseries QoI (that we actually care about)?"
   ]
  },
  {
   "cell_type": "markdown",
   "metadata": {},
   "source": [
    "QoI: $J=\\text{[timeseries misfit]}$\n",
    "\n",
    "Control: $\\mathbf c=\\text{[basis coefficients for source]}$"
   ]
  },
  {
   "cell_type": "code",
   "execution_count": 41,
   "metadata": {},
   "outputs": [],
   "source": [
    "Jhat = ReducedFunctional(op.J, controls)"
   ]
  },
  {
   "cell_type": "code",
   "execution_count": 42,
   "metadata": {},
   "outputs": [
    {
     "name": "stdout",
     "output_type": "stream",
     "text": [
      "Running Taylor test\n",
      "Computed residuals: [7.513347372461798e-11, 1.8866812251134415e-11, 4.7583224411293645e-12, 1.2103767096586157e-12]\n",
      "Computed convergence rates: [1.9936051206021486, 1.9873257424173378, 1.974996905035385]\n"
     ]
    }
   ],
   "source": [
    "minconv = taylor_test(Jhat, c, dc)\n",
    "assert minconv > 1.90"
   ]
  },
  {
   "cell_type": "markdown",
   "metadata": {},
   "source": [
    "All good!"
   ]
  },
  {
   "cell_type": "code",
   "execution_count": null,
   "metadata": {},
   "outputs": [],
   "source": []
  }
 ],
 "metadata": {
  "kernelspec": {
   "display_name": "Python 3",
   "language": "python",
   "name": "python3"
  },
  "language_info": {
   "codemirror_mode": {
    "name": "ipython",
    "version": 3
   },
   "file_extension": ".py",
   "mimetype": "text/x-python",
   "name": "python",
   "nbconvert_exporter": "python",
   "pygments_lexer": "ipython3",
   "version": "3.6.9"
  }
 },
 "nbformat": 4,
 "nbformat_minor": 4
}
