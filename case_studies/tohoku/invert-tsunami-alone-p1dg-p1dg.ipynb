{
 "cells": [
  {
   "cell_type": "markdown",
   "metadata": {},
   "source": [
    "# Tohoku tsunami inversion\n",
    "\n",
    "Try solving the shallow water equations *without* using a mixed space.\n",
    "Instead, use a vector."
   ]
  },
  {
   "cell_type": "code",
   "execution_count": 1,
   "metadata": {},
   "outputs": [],
   "source": [
    "%matplotlib inline"
   ]
  },
  {
   "cell_type": "code",
   "execution_count": 2,
   "metadata": {},
   "outputs": [],
   "source": [
    "from thetis import *\n",
    "from firedrake_adjoint import *"
   ]
  },
  {
   "cell_type": "code",
   "execution_count": 3,
   "metadata": {},
   "outputs": [],
   "source": [
    "import matplotlib.pyplot as plt"
   ]
  },
  {
   "cell_type": "code",
   "execution_count": 4,
   "metadata": {},
   "outputs": [],
   "source": [
    "from adapt_utils.case_studies.tohoku.options.options import TohokuInversionOptions\n",
    "from adapt_utils.misc import gaussian, ellipse"
   ]
  },
  {
   "cell_type": "code",
   "execution_count": 5,
   "metadata": {
    "code_folding": [
     0
    ]
   },
   "outputs": [],
   "source": [
    "def plot_field(field, figure=None, axes=None, height=5, **kwargs):\n",
    "    CG1 = field.ufl_element().degree() == 1 and field.ufl_element().family() == 'Lagrange'\n",
    "    fs_constructor = FunctionSpace if len(field.function_space().shape) == 0 else VectorFunctionSpace\n",
    "    out = field if CG1 else interpolate(field, fs_constructor(field.function_space().mesh(), \"CG\", 1))\n",
    "    \n",
    "    if figure is None and axes is None:\n",
    "        figure, axes = plt.subplots(figsize=(height*1.2, height))\n",
    "    if axes is None:\n",
    "        axes = plt.gca()\n",
    "    figure.colorbar(tricontourf(out, levels=50, axes=axes, cmap='coolwarm', **kwargs), ax=axes);\n",
    "    axes.axis(False);\n",
    "    axes.set_title(field.dat.name);\n",
    "    return axes"
   ]
  },
  {
   "cell_type": "markdown",
   "metadata": {},
   "source": [
    "### Forward model"
   ]
  },
  {
   "cell_type": "code",
   "execution_count": 6,
   "metadata": {},
   "outputs": [
    {
     "name": "stdout",
     "output_type": "stream",
     "text": [
      "['801', '802', '803', '804', '806', '807', 'P02', 'P06']\n"
     ]
    }
   ],
   "source": [
    "level = 0\n",
    "op = TohokuInversionOptions(level=level)\n",
    "gauges = list(op.gauges.keys())\n",
    "for gauge in gauges:\n",
    "    if gauge[:2] not in ('P0','80'):\n",
    "        op.gauges.pop(gauge)\n",
    "gauges = list(op.gauges.keys())\n",
    "print(gauges)\n",
    "op.end_time = 60*30"
   ]
  },
  {
   "cell_type": "code",
   "execution_count": 7,
   "metadata": {},
   "outputs": [],
   "source": [
    "mesh = op.default_mesh\n",
    "P1DG = FunctionSpace(mesh, VectorElement(\"DG\", triangle, 1, 3))\n",
    "P1 = FunctionSpace(mesh, \"CG\", 1)\n",
    "P0 = FunctionSpace(mesh, \"DG\", 0)"
   ]
  },
  {
   "cell_type": "code",
   "execution_count": 8,
   "metadata": {},
   "outputs": [],
   "source": [
    "b = Function(P1).assign(op.set_bathymetry(P1))\n",
    "g = Constant(op.g)\n",
    "f = Function(P1).assign(op.set_coriolis(P1))"
   ]
  },
  {
   "cell_type": "code",
   "execution_count": 9,
   "metadata": {},
   "outputs": [],
   "source": [
    "dtc = Constant(op.dt)\n",
    "n = FacetNormal(mesh)\n",
    "\n",
    "q = TrialFunction(P1DG)\n",
    "u, v, eta = q\n",
    "xi = TestFunction(P1DG)\n",
    "phi, psi, zeta = xi\n",
    "\n",
    "q_ = Function(P1DG)\n",
    "u_, v_, eta_ = q_\n",
    "\n",
    "a = inner(q, xi)*dx\n",
    "L = inner(q_, xi)*dx\n",
    "\n",
    "\n",
    "def G(uu, vv, elev):\n",
    "    \"\"\"\n",
    "    **HARD-CODED** formulation for vector equal-order LSWE.\n",
    "    \n",
    "    Uses the same flux terms as Thetis.\n",
    "    \"\"\"\n",
    "    uv = as_vector([uu, vv])\n",
    "    uv_test = as_vector([phi, psi])\n",
    "    hear_star = avg(elev) + sqrt(b/g)*jump(uv, n)\n",
    "    hu_star = b*(avg(uv) + sqrt(g/b)*jump(elev, n))\n",
    "    c = sqrt(g*b)\n",
    "    \n",
    "    # Gravity\n",
    "    F = -g*elev*nabla_div(uv_test)*dx\n",
    "    F += g*hear_star*jump(as_vector([phi, psi]), n)*dS\n",
    "    F += c*dot(uv, n)*dot(uv_test, n)*ds\n",
    "    F += 0.5*g*elev*dot(uv_test, n)*ds(100)\n",
    "    \n",
    "    # Coriolis\n",
    "    F += -f*inner(phi, vv)*dx\n",
    "    F += f*inner(psi, uu)*dx\n",
    "    \n",
    "    # HUDiv\n",
    "    F += -inner(grad(zeta), b*uv)*dx\n",
    "    F += inner(jump(zeta, n), b*hu_star)*dS\n",
    "    F += 0.5*zeta*b*dot(uv, n)*ds\n",
    "    F += zeta*c*elev*ds(100)\n",
    "    \n",
    "    return F\n",
    "\n",
    "\n",
    "a += 0.5*dtc*G(u, v, eta)\n",
    "L += -0.5*dtc*G(u_, v_, eta_)\n",
    "\n",
    "q = Function(P1DG)\n",
    "u, v, eta = q\n",
    "\n",
    "params = {\n",
    "    \"mat_type\": \"aij\",\n",
    "    \"snes_type\": \"ksponly\",\n",
    "#     \"ksp_type\": \"gmres\",\n",
    "    \"ksp_type\": \"preonly\",\n",
    "#     \"pc_type\": \"sor\",\n",
    "    \"pc_type\": \"lu\",\n",
    "    \"pc_factor_mat_solver_type\": \"mumps\",\n",
    "}\n",
    "prob = LinearVariationalProblem(a, L, q)\n",
    "solver = LinearVariationalSolver(prob, solver_parameters=params)"
   ]
  },
  {
   "cell_type": "markdown",
   "metadata": {},
   "source": [
    "# Source model"
   ]
  },
  {
   "cell_type": "code",
   "execution_count": 10,
   "metadata": {},
   "outputs": [
    {
     "data": {
      "text/plain": [
       "Coefficient(WithGeometry(FunctionSpace(<firedrake.mesh.MeshTopology object at 0x7f5dc643e908>, VectorElement(FiniteElement('Discontinuous Lagrange', triangle, 1), dim=3), name=None), Mesh(VectorElement(FiniteElement('Lagrange', triangle, 1), dim=2), 1)), 136)"
      ]
     },
     "execution_count": 10,
     "metadata": {},
     "output_type": "execute_result"
    }
   ],
   "source": [
    "q0 = Function(P1DG)\n",
    "loc = (0.7e+06, 4.2e+06)\n",
    "radii = (48e+03, 96e+03)\n",
    "angle = pi/12\n",
    "q0.interpolate(as_vector([0, 0, 10*gaussian([loc + radii], mesh, rotation=angle)]))"
   ]
  },
  {
   "cell_type": "markdown",
   "metadata": {},
   "source": [
    "## Forward solve\n",
    "\n",
    "Now run the forward model, time integrating the QoI as time progresses."
   ]
  },
  {
   "cell_type": "code",
   "execution_count": 11,
   "metadata": {},
   "outputs": [],
   "source": [
    "def solve_forward(init):\n",
    "    q_.assign(init)\n",
    "    t = 0.0\n",
    "    J = 0\n",
    "    iteration = 0\n",
    "    wq = Constant(0.5)\n",
    "    eta_obs = Constant(0.0)\n",
    "    for gauge in gauges:\n",
    "        op.gauges[gauge]['init'] = None\n",
    "        if t < op.gauges[gauge]['arrival_time']:\n",
    "                continue\n",
    "        op.gauges[gauge]['init'] = q_.at(op.gauges[gauge]['coords'])[2]\n",
    "        eta_obs.assign(op.gauges[gauge]['init'])\n",
    "        J = J + assemble(wq*op.gauges[gauge]['indicator']*(q_[2] - eta_obs)**2*dx)\n",
    "    while t < op.end_time:\n",
    "        print(\"t = {:2.0f} mins\".format(t/60))\n",
    "\n",
    "        # Solve forward equation at current timestep\n",
    "        solver.solve()\n",
    "        q_.assign(q)\n",
    "        t += op.dt\n",
    "        iteration += 1\n",
    "\n",
    "        # Time integrate QoI\n",
    "        for gauge in op.gauges:\n",
    "            if t < op.gauges[gauge]['arrival_time']:\n",
    "                continue\n",
    "            elif np.isclose(t, op.gauges[gauge]['arrival_time']):\n",
    "                wq.assign(0.5*0.5*op.dt)\n",
    "            elif np.isclose(t, op.gauges[gauge]['departure_time']):\n",
    "                wq.assign(0.5*0.5*op.dt)\n",
    "            elif t > op.gauges[gauge]['departure_time']:\n",
    "                continue\n",
    "            else:\n",
    "                wq.assign(0.5*1.0*op.dt)\n",
    "                \n",
    "            # Interpolate observations\n",
    "            if op.gauges[gauge]['init'] is None:\n",
    "                op.gauges[gauge]['init'] = q.at(op.gauges[gauge]['coords'])[2]\n",
    "            eta_obs.assign(float(op.gauges[gauge]['interpolator'](t)) + op.gauges[gauge]['init'])\n",
    "\n",
    "            # Continuous form of error\n",
    "            J = J + assemble(wq*op.gauges[gauge]['indicator']*(q[2] - eta_obs)**2*dx)\n",
    "\n",
    "    assert np.allclose(t, op.end_time), \"mismatching end time ({:.2f} vs {:.2f})\".format(t, op.end_time)\n",
    "    return J"
   ]
  },
  {
   "cell_type": "markdown",
   "metadata": {},
   "source": [
    "Define gauge indicators"
   ]
  },
  {
   "cell_type": "code",
   "execution_count": 12,
   "metadata": {},
   "outputs": [],
   "source": [
    "radius = 20.0e+03*pow(0.5, level)  # The finer the mesh, the more precise the indicator region\n",
    "for gauge in gauges:\n",
    "    loc = op.gauges[gauge][\"coords\"]\n",
    "    op.gauges[gauge]['indicator'] = interpolate(ellipse([loc + (radius,)], mesh), P0)\n",
    "    area = assemble(op.gauges[gauge]['indicator']*dx)\n",
    "    op.gauges[gauge]['indicator'].assign(op.gauges[gauge]['indicator']/area)\n",
    "    op.sample_timeseries(gauge, sample=op.gauges[gauge]['sample'], detide=True)"
   ]
  },
  {
   "cell_type": "code",
   "execution_count": 13,
   "metadata": {},
   "outputs": [
    {
     "name": "stdout",
     "output_type": "stream",
     "text": [
      "t =  0 mins\n",
      "t =  1 mins\n",
      "t =  2 mins\n",
      "t =  3 mins\n",
      "t =  4 mins\n",
      "t =  5 mins\n",
      "t =  6 mins\n",
      "t =  7 mins\n",
      "t =  8 mins\n",
      "t =  9 mins\n",
      "t = 10 mins\n",
      "t = 11 mins\n",
      "t = 12 mins\n",
      "t = 13 mins\n",
      "t = 14 mins\n",
      "t = 15 mins\n",
      "t = 16 mins\n",
      "t = 17 mins\n",
      "t = 18 mins\n",
      "t = 19 mins\n",
      "t = 20 mins\n",
      "t = 21 mins\n",
      "t = 22 mins\n",
      "t = 23 mins\n",
      "t = 24 mins\n",
      "t = 25 mins\n",
      "t = 26 mins\n",
      "t = 27 mins\n",
      "t = 28 mins\n",
      "t = 29 mins\n",
      "Quantity of interest = 1.9034e+04\n"
     ]
    }
   ],
   "source": [
    "J = solve_forward(q0)\n",
    "print(\"Quantity of interest = {:.4e}\".format(J))"
   ]
  },
  {
   "cell_type": "code",
   "execution_count": 14,
   "metadata": {},
   "outputs": [
    {
     "data": {
      "text/plain": [
       "<AxesSubplot:title={'center':'Free surface'}>"
      ]
     },
     "execution_count": 14,
     "metadata": {},
     "output_type": "execute_result"
    },
    {
     "data": {
      "image/png": "[encoded data removed]",
      "text/plain": [
       "<Figure size 432x360 with 2 Axes>"
      ]
     },
     "metadata": {
      "needs_background": "light"
     },
     "output_type": "display_data"
    }
   ],
   "source": [
    "eta = interpolate(q[2], P1)\n",
    "eta.dat.name = 'Free surface'\n",
    "plot_field(eta)"
   ]
  },
  {
   "cell_type": "markdown",
   "metadata": {},
   "source": [
    "## Discrete adjoint\n",
    "\n",
    "Note that we only Taylor test the elevation and effectively zero out the perturbation away from the source."
   ]
  },
  {
   "cell_type": "code",
   "execution_count": 15,
   "metadata": {},
   "outputs": [],
   "source": [
    "c = Control(q0)"
   ]
  },
  {
   "cell_type": "code",
   "execution_count": 16,
   "metadata": {},
   "outputs": [],
   "source": [
    "stop_annotating();"
   ]
  },
  {
   "cell_type": "code",
   "execution_count": 17,
   "metadata": {},
   "outputs": [],
   "source": [
    "Jhat = ReducedFunctional(J, c)"
   ]
  },
  {
   "cell_type": "code",
   "execution_count": 18,
   "metadata": {},
   "outputs": [
    {
     "name": "stdout",
     "output_type": "stream",
     "text": [
      "Running Taylor test\n",
      "epsilon 1.0000e-02  residual 4.9055e-01\n",
      "epsilon 5.0000e-03  residual 1.2264e-01\n",
      "epsilon 2.5000e-03  residual 3.0660e-02\n",
      "epsilon 1.2500e-03  residual 7.6649e-03\n",
      "Computed residuals: [0.4905545742376489, 0.12263864053284124, 0.030659661568506635, 0.007664916755970808]\n",
      "Computed convergence rates: [2.0000000356039407, 1.9999999324619113, 1.9999997432964471]\n"
     ]
    }
   ],
   "source": [
    "np.random.seed(0)\n",
    "m0 = Function(q0)\n",
    "dm0 = Function(P1DG)\n",
    "dm0.dat.data[:] = np.random.rand(*dm0.dat.data.shape)*m0.dat.data\n",
    "m0 += dm0\n",
    "minconv = taylor_test(Jhat, m0, dm0)\n",
    "assert minconv > 1.90, minconv"
   ]
  },
  {
   "cell_type": "code",
   "execution_count": null,
   "metadata": {},
   "outputs": [],
   "source": []
  }
 ],
 "metadata": {
  "kernelspec": {
   "display_name": "Python 3",
   "language": "python",
   "name": "python3"
  },
  "language_info": {
   "codemirror_mode": {
    "name": "ipython",
    "version": 3
   },
   "file_extension": ".py",
   "mimetype": "text/x-python",
   "name": "python",
   "nbconvert_exporter": "python",
   "pygments_lexer": "ipython3",
   "version": "3.6.9"
  }
 },
 "nbformat": 4,
 "nbformat_minor": 4
}
