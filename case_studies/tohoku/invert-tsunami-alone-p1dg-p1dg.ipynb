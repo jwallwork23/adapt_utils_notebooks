{
 "cells": [
  {
   "cell_type": "markdown",
   "metadata": {},
   "source": [
    "# Tohoku tsunami inversion\n",
    "\n",
    "Try solving the shallow water equations *without* using a mixed space.\n",
    "Instead, use a vector."
   ]
  },
  {
   "cell_type": "code",
   "execution_count": 1,
   "metadata": {},
   "outputs": [],
   "source": [
    "%matplotlib inline"
   ]
  },
  {
   "cell_type": "code",
   "execution_count": 2,
   "metadata": {},
   "outputs": [],
   "source": [
    "from thetis import *\n",
    "from firedrake_adjoint import *"
   ]
  },
  {
   "cell_type": "code",
   "execution_count": 3,
   "metadata": {},
   "outputs": [],
   "source": [
    "import matplotlib.pyplot as plt"
   ]
  },
  {
   "cell_type": "code",
   "execution_count": 4,
   "metadata": {},
   "outputs": [],
   "source": [
    "from adapt_utils.case_studies.tohoku.options.options import TohokuInversionOptions\n",
    "from adapt_utils.misc import gaussian, ellipse"
   ]
  },
  {
   "cell_type": "code",
   "execution_count": 5,
   "metadata": {
    "code_folding": [
     0
    ]
   },
   "outputs": [],
   "source": [
    "def plot_field(field, figure=None, axes=None, height=5, **kwargs):\n",
    "    CG1 = field.ufl_element().degree() == 1 and field.ufl_element().family() == 'Lagrange'\n",
    "    fs_constructor = FunctionSpace if len(field.function_space().shape) == 0 else VectorFunctionSpace\n",
    "    out = field if CG1 else interpolate(field, fs_constructor(field.function_space().mesh(), \"CG\", 1))\n",
    "    \n",
    "    if figure is None and axes is None:\n",
    "        figure, axes = plt.subplots(figsize=(height*1.2, height))\n",
    "    if axes is None:\n",
    "        axes = plt.gca()\n",
    "    figure.colorbar(tricontourf(out, levels=50, axes=axes, cmap='coolwarm', **kwargs), ax=axes);\n",
    "    axes.axis(False);\n",
    "    axes.set_title(field.dat.name);\n",
    "    return axes"
   ]
  },
  {
   "cell_type": "markdown",
   "metadata": {},
   "source": [
    "### Forward model"
   ]
  },
  {
   "cell_type": "code",
   "execution_count": 6,
   "metadata": {},
   "outputs": [
    {
     "name": "stdout",
     "output_type": "stream",
     "text": [
      "['801', '802', '803', '804', '806', '807', 'P02', 'P06']\n"
     ]
    }
   ],
   "source": [
    "level = 0\n",
    "op = TohokuInversionOptions(level=level)\n",
    "gauges = list(op.gauges.keys())\n",
    "for gauge in gauges:\n",
    "    if gauge[:2] not in ('P0','80'):\n",
    "        op.gauges.pop(gauge)\n",
    "gauges = list(op.gauges.keys())\n",
    "print(gauges)\n",
    "op.end_time = 60*30"
   ]
  },
  {
   "cell_type": "code",
   "execution_count": 7,
   "metadata": {},
   "outputs": [],
   "source": [
    "mesh = op.default_mesh\n",
    "P1DG = FunctionSpace(mesh, VectorElement(\"DG\", triangle, 1, 3))\n",
    "P1 = FunctionSpace(mesh, \"CG\", 1)\n",
    "P0 = FunctionSpace(mesh, \"DG\", 0)"
   ]
  },
  {
   "cell_type": "code",
   "execution_count": 8,
   "metadata": {},
   "outputs": [],
   "source": [
    "b = Function(P1).assign(op.set_bathymetry(P1))\n",
    "g = Constant(op.g)\n",
    "f = Function(P1).assign(op.set_coriolis(P1))"
   ]
  },
  {
   "cell_type": "code",
   "execution_count": 9,
   "metadata": {},
   "outputs": [],
   "source": [
    "dtc = Constant(op.dt)\n",
    "n = FacetNormal(mesh)\n",
    "\n",
    "q = TrialFunction(P1DG)\n",
    "u, v, eta = q\n",
    "xi = TestFunction(P1DG)\n",
    "phi, psi, zeta = xi\n",
    "\n",
    "q_ = Function(P1DG)\n",
    "u_, v_, eta_ = q_\n",
    "\n",
    "a = inner(q, xi)*dx\n",
    "L = inner(q_, xi)*dx\n",
    "\n",
    "\n",
    "def G(uu, vv, elev):\n",
    "    \"\"\"\n",
    "    **HARD-CODED** formulation for vector equal-order LSWE.\n",
    "    \n",
    "    Uses the same flux terms as Thetis.\n",
    "    \"\"\"\n",
    "    uv = as_vector([uu, vv])\n",
    "    uv_test = as_vector([phi, psi])\n",
    "    hear_star = avg(elev) + sqrt(b/g)*jump(uv, n)\n",
    "    hu_star = b*(avg(uv) + sqrt(g/b)*jump(elev, n))\n",
    "    c = sqrt(g*b)\n",
    "    \n",
    "    # Gravity\n",
    "    F = -g*elev*nabla_div(uv_test)*dx\n",
    "    F += g*hear_star*jump(as_vector([phi, psi]), n)*dS\n",
    "    F += c*dot(uv, n)*dot(uv_test, n)*ds\n",
    "    F += 0.5*g*elev*dot(uv_test, n)*ds(100)\n",
    "    \n",
    "    # Coriolis\n",
    "    F += -f*inner(phi, vv)*dx\n",
    "    F += f*inner(psi, uu)*dx\n",
    "    \n",
    "    # HUDiv\n",
    "    F += -inner(grad(zeta), b*uv)*dx\n",
    "    F += inner(jump(zeta, n), b*hu_star)*dS\n",
    "    F += 0.5*zeta*b*dot(uv, n)*ds\n",
    "    F += zeta*c*elev*ds(100)\n",
    "    \n",
    "    return F\n",
    "\n",
    "\n",
    "a += 0.5*dtc*G(u, v, eta)\n",
    "L += -0.5*dtc*G(u_, v_, eta_)\n",
    "\n",
    "q = Function(P1DG)\n",
    "u, v, eta = q\n",
    "\n",
    "params = {\n",
    "    \"mat_type\": \"aij\",\n",
    "    \"snes_type\": \"ksponly\",\n",
    "    \"ksp_type\": \"preonly\",\n",
    "    \"pc_type\": \"lu\",\n",
    "    \"pc_factor_mat_solver_type\": \"mumps\",\n",
    "}\n",
    "prob = LinearVariationalProblem(a, L, q)\n",
    "solver = LinearVariationalSolver(prob, solver_parameters=params)"
   ]
  },
  {
   "cell_type": "markdown",
   "metadata": {},
   "source": [
    "# Source model"
   ]
  },
  {
   "cell_type": "code",
   "execution_count": 10,
   "metadata": {},
   "outputs": [
    {
     "data": {
      "text/plain": [
       "Coefficient(WithGeometry(FunctionSpace(<firedrake.mesh.MeshTopology object at 0x7fba3ffd6978>, VectorElement(FiniteElement('Discontinuous Lagrange', triangle, 1), dim=3), name=None), Mesh(VectorElement(FiniteElement('Lagrange', triangle, 1), dim=2), 1)), 128)"
      ]
     },
     "execution_count": 10,
     "metadata": {},
     "output_type": "execute_result"
    }
   ],
   "source": [
    "q0 = Function(P1DG)\n",
    "loc = (0.7e+06, 4.2e+06)\n",
    "radii = (48e+03, 96e+03)\n",
    "angle = pi/12\n",
    "q0.interpolate(as_vector([0, 0, 10*gaussian([loc + radii], mesh, rotation=angle)]))"
   ]
  },
  {
   "cell_type": "markdown",
   "metadata": {},
   "source": [
    "## Forward solve\n",
    "\n",
    "Now run the forward model, time integrating the QoI as time progresses."
   ]
  },
  {
   "cell_type": "code",
   "execution_count": 11,
   "metadata": {},
   "outputs": [],
   "source": [
    "def solve_forward(init):\n",
    "    q_.assign(init)\n",
    "    t = 0.0\n",
    "    J = 0\n",
    "    iteration = 0\n",
    "    wq = Constant(0.5)\n",
    "    eta_obs = Constant(0.0)\n",
    "    for gauge in gauges:\n",
    "        op.gauges[gauge]['init'] = None\n",
    "        if t < op.gauges[gauge]['arrival_time']:\n",
    "                continue\n",
    "        op.gauges[gauge]['init'] = q_.at(op.gauges[gauge]['coords'])[2]\n",
    "        eta_obs.assign(op.gauges[gauge]['init'])\n",
    "        J = J + assemble(wq*op.gauges[gauge]['indicator']*(q_[2] - eta_obs)**2*dx)\n",
    "    while t < op.end_time:\n",
    "        print(\"t = {:2.0f} mins\".format(t/60))\n",
    "\n",
    "        # Solve forward equation at current timestep\n",
    "        solver.solve()\n",
    "        q_.assign(q)\n",
    "        t += op.dt\n",
    "        iteration += 1\n",
    "\n",
    "        # Time integrate QoI\n",
    "        for gauge in op.gauges:\n",
    "            if t < op.gauges[gauge]['arrival_time']:\n",
    "                continue\n",
    "            elif np.isclose(t, op.gauges[gauge]['arrival_time']):\n",
    "                wq.assign(0.5*0.5*op.dt)\n",
    "            elif np.isclose(t, op.gauges[gauge]['departure_time']):\n",
    "                wq.assign(0.5*0.5*op.dt)\n",
    "            elif t > op.gauges[gauge]['departure_time']:\n",
    "                continue\n",
    "            else:\n",
    "                wq.assign(0.5*1.0*op.dt)\n",
    "                \n",
    "            # Interpolate observations\n",
    "            if op.gauges[gauge]['init'] is None:\n",
    "                op.gauges[gauge]['init'] = q.at(op.gauges[gauge]['coords'])[2]\n",
    "            eta_obs.assign(float(op.gauges[gauge]['interpolator'](t)) + op.gauges[gauge]['init'])\n",
    "\n",
    "            # Continuous form of error\n",
    "            J = J + assemble(wq*op.gauges[gauge]['indicator']*(q[2] - eta_obs)**2*dx)\n",
    "\n",
    "    assert np.allclose(t, op.end_time), \"mismatching end time ({:.2f} vs {:.2f})\".format(t, op.end_time)\n",
    "    return J"
   ]
  },
  {
   "cell_type": "markdown",
   "metadata": {},
   "source": [
    "Define gauge indicators"
   ]
  },
  {
   "cell_type": "code",
   "execution_count": 12,
   "metadata": {},
   "outputs": [],
   "source": [
    "radius = 20.0e+03*pow(0.5, level)  # The finer the mesh, the more precise the indicator region\n",
    "for gauge in gauges:\n",
    "    loc = op.gauges[gauge][\"coords\"]\n",
    "    op.gauges[gauge]['indicator'] = interpolate(ellipse([loc + (radius,)], mesh), P0)\n",
    "    area = assemble(op.gauges[gauge]['indicator']*dx)\n",
    "    op.gauges[gauge]['indicator'].assign(op.gauges[gauge]['indicator']/area)\n",
    "    op.sample_timeseries(gauge, sample=op.gauges[gauge]['sample'], detide=True)"
   ]
  },
  {
   "cell_type": "code",
   "execution_count": 13,
   "metadata": {},
   "outputs": [
    {
     "name": "stdout",
     "output_type": "stream",
     "text": [
      "t =  0 mins\n"
     ]
    },
    {
     "ename": "Error",
     "evalue": "error code 77\n[0] SNESSolve() line 4515 in /home/joe/software/firedrake-no-adapt/src/petsc/src/snes/interface/snes.c\n[0] SNESSolve_KSPONLY() line 51 in /home/joe/software/firedrake-no-adapt/src/petsc/src/snes/impls/ksponly/ksponly.c\n[0] KSPSolve() line 882 in /home/joe/software/firedrake-no-adapt/src/petsc/src/ksp/ksp/interface/itfunc.c\n[0] KSPSolve_Private() line 662 in /home/joe/software/firedrake-no-adapt/src/petsc/src/ksp/ksp/interface/itfunc.c\n[0] KSPSetUp() line 405 in /home/joe/software/firedrake-no-adapt/src/petsc/src/ksp/ksp/interface/itfunc.c\n[0] PCSetUp() line 959 in /home/joe/software/firedrake-no-adapt/src/petsc/src/ksp/pc/interface/precon.c\n[0] PCSetUp_FieldSplit() line 599 in /home/joe/software/firedrake-no-adapt/src/petsc/src/ksp/pc/impls/fieldsplit/fieldsplit.c\n[0] PCFieldSplitSetDefaults() line 556 in /home/joe/software/firedrake-no-adapt/src/petsc/src/ksp/pc/impls/fieldsplit/fieldsplit.c\n[0] Petsc has generated inconsistent data\n[0] Unhandled case, must have at least two fields, not 1",
     "output_type": "error",
     "traceback": [
      "\u001b[0;31m---------------------------------------------------------------------------\u001b[0m",
      "\u001b[0;31mError\u001b[0m                                     Traceback (most recent call last)",
      "\u001b[0;32m<ipython-input-13-e09a4b40c2a1>\u001b[0m in \u001b[0;36m<module>\u001b[0;34m\u001b[0m\n\u001b[0;32m----> 1\u001b[0;31m \u001b[0mJ\u001b[0m \u001b[0;34m=\u001b[0m \u001b[0msolve_forward\u001b[0m\u001b[0;34m(\u001b[0m\u001b[0mq0\u001b[0m\u001b[0;34m)\u001b[0m\u001b[0;34m\u001b[0m\u001b[0;34m\u001b[0m\u001b[0m\n\u001b[0m\u001b[1;32m      2\u001b[0m \u001b[0mprint\u001b[0m\u001b[0;34m(\u001b[0m\u001b[0;34m\"Quantity of interest = {:.4e}\"\u001b[0m\u001b[0;34m.\u001b[0m\u001b[0mformat\u001b[0m\u001b[0;34m(\u001b[0m\u001b[0mJ\u001b[0m\u001b[0;34m)\u001b[0m\u001b[0;34m)\u001b[0m\u001b[0;34m\u001b[0m\u001b[0;34m\u001b[0m\u001b[0m\n",
      "\u001b[0;32m<ipython-input-11-e1ead7884f8c>\u001b[0m in \u001b[0;36msolve_forward\u001b[0;34m(init)\u001b[0m\n\u001b[1;32m     17\u001b[0m \u001b[0;34m\u001b[0m\u001b[0m\n\u001b[1;32m     18\u001b[0m         \u001b[0;31m# Solve forward equation at current timestep\u001b[0m\u001b[0;34m\u001b[0m\u001b[0;34m\u001b[0m\u001b[0;34m\u001b[0m\u001b[0m\n\u001b[0;32m---> 19\u001b[0;31m         \u001b[0msolver\u001b[0m\u001b[0;34m.\u001b[0m\u001b[0msolve\u001b[0m\u001b[0;34m(\u001b[0m\u001b[0;34m)\u001b[0m\u001b[0;34m\u001b[0m\u001b[0;34m\u001b[0m\u001b[0m\n\u001b[0m\u001b[1;32m     20\u001b[0m         \u001b[0mq_\u001b[0m\u001b[0;34m.\u001b[0m\u001b[0massign\u001b[0m\u001b[0;34m(\u001b[0m\u001b[0mq\u001b[0m\u001b[0;34m)\u001b[0m\u001b[0;34m\u001b[0m\u001b[0;34m\u001b[0m\u001b[0m\n\u001b[1;32m     21\u001b[0m         \u001b[0mt\u001b[0m \u001b[0;34m+=\u001b[0m \u001b[0mop\u001b[0m\u001b[0;34m.\u001b[0m\u001b[0mdt\u001b[0m\u001b[0;34m\u001b[0m\u001b[0;34m\u001b[0m\u001b[0m\n",
      "\u001b[0;32m~/software/firedrake-no-adapt/src/firedrake/firedrake/adjoint/variational_solver.py\u001b[0m in \u001b[0;36mwrapper\u001b[0;34m(self, **kwargs)\u001b[0m\n\u001b[1;32m     73\u001b[0m \u001b[0;34m\u001b[0m\u001b[0m\n\u001b[1;32m     74\u001b[0m             \u001b[0;32mwith\u001b[0m \u001b[0mstop_annotating\u001b[0m\u001b[0;34m(\u001b[0m\u001b[0;34m)\u001b[0m\u001b[0;34m:\u001b[0m\u001b[0;34m\u001b[0m\u001b[0;34m\u001b[0m\u001b[0m\n\u001b[0;32m---> 75\u001b[0;31m                 \u001b[0mout\u001b[0m \u001b[0;34m=\u001b[0m \u001b[0msolve\u001b[0m\u001b[0;34m(\u001b[0m\u001b[0mself\u001b[0m\u001b[0;34m,\u001b[0m \u001b[0;34m**\u001b[0m\u001b[0mkwargs\u001b[0m\u001b[0;34m)\u001b[0m\u001b[0;34m\u001b[0m\u001b[0;34m\u001b[0m\u001b[0m\n\u001b[0m\u001b[1;32m     76\u001b[0m \u001b[0;34m\u001b[0m\u001b[0m\n\u001b[1;32m     77\u001b[0m             \u001b[0;32mif\u001b[0m \u001b[0mannotate\u001b[0m\u001b[0;34m:\u001b[0m\u001b[0;34m\u001b[0m\u001b[0;34m\u001b[0m\u001b[0m\n",
      "\u001b[0;32m~/software/firedrake-no-adapt/src/firedrake/firedrake/variational_solver.py\u001b[0m in \u001b[0;36msolve\u001b[0;34m(self, bounds)\u001b[0m\n\u001b[1;32m    269\u001b[0m                                  self._transfer_operators):\n\u001b[1;32m    270\u001b[0m                     \u001b[0mstack\u001b[0m\u001b[0;34m.\u001b[0m\u001b[0menter_context\u001b[0m\u001b[0;34m(\u001b[0m\u001b[0mctx\u001b[0m\u001b[0;34m)\u001b[0m\u001b[0;34m\u001b[0m\u001b[0;34m\u001b[0m\u001b[0m\n\u001b[0;32m--> 271\u001b[0;31m                 \u001b[0mself\u001b[0m\u001b[0;34m.\u001b[0m\u001b[0msnes\u001b[0m\u001b[0;34m.\u001b[0m\u001b[0msolve\u001b[0m\u001b[0;34m(\u001b[0m\u001b[0;32mNone\u001b[0m\u001b[0;34m,\u001b[0m \u001b[0mwork\u001b[0m\u001b[0;34m)\u001b[0m\u001b[0;34m\u001b[0m\u001b[0;34m\u001b[0m\u001b[0m\n\u001b[0m\u001b[1;32m    272\u001b[0m             \u001b[0mwork\u001b[0m\u001b[0;34m.\u001b[0m\u001b[0mcopy\u001b[0m\u001b[0;34m(\u001b[0m\u001b[0mu\u001b[0m\u001b[0;34m)\u001b[0m\u001b[0;34m\u001b[0m\u001b[0;34m\u001b[0m\u001b[0m\n\u001b[1;32m    273\u001b[0m         \u001b[0mself\u001b[0m\u001b[0;34m.\u001b[0m\u001b[0m_setup\u001b[0m \u001b[0;34m=\u001b[0m \u001b[0;32mTrue\u001b[0m\u001b[0;34m\u001b[0m\u001b[0;34m\u001b[0m\u001b[0m\n",
      "\u001b[0;32mPETSc/SNES.pyx\u001b[0m in \u001b[0;36mpetsc4py.PETSc.SNES.solve\u001b[0;34m()\u001b[0m\n",
      "\u001b[0;31mError\u001b[0m: error code 77\n[0] SNESSolve() line 4515 in /home/joe/software/firedrake-no-adapt/src/petsc/src/snes/interface/snes.c\n[0] SNESSolve_KSPONLY() line 51 in /home/joe/software/firedrake-no-adapt/src/petsc/src/snes/impls/ksponly/ksponly.c\n[0] KSPSolve() line 882 in /home/joe/software/firedrake-no-adapt/src/petsc/src/ksp/ksp/interface/itfunc.c\n[0] KSPSolve_Private() line 662 in /home/joe/software/firedrake-no-adapt/src/petsc/src/ksp/ksp/interface/itfunc.c\n[0] KSPSetUp() line 405 in /home/joe/software/firedrake-no-adapt/src/petsc/src/ksp/ksp/interface/itfunc.c\n[0] PCSetUp() line 959 in /home/joe/software/firedrake-no-adapt/src/petsc/src/ksp/pc/interface/precon.c\n[0] PCSetUp_FieldSplit() line 599 in /home/joe/software/firedrake-no-adapt/src/petsc/src/ksp/pc/impls/fieldsplit/fieldsplit.c\n[0] PCFieldSplitSetDefaults() line 556 in /home/joe/software/firedrake-no-adapt/src/petsc/src/ksp/pc/impls/fieldsplit/fieldsplit.c\n[0] Petsc has generated inconsistent data\n[0] Unhandled case, must have at least two fields, not 1"
     ]
    }
   ],
   "source": [
    "J = solve_forward(q0)\n",
    "print(\"Quantity of interest = {:.4e}\".format(J))"
   ]
  },
  {
   "cell_type": "code",
   "execution_count": null,
   "metadata": {},
   "outputs": [],
   "source": [
    "eta = interpolate(q[2], P1)\n",
    "eta.dat.name = 'Free surface'\n",
    "plot_field(eta)"
   ]
  },
  {
   "cell_type": "markdown",
   "metadata": {},
   "source": [
    "## Discrete adjoint\n",
    "\n",
    "Note that we only Taylor test the elevation and effectively zero out the perturbation away from the source."
   ]
  },
  {
   "cell_type": "code",
   "execution_count": null,
   "metadata": {},
   "outputs": [],
   "source": [
    "c = Control(q0)"
   ]
  },
  {
   "cell_type": "code",
   "execution_count": null,
   "metadata": {},
   "outputs": [],
   "source": [
    "stop_annotating();"
   ]
  },
  {
   "cell_type": "code",
   "execution_count": null,
   "metadata": {},
   "outputs": [],
   "source": [
    "Jhat = ReducedFunctional(J, c)"
   ]
  },
  {
   "cell_type": "code",
   "execution_count": null,
   "metadata": {},
   "outputs": [],
   "source": [
    "np.random.seed(0)\n",
    "m0 = Function(q0)\n",
    "dm0 = Function(P1DG)\n",
    "dm0.dat.data[:] = np.random.rand(*dm0.dat.data.shape)*m0.dat.data\n",
    "m0 += dm0\n",
    "minconv = taylor_test(Jhat, m0, dm0)\n",
    "assert minconv > 1.90, minconv"
   ]
  },
  {
   "cell_type": "code",
   "execution_count": null,
   "metadata": {},
   "outputs": [],
   "source": []
  }
 ],
 "metadata": {
  "kernelspec": {
   "display_name": "Python 3",
   "language": "python",
   "name": "python3"
  },
  "language_info": {
   "codemirror_mode": {
    "name": "ipython",
    "version": 3
   },
   "file_extension": ".py",
   "mimetype": "text/x-python",
   "name": "python",
   "nbconvert_exporter": "python",
   "pygments_lexer": "ipython3",
   "version": "3.6.9"
  }
 },
 "nbformat": 4,
 "nbformat_minor": 4
}
