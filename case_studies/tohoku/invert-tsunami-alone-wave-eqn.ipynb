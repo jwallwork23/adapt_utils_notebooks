{
 "cells": [
  {
   "cell_type": "markdown",
   "metadata": {},
   "source": [
    "# Tohoku tsunami inversion\n",
    "\n",
    "Try solving the wave equation instead"
   ]
  },
  {
   "cell_type": "code",
   "execution_count": 1,
   "metadata": {},
   "outputs": [],
   "source": [
    "%matplotlib inline"
   ]
  },
  {
   "cell_type": "code",
   "execution_count": 2,
   "metadata": {},
   "outputs": [],
   "source": [
    "from thetis import *\n",
    "from firedrake_adjoint import *"
   ]
  },
  {
   "cell_type": "code",
   "execution_count": 3,
   "metadata": {},
   "outputs": [],
   "source": [
    "import matplotlib.pyplot as plt"
   ]
  },
  {
   "cell_type": "code",
   "execution_count": 4,
   "metadata": {},
   "outputs": [],
   "source": [
    "from adapt_utils.case_studies.tohoku.options.options import TohokuInversionOptions\n",
    "from adapt_utils.misc import gaussian, ellipse"
   ]
  },
  {
   "cell_type": "code",
   "execution_count": 5,
   "metadata": {
    "code_folding": [
     0
    ]
   },
   "outputs": [],
   "source": [
    "def plot_field(field, figure=None, axes=None, height=5, **kwargs):\n",
    "    CG1 = field.ufl_element().degree() == 1 and field.ufl_element().family() == 'Lagrange'\n",
    "    fs_constructor = FunctionSpace if len(field.function_space().shape) == 0 else VectorFunctionSpace\n",
    "    out = field if CG1 else interpolate(field, fs_constructor(field.function_space().mesh(), \"CG\", 1))\n",
    "    \n",
    "    if figure is None and axes is None:\n",
    "        figure, axes = plt.subplots(figsize=(height*1.2, height))\n",
    "    if axes is None:\n",
    "        axes = plt.gca()\n",
    "    figure.colorbar(tricontourf(out, levels=50, axes=axes, cmap='coolwarm', **kwargs), ax=axes);\n",
    "    axes.axis(False);\n",
    "    axes.set_title(field.dat.name);\n",
    "    return axes"
   ]
  },
  {
   "cell_type": "markdown",
   "metadata": {},
   "source": [
    "### Forward model"
   ]
  },
  {
   "cell_type": "code",
   "execution_count": 7,
   "metadata": {},
   "outputs": [
    {
     "name": "stdout",
     "output_type": "stream",
     "text": [
      "['801', '802', '803', '804', '806', '807', 'P02', 'P06', 'KPG1', 'KPG2', 'MPG1', 'MPG2', '21401', '21413', '21418', '21419']\n"
     ]
    }
   ],
   "source": [
    "level = 0\n",
    "op = TohokuInversionOptions(level=level)\n",
    "gauges = list(op.gauges.keys())\n",
    "print(gauges)\n",
    "op.end_time = 60*30\n",
    "op.dt = 4*0.5**level"
   ]
  },
  {
   "cell_type": "code",
   "execution_count": 8,
   "metadata": {},
   "outputs": [],
   "source": [
    "mesh = op.default_mesh\n",
    "P1 = FunctionSpace(mesh, \"CG\", 1)\n",
    "P0 = FunctionSpace(mesh, \"DG\", 0)"
   ]
  },
  {
   "cell_type": "code",
   "execution_count": 9,
   "metadata": {},
   "outputs": [],
   "source": [
    "b = Function(P1).assign(op.set_bathymetry(P1))\n",
    "g = Constant(op.g)\n",
    "c_sq = g*b"
   ]
  },
  {
   "cell_type": "code",
   "execution_count": 10,
   "metadata": {},
   "outputs": [],
   "source": [
    "dtc = Constant(op.dt)\n",
    "dtc_sq = Constant(op.dt**2)\n",
    "n = FacetNormal(mesh)\n",
    "\n",
    "eta = TrialFunction(P1)\n",
    "phi = TestFunction(P1)\n",
    "eta_ = Function(P1)\n",
    "eta__ = Function(P1)\n",
    "\n",
    "a = inner(eta, phi)*dx\n",
    "L = inner(2*eta_ - eta__, phi)*dx - dtc_sq*inner(c_sq*grad(eta_), grad(phi))*dx\n",
    "# L += dtc_sq*phi*c_sq*dot(grad(eta_), n)*ds\n",
    "\n",
    "eta = Function(P1)\n",
    "params = {\n",
    "    \"snes_type\": \"ksponly\",\n",
    "    \"ksp_type\": \"gmres\",\n",
    "    \"pc_type\": \"sor\",\n",
    "}\n",
    "prob = LinearVariationalProblem(a, L, eta, bcs=DirichletBC(P1, 0, 100))\n",
    "solver = LinearVariationalSolver(prob, solver_parameters=params)"
   ]
  },
  {
   "cell_type": "markdown",
   "metadata": {},
   "source": [
    "# Source model"
   ]
  },
  {
   "cell_type": "code",
   "execution_count": 11,
   "metadata": {},
   "outputs": [],
   "source": [
    "eta0 = Function(P1)\n",
    "loc = (0.7e+06, 4.2e+06)\n",
    "radii = (48e+03, 96e+03)\n",
    "angle = pi/12\n",
    "eta0.interpolate(10*gaussian([loc + radii], mesh, rotation=angle));"
   ]
  },
  {
   "cell_type": "code",
   "execution_count": 12,
   "metadata": {},
   "outputs": [],
   "source": [
    "radius = 20.0e+03*pow(0.5, level)  # The finer the mesh, the more precise the indicator region\n",
    "for gauge in gauges:\n",
    "    loc = op.gauges[gauge][\"coords\"]\n",
    "    op.gauges[gauge]['indicator'] = interpolate(ellipse([loc + (radius,)], mesh), P0)\n",
    "    area = assemble(op.gauges[gauge]['indicator']*dx)\n",
    "    op.gauges[gauge]['indicator'].assign(op.gauges[gauge]['indicator']/area)\n",
    "    op.sample_timeseries(gauge, sample=op.gauges[gauge]['sample'], detide=True)"
   ]
  },
  {
   "cell_type": "markdown",
   "metadata": {},
   "source": [
    "## Forward solve\n",
    "\n",
    "Now run the forward model, time integrating the QoI as time progresses."
   ]
  },
  {
   "cell_type": "code",
   "execution_count": 13,
   "metadata": {},
   "outputs": [],
   "source": [
    "def solve_forward(init):\n",
    "    eta_.assign(init)\n",
    "    eta__.assign(init)\n",
    "    t = op.dt\n",
    "    J = 0\n",
    "    iteration = 0\n",
    "    wq = Constant(0.5)\n",
    "    eta_obs = Constant(0.0)\n",
    "    for gauge in gauges:\n",
    "        op.gauges[gauge]['init'] = None\n",
    "        if t < op.gauges[gauge]['arrival_time']:\n",
    "                continue\n",
    "        op.gauges[gauge]['init'] = eta__.at(op.gauges[gauge]['coords'])\n",
    "        eta_obs.assign(op.gauges[gauge]['init'])\n",
    "        J = J + assemble(wq*op.gauges[gauge]['indicator']*(eta__ - eta_obs)**2*dx)\n",
    "        J = J + assemble(wq*op.gauges[gauge]['indicator']*(eta_ - eta_obs)**2*dx)\n",
    "    while t < op.end_time:\n",
    "        if iteration % 15 == 0:\n",
    "            print(\"t = {:2.0f} mins\".format(t/60))\n",
    "\n",
    "        # Solve forward equation at current timestep\n",
    "        solver.solve()\n",
    "        eta__.assign(eta_)\n",
    "        eta_.assign(eta)\n",
    "        t += op.dt\n",
    "        iteration += 1\n",
    "\n",
    "        # Time integrate QoI\n",
    "        for gauge in op.gauges:\n",
    "            if t < op.gauges[gauge]['arrival_time']:\n",
    "                continue\n",
    "            elif np.isclose(t, op.gauges[gauge]['arrival_time']):\n",
    "                wq.assign(0.5*0.5*op.dt)\n",
    "            elif np.isclose(t, op.gauges[gauge]['departure_time']):\n",
    "                wq.assign(0.5*0.5*op.dt)\n",
    "            elif t > op.gauges[gauge]['departure_time']:\n",
    "                continue\n",
    "            else:\n",
    "                wq.assign(0.5*1.0*op.dt)\n",
    "                \n",
    "            # Interpolate observations\n",
    "            if op.gauges[gauge]['init'] is None:\n",
    "                op.gauges[gauge]['init'] = eta.at(op.gauges[gauge]['coords'])\n",
    "            eta_obs.assign(float(op.gauges[gauge]['interpolator'](t)) + op.gauges[gauge]['init'])\n",
    "\n",
    "            # Continuous form of error\n",
    "            J = J + assemble(wq*op.gauges[gauge]['indicator']*(eta - eta_obs)**2*dx)\n",
    "\n",
    "    assert np.allclose(t, op.end_time), \"mismatching end time ({:.2f} vs {:.2f})\".format(t, op.end_time)\n",
    "    return J"
   ]
  },
  {
   "cell_type": "markdown",
   "metadata": {},
   "source": [
    "Define gauge indicators"
   ]
  },
  {
   "cell_type": "code",
   "execution_count": 14,
   "metadata": {},
   "outputs": [
    {
     "name": "stdout",
     "output_type": "stream",
     "text": [
      "t =  0 mins\n",
      "t =  1 mins\n",
      "t =  2 mins\n",
      "t =  3 mins\n",
      "t =  4 mins\n",
      "t =  5 mins\n",
      "t =  6 mins\n",
      "t =  7 mins\n",
      "t =  8 mins\n",
      "t =  9 mins\n",
      "t = 10 mins\n",
      "t = 11 mins\n",
      "t = 12 mins\n",
      "t = 13 mins\n",
      "t = 14 mins\n",
      "t = 15 mins\n",
      "t = 16 mins\n",
      "t = 17 mins\n",
      "t = 18 mins\n",
      "t = 19 mins\n",
      "t = 20 mins\n",
      "t = 21 mins\n",
      "t = 22 mins\n",
      "t = 23 mins\n",
      "t = 24 mins\n",
      "t = 25 mins\n",
      "t = 26 mins\n",
      "t = 27 mins\n",
      "t = 28 mins\n",
      "t = 29 mins\n",
      "Quantity of interest = 2.2486e+04\n"
     ]
    }
   ],
   "source": [
    "c = Control(eta0)\n",
    "J = solve_forward(eta0)\n",
    "print(\"Quantity of interest = {:.4e}\".format(J))"
   ]
  },
  {
   "cell_type": "code",
   "execution_count": 15,
   "metadata": {},
   "outputs": [
    {
     "data": {
      "text/plain": [
       "<AxesSubplot:title={'center':'Free surface'}>"
      ]
     },
     "execution_count": 15,
     "metadata": {},
     "output_type": "execute_result"
    },
    {
     "data": {
      "image/png": "[encoded data removed]",
      "text/plain": [
       "<Figure size 432x360 with 2 Axes>"
      ]
     },
     "metadata": {
      "needs_background": "light"
     },
     "output_type": "display_data"
    }
   ],
   "source": [
    "eta.dat.name = 'Free surface'\n",
    "plot_field(eta);"
   ]
  },
  {
   "cell_type": "markdown",
   "metadata": {},
   "source": [
    "## Discrete adjoint\n",
    "\n",
    "Note that we only Taylor test the elevation and effectively zero out the perturbation away from the source."
   ]
  },
  {
   "cell_type": "code",
   "execution_count": 16,
   "metadata": {},
   "outputs": [],
   "source": [
    "stop_annotating();"
   ]
  },
  {
   "cell_type": "code",
   "execution_count": 17,
   "metadata": {},
   "outputs": [],
   "source": [
    "Jhat = ReducedFunctional(J, c)"
   ]
  },
  {
   "cell_type": "code",
   "execution_count": 18,
   "metadata": {},
   "outputs": [
    {
     "name": "stdout",
     "output_type": "stream",
     "text": [
      "Running Taylor test\n",
      "Computed residuals: [0.31301339283885454, 0.078136270105432, 0.019475527868038967, 0.004839613449796332]\n",
      "Computed convergence rates: [2.002160092643211, 2.0043299571448663, 2.008698705772561]\n"
     ]
    }
   ],
   "source": [
    "np.random.seed(0)\n",
    "m0 = Function(eta0)\n",
    "m0.dat.data[:] *= 0.7\n",
    "dm0 = Function(P1)\n",
    "dm0.dat.data[:] = np.random.rand(*dm0.dat.data.shape)*m0.dat.data\n",
    "m0 += dm0\n",
    "minconv = taylor_test(Jhat, m0, dm0)\n",
    "assert minconv > 1.90, minconv"
   ]
  },
  {
   "cell_type": "markdown",
   "metadata": {},
   "source": [
    "Check CFL criterion"
   ]
  },
  {
   "cell_type": "code",
   "execution_count": 19,
   "metadata": {},
   "outputs": [
    {
     "data": {
      "text/plain": [
       "75.72702979848377"
      ]
     },
     "execution_count": 19,
     "metadata": {},
     "output_type": "execute_result"
    }
   ],
   "source": [
    "interpolate(CellSize(mesh)/sqrt(g*b), P1).vector().gather().min()"
   ]
  },
  {
   "cell_type": "code",
   "execution_count": 20,
   "metadata": {},
   "outputs": [
    {
     "data": {
      "text/plain": [
       "68.79456277520275"
      ]
     },
     "execution_count": 20,
     "metadata": {},
     "output_type": "execute_result"
    }
   ],
   "source": [
    "interpolate(CellSize(mesh)/sqrt(g*b), P0).vector().gather().min()"
   ]
  },
  {
   "cell_type": "code",
   "execution_count": null,
   "metadata": {},
   "outputs": [],
   "source": []
  }
 ],
 "metadata": {
  "kernelspec": {
   "display_name": "Python 3",
   "language": "python",
   "name": "python3"
  },
  "language_info": {
   "codemirror_mode": {
    "name": "ipython",
    "version": 3
   },
   "file_extension": ".py",
   "mimetype": "text/x-python",
   "name": "python",
   "nbconvert_exporter": "python",
   "pygments_lexer": "ipython3",
   "version": "3.6.9"
  }
 },
 "nbformat": 4,
 "nbformat_minor": 4
}
