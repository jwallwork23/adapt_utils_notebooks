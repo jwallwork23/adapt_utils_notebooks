{
 "cells": [
  {
   "cell_type": "code",
   "execution_count": 1,
   "id": "4a47b9bd",
   "metadata": {},
   "outputs": [],
   "source": [
    "from firedrake import *\n",
    "from firedrake_adjoint import *"
   ]
  },
  {
   "cell_type": "code",
   "execution_count": 2,
   "id": "6ec62508",
   "metadata": {},
   "outputs": [],
   "source": [
    "from contexttimer import Timer\n",
    "import matplotlib.pyplot as plt\n",
    "import scipy.interpolate as si"
   ]
  },
  {
   "cell_type": "code",
   "execution_count": 3,
   "id": "5efb943e",
   "metadata": {},
   "outputs": [],
   "source": [
    "from adapt_utils.case_studies.tohoku.options.options import TohokuInversionOptions\n",
    "from adapt_utils.misc import gaussian, ellipse"
   ]
  },
  {
   "cell_type": "code",
   "execution_count": 4,
   "id": "00b34fea",
   "metadata": {},
   "outputs": [],
   "source": [
    "class OptimisationProgress(object):\n",
    "    def __init__(self):\n",
    "        self.m_progress = []\n",
    "        self.J_progress = []\n",
    "        self.dJdm_progress = []\n",
    "        self.ls_iteration = 0\n",
    "        self.feval = 0\n",
    "        self.geval = 0"
   ]
  },
  {
   "cell_type": "markdown",
   "id": "ddc9c884",
   "metadata": {},
   "source": [
    "Specify 'optimum' and initial guess"
   ]
  },
  {
   "cell_type": "code",
   "execution_count": 5,
   "id": "04cacd0c",
   "metadata": {},
   "outputs": [],
   "source": [
    "m_opt = 5.0\n",
    "m_prior = 10.0"
   ]
  },
  {
   "cell_type": "markdown",
   "id": "7224727e",
   "metadata": {},
   "source": [
    "Create `Options` object and setup gauges."
   ]
  },
  {
   "cell_type": "code",
   "execution_count": 6,
   "id": "757fa14a",
   "metadata": {},
   "outputs": [
    {
     "name": "stderr",
     "output_type": "stream",
     "text": [
      "/home/joe/software/firedrake-pragmatic/src/firedrake/firedrake/parloops.py:130: LoopyWarning: 'lang_version' was not passed to make_function(). To avoid this warning, pass lang_version=(2018, 2) in this invocation. (Or say 'from loopy.version import LOOPY_USE_LANGUAGE_VERSION_2018_2' in the global scope of the calling frame.)\n",
      "  knl = loopy.make_function(kernel_domains, instructions, kargs, seq_dependencies=True,\n"
     ]
    }
   ],
   "source": [
    "level = 2\n",
    "op = TohokuInversionOptions(level=level)\n",
    "gauges = list(op.gauges.keys())\n",
    "for gauge in gauges:\n",
    "    if gauge[:2] not in ('P0', '80'):\n",
    "        op.gauges.pop(gauge)\n",
    "gauges = list(op.gauges.keys())"
   ]
  },
  {
   "cell_type": "markdown",
   "id": "98e28d8f",
   "metadata": {},
   "source": [
    "Setup timestepping parameters"
   ]
  },
  {
   "cell_type": "code",
   "execution_count": 7,
   "id": "0367f361",
   "metadata": {},
   "outputs": [],
   "source": [
    "num_timesteps = 30*2**level\n",
    "dt = Constant(op.dt)\n",
    "theta = Constant(0.5)"
   ]
  },
  {
   "cell_type": "markdown",
   "id": "7fb5a51f",
   "metadata": {},
   "source": [
    "Create function spaces"
   ]
  },
  {
   "cell_type": "code",
   "execution_count": 8,
   "id": "11c74113",
   "metadata": {},
   "outputs": [],
   "source": [
    "mesh = op.default_mesh\n",
    "P2 = VectorFunctionSpace(mesh, \"CG\", 1)\n",
    "P1 = FunctionSpace(mesh, \"CG\", 1)\n",
    "V = P2*P1\n",
    "R = FunctionSpace(mesh, \"R\", 0)"
   ]
  },
  {
   "cell_type": "markdown",
   "id": "dec7b03a",
   "metadata": {},
   "source": [
    "Create `Function`s"
   ]
  },
  {
   "cell_type": "code",
   "execution_count": 9,
   "id": "74fcd334",
   "metadata": {},
   "outputs": [],
   "source": [
    "u, eta = TrialFunctions(V)\n",
    "test_u, test_eta = TestFunctions(V)\n",
    "m = Function(R).assign(m_prior)\n",
    "c = Control(m)\n",
    "q0 = Function(V)\n",
    "u0, eta0 = q0.split()\n",
    "eta0.interpolate(gaussian([(0.7e+06, 4.2e+06, 48e+03, 96e+03)], mesh, rotation=pi/12))\n",
    "q_ = Function(V)\n",
    "u_, eta_ = q_.split();"
   ]
  },
  {
   "cell_type": "markdown",
   "id": "fe3b2f2e",
   "metadata": {},
   "source": [
    "Set physical parameters"
   ]
  },
  {
   "cell_type": "code",
   "execution_count": 10,
   "id": "b1a9b265",
   "metadata": {},
   "outputs": [],
   "source": [
    "b = Function(P1).assign(op.set_bathymetry(P1))\n",
    "g = Constant(9.81)"
   ]
  },
  {
   "cell_type": "markdown",
   "id": "0e9caae5",
   "metadata": {},
   "source": [
    "Setup forward variational problem"
   ]
  },
  {
   "cell_type": "code",
   "execution_count": 11,
   "id": "481827b1",
   "metadata": {},
   "outputs": [],
   "source": [
    "a = inner(u, test_u)*dx + eta*test_eta*dx\n",
    "a += theta*dt*g*inner(grad(eta), test_u)*dx - theta*dt*b*inner(u, grad(test_eta))*dx\n",
    "L = inner(u_, test_u)*dx + eta_*test_eta*dx\n",
    "L += -(1-theta)*dt*g*inner(grad(eta_), test_u)*dx + (1-theta)*dt*b*inner(u_, grad(test_eta))*dx\n",
    "q = Function(V)\n",
    "u, eta = q.split()\n",
    "bc = DirichletBC(V.sub(1), 0, 100)\n",
    "problem = LinearVariationalProblem(a, L, q, bcs=bc)"
   ]
  },
  {
   "cell_type": "markdown",
   "id": "dd1efa70",
   "metadata": {},
   "source": [
    "Setup forward variational solver"
   ]
  },
  {
   "cell_type": "code",
   "execution_count": 12,
   "id": "b8e494b5",
   "metadata": {},
   "outputs": [],
   "source": [
    "sp = {\n",
    "    \"snes_type\": \"ksponly\",\n",
    "    \"ksp_type\": \"gmres\",\n",
    "    \"pc_type\": \"fieldsplit\",\n",
    "    \"pc_fieldsplit_type\": \"multiplicative\",\n",
    "}\n",
    "solver = LinearVariationalSolver(problem, solver_parameters=sp)"
   ]
  },
  {
   "cell_type": "markdown",
   "id": "236a87a7",
   "metadata": {},
   "source": [
    "Setup QoI"
   ]
  },
  {
   "cell_type": "code",
   "execution_count": 13,
   "id": "9cc5ba39",
   "metadata": {},
   "outputs": [],
   "source": [
    "P0 = FunctionSpace(mesh, \"DG\", 0)\n",
    "J_form = 0\n",
    "radius = 20e+03*0.5**level\n",
    "for gauge in gauges:\n",
    "    op.gauges[gauge][\"data\"] = []\n",
    "    k = Function(P0*P0)\n",
    "    ku, keta = k.split()\n",
    "    keta.interpolate(ellipse([op.gauges[gauge][\"coords\"] + (radius,)], mesh))\n",
    "    keta.assign(keta/assemble(keta*dx))\n",
    "    op.gauges[gauge][\"indicator\"] = keta\n",
    "    op.gauges[gauge][\"obs\"] = Function(R)\n",
    "    op.gauges[gauge][\"obs_old\"] = Function(R)\n",
    "    J_form += theta*0.5*dt*keta*(eta - op.gauges[gauge][\"obs\"])**2*dx\n",
    "    J_form += (1-theta)*0.5*dt*keta*(eta_ - op.gauges[gauge][\"obs_old\"])**2*dx"
   ]
  },
  {
   "cell_type": "markdown",
   "id": "79a6d743",
   "metadata": {},
   "source": [
    "Solve forward to generate 'data'"
   ]
  },
  {
   "cell_type": "code",
   "execution_count": 14,
   "id": "a8cd0253",
   "metadata": {},
   "outputs": [
    {
     "name": "stdout",
     "output_type": "stream",
     "text": [
      "t =   0.0 min  ||u|| = 0.0000e+00  ||eta|| = 0.0000e+00\n",
      "t =   0.2 min  ||u|| = 1.4483e+03  ||eta|| = 4.2366e+05\n",
      "t =   0.5 min  ||u|| = 2.8814e+03  ||eta|| = 4.2073e+05\n",
      "t =   0.8 min  ||u|| = 4.2853e+03  ||eta|| = 4.1598e+05\n",
      "t =   1.0 min  ||u|| = 5.6470e+03  ||eta|| = 4.0959e+05\n",
      "t =   1.2 min  ||u|| = 6.9557e+03  ||eta|| = 4.0180e+05\n",
      "t =   1.5 min  ||u|| = 8.2022e+03  ||eta|| = 3.9289e+05\n",
      "t =   1.8 min  ||u|| = 9.3798e+03  ||eta|| = 3.8312e+05\n",
      "t =   2.0 min  ||u|| = 1.0484e+04  ||eta|| = 3.7281e+05\n",
      "t =   2.2 min  ||u|| = 1.1513e+04  ||eta|| = 3.6221e+05\n",
      "t =   2.5 min  ||u|| = 1.2464e+04  ||eta|| = 3.5158e+05\n",
      "t =   2.8 min  ||u|| = 1.3340e+04  ||eta|| = 3.4115e+05\n",
      "t =   3.0 min  ||u|| = 1.4141e+04  ||eta|| = 3.3111e+05\n",
      "t =   3.2 min  ||u|| = 1.4870e+04  ||eta|| = 3.2162e+05\n",
      "t =   3.5 min  ||u|| = 1.5531e+04  ||eta|| = 3.1281e+05\n",
      "t =   3.8 min  ||u|| = 1.6126e+04  ||eta|| = 3.0476e+05\n",
      "t =   4.0 min  ||u|| = 1.6661e+04  ||eta|| = 2.9754e+05\n",
      "t =   4.2 min  ||u|| = 1.7140e+04  ||eta|| = 2.9117e+05\n",
      "t =   4.5 min  ||u|| = 1.7566e+04  ||eta|| = 2.8567e+05\n",
      "t =   4.8 min  ||u|| = 1.7944e+04  ||eta|| = 2.8102e+05\n",
      "t =   5.0 min  ||u|| = 1.8280e+04  ||eta|| = 2.7720e+05\n",
      "t =   5.2 min  ||u|| = 1.8575e+04  ||eta|| = 2.7414e+05\n",
      "t =   5.5 min  ||u|| = 1.8836e+04  ||eta|| = 2.7180e+05\n",
      "t =   5.8 min  ||u|| = 1.9066e+04  ||eta|| = 2.7012e+05\n",
      "t =   6.0 min  ||u|| = 1.9269e+04  ||eta|| = 2.6902e+05\n",
      "t =   6.2 min  ||u|| = 1.9448e+04  ||eta|| = 2.6844e+05\n",
      "t =   6.5 min  ||u|| = 1.9607e+04  ||eta|| = 2.6830e+05\n",
      "t =   6.8 min  ||u|| = 1.9749e+04  ||eta|| = 2.6855e+05\n",
      "t =   7.0 min  ||u|| = 1.9877e+04  ||eta|| = 2.6911e+05\n",
      "t =   7.2 min  ||u|| = 1.9995e+04  ||eta|| = 2.6993e+05\n",
      "t =   7.5 min  ||u|| = 2.0104e+04  ||eta|| = 2.7095e+05\n",
      "t =   7.8 min  ||u|| = 2.0208e+04  ||eta|| = 2.7213e+05\n",
      "t =   8.0 min  ||u|| = 2.0309e+04  ||eta|| = 2.7342e+05\n",
      "t =   8.2 min  ||u|| = 2.0409e+04  ||eta|| = 2.7477e+05\n",
      "t =   8.5 min  ||u|| = 2.0510e+04  ||eta|| = 2.7616e+05\n",
      "t =   8.8 min  ||u|| = 2.0613e+04  ||eta|| = 2.7755e+05\n",
      "t =   9.0 min  ||u|| = 2.0720e+04  ||eta|| = 2.7892e+05\n",
      "t =   9.2 min  ||u|| = 2.0832e+04  ||eta|| = 2.8024e+05\n",
      "t =   9.5 min  ||u|| = 2.0951e+04  ||eta|| = 2.8150e+05\n",
      "t =   9.8 min  ||u|| = 2.1076e+04  ||eta|| = 2.8269e+05\n",
      "t =  10.0 min  ||u|| = 2.1208e+04  ||eta|| = 2.8380e+05\n",
      "t =  10.2 min  ||u|| = 2.1347e+04  ||eta|| = 2.8483e+05\n",
      "t =  10.5 min  ||u|| = 2.1494e+04  ||eta|| = 2.8578e+05\n",
      "t =  10.8 min  ||u|| = 2.1649e+04  ||eta|| = 2.8665e+05\n",
      "t =  11.0 min  ||u|| = 2.1812e+04  ||eta|| = 2.8745e+05\n",
      "t =  11.2 min  ||u|| = 2.1983e+04  ||eta|| = 2.8819e+05\n",
      "t =  11.5 min  ||u|| = 2.2163e+04  ||eta|| = 2.8887e+05\n",
      "t =  11.8 min  ||u|| = 2.2351e+04  ||eta|| = 2.8949e+05\n",
      "t =  12.0 min  ||u|| = 2.2548e+04  ||eta|| = 2.9007e+05\n",
      "t =  12.2 min  ||u|| = 2.2755e+04  ||eta|| = 2.9061e+05\n",
      "t =  12.5 min  ||u|| = 2.2971e+04  ||eta|| = 2.9111e+05\n",
      "t =  12.8 min  ||u|| = 2.3198e+04  ||eta|| = 2.9158e+05\n",
      "t =  13.0 min  ||u|| = 2.3435e+04  ||eta|| = 2.9201e+05\n",
      "t =  13.2 min  ||u|| = 2.3683e+04  ||eta|| = 2.9241e+05\n",
      "t =  13.5 min  ||u|| = 2.3942e+04  ||eta|| = 2.9277e+05\n",
      "t =  13.8 min  ||u|| = 2.4212e+04  ||eta|| = 2.9310e+05\n",
      "t =  14.0 min  ||u|| = 2.4492e+04  ||eta|| = 2.9339e+05\n",
      "t =  14.2 min  ||u|| = 2.4782e+04  ||eta|| = 2.9365e+05\n",
      "t =  14.5 min  ||u|| = 2.5082e+04  ||eta|| = 2.9386e+05\n",
      "t =  14.8 min  ||u|| = 2.5391e+04  ||eta|| = 2.9405e+05\n",
      "t =  15.0 min  ||u|| = 2.5708e+04  ||eta|| = 2.9420e+05\n",
      "t =  15.2 min  ||u|| = 2.6033e+04  ||eta|| = 2.9431e+05\n",
      "t =  15.5 min  ||u|| = 2.6364e+04  ||eta|| = 2.9441e+05\n",
      "t =  15.8 min  ||u|| = 2.6700e+04  ||eta|| = 2.9448e+05\n",
      "t =  16.0 min  ||u|| = 2.7041e+04  ||eta|| = 2.9454e+05\n",
      "t =  16.2 min  ||u|| = 2.7386e+04  ||eta|| = 2.9459e+05\n",
      "t =  16.5 min  ||u|| = 2.7734e+04  ||eta|| = 2.9464e+05\n",
      "t =  16.8 min  ||u|| = 2.8085e+04  ||eta|| = 2.9469e+05\n",
      "t =  17.0 min  ||u|| = 2.8438e+04  ||eta|| = 2.9475e+05\n",
      "t =  17.2 min  ||u|| = 2.8794e+04  ||eta|| = 2.9483e+05\n",
      "t =  17.5 min  ||u|| = 2.9151e+04  ||eta|| = 2.9492e+05\n",
      "t =  17.8 min  ||u|| = 2.9511e+04  ||eta|| = 2.9504e+05\n",
      "t =  18.0 min  ||u|| = 2.9875e+04  ||eta|| = 2.9517e+05\n",
      "t =  18.2 min  ||u|| = 3.0241e+04  ||eta|| = 2.9533e+05\n",
      "t =  18.5 min  ||u|| = 3.0612e+04  ||eta|| = 2.9550e+05\n",
      "t =  18.8 min  ||u|| = 3.0988e+04  ||eta|| = 2.9568e+05\n",
      "t =  19.0 min  ||u|| = 3.1370e+04  ||eta|| = 2.9588e+05\n",
      "t =  19.2 min  ||u|| = 3.1759e+04  ||eta|| = 2.9608e+05\n",
      "t =  19.5 min  ||u|| = 3.2155e+04  ||eta|| = 2.9628e+05\n",
      "t =  19.8 min  ||u|| = 3.2560e+04  ||eta|| = 2.9648e+05\n",
      "t =  20.0 min  ||u|| = 3.2973e+04  ||eta|| = 2.9667e+05\n",
      "t =  20.2 min  ||u|| = 3.3395e+04  ||eta|| = 2.9686e+05\n",
      "t =  20.5 min  ||u|| = 3.3826e+04  ||eta|| = 2.9702e+05\n",
      "t =  20.8 min  ||u|| = 3.4265e+04  ||eta|| = 2.9718e+05\n",
      "t =  21.0 min  ||u|| = 3.4713e+04  ||eta|| = 2.9731e+05\n",
      "t =  21.2 min  ||u|| = 3.5169e+04  ||eta|| = 2.9743e+05\n",
      "t =  21.5 min  ||u|| = 3.5633e+04  ||eta|| = 2.9753e+05\n",
      "t =  21.8 min  ||u|| = 3.6103e+04  ||eta|| = 2.9761e+05\n",
      "t =  22.0 min  ||u|| = 3.6579e+04  ||eta|| = 2.9767e+05\n",
      "t =  22.2 min  ||u|| = 3.7060e+04  ||eta|| = 2.9771e+05\n",
      "t =  22.5 min  ||u|| = 3.7545e+04  ||eta|| = 2.9773e+05\n",
      "t =  22.8 min  ||u|| = 3.8032e+04  ||eta|| = 2.9774e+05\n",
      "t =  23.0 min  ||u|| = 3.8521e+04  ||eta|| = 2.9772e+05\n",
      "t =  23.2 min  ||u|| = 3.9011e+04  ||eta|| = 2.9769e+05\n",
      "t =  23.5 min  ||u|| = 3.9499e+04  ||eta|| = 2.9765e+05\n",
      "t =  23.8 min  ||u|| = 3.9985e+04  ||eta|| = 2.9759e+05\n",
      "t =  24.0 min  ||u|| = 4.0466e+04  ||eta|| = 2.9753e+05\n",
      "t =  24.2 min  ||u|| = 4.0942e+04  ||eta|| = 2.9746e+05\n",
      "t =  24.5 min  ||u|| = 4.1411e+04  ||eta|| = 2.9739e+05\n",
      "t =  24.8 min  ||u|| = 4.1872e+04  ||eta|| = 2.9731e+05\n",
      "t =  25.0 min  ||u|| = 4.2321e+04  ||eta|| = 2.9724e+05\n",
      "t =  25.2 min  ||u|| = 4.2759e+04  ||eta|| = 2.9719e+05\n",
      "t =  25.5 min  ||u|| = 4.3183e+04  ||eta|| = 2.9714e+05\n",
      "t =  25.8 min  ||u|| = 4.3592e+04  ||eta|| = 2.9712e+05\n",
      "t =  26.0 min  ||u|| = 4.3986e+04  ||eta|| = 2.9712e+05\n",
      "t =  26.2 min  ||u|| = 4.4363e+04  ||eta|| = 2.9715e+05\n",
      "t =  26.5 min  ||u|| = 4.4724e+04  ||eta|| = 2.9722e+05\n",
      "t =  26.8 min  ||u|| = 4.5068e+04  ||eta|| = 2.9732e+05\n",
      "t =  27.0 min  ||u|| = 4.5397e+04  ||eta|| = 2.9746e+05\n",
      "t =  27.2 min  ||u|| = 4.5712e+04  ||eta|| = 2.9764e+05\n",
      "t =  27.5 min  ||u|| = 4.6016e+04  ||eta|| = 2.9787e+05\n",
      "t =  27.8 min  ||u|| = 4.6312e+04  ||eta|| = 2.9813e+05\n",
      "t =  28.0 min  ||u|| = 4.6601e+04  ||eta|| = 2.9842e+05\n",
      "t =  28.2 min  ||u|| = 4.6890e+04  ||eta|| = 2.9875e+05\n",
      "t =  28.5 min  ||u|| = 4.7182e+04  ||eta|| = 2.9910e+05\n",
      "t =  28.8 min  ||u|| = 4.7481e+04  ||eta|| = 2.9946e+05\n",
      "t =  29.0 min  ||u|| = 4.7792e+04  ||eta|| = 2.9982e+05\n",
      "t =  29.2 min  ||u|| = 4.8121e+04  ||eta|| = 3.0018e+05\n",
      "t =  29.5 min  ||u|| = 4.8471e+04  ||eta|| = 3.0053e+05\n",
      "t =  29.8 min  ||u|| = 4.8846e+04  ||eta|| = 3.0086e+05\n",
      "t =  30.0 min  ||u|| = 4.9250e+04  ||eta|| = 3.0117e+05\n"
     ]
    }
   ],
   "source": [
    "with stop_annotating():\n",
    "    u_.assign(u0)\n",
    "    eta_.project(m_opt*eta0)\n",
    "    for gauge in gauges:\n",
    "        op.gauges[gauge][\"data\"].append(float(eta_.at(op.gauges[gauge][\"coords\"])))\n",
    "    for i in range(num_timesteps):\n",
    "        print(f\"t = {i*op.dt/60:5.1f} min  ||u|| = {norm(u):.4e}  ||eta|| = {norm(eta):.4e}\")\n",
    "        solver.solve()\n",
    "        q_.assign(q)\n",
    "        for gauge in gauges:\n",
    "            op.gauges[gauge][\"data\"].append(float(eta.at(op.gauges[gauge][\"coords\"])))\n",
    "    print(f\"t = {(i+1)*op.dt/60:5.1f} min  ||u|| = {norm(u):.4e}  ||eta|| = {norm(eta):.4e}\")"
   ]
  },
  {
   "cell_type": "markdown",
   "id": "e706af8c",
   "metadata": {},
   "source": [
    "Solve forward to annotate to tape"
   ]
  },
  {
   "cell_type": "code",
   "execution_count": 15,
   "id": "ab04ea61",
   "metadata": {},
   "outputs": [
    {
     "name": "stdout",
     "output_type": "stream",
     "text": [
      "t =   0.0 min  ||u|| = 4.9250e+04  ||eta|| = 3.0117e+05\n",
      "t =   0.2 min  ||u|| = 2.8965e+03  ||eta|| = 8.4732e+05\n",
      "t =   0.5 min  ||u|| = 5.7628e+03  ||eta|| = 8.4146e+05\n",
      "t =   0.8 min  ||u|| = 8.5706e+03  ||eta|| = 8.3196e+05\n",
      "t =   1.0 min  ||u|| = 1.1294e+04  ||eta|| = 8.1918e+05\n",
      "t =   1.2 min  ||u|| = 1.3911e+04  ||eta|| = 8.0361e+05\n",
      "t =   1.5 min  ||u|| = 1.6404e+04  ||eta|| = 7.8577e+05\n",
      "t =   1.8 min  ||u|| = 1.8760e+04  ||eta|| = 7.6625e+05\n",
      "t =   2.0 min  ||u|| = 2.0968e+04  ||eta|| = 7.4561e+05\n",
      "t =   2.2 min  ||u|| = 2.3025e+04  ||eta|| = 7.2441e+05\n",
      "t =   2.5 min  ||u|| = 2.4928e+04  ||eta|| = 7.0316e+05\n",
      "t =   2.8 min  ||u|| = 2.6679e+04  ||eta|| = 6.8230e+05\n",
      "t =   3.0 min  ||u|| = 2.8281e+04  ||eta|| = 6.6222e+05\n",
      "t =   3.2 min  ||u|| = 2.9740e+04  ||eta|| = 6.4325e+05\n",
      "t =   3.5 min  ||u|| = 3.1061e+04  ||eta|| = 6.2562e+05\n",
      "t =   3.8 min  ||u|| = 3.2253e+04  ||eta|| = 6.0952e+05\n",
      "t =   4.0 min  ||u|| = 3.3323e+04  ||eta|| = 5.9507e+05\n",
      "t =   4.2 min  ||u|| = 3.4279e+04  ||eta|| = 5.8234e+05\n",
      "t =   4.5 min  ||u|| = 3.5132e+04  ||eta|| = 5.7135e+05\n",
      "t =   4.8 min  ||u|| = 3.5889e+04  ||eta|| = 5.6205e+05\n",
      "t =   5.0 min  ||u|| = 3.6559e+04  ||eta|| = 5.5439e+05\n",
      "t =   5.2 min  ||u|| = 3.7151e+04  ||eta|| = 5.4828e+05\n",
      "t =   5.5 min  ||u|| = 3.7673e+04  ||eta|| = 5.4361e+05\n",
      "t =   5.8 min  ||u|| = 3.8132e+04  ||eta|| = 5.4024e+05\n",
      "t =   6.0 min  ||u|| = 3.8538e+04  ||eta|| = 5.3804e+05\n",
      "t =   6.2 min  ||u|| = 3.8896e+04  ||eta|| = 5.3688e+05\n",
      "t =   6.5 min  ||u|| = 3.9213e+04  ||eta|| = 5.3661e+05\n",
      "t =   6.8 min  ||u|| = 3.9498e+04  ||eta|| = 5.3710e+05\n",
      "t =   7.0 min  ||u|| = 3.9755e+04  ||eta|| = 5.3822e+05\n",
      "t =   7.2 min  ||u|| = 3.9990e+04  ||eta|| = 5.3986e+05\n",
      "t =   7.5 min  ||u|| = 4.0209e+04  ||eta|| = 5.4191e+05\n",
      "t =   7.8 min  ||u|| = 4.0417e+04  ||eta|| = 5.4426e+05\n",
      "t =   8.0 min  ||u|| = 4.0619e+04  ||eta|| = 5.4684e+05\n",
      "t =   8.2 min  ||u|| = 4.0818e+04  ||eta|| = 5.4955e+05\n",
      "t =   8.5 min  ||u|| = 4.1020e+04  ||eta|| = 5.5232e+05\n",
      "t =   8.8 min  ||u|| = 4.1226e+04  ||eta|| = 5.5510e+05\n",
      "t =   9.0 min  ||u|| = 4.1440e+04  ||eta|| = 5.5783e+05\n",
      "t =   9.2 min  ||u|| = 4.1665e+04  ||eta|| = 5.6048e+05\n",
      "t =   9.5 min  ||u|| = 4.1901e+04  ||eta|| = 5.6300e+05\n",
      "t =   9.8 min  ||u|| = 4.2151e+04  ||eta|| = 5.6538e+05\n",
      "t =  10.0 min  ||u|| = 4.2415e+04  ||eta|| = 5.6760e+05\n",
      "t =  10.2 min  ||u|| = 4.2694e+04  ||eta|| = 5.6966e+05\n",
      "t =  10.5 min  ||u|| = 4.2988e+04  ||eta|| = 5.7156e+05\n",
      "t =  10.8 min  ||u|| = 4.3298e+04  ||eta|| = 5.7330e+05\n",
      "t =  11.0 min  ||u|| = 4.3624e+04  ||eta|| = 5.7490e+05\n",
      "t =  11.2 min  ||u|| = 4.3966e+04  ||eta|| = 5.7638e+05\n",
      "t =  11.5 min  ||u|| = 4.4325e+04  ||eta|| = 5.7773e+05\n",
      "t =  11.8 min  ||u|| = 4.4702e+04  ||eta|| = 5.7898e+05\n",
      "t =  12.0 min  ||u|| = 4.5096e+04  ||eta|| = 5.8014e+05\n",
      "t =  12.2 min  ||u|| = 4.5509e+04  ||eta|| = 5.8122e+05\n",
      "t =  12.5 min  ||u|| = 4.5942e+04  ||eta|| = 5.8222e+05\n",
      "t =  12.8 min  ||u|| = 4.6395e+04  ||eta|| = 5.8316e+05\n",
      "t =  13.0 min  ||u|| = 4.6870e+04  ||eta|| = 5.8402e+05\n",
      "t =  13.2 min  ||u|| = 4.7366e+04  ||eta|| = 5.8482e+05\n",
      "t =  13.5 min  ||u|| = 4.7884e+04  ||eta|| = 5.8554e+05\n",
      "t =  13.8 min  ||u|| = 4.8423e+04  ||eta|| = 5.8620e+05\n",
      "t =  14.0 min  ||u|| = 4.8984e+04  ||eta|| = 5.8678e+05\n",
      "t =  14.2 min  ||u|| = 4.9565e+04  ||eta|| = 5.8729e+05\n",
      "t =  14.5 min  ||u|| = 5.0165e+04  ||eta|| = 5.8773e+05\n",
      "t =  14.8 min  ||u|| = 5.0783e+04  ||eta|| = 5.8809e+05\n",
      "t =  15.0 min  ||u|| = 5.1417e+04  ||eta|| = 5.8839e+05\n",
      "t =  15.2 min  ||u|| = 5.2066e+04  ||eta|| = 5.8863e+05\n",
      "t =  15.5 min  ||u|| = 5.2727e+04  ||eta|| = 5.8881e+05\n",
      "t =  15.8 min  ||u|| = 5.3400e+04  ||eta|| = 5.8896e+05\n",
      "t =  16.0 min  ||u|| = 5.4082e+04  ||eta|| = 5.8908e+05\n",
      "t =  16.2 min  ||u|| = 5.4772e+04  ||eta|| = 5.8918e+05\n",
      "t =  16.5 min  ||u|| = 5.5468e+04  ||eta|| = 5.8927e+05\n",
      "t =  16.8 min  ||u|| = 5.6170e+04  ||eta|| = 5.8938e+05\n",
      "t =  17.0 min  ||u|| = 5.6876e+04  ||eta|| = 5.8950e+05\n",
      "t =  17.2 min  ||u|| = 5.7587e+04  ||eta|| = 5.8965e+05\n",
      "t =  17.5 min  ||u|| = 5.8303e+04  ||eta|| = 5.8984e+05\n",
      "t =  17.8 min  ||u|| = 5.9023e+04  ||eta|| = 5.9007e+05\n",
      "t =  18.0 min  ||u|| = 5.9749e+04  ||eta|| = 5.9034e+05\n",
      "t =  18.2 min  ||u|| = 6.0482e+04  ||eta|| = 5.9065e+05\n",
      "t =  18.5 min  ||u|| = 6.1224e+04  ||eta|| = 5.9100e+05\n",
      "t =  18.8 min  ||u|| = 6.1976e+04  ||eta|| = 5.9137e+05\n",
      "t =  19.0 min  ||u|| = 6.2740e+04  ||eta|| = 5.9176e+05\n",
      "t =  19.2 min  ||u|| = 6.3518e+04  ||eta|| = 5.9216e+05\n",
      "t =  19.5 min  ||u|| = 6.4310e+04  ||eta|| = 5.9257e+05\n",
      "t =  19.8 min  ||u|| = 6.5119e+04  ||eta|| = 5.9297e+05\n",
      "t =  20.0 min  ||u|| = 6.5946e+04  ||eta|| = 5.9335e+05\n",
      "t =  20.2 min  ||u|| = 6.6790e+04  ||eta|| = 5.9371e+05\n",
      "t =  20.5 min  ||u|| = 6.7651e+04  ||eta|| = 5.9405e+05\n",
      "t =  20.8 min  ||u|| = 6.8531e+04  ||eta|| = 5.9435e+05\n",
      "t =  21.0 min  ||u|| = 6.9427e+04  ||eta|| = 5.9462e+05\n",
      "t =  21.2 min  ||u|| = 7.0339e+04  ||eta|| = 5.9486e+05\n",
      "t =  21.5 min  ||u|| = 7.1266e+04  ||eta|| = 5.9506e+05\n",
      "t =  21.8 min  ||u|| = 7.2206e+04  ||eta|| = 5.9522e+05\n",
      "t =  22.0 min  ||u|| = 7.3158e+04  ||eta|| = 5.9534e+05\n",
      "t =  22.2 min  ||u|| = 7.4120e+04  ||eta|| = 5.9542e+05\n",
      "t =  22.5 min  ||u|| = 7.5090e+04  ||eta|| = 5.9547e+05\n",
      "t =  22.8 min  ||u|| = 7.6064e+04  ||eta|| = 5.9547e+05\n",
      "t =  23.0 min  ||u|| = 7.7043e+04  ||eta|| = 5.9544e+05\n",
      "t =  23.2 min  ||u|| = 7.8021e+04  ||eta|| = 5.9539e+05\n",
      "t =  23.5 min  ||u|| = 7.8998e+04  ||eta|| = 5.9530e+05\n",
      "t =  23.8 min  ||u|| = 7.9969e+04  ||eta|| = 5.9519e+05\n",
      "t =  24.0 min  ||u|| = 8.0932e+04  ||eta|| = 5.9506e+05\n",
      "t =  24.2 min  ||u|| = 8.1885e+04  ||eta|| = 5.9492e+05\n",
      "t =  24.5 min  ||u|| = 8.2823e+04  ||eta|| = 5.9477e+05\n",
      "t =  24.8 min  ||u|| = 8.3743e+04  ||eta|| = 5.9462e+05\n",
      "t =  25.0 min  ||u|| = 8.4642e+04  ||eta|| = 5.9449e+05\n",
      "t =  25.2 min  ||u|| = 8.5518e+04  ||eta|| = 5.9437e+05\n",
      "t =  25.5 min  ||u|| = 8.6366e+04  ||eta|| = 5.9429e+05\n",
      "t =  25.8 min  ||u|| = 8.7184e+04  ||eta|| = 5.9424e+05\n",
      "t =  26.0 min  ||u|| = 8.7972e+04  ||eta|| = 5.9424e+05\n",
      "t =  26.2 min  ||u|| = 8.8726e+04  ||eta|| = 5.9430e+05\n",
      "t =  26.5 min  ||u|| = 8.9447e+04  ||eta|| = 5.9443e+05\n",
      "t =  26.8 min  ||u|| = 9.0136e+04  ||eta|| = 5.9464e+05\n",
      "t =  27.0 min  ||u|| = 9.0794e+04  ||eta|| = 5.9492e+05\n",
      "t =  27.2 min  ||u|| = 9.1425e+04  ||eta|| = 5.9528e+05\n",
      "t =  27.5 min  ||u|| = 9.2033e+04  ||eta|| = 5.9573e+05\n",
      "t =  27.8 min  ||u|| = 9.2623e+04  ||eta|| = 5.9626e+05\n",
      "t =  28.0 min  ||u|| = 9.3203e+04  ||eta|| = 5.9685e+05\n",
      "t =  28.2 min  ||u|| = 9.3780e+04  ||eta|| = 5.9750e+05\n",
      "t =  28.5 min  ||u|| = 9.4363e+04  ||eta|| = 5.9819e+05\n",
      "t =  28.8 min  ||u|| = 9.4962e+04  ||eta|| = 5.9891e+05\n",
      "t =  29.0 min  ||u|| = 9.5585e+04  ||eta|| = 5.9964e+05\n",
      "t =  29.2 min  ||u|| = 9.6242e+04  ||eta|| = 6.0037e+05\n",
      "t =  29.5 min  ||u|| = 9.6941e+04  ||eta|| = 6.0107e+05\n",
      "t =  29.8 min  ||u|| = 9.7691e+04  ||eta|| = 6.0173e+05\n",
      "t =  30.0 min  ||u|| = 9.8499e+04  ||eta|| = 6.0233e+05\n"
     ]
    }
   ],
   "source": [
    "J = 0\n",
    "adj_free = 0\n",
    "u_.assign(u0)\n",
    "eta_.project(m*eta0)\n",
    "for i in range(num_timesteps):\n",
    "    print(f\"t = {i*op.dt/60:5.1f} min  ||u|| = {norm(u):.4e}  ||eta|| = {norm(eta):.4e}\")\n",
    "    solver.solve()\n",
    "    for gauge in gauges:\n",
    "        op.gauges[gauge][\"obs\"].assign(op.gauges[gauge][\"data\"][i+1])\n",
    "        op.gauges[gauge][\"obs_old\"].assign(op.gauges[gauge][\"data\"][i])\n",
    "    J = J + assemble(J_form)\n",
    "    q_.assign(q)\n",
    "J10 = float(J)\n",
    "print(f\"t = {(i+1)*op.dt/60:5.1f} min  ||u|| = {norm(u):.4e}  ||eta|| = {norm(eta):.4e}\")\n",
    "stop_annotating();"
   ]
  },
  {
   "cell_type": "markdown",
   "id": "91c38359",
   "metadata": {},
   "source": [
    "Create `ReducedFunctional` and compute gradient using discrete adjoint"
   ]
  },
  {
   "cell_type": "code",
   "execution_count": 16,
   "id": "c30ba6aa",
   "metadata": {},
   "outputs": [],
   "source": [
    "op = OptimisationProgress()"
   ]
  },
  {
   "cell_type": "code",
   "execution_count": 17,
   "id": "478f562c",
   "metadata": {},
   "outputs": [],
   "source": [
    "def f_cb(j, ctrl):\n",
    "    op.feval += 1"
   ]
  },
  {
   "cell_type": "code",
   "execution_count": 18,
   "id": "0a890c2b",
   "metadata": {},
   "outputs": [],
   "source": [
    "def g_cb(j, djdm, ctrl):\n",
    "    op.geval += 1\n",
    "    op.J = j\n",
    "    op.dJdm = djdm.dat.data[0]\n",
    "    op.m = ctrl.dat.data[0]"
   ]
  },
  {
   "cell_type": "code",
   "execution_count": 19,
   "id": "7b8c223e",
   "metadata": {},
   "outputs": [],
   "source": [
    "def cb(ctrl):\n",
    "    op.ls_iteration += 1\n",
    "    print(f\"{op.ls_iteration:4d}  {op.m:7.4}  {op.J:.8}  {op.dJdm:.8}\")\n",
    "    op.m_progress.append(op.m)\n",
    "    op.J_progress.append(op.J)\n",
    "    op.dJdm_progress.append(op.dJdm)"
   ]
  },
  {
   "cell_type": "code",
   "execution_count": 20,
   "id": "f6d9188f",
   "metadata": {},
   "outputs": [],
   "source": [
    "Jhat = ReducedFunctional(J, c, eval_cb_post=f_cb, derivative_cb_post=g_cb)"
   ]
  },
  {
   "cell_type": "code",
   "execution_count": 26,
   "id": "e69279b0",
   "metadata": {},
   "outputs": [
    {
     "name": "stdout",
     "output_type": "stream",
     "text": [
      "   1     8.99  3901.0898  1786.1037\n",
      "   2    6.697  956.1748  782.9544\n",
      "   3    4.908  255.67785  9.2615952e-06\n",
      "CPU time: 755.775s, 4 function evaluations, 4 gradient evaluations, 3 line searches\n"
     ]
    }
   ],
   "source": [
    "c.update(10.0)\n",
    "op.__init__()\n",
    "with Timer() as t:\n",
    "    m_opt = minimize(Jhat, method='BFGS', callback=cb)\n",
    "print(f\"CPU time: {t}s, {op.feval} function evaluations, {op.geval} gradient evaluations, {op.ls_iteration} line searches\")"
   ]
  },
  {
   "cell_type": "markdown",
   "id": "1c6841c3",
   "metadata": {},
   "source": [
    "## Performance\n",
    "\n",
    "|      Mesh      | feval | geval | LS |   Run 1   |   Run 2   |   Run 3   |   Run 4   |  Average  |\n",
    "| -------------- | ----- | ----- | -- | --------- | --------- | --------- | --------- | --------- |\n",
    "| $\\mathcal H_0$ |   5   |   5   |  4 |   41.079  |   40.874  |   41.121  |   40.431  |   40.876  |\n",
    "| $\\mathcal H_1$ |   5   |   5   |  4 |  150.086  |  152.969  |  149.520  |  152.973  |  151.390  |\n",
    "| $\\mathcal H_2$ |   4   |   4   |  3 |  728.738  |  739.062  |  732.533  |  755.775  |  739.020  |"
   ]
  },
  {
   "cell_type": "code",
   "execution_count": 22,
   "id": "d0f2b812",
   "metadata": {},
   "outputs": [
    {
     "name": "stdout",
     "output_type": "stream",
     "text": [
      "Minimiser of quadratic: 4.9080\n"
     ]
    }
   ],
   "source": [
    "l = si.lagrange(op.m_progress[:3], op.J_progress[:3])\n",
    "dl = l.deriv()\n",
    "l_min = -dl.coefficients[1]/dl.coefficients[0]\n",
    "print(\"Minimiser of quadratic: {:.4f}\".format(l_min))"
   ]
  },
  {
   "cell_type": "markdown",
   "id": "7b16e4fd",
   "metadata": {},
   "source": [
    "Plot progress of optimisation"
   ]
  },
  {
   "cell_type": "code",
   "execution_count": 23,
   "id": "6eeee2f3",
   "metadata": {},
   "outputs": [
    {
     "data": {
      "image/png": "[encoded data removed]",
      "text/plain": [
       "<Figure size 576x576 with 1 Axes>"
      ]
     },
     "metadata": {
      "needs_background": "light"
     },
     "output_type": "display_data"
    }
   ],
   "source": [
    "fig, axes = plt.subplots(figsize=(8, 8))\n",
    "xx = np.linspace(2, 10, 100)\n",
    "axes.plot(xx, l(xx), ':', color='C0')\n",
    "axes.plot(l_min, l(l_min), '*', markersize=14, color='C0', label=r\"$m^\\star={:.4f}$\".format(l_min))\n",
    "\n",
    "delta_m = 0.25\n",
    "for i, (mi, fi, gi) in enumerate(zip(op.m_progress, op.J_progress, op.dJdm_progress)):\n",
    "    x = np.array([mi - delta_m, mi + delta_m])\n",
    "    axes.plot(x, gi*(x - mi) + fi, '-', color='C2', linewidth=5)\n",
    "axes.plot(op.m_progress, op.J_progress, 'o', color='C1', markersize=8)\n",
    "\n",
    "axes.set_xlabel(\"Control parameter\")\n",
    "axes.set_ylabel(\"Quantity of Interest\")\n",
    "axes.grid(True)\n",
    "axes.legend()\n",
    "plt.tight_layout()\n",
    "plt.savefig(f\"plots/tohoku1d_inversion_discrete_{level}.pdf\")"
   ]
  },
  {
   "cell_type": "markdown",
   "id": "cf4f0a4e",
   "metadata": {},
   "source": [
    "Minimisers for $\\theta=\\frac12$: 4.0913, 4.5619, 49080."
   ]
  }
 ],
 "metadata": {
  "kernelspec": {
   "display_name": "Python 3",
   "language": "python",
   "name": "python3"
  },
  "language_info": {
   "codemirror_mode": {
    "name": "ipython",
    "version": 3
   },
   "file_extension": ".py",
   "mimetype": "text/x-python",
   "name": "python",
   "nbconvert_exporter": "python",
   "pygments_lexer": "ipython3",
   "version": "3.8.5"
  }
 },
 "nbformat": 4,
 "nbformat_minor": 5
}
