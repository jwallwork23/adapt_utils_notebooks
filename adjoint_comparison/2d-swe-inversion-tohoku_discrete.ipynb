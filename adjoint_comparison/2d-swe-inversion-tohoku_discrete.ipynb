{
 "cells": [
  {
   "cell_type": "code",
   "execution_count": 1,
   "id": "4a47b9bd",
   "metadata": {},
   "outputs": [],
   "source": [
    "from firedrake import *\n",
    "from firedrake_adjoint import *"
   ]
  },
  {
   "cell_type": "code",
   "execution_count": 2,
   "id": "6ec62508",
   "metadata": {},
   "outputs": [],
   "source": [
    "from contexttimer import Timer\n",
    "import matplotlib.pyplot as plt\n",
    "import scipy.interpolate as si"
   ]
  },
  {
   "cell_type": "code",
   "execution_count": 3,
   "id": "5efb943e",
   "metadata": {},
   "outputs": [],
   "source": [
    "from adapt_utils.case_studies.tohoku.options.options import TohokuInversionOptions\n",
    "from adapt_utils.misc import gaussian, ellipse"
   ]
  },
  {
   "cell_type": "code",
   "execution_count": 4,
   "id": "f085092f",
   "metadata": {},
   "outputs": [],
   "source": [
    "class OptimisationProgress(object):\n",
    "    def __init__(self):\n",
    "        self.m_progress = []\n",
    "        self.J_progress = []\n",
    "        self.dJdm_progress = []\n",
    "        self.ls_iteration = 0\n",
    "        self.feval = 0\n",
    "        self.geval = 0"
   ]
  },
  {
   "cell_type": "markdown",
   "id": "ddc9c884",
   "metadata": {},
   "source": [
    "Specify 'optimum' and initial guess"
   ]
  },
  {
   "cell_type": "code",
   "execution_count": 5,
   "id": "04cacd0c",
   "metadata": {},
   "outputs": [],
   "source": [
    "m_opt = 5.0\n",
    "m_prior = 10.0"
   ]
  },
  {
   "cell_type": "markdown",
   "id": "7224727e",
   "metadata": {},
   "source": [
    "Create `Options` object and setup gauges."
   ]
  },
  {
   "cell_type": "code",
   "execution_count": 6,
   "id": "757fa14a",
   "metadata": {},
   "outputs": [
    {
     "name": "stderr",
     "output_type": "stream",
     "text": [
      "/home/joe/software/firedrake-pragmatic/src/firedrake/firedrake/parloops.py:130: LoopyWarning: 'lang_version' was not passed to make_function(). To avoid this warning, pass lang_version=(2018, 2) in this invocation. (Or say 'from loopy.version import LOOPY_USE_LANGUAGE_VERSION_2018_2' in the global scope of the calling frame.)\n",
      "  knl = loopy.make_function(kernel_domains, instructions, kargs, seq_dependencies=True,\n"
     ]
    }
   ],
   "source": [
    "level = 0\n",
    "op = TohokuInversionOptions(level=level)\n",
    "gauges = list(op.gauges.keys())\n",
    "for gauge in gauges:\n",
    "    if gauge[:2] not in ('P0', '80'):\n",
    "        op.gauges.pop(gauge)\n",
    "gauges = list(op.gauges.keys())"
   ]
  },
  {
   "cell_type": "markdown",
   "id": "98e28d8f",
   "metadata": {},
   "source": [
    "Setup timestepping parameters"
   ]
  },
  {
   "cell_type": "code",
   "execution_count": 7,
   "id": "0367f361",
   "metadata": {},
   "outputs": [],
   "source": [
    "num_timesteps = 30\n",
    "dt = Constant(op.dt)\n",
    "theta = Constant(0.5)"
   ]
  },
  {
   "cell_type": "markdown",
   "id": "7fb5a51f",
   "metadata": {},
   "source": [
    "Create function spaces"
   ]
  },
  {
   "cell_type": "code",
   "execution_count": 8,
   "id": "11c74113",
   "metadata": {},
   "outputs": [],
   "source": [
    "mesh = op.default_mesh\n",
    "P2 = VectorFunctionSpace(mesh, \"CG\", 1)\n",
    "P1 = FunctionSpace(mesh, \"CG\", 1)\n",
    "V = P2*P1\n",
    "R = FunctionSpace(mesh, \"R\", 0)"
   ]
  },
  {
   "cell_type": "markdown",
   "id": "dec7b03a",
   "metadata": {},
   "source": [
    "Create `Function`s"
   ]
  },
  {
   "cell_type": "code",
   "execution_count": 9,
   "id": "74fcd334",
   "metadata": {},
   "outputs": [],
   "source": [
    "u, eta = TrialFunctions(V)\n",
    "test_u, test_eta = TestFunctions(V)\n",
    "m = Function(R).assign(m_prior)\n",
    "c = Control(m)\n",
    "q0 = Function(V)\n",
    "u0, eta0 = q0.split()\n",
    "eta0.interpolate(gaussian([(0.7e+06, 4.2e+06, 48e+03, 96e+03)], mesh, rotation=pi/12))\n",
    "q_ = Function(V)\n",
    "u_, eta_ = q_.split();"
   ]
  },
  {
   "cell_type": "markdown",
   "id": "fe3b2f2e",
   "metadata": {},
   "source": [
    "Set physical parameters"
   ]
  },
  {
   "cell_type": "code",
   "execution_count": 10,
   "id": "b1a9b265",
   "metadata": {},
   "outputs": [],
   "source": [
    "b = Function(P1).assign(op.set_bathymetry(P1))\n",
    "g = Constant(9.81)"
   ]
  },
  {
   "cell_type": "markdown",
   "id": "0e9caae5",
   "metadata": {},
   "source": [
    "Setup forward variational problem"
   ]
  },
  {
   "cell_type": "code",
   "execution_count": 11,
   "id": "481827b1",
   "metadata": {},
   "outputs": [],
   "source": [
    "a = inner(u, test_u)*dx + eta*test_eta*dx\n",
    "a += theta*dt*g*inner(grad(eta), test_u)*dx - theta*dt*b*inner(u, grad(test_eta))*dx\n",
    "L = inner(u_, test_u)*dx + eta_*test_eta*dx\n",
    "L += -(1-theta)*dt*g*inner(grad(eta_), test_u)*dx + (1-theta)*dt*b*inner(u_, grad(test_eta))*dx\n",
    "q = Function(V)\n",
    "u, eta = q.split()\n",
    "bc = DirichletBC(V.sub(1), 0, 100)\n",
    "problem = LinearVariationalProblem(a, L, q, bcs=bc)"
   ]
  },
  {
   "cell_type": "markdown",
   "id": "dd1efa70",
   "metadata": {},
   "source": [
    "Setup forward variational solver"
   ]
  },
  {
   "cell_type": "code",
   "execution_count": 12,
   "id": "b8e494b5",
   "metadata": {},
   "outputs": [],
   "source": [
    "sp = {\n",
    "    \"snes_type\": \"ksponly\",\n",
    "    \"ksp_type\": \"gmres\",\n",
    "    \"pc_type\": \"fieldsplit\",\n",
    "    \"pc_fieldsplit_type\": \"multiplicative\",\n",
    "}\n",
    "solver = LinearVariationalSolver(problem, solver_parameters=sp)"
   ]
  },
  {
   "cell_type": "markdown",
   "id": "236a87a7",
   "metadata": {},
   "source": [
    "Setup QoI"
   ]
  },
  {
   "cell_type": "code",
   "execution_count": 13,
   "id": "9cc5ba39",
   "metadata": {},
   "outputs": [],
   "source": [
    "P0 = FunctionSpace(mesh, \"DG\", 0)\n",
    "J_form = 0\n",
    "radius = 20e+03*0.5**level\n",
    "for gauge in gauges:\n",
    "    op.gauges[gauge][\"data\"] = []\n",
    "    k = Function(P0*P0)\n",
    "    ku, keta = k.split()\n",
    "    keta.interpolate(ellipse([op.gauges[gauge][\"coords\"] + (radius,)], mesh))\n",
    "    keta.assign(keta/assemble(keta*dx))\n",
    "    op.gauges[gauge][\"indicator\"] = keta\n",
    "    op.gauges[gauge][\"obs\"] = Function(R)\n",
    "    op.gauges[gauge][\"obs_old\"] = Function(R)\n",
    "    J_form += theta*0.5*dt*keta*(eta - op.gauges[gauge][\"obs\"])**2*dx\n",
    "    J_form += (1-theta)*0.5*dt*keta*(eta_ - op.gauges[gauge][\"obs_old\"])**2*dx"
   ]
  },
  {
   "cell_type": "markdown",
   "id": "79a6d743",
   "metadata": {},
   "source": [
    "Solve forward to generate 'data'"
   ]
  },
  {
   "cell_type": "code",
   "execution_count": 14,
   "id": "a8cd0253",
   "metadata": {},
   "outputs": [
    {
     "name": "stdout",
     "output_type": "stream",
     "text": [
      "t =   0.0 min  ||u|| = 0.0000e+00  ||eta|| = 0.0000e+00\n",
      "t =   1.0 min  ||u|| = 5.2975e+03  ||eta|| = 4.0166e+05\n",
      "t =   2.0 min  ||u|| = 9.9006e+03  ||eta|| = 3.6750e+05\n",
      "t =   3.0 min  ||u|| = 1.3447e+04  ||eta|| = 3.2741e+05\n",
      "t =   4.0 min  ||u|| = 1.5945e+04  ||eta|| = 2.9399e+05\n",
      "t =   5.0 min  ||u|| = 1.7591e+04  ||eta|| = 2.7287e+05\n",
      "t =   6.0 min  ||u|| = 1.8619e+04  ||eta|| = 2.6383e+05\n",
      "t =   7.0 min  ||u|| = 1.9256e+04  ||eta|| = 2.6336e+05\n",
      "t =   8.0 min  ||u|| = 1.9689e+04  ||eta|| = 2.6755e+05\n",
      "t =   9.0 min  ||u|| = 2.0066e+04  ||eta|| = 2.7331e+05\n",
      "t =  10.0 min  ||u|| = 2.0495e+04  ||eta|| = 2.7878e+05\n",
      "t =  11.0 min  ||u|| = 2.1033e+04  ||eta|| = 2.8348e+05\n",
      "t =  12.0 min  ||u|| = 2.1702e+04  ||eta|| = 2.8719e+05\n",
      "t =  13.0 min  ||u|| = 2.2506e+04  ||eta|| = 2.8959e+05\n",
      "t =  14.0 min  ||u|| = 2.3413e+04  ||eta|| = 2.9162e+05\n",
      "t =  15.0 min  ||u|| = 2.4402e+04  ||eta|| = 2.9433e+05\n",
      "t =  16.0 min  ||u|| = 2.5498e+04  ||eta|| = 2.9657e+05\n",
      "t =  17.0 min  ||u|| = 2.6723e+04  ||eta|| = 2.9679e+05\n",
      "t =  18.0 min  ||u|| = 2.8035e+04  ||eta|| = 2.9616e+05\n",
      "t =  19.0 min  ||u|| = 2.9379e+04  ||eta|| = 2.9693e+05\n",
      "t =  20.0 min  ||u|| = 3.0766e+04  ||eta|| = 2.9889e+05\n",
      "t =  21.0 min  ||u|| = 3.2253e+04  ||eta|| = 3.0007e+05\n",
      "t =  22.0 min  ||u|| = 3.3856e+04  ||eta|| = 3.0003e+05\n",
      "t =  23.0 min  ||u|| = 3.5515e+04  ||eta|| = 3.0018e+05\n",
      "t =  24.0 min  ||u|| = 3.7133e+04  ||eta|| = 3.0148e+05\n",
      "t =  25.0 min  ||u|| = 3.8628e+04  ||eta|| = 3.0330e+05\n",
      "t =  26.0 min  ||u|| = 3.9975e+04  ||eta|| = 3.0467e+05\n",
      "t =  27.0 min  ||u|| = 4.1212e+04  ||eta|| = 3.0560e+05\n",
      "t =  28.0 min  ||u|| = 4.2446e+04  ||eta|| = 3.0673e+05\n",
      "t =  29.0 min  ||u|| = 4.3812e+04  ||eta|| = 3.0836e+05\n",
      "t =  30.0 min  ||u|| = 4.5433e+04  ||eta|| = 3.1014e+05\n"
     ]
    }
   ],
   "source": [
    "with stop_annotating():\n",
    "    u_.assign(u0)\n",
    "    eta_.project(m_opt*eta0)\n",
    "    for gauge in gauges:\n",
    "        op.gauges[gauge][\"data\"].append(float(eta_.at(op.gauges[gauge][\"coords\"])))\n",
    "    for i in range(num_timesteps):\n",
    "        print(f\"t = {i*op.dt/60:5.1f} min  ||u|| = {norm(u):.4e}  ||eta|| = {norm(eta):.4e}\")\n",
    "        solver.solve()\n",
    "        q_.assign(q)\n",
    "        for gauge in gauges:\n",
    "            op.gauges[gauge][\"data\"].append(float(eta.at(op.gauges[gauge][\"coords\"])))\n",
    "    print(f\"t = {(i+1)*op.dt/60:5.1f} min  ||u|| = {norm(u):.4e}  ||eta|| = {norm(eta):.4e}\")"
   ]
  },
  {
   "cell_type": "markdown",
   "id": "e706af8c",
   "metadata": {},
   "source": [
    "Solve forward to annotate to tape"
   ]
  },
  {
   "cell_type": "code",
   "execution_count": 15,
   "id": "ab04ea61",
   "metadata": {},
   "outputs": [
    {
     "name": "stdout",
     "output_type": "stream",
     "text": [
      "t =   0.0 min  ||u|| = 4.5433e+04  ||eta|| = 3.1014e+05\n",
      "t =   1.0 min  ||u|| = 1.0595e+04  ||eta|| = 8.0331e+05\n",
      "t =   2.0 min  ||u|| = 1.9801e+04  ||eta|| = 7.3500e+05\n",
      "t =   3.0 min  ||u|| = 2.6893e+04  ||eta|| = 6.5482e+05\n",
      "t =   4.0 min  ||u|| = 3.1889e+04  ||eta|| = 5.8797e+05\n",
      "t =   5.0 min  ||u|| = 3.5181e+04  ||eta|| = 5.4574e+05\n",
      "t =   6.0 min  ||u|| = 3.7239e+04  ||eta|| = 5.2766e+05\n",
      "t =   7.0 min  ||u|| = 3.8512e+04  ||eta|| = 5.2673e+05\n",
      "t =   8.0 min  ||u|| = 3.9378e+04  ||eta|| = 5.3510e+05\n",
      "t =   9.0 min  ||u|| = 4.0131e+04  ||eta|| = 5.4663e+05\n",
      "t =  10.0 min  ||u|| = 4.0990e+04  ||eta|| = 5.5757e+05\n",
      "t =  11.0 min  ||u|| = 4.2066e+04  ||eta|| = 5.6697e+05\n",
      "t =  12.0 min  ||u|| = 4.3405e+04  ||eta|| = 5.7437e+05\n",
      "t =  13.0 min  ||u|| = 4.5011e+04  ||eta|| = 5.7917e+05\n",
      "t =  14.0 min  ||u|| = 4.6827e+04  ||eta|| = 5.8323e+05\n",
      "t =  15.0 min  ||u|| = 4.8805e+04  ||eta|| = 5.8867e+05\n",
      "t =  16.0 min  ||u|| = 5.0997e+04  ||eta|| = 5.9314e+05\n",
      "t =  17.0 min  ||u|| = 5.3447e+04  ||eta|| = 5.9358e+05\n",
      "t =  18.0 min  ||u|| = 5.6071e+04  ||eta|| = 5.9232e+05\n",
      "t =  19.0 min  ||u|| = 5.8759e+04  ||eta|| = 5.9386e+05\n",
      "t =  20.0 min  ||u|| = 6.1533e+04  ||eta|| = 5.9777e+05\n",
      "t =  21.0 min  ||u|| = 6.4506e+04  ||eta|| = 6.0015e+05\n",
      "t =  22.0 min  ||u|| = 6.7712e+04  ||eta|| = 6.0007e+05\n",
      "t =  23.0 min  ||u|| = 7.1030e+04  ||eta|| = 6.0036e+05\n",
      "t =  24.0 min  ||u|| = 7.4265e+04  ||eta|| = 6.0296e+05\n",
      "t =  25.0 min  ||u|| = 7.7256e+04  ||eta|| = 6.0661e+05\n",
      "t =  26.0 min  ||u|| = 7.9949e+04  ||eta|| = 6.0935e+05\n",
      "t =  27.0 min  ||u|| = 8.2425e+04  ||eta|| = 6.1120e+05\n",
      "t =  28.0 min  ||u|| = 8.4891e+04  ||eta|| = 6.1347e+05\n",
      "t =  29.0 min  ||u|| = 8.7624e+04  ||eta|| = 6.1671e+05\n",
      "t =  30.0 min  ||u|| = 9.0866e+04  ||eta|| = 6.2029e+05\n"
     ]
    }
   ],
   "source": [
    "J = 0\n",
    "adj_free = 0\n",
    "u_.assign(u0)\n",
    "eta_.project(m*eta0)\n",
    "for i in range(num_timesteps):\n",
    "    print(f\"t = {i*op.dt/60:5.1f} min  ||u|| = {norm(u):.4e}  ||eta|| = {norm(eta):.4e}\")\n",
    "    solver.solve()\n",
    "    for gauge in gauges:\n",
    "        op.gauges[gauge][\"obs\"].assign(op.gauges[gauge][\"data\"][i+1])\n",
    "        op.gauges[gauge][\"obs_old\"].assign(op.gauges[gauge][\"data\"][i])\n",
    "    J = J + assemble(J_form)\n",
    "    q_.assign(q)\n",
    "J10 = float(J)\n",
    "print(f\"t = {(i+1)*op.dt/60:5.1f} min  ||u|| = {norm(u):.4e}  ||eta|| = {norm(eta):.4e}\")\n",
    "stop_annotating();"
   ]
  },
  {
   "cell_type": "markdown",
   "id": "91c38359",
   "metadata": {},
   "source": [
    "Create `ReducedFunctional` and compute gradient using discrete adjoint"
   ]
  },
  {
   "cell_type": "code",
   "execution_count": 16,
   "id": "dd5cbaba",
   "metadata": {},
   "outputs": [],
   "source": [
    "op = OptimisationProgress()"
   ]
  },
  {
   "cell_type": "code",
   "execution_count": 17,
   "id": "5fe25c7b",
   "metadata": {},
   "outputs": [],
   "source": [
    "def f_cb(j, ctrl):\n",
    "    op.feval += 1"
   ]
  },
  {
   "cell_type": "code",
   "execution_count": 18,
   "id": "6e7da390",
   "metadata": {},
   "outputs": [],
   "source": [
    "def g_cb(j, djdm, ctrl):\n",
    "    op.geval += 1\n",
    "    op.J = j\n",
    "    op.dJdm = djdm.dat.data[0]\n",
    "    op.m = ctrl.dat.data[0]"
   ]
  },
  {
   "cell_type": "code",
   "execution_count": 19,
   "id": "5417b865",
   "metadata": {},
   "outputs": [],
   "source": [
    "def cb(ctrl):\n",
    "    op.ls_iteration += 1\n",
    "    print(f\"{op.ls_iteration:4d}  {op.m:7.4}  {op.J:.8}  {op.dJdm:.8}\")\n",
    "    op.m_progress.append(op.m)\n",
    "    op.J_progress.append(op.J)\n",
    "    op.dJdm_progress.append(op.dJdm)"
   ]
  },
  {
   "cell_type": "code",
   "execution_count": 20,
   "id": "f6d9188f",
   "metadata": {},
   "outputs": [],
   "source": [
    "Jhat = ReducedFunctional(J, c, eval_cb_post=f_cb, derivative_cb_post=g_cb)"
   ]
  },
  {
   "cell_type": "code",
   "execution_count": 21,
   "id": "7175f78a",
   "metadata": {},
   "outputs": [
    {
     "name": "stdout",
     "output_type": "stream",
     "text": [
      "   1     8.99  6041.5815  1775.2002\n",
      "   2    6.739  2964.1631  959.64815\n",
      "   3    4.091  1693.5139  4.9185049e-05\n",
      "   4    4.091  1693.5139  -3.9546262e-11\n",
      "CPU time: 41.044s, 5 function evaluations, 5 gradient evaluations, 4 line searches\n"
     ]
    }
   ],
   "source": [
    "c.update(10.0)\n",
    "op.__init__()\n",
    "with Timer() as t:\n",
    "    m_opt = minimize(Jhat, method='BFGS', callback=cb)\n",
    "print(f\"CPU time: {t}s, {op.feval} function evaluations, {op.geval} gradient evaluations, {op.ls_iteration} line searches\")"
   ]
  },
  {
   "cell_type": "markdown",
   "id": "698e5c77",
   "metadata": {},
   "source": [
    "## Performance\n",
    "\n",
    "|      Mesh      | feval | geval | LS |   Run 1   |   Run 2   |   Run 3   |   Run 4   |  Average  |\n",
    "| -------------- | ----- | ----- | -- | --------- | --------- | --------- | --------- | --------- |\n",
    "| $\\mathcal H_0$ |   5   |   5   |  4 |   41.079  |   40.874  |   41.121  |   40.431  |   40.876  |\n",
    "| $\\mathcal H_1$ |   4   |   4   |  3 |   68.732  |   62.334  |   61.149  |   66.228  |   64.611  |\n",
    "| $\\mathcal H_2$ |   4   |   4   |  3 |  200.144  |  193.300  |  183.171  |  190.668  |  191.820  |"
   ]
  },
  {
   "cell_type": "code",
   "execution_count": 22,
   "id": "d0f2b812",
   "metadata": {},
   "outputs": [
    {
     "name": "stdout",
     "output_type": "stream",
     "text": [
      "Minimiser of quadratic: 4.0913\n"
     ]
    }
   ],
   "source": [
    "l = si.lagrange(op.m_progress[:3], op.J_progress[:3])\n",
    "dl = l.deriv()\n",
    "l_min = -dl.coefficients[1]/dl.coefficients[0]\n",
    "print(\"Minimiser of quadratic: {:.4f}\".format(l_min))"
   ]
  },
  {
   "cell_type": "markdown",
   "id": "7b16e4fd",
   "metadata": {},
   "source": [
    "Plot progress of optimisation"
   ]
  },
  {
   "cell_type": "code",
   "execution_count": 23,
   "id": "6eeee2f3",
   "metadata": {},
   "outputs": [
    {
     "data": {
      "image/png": "[encoded data removed]",
      "text/plain": [
       "<Figure size 576x576 with 1 Axes>"
      ]
     },
     "metadata": {
      "needs_background": "light"
     },
     "output_type": "display_data"
    }
   ],
   "source": [
    "fig, axes = plt.subplots(figsize=(8, 8))\n",
    "xx = np.linspace(2, 10, 100)\n",
    "axes.plot(xx, l(xx), ':', color='C0')\n",
    "axes.plot(l_min, l(l_min), '*', markersize=14, color='C0', label=r\"$m^\\star={:.4f}$\".format(l_min))\n",
    "\n",
    "delta_m = 0.25\n",
    "for i, (mi, fi, gi) in enumerate(zip(op.m_progress, op.J_progress, op.dJdm_progress)):\n",
    "    x = np.array([mi - delta_m, mi + delta_m])\n",
    "    axes.plot(x, gi*(x - mi) + fi, '-', color='C2', linewidth=5)\n",
    "axes.plot(op.m_progress, op.J_progress, 'o', color='C1', markersize=8)\n",
    "\n",
    "axes.set_xlabel(\"Control parameter\")\n",
    "axes.set_ylabel(\"Quantity of Interest\")\n",
    "axes.grid(True)\n",
    "axes.legend();\n",
    "plt.savefig(f\"plots/tohoku1d_inversion_discrete_{level}.pdf\")"
   ]
  },
  {
   "cell_type": "markdown",
   "id": "cf4f0a4e",
   "metadata": {},
   "source": [
    "Minimisers for $\\theta=\\frac12$: 4.0913, 4.7927, 4.9221."
   ]
  },
  {
   "cell_type": "code",
   "execution_count": null,
   "id": "8f601faa",
   "metadata": {},
   "outputs": [],
   "source": []
  }
 ],
 "metadata": {
  "kernelspec": {
   "display_name": "Python 3",
   "language": "python",
   "name": "python3"
  },
  "language_info": {
   "codemirror_mode": {
    "name": "ipython",
    "version": 3
   },
   "file_extension": ".py",
   "mimetype": "text/x-python",
   "name": "python",
   "nbconvert_exporter": "python",
   "pygments_lexer": "ipython3",
   "version": "3.8.5"
  }
 },
 "nbformat": 4,
 "nbformat_minor": 5
}
