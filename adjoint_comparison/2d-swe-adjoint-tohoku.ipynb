{
 "cells": [
  {
   "cell_type": "markdown",
   "id": "61dd7619",
   "metadata": {},
   "source": [
    "This notebook shows that the continuous and discrete adjoint methods give the same result if no stabilisation is applied."
   ]
  },
  {
   "cell_type": "code",
   "execution_count": 1,
   "id": "4a47b9bd",
   "metadata": {},
   "outputs": [],
   "source": [
    "from firedrake import *\n",
    "from firedrake_adjoint import *\n",
    "from firedrake.adjoint.blocks import GenericSolveBlock, ProjectBlock"
   ]
  },
  {
   "cell_type": "code",
   "execution_count": 2,
   "id": "6ec62508",
   "metadata": {},
   "outputs": [],
   "source": [
    "import matplotlib.pyplot as plt\n",
    "import scipy.interpolate as si"
   ]
  },
  {
   "cell_type": "code",
   "execution_count": 3,
   "id": "5efb943e",
   "metadata": {},
   "outputs": [],
   "source": [
    "from adapt_utils.case_studies.tohoku.options.options import TohokuInversionOptions\n",
    "from adapt_utils.misc import gaussian, ellipse"
   ]
  },
  {
   "cell_type": "markdown",
   "id": "ddc9c884",
   "metadata": {},
   "source": [
    "Specify 'optimum' and initial guess"
   ]
  },
  {
   "cell_type": "code",
   "execution_count": 4,
   "id": "04cacd0c",
   "metadata": {},
   "outputs": [],
   "source": [
    "m_opt = 5.0\n",
    "m_prior = 10.0"
   ]
  },
  {
   "cell_type": "markdown",
   "id": "7224727e",
   "metadata": {},
   "source": [
    "Create `Options` object and setup gauges."
   ]
  },
  {
   "cell_type": "code",
   "execution_count": 5,
   "id": "757fa14a",
   "metadata": {},
   "outputs": [
    {
     "name": "stderr",
     "output_type": "stream",
     "text": [
      "/home/joe/software/firedrake-pragmatic/src/firedrake/firedrake/parloops.py:130: LoopyWarning: 'lang_version' was not passed to make_function(). To avoid this warning, pass lang_version=(2018, 2) in this invocation. (Or say 'from loopy.version import LOOPY_USE_LANGUAGE_VERSION_2018_2' in the global scope of the calling frame.)\n",
      "  knl = loopy.make_function(kernel_domains, instructions, kargs, seq_dependencies=True,\n"
     ]
    }
   ],
   "source": [
    "level = 0\n",
    "op = TohokuInversionOptions(level=level)\n",
    "gauges = list(op.gauges.keys())\n",
    "for gauge in gauges:\n",
    "    if gauge[:2] not in ('P0', '80'):\n",
    "        op.gauges.pop(gauge)\n",
    "gauges = list(op.gauges.keys())"
   ]
  },
  {
   "cell_type": "markdown",
   "id": "98e28d8f",
   "metadata": {},
   "source": [
    "Setup timestepping parameters"
   ]
  },
  {
   "cell_type": "code",
   "execution_count": 6,
   "id": "0367f361",
   "metadata": {},
   "outputs": [],
   "source": [
    "num_timesteps = 30\n",
    "dt = Constant(op.dt)\n",
    "theta = Constant(1.0)"
   ]
  },
  {
   "cell_type": "markdown",
   "id": "7fb5a51f",
   "metadata": {},
   "source": [
    "Create function spaces"
   ]
  },
  {
   "cell_type": "code",
   "execution_count": 7,
   "id": "11c74113",
   "metadata": {},
   "outputs": [],
   "source": [
    "mesh = op.default_mesh\n",
    "P2 = VectorFunctionSpace(mesh, \"CG\", 1)\n",
    "P1 = FunctionSpace(mesh, \"CG\", 1)\n",
    "V = P2*P1\n",
    "R = FunctionSpace(mesh, \"R\", 0)"
   ]
  },
  {
   "cell_type": "markdown",
   "id": "dec7b03a",
   "metadata": {},
   "source": [
    "Create `Function`s"
   ]
  },
  {
   "cell_type": "code",
   "execution_count": 8,
   "id": "74fcd334",
   "metadata": {},
   "outputs": [],
   "source": [
    "u, eta = TrialFunctions(V)\n",
    "z, zeta = TestFunctions(V)\n",
    "m = Function(R).assign(m_prior)\n",
    "c = Control(m)\n",
    "q0 = Function(V)\n",
    "u0, eta0 = q0.split()\n",
    "eta0.interpolate(gaussian([(0.7e+06, 4.2e+06, 48e+03, 96e+03)], mesh, rotation=pi/12))\n",
    "q_ = Function(V)\n",
    "u_, eta_ = q_.split();"
   ]
  },
  {
   "cell_type": "code",
   "execution_count": 9,
   "id": "b72bf82e",
   "metadata": {},
   "outputs": [],
   "source": [
    "# fig, axes = plt.subplots(figsize=(7, 6))\n",
    "# tc = tricontourf(eta0, axes=axes, cmap='coolwarm')\n",
    "# cb = plt.colorbar(tc, ax=axes)\n",
    "# axes.axis(False);"
   ]
  },
  {
   "cell_type": "markdown",
   "id": "fe3b2f2e",
   "metadata": {},
   "source": [
    "Set physical parameters"
   ]
  },
  {
   "cell_type": "code",
   "execution_count": 10,
   "id": "b1a9b265",
   "metadata": {},
   "outputs": [],
   "source": [
    "b = Function(P1).assign(op.set_bathymetry(P1))\n",
    "g = Constant(9.81)"
   ]
  },
  {
   "cell_type": "markdown",
   "id": "0e9caae5",
   "metadata": {},
   "source": [
    "Setup forward variational problem"
   ]
  },
  {
   "cell_type": "code",
   "execution_count": 11,
   "id": "481827b1",
   "metadata": {},
   "outputs": [],
   "source": [
    "a = inner(u, z)*dx + eta*zeta*dx + theta*dt*g*inner(grad(eta), z)*dx - theta*dt*b*inner(u, grad(zeta))*dx\n",
    "L = inner(u_, z)*dx + eta_*zeta*dx - (1-theta)*dt*g*inner(grad(eta_), z)*dx + (1-theta)*dt*b*inner(u_, grad(zeta))*dx\n",
    "q = Function(V)\n",
    "u, eta = q.split()\n",
    "bc = DirichletBC(V.sub(1), 0, 100)\n",
    "problem = LinearVariationalProblem(a, L, q, bcs=bc)"
   ]
  },
  {
   "cell_type": "markdown",
   "id": "dd1efa70",
   "metadata": {},
   "source": [
    "Setup forward variational solver"
   ]
  },
  {
   "cell_type": "code",
   "execution_count": 12,
   "id": "b8e494b5",
   "metadata": {},
   "outputs": [],
   "source": [
    "sp = {\n",
    "    \"snes_type\": \"ksponly\",\n",
    "    \"ksp_type\": \"gmres\",\n",
    "    \"pc_type\": \"fieldsplit\",\n",
    "    \"pc_fieldsplit_type\": \"multiplicative\",\n",
    "}\n",
    "solver = LinearVariationalSolver(problem, solver_parameters=sp)"
   ]
  },
  {
   "cell_type": "markdown",
   "id": "236a87a7",
   "metadata": {},
   "source": [
    "Setup QoI"
   ]
  },
  {
   "cell_type": "code",
   "execution_count": 13,
   "id": "9cc5ba39",
   "metadata": {},
   "outputs": [],
   "source": [
    "P0 = FunctionSpace(mesh, \"DG\", 0)\n",
    "J_form = 0\n",
    "radius = 20e+03*0.5**level\n",
    "for gauge in gauges:\n",
    "    op.gauges[gauge][\"data\"] = []\n",
    "    k = Function(P0*P0)\n",
    "    ku, keta = k.split()\n",
    "    keta.interpolate(ellipse([op.gauges[gauge][\"coords\"] + (radius,)], mesh))\n",
    "    keta.assign(keta/assemble(keta*dx))\n",
    "    op.gauges[gauge][\"indicator\"] = keta\n",
    "    op.gauges[gauge][\"obs\"] = Function(R)\n",
    "    op.gauges[gauge][\"obs_old\"] = Function(R)\n",
    "    J_form += theta*0.5*dt*keta*(eta - op.gauges[gauge][\"obs\"])**2*dx\n",
    "    J_form += (1-theta)*0.5*dt*keta*(eta_ - op.gauges[gauge][\"obs_old\"])**2*dx"
   ]
  },
  {
   "cell_type": "code",
   "execution_count": 14,
   "id": "926c20af",
   "metadata": {},
   "outputs": [],
   "source": [
    "# fig, axes = plt.subplots(figsize=(6, 6))\n",
    "# tricontourf(keta, axes=axes, cmap='coolwarm')\n",
    "# axes.axis(False);"
   ]
  },
  {
   "cell_type": "markdown",
   "id": "79a6d743",
   "metadata": {},
   "source": [
    "Solve forward to generate 'data'"
   ]
  },
  {
   "cell_type": "code",
   "execution_count": 15,
   "id": "a8cd0253",
   "metadata": {},
   "outputs": [
    {
     "name": "stdout",
     "output_type": "stream",
     "text": [
      "t =   0.0 min  ||u|| = 0.0000e+00  ||eta|| = 0.0000e+00\n",
      "t =   1.0 min  ||u|| = 4.8480e+03  ||eta|| = 3.9131e+05\n",
      "t =   2.0 min  ||u|| = 8.7409e+03  ||eta|| = 3.5397e+05\n",
      "t =   3.0 min  ||u|| = 1.1639e+04  ||eta|| = 3.1348e+05\n",
      "t =   4.0 min  ||u|| = 1.3653e+04  ||eta|| = 2.7706e+05\n",
      "t =   5.0 min  ||u|| = 1.4952e+04  ||eta|| = 2.4866e+05\n",
      "t =   6.0 min  ||u|| = 1.5721e+04  ||eta|| = 2.2932e+05\n",
      "t =   7.0 min  ||u|| = 1.6131e+04  ||eta|| = 2.1792e+05\n",
      "t =   8.0 min  ||u|| = 1.6330e+04  ||eta|| = 2.1224e+05\n",
      "t =   9.0 min  ||u|| = 1.6437e+04  ||eta|| = 2.0996e+05\n",
      "t =  10.0 min  ||u|| = 1.6538e+04  ||eta|| = 2.0928e+05\n",
      "t =  11.0 min  ||u|| = 1.6688e+04  ||eta|| = 2.0909e+05\n",
      "t =  12.0 min  ||u|| = 1.6917e+04  ||eta|| = 2.0880e+05\n",
      "t =  13.0 min  ||u|| = 1.7234e+04  ||eta|| = 2.0817e+05\n",
      "t =  14.0 min  ||u|| = 1.7635e+04  ||eta|| = 2.0714e+05\n",
      "t =  15.0 min  ||u|| = 1.8110e+04  ||eta|| = 2.0575e+05\n",
      "t =  16.0 min  ||u|| = 1.8645e+04  ||eta|| = 2.0403e+05\n",
      "t =  17.0 min  ||u|| = 1.9223e+04  ||eta|| = 2.0209e+05\n",
      "t =  18.0 min  ||u|| = 1.9829e+04  ||eta|| = 2.0002e+05\n",
      "t =  19.0 min  ||u|| = 2.0444e+04  ||eta|| = 1.9789e+05\n",
      "t =  20.0 min  ||u|| = 2.1050e+04  ||eta|| = 1.9579e+05\n",
      "t =  21.0 min  ||u|| = 2.1628e+04  ||eta|| = 1.9377e+05\n",
      "t =  22.0 min  ||u|| = 2.2162e+04  ||eta|| = 1.9187e+05\n",
      "t =  23.0 min  ||u|| = 2.2639e+04  ||eta|| = 1.9009e+05\n",
      "t =  24.0 min  ||u|| = 2.3056e+04  ||eta|| = 1.8844e+05\n",
      "t =  25.0 min  ||u|| = 2.3422e+04  ||eta|| = 1.8690e+05\n",
      "t =  26.0 min  ||u|| = 2.3758e+04  ||eta|| = 1.8544e+05\n",
      "t =  27.0 min  ||u|| = 2.4093e+04  ||eta|| = 1.8402e+05\n",
      "t =  28.0 min  ||u|| = 2.4462e+04  ||eta|| = 1.8260e+05\n",
      "t =  29.0 min  ||u|| = 2.4898e+04  ||eta|| = 1.8111e+05\n",
      "t =  30.0 min  ||u|| = 2.5425e+04  ||eta|| = 1.7952e+05\n"
     ]
    }
   ],
   "source": [
    "with stop_annotating():\n",
    "    u_.assign(u0)\n",
    "    eta_.project(m_opt*eta0)\n",
    "    for gauge in gauges:\n",
    "        op.gauges[gauge][\"data\"].append(float(eta_.at(op.gauges[gauge][\"coords\"])))\n",
    "    for i in range(num_timesteps):\n",
    "        print(f\"t = {i*op.dt/60:5.1f} min  ||u|| = {norm(u):.4e}  ||eta|| = {norm(eta):.4e}\")\n",
    "        solver.solve()\n",
    "        q_.assign(q)\n",
    "        for gauge in gauges:\n",
    "            op.gauges[gauge][\"data\"].append(float(eta.at(op.gauges[gauge][\"coords\"])))\n",
    "    print(f\"t = {(i+1)*op.dt/60:5.1f} min  ||u|| = {norm(u):.4e}  ||eta|| = {norm(eta):.4e}\")"
   ]
  },
  {
   "cell_type": "code",
   "execution_count": 16,
   "id": "1a108a83",
   "metadata": {},
   "outputs": [],
   "source": [
    "# fig, axes = plt.subplots(figsize=(7, 6))\n",
    "# tc = tricontourf(eta, axes=axes, cmap='coolwarm')\n",
    "# cb = plt.colorbar(tc, ax=axes)\n",
    "# axes.axis(False);"
   ]
  },
  {
   "cell_type": "code",
   "execution_count": 17,
   "id": "cad1ef24",
   "metadata": {},
   "outputs": [],
   "source": [
    "adj_free_form = 0\n",
    "for gauge in gauges:\n",
    "    adj_free_form += theta*dt*op.gauges[gauge][\"indicator\"]*(eta - op.gauges[gauge][\"obs\"])*eta*dx\n",
    "    adj_free_form += (1-theta)*dt*op.gauges[gauge][\"indicator\"]*(eta_ - op.gauges[gauge][\"obs_old\"])*eta_*dx"
   ]
  },
  {
   "cell_type": "markdown",
   "id": "e706af8c",
   "metadata": {},
   "source": [
    "Solve forward to annotate to tape"
   ]
  },
  {
   "cell_type": "code",
   "execution_count": 18,
   "id": "ab04ea61",
   "metadata": {},
   "outputs": [
    {
     "name": "stdout",
     "output_type": "stream",
     "text": [
      "t =   0.0 min  ||u|| = 0.0000e+00  ||eta|| = 8.3051e+05\n",
      "t =   1.0 min  ||u|| = 9.6961e+03  ||eta|| = 7.8262e+05\n",
      "t =   2.0 min  ||u|| = 1.7482e+04  ||eta|| = 7.0795e+05\n",
      "t =   3.0 min  ||u|| = 2.3279e+04  ||eta|| = 6.2695e+05\n",
      "t =   4.0 min  ||u|| = 2.7306e+04  ||eta|| = 5.5412e+05\n",
      "t =   5.0 min  ||u|| = 2.9905e+04  ||eta|| = 4.9732e+05\n",
      "t =   6.0 min  ||u|| = 3.1443e+04  ||eta|| = 4.5863e+05\n",
      "t =   7.0 min  ||u|| = 3.2263e+04  ||eta|| = 4.3584e+05\n",
      "t =   8.0 min  ||u|| = 3.2661e+04  ||eta|| = 4.2448e+05\n",
      "t =   9.0 min  ||u|| = 3.2874e+04  ||eta|| = 4.1992e+05\n",
      "t =  10.0 min  ||u|| = 3.3075e+04  ||eta|| = 4.1857e+05\n",
      "t =  11.0 min  ||u|| = 3.3376e+04  ||eta|| = 4.1818e+05\n",
      "t =  12.0 min  ||u|| = 3.3834e+04  ||eta|| = 4.1760e+05\n",
      "t =  13.0 min  ||u|| = 3.4468e+04  ||eta|| = 4.1634e+05\n",
      "t =  14.0 min  ||u|| = 3.5270e+04  ||eta|| = 4.1429e+05\n",
      "t =  15.0 min  ||u|| = 3.6220e+04  ||eta|| = 4.1149e+05\n",
      "t =  16.0 min  ||u|| = 3.7290e+04  ||eta|| = 4.0807e+05\n",
      "t =  17.0 min  ||u|| = 3.8446e+04  ||eta|| = 4.0419e+05\n",
      "t =  18.0 min  ||u|| = 3.9657e+04  ||eta|| = 4.0003e+05\n",
      "t =  19.0 min  ||u|| = 4.0888e+04  ||eta|| = 3.9578e+05\n",
      "t =  20.0 min  ||u|| = 4.2100e+04  ||eta|| = 3.9159e+05\n",
      "t =  21.0 min  ||u|| = 4.3257e+04  ||eta|| = 3.8755e+05\n",
      "t =  22.0 min  ||u|| = 4.4324e+04  ||eta|| = 3.8373e+05\n",
      "t =  23.0 min  ||u|| = 4.5277e+04  ||eta|| = 3.8018e+05\n",
      "t =  24.0 min  ||u|| = 4.6112e+04  ||eta|| = 3.7688e+05\n",
      "t =  25.0 min  ||u|| = 4.6844e+04  ||eta|| = 3.7380e+05\n",
      "t =  26.0 min  ||u|| = 4.7515e+04  ||eta|| = 3.7088e+05\n",
      "t =  27.0 min  ||u|| = 4.8186e+04  ||eta|| = 3.6805e+05\n",
      "t =  28.0 min  ||u|| = 4.8924e+04  ||eta|| = 3.6519e+05\n",
      "t =  29.0 min  ||u|| = 4.9796e+04  ||eta|| = 3.6222e+05\n",
      "t =  30.0 min  ||u|| = 5.0851e+04  ||eta|| = 3.5905e+05\n"
     ]
    }
   ],
   "source": [
    "J = 0\n",
    "adj_free = 0\n",
    "solutions = [q.copy(deepcopy=True)]\n",
    "u_.assign(u0)\n",
    "eta_.project(m*eta0)\n",
    "q.assign(q_)\n",
    "for i in range(num_timesteps):\n",
    "    print(f\"t = {i*op.dt/60:5.1f} min  ||u|| = {norm(u):.4e}  ||eta|| = {norm(eta):.4e}\")\n",
    "    solver.solve()\n",
    "    solutions.append(q.copy(deepcopy=True))\n",
    "    for gauge in gauges:\n",
    "        op.gauges[gauge][\"obs\"].assign(op.gauges[gauge][\"data\"][i+1])\n",
    "        op.gauges[gauge][\"obs_old\"].assign(op.gauges[gauge][\"data\"][i])\n",
    "    J  = J + assemble(J_form)\n",
    "    adj_free = adj_free + assemble(adj_free_form)\n",
    "    q_.assign(q)\n",
    "J10 = float(J)\n",
    "gaf10 = float(adj_free)/10\n",
    "print(f\"t = {(i+1)*op.dt/60:5.1f} min  ||u|| = {norm(u):.4e}  ||eta|| = {norm(eta):.4e}\")\n",
    "stop_annotating();"
   ]
  },
  {
   "cell_type": "code",
   "execution_count": 19,
   "id": "5db3d6d5",
   "metadata": {},
   "outputs": [],
   "source": [
    "# fig, axes = plt.subplots(figsize=(7, 6))\n",
    "# tricontourf(eta, axes=axes, cmap='coolwarm')\n",
    "# cb = plt.colorbar(tc, ax=axes)\n",
    "# axes.axis(False);"
   ]
  },
  {
   "cell_type": "markdown",
   "id": "91c38359",
   "metadata": {},
   "source": [
    "Create `ReducedFunctional` and compute gradient using discrete adjoint"
   ]
  },
  {
   "cell_type": "code",
   "execution_count": 20,
   "id": "f6d9188f",
   "metadata": {},
   "outputs": [],
   "source": [
    "Jhat = ReducedFunctional(J, c)\n",
    "gd10 = Jhat.derivative().dat.data[0]"
   ]
  },
  {
   "cell_type": "code",
   "execution_count": 21,
   "id": "5b780cec",
   "metadata": {},
   "outputs": [],
   "source": [
    "# _J10 = Jhat(10.0)\n",
    "# assert np.isclose(J10, _J10), f\"{_J10} vs. {J10}\""
   ]
  },
  {
   "cell_type": "code",
   "execution_count": 22,
   "id": "9aefb807",
   "metadata": {},
   "outputs": [],
   "source": [
    "# minconv = taylor_test(Jhat, Function(R).assign(10.0), Function(R).assign(0.1))\n",
    "# assert minconv > 1.90, f\"{minconv}\""
   ]
  },
  {
   "cell_type": "markdown",
   "id": "9086e727",
   "metadata": {},
   "source": [
    "Setup continuous adjoint variational problem and solver"
   ]
  },
  {
   "cell_type": "code",
   "execution_count": 23,
   "id": "d735e41c",
   "metadata": {},
   "outputs": [],
   "source": [
    "phi = TestFunction(V)\n",
    "cont_adj = Function(V)\n",
    "cont_adj_ = Function(V)\n",
    "z_, zeta_ = cont_adj_.split()\n",
    "a_star = adjoint(a)\n",
    "L_star = replace(L, {z: z_, zeta: zeta_, u_: z, eta_: zeta})\n",
    "for gauge in gauges:\n",
    "    L_star += theta*dt*op.gauges[gauge][\"indicator\"]*(eta - op.gauges[gauge][\"obs\"])*zeta*dx\n",
    "\n",
    "for gauge in gauges:\n",
    "    op.gauges[gauge][\"obs\"].assign(op.gauges[gauge][\"data\"][num_timesteps])\n",
    "solve(a_star == L_star, cont_adj, bcs=bc, solver_parameters=sp)\n",
    "cont_adj_.assign(cont_adj)\n",
    "    \n",
    "for gauge in gauges:\n",
    "    L_star += (1-theta)*dt*op.gauges[gauge][\"indicator\"]*(eta_ - op.gauges[gauge][\"obs_old\"])*zeta*dx\n",
    "adj_problem = LinearVariationalProblem(a_star, L_star, cont_adj, bcs=bc)\n",
    "adj_solver = LinearVariationalSolver(adj_problem, solver_parameters=sp)"
   ]
  },
  {
   "cell_type": "markdown",
   "id": "2f2f7e46",
   "metadata": {},
   "source": [
    "Solve continuous adjoint problem"
   ]
  },
  {
   "cell_type": "code",
   "execution_count": 24,
   "id": "70300e69",
   "metadata": {},
   "outputs": [
    {
     "name": "stdout",
     "output_type": "stream",
     "text": [
      "t =  29.0 min  ||z|| = 5.3938e-03  ||zeta|| = 4.2282e-03\n",
      "t =  28.0 min  ||z|| = 1.4596e-02  ||zeta|| = 7.8207e-03\n",
      "t =  27.0 min  ||z|| = 2.5884e-02  ||zeta|| = 1.0650e-02\n",
      "t =  26.0 min  ||z|| = 3.7837e-02  ||zeta|| = 1.2737e-02\n",
      "t =  25.0 min  ||z|| = 4.9601e-02  ||zeta|| = 1.4213e-02\n",
      "t =  24.0 min  ||z|| = 6.0965e-02  ||zeta|| = 1.5266e-02\n",
      "t =  23.0 min  ||z|| = 7.2264e-02  ||zeta|| = 1.6078e-02\n",
      "t =  22.0 min  ||z|| = 8.4112e-02  ||zeta|| = 1.6766e-02\n",
      "t =  21.0 min  ||z|| = 9.7047e-02  ||zeta|| = 1.7363e-02\n",
      "t =  20.0 min  ||z|| = 1.1125e-01  ||zeta|| = 1.7837e-02\n",
      "t =  19.0 min  ||z|| = 1.2644e-01  ||zeta|| = 1.8134e-02\n",
      "t =  18.0 min  ||z|| = 1.4197e-01  ||zeta|| = 1.8223e-02\n",
      "t =  17.0 min  ||z|| = 1.5702e-01  ||zeta|| = 1.8135e-02\n",
      "t =  16.0 min  ||z|| = 1.7085e-01  ||zeta|| = 1.7966e-02\n",
      "t =  15.0 min  ||z|| = 1.8286e-01  ||zeta|| = 1.7872e-02\n",
      "t =  14.0 min  ||z|| = 1.9282e-01  ||zeta|| = 1.8023e-02\n",
      "t =  13.0 min  ||z|| = 2.0084e-01  ||zeta|| = 1.8544e-02\n",
      "t =  12.0 min  ||z|| = 2.0745e-01  ||zeta|| = 1.9460e-02\n",
      "t =  11.0 min  ||z|| = 2.1353e-01  ||zeta|| = 2.0683e-02\n",
      "t =  10.0 min  ||z|| = 2.2019e-01  ||zeta|| = 2.2044e-02\n",
      "t =   9.0 min  ||z|| = 2.2856e-01  ||zeta|| = 2.3348e-02\n",
      "t =   8.0 min  ||z|| = 2.3949e-01  ||zeta|| = 2.4415e-02\n",
      "t =   7.0 min  ||z|| = 2.5336e-01  ||zeta|| = 2.5111e-02\n",
      "t =   6.0 min  ||z|| = 2.7001e-01  ||zeta|| = 2.5356e-02\n",
      "t =   5.0 min  ||z|| = 2.8882e-01  ||zeta|| = 2.5136e-02\n",
      "t =   4.0 min  ||z|| = 3.0899e-01  ||zeta|| = 2.4500e-02\n",
      "t =   3.0 min  ||z|| = 3.2974e-01  ||zeta|| = 2.3550e-02\n",
      "t =   2.0 min  ||z|| = 3.5040e-01  ||zeta|| = 2.2420e-02\n",
      "t =   1.0 min  ||z|| = 3.7041e-01  ||zeta|| = 2.1258e-02\n",
      "t =   0.0 min  ||z|| = 3.8930e-01  ||zeta|| = 2.0195e-02\n"
     ]
    }
   ],
   "source": [
    "z, zeta = cont_adj.split()\n",
    "for i in range(num_timesteps-2, -1, -1):\n",
    "    print(f\"t = {(i+1)*op.dt/60:5.1f} min  ||z|| = {norm(z):.4e}  ||zeta|| = {norm(zeta):.4e}\")\n",
    "    cont_adj_.assign(cont_adj)\n",
    "    for gauge in gauges:\n",
    "        op.gauges[gauge][\"obs\"].assign(op.gauges[gauge][\"data\"][i+1])\n",
    "        op.gauges[gauge][\"obs_old\"].assign(op.gauges[gauge][\"data\"][i])\n",
    "    q.assign(solutions[i+1])\n",
    "    q_.assign(solutions[i])\n",
    "    adj_solver.solve()\n",
    "print(f\"t = {0*op.dt/60:5.1f} min  ||z|| = {norm(z):.4e}  ||zeta|| = {norm(zeta):.4e}\")"
   ]
  },
  {
   "cell_type": "markdown",
   "id": "880101cb",
   "metadata": {},
   "source": [
    "Compute gradient using continuous adjoint method and check that it matches"
   ]
  },
  {
   "cell_type": "code",
   "execution_count": 25,
   "id": "db4e0eac",
   "metadata": {},
   "outputs": [],
   "source": [
    "z, zeta = TestFunctions(V)\n",
    "gc10 = assemble(replace(L, {eta_: eta0, u_: u0, z: cont_adj.split()[0], zeta: cont_adj.split()[1]}))\n",
    "# assert np.isclose(gc10, gd10), f\"{gc10} vs. {gd10}\""
   ]
  },
  {
   "cell_type": "markdown",
   "id": "f08a9e1e",
   "metadata": {},
   "source": [
    "Sample control space at two more points and compute the discrete adjoint gradient at 5"
   ]
  },
  {
   "cell_type": "code",
   "execution_count": 26,
   "id": "a4fb6c70",
   "metadata": {},
   "outputs": [],
   "source": [
    "J2 = Jhat(m.assign(2.0))\n",
    "J5 = Jhat(m.assign(5.0))\n",
    "gd5 = Jhat.derivative().dat.data[0]"
   ]
  },
  {
   "cell_type": "code",
   "execution_count": 27,
   "id": "7ad3601c",
   "metadata": {},
   "outputs": [],
   "source": [
    "# minconv = taylor_test(Jhat, Function(R).assign(5.0), Function(R).assign(0.1))\n",
    "# assert minconv > 1.90, f\"{minconv}\""
   ]
  },
  {
   "cell_type": "markdown",
   "id": "33494919",
   "metadata": {},
   "source": [
    "Rerun the forward solver at 5"
   ]
  },
  {
   "cell_type": "code",
   "execution_count": 28,
   "id": "887a5bdd",
   "metadata": {},
   "outputs": [],
   "source": [
    "J = 0\n",
    "adj_free = 0\n",
    "solutions = []\n",
    "u_.assign(0.0)\n",
    "eta_.project(5*eta0)\n",
    "for i in range(num_timesteps):\n",
    "    solver.solve()\n",
    "    solutions.append(q.copy(deepcopy=True))\n",
    "    for gauge in gauges:\n",
    "        op.gauges[gauge][\"obs\"].assign(op.gauges[gauge][\"data\"][i+1])\n",
    "        op.gauges[gauge][\"obs_old\"].assign(op.gauges[gauge][\"data\"][i])\n",
    "    J = J + assemble(J_form)\n",
    "    adj_free = adj_free + assemble(adj_free_form)\n",
    "    q_.assign(q)\n",
    "gaf5 = float(adj_free)/5\n",
    "assert np.isclose(float(J), J5), f\"{float(J)} vs. {J5}\""
   ]
  },
  {
   "cell_type": "markdown",
   "id": "76f74aa9",
   "metadata": {},
   "source": [
    "Compute the continuous adjoint gradient"
   ]
  },
  {
   "cell_type": "code",
   "execution_count": 29,
   "id": "58c5219d",
   "metadata": {},
   "outputs": [],
   "source": [
    "cont_adj.assign(0.0)\n",
    "for i in range(num_timesteps-1, -1, -1):\n",
    "    cont_adj_.assign(cont_adj)\n",
    "    for gauge in gauges:\n",
    "        op.gauges[gauge][\"obs\"].assign(op.gauges[gauge][\"data\"][i+1])\n",
    "    q.assign(solutions[i])\n",
    "    adj_solver.solve()\n",
    "gc5 = assemble(replace(L, {eta_: eta0, u_: u0, z: cont_adj.split()[0], zeta: cont_adj.split()[1]}))"
   ]
  },
  {
   "cell_type": "code",
   "execution_count": 30,
   "id": "d0f2b812",
   "metadata": {},
   "outputs": [
    {
     "name": "stdout",
     "output_type": "stream",
     "text": [
      "Minimiser of quadratic: 4.5361\n"
     ]
    }
   ],
   "source": [
    "L = si.lagrange([2, 5, 10], [J2, J5, J10])\n",
    "dL = L.deriv()\n",
    "L_min = -dL.coefficients[1]/dL.coefficients[0]\n",
    "print(\"Minimiser of quadratic: {:.4f}\".format(L_min))"
   ]
  },
  {
   "cell_type": "code",
   "execution_count": 31,
   "id": "7db1b2a4",
   "metadata": {},
   "outputs": [
    {
     "name": "stdout",
     "output_type": "stream",
     "text": [
      "Exact gradient at 10              = 996.946711548131\n",
      "Discrete adjoint gradient at 10   = 996.9466818678358\n",
      "Continuous adjoint gradient at 10 = 996.9466789234594\n",
      "Adjoint-free gradient at 10       = 996.9467112931563\n"
     ]
    }
   ],
   "source": [
    "print(f\"Exact gradient at 10              = {dL(10.0)}\")\n",
    "print(f\"Discrete adjoint gradient at 10   = {gd10}\")\n",
    "print(f\"Continuous adjoint gradient at 10 = {gc10}\")\n",
    "print(f\"Adjoint-free gradient at 10       = {gaf10}\")"
   ]
  },
  {
   "cell_type": "code",
   "execution_count": 32,
   "id": "6cb4590d",
   "metadata": {},
   "outputs": [
    {
     "name": "stdout",
     "output_type": "stream",
     "text": [
      "Exact gradient at  5              = 84.64720043647787\n",
      "Discrete adjoint gradient at 5    = 84.64719576829249\n",
      "Continuous adjoint gradient at 5  = 84.6472068524272\n",
      "Adjoint-free gradient at 10       = 84.64721003155987\n"
     ]
    }
   ],
   "source": [
    "print(f\"Exact gradient at  5              = {dL(5.0)}\")\n",
    "print(f\"Discrete adjoint gradient at 5    = {gd5}\")\n",
    "print(f\"Continuous adjoint gradient at 5  = {gc5}\")\n",
    "print(f\"Adjoint-free gradient at 10       = {gaf5}\")"
   ]
  },
  {
   "cell_type": "markdown",
   "id": "dda23a29",
   "metadata": {},
   "source": [
    "### $m = 10$, $\\theta=\\frac12$\n",
    "\n",
    "| Control | Exact | Discrete adjoint gradient | Continuous adjoint gradient | Adjoint-free gradient |\n",
    "| --- | --- | --- | --- | --- |\n",
    "| $\\mathcal H_0$ | 2141.207639251425 | 2141.207581531595 | 2061.952074842359 | 2141.207638910488 |\n",
    "| $\\mathcal H_1$ | 526.1674328791948 | 526.1673905055596 | 519.3175327080207 | 526.1674328084456 |\n",
    "| $\\mathcal H_2$ | 103.2936469887949 | 103.29364695354961 | 100.81743611076712 | 103.29364699009201 |"
   ]
  },
  {
   "cell_type": "markdown",
   "id": "6a269ad1",
   "metadata": {},
   "source": [
    "### $m = 10$, $\\theta=1$\n",
    "\n",
    "| Control | Exact | Discrete adjoint gradient | Continuous adjoint gradient | Adjoint-free gradient |\n",
    "| --- | --- | --- | --- | --- |\n",
    "| $\\mathcal H_0$ | 996.946711548131 | 996.9466818678358 | 996.9466789234594 | 996.9467112931563 |\n",
    "| $\\mathcal H_1$ | 377.8231655990096 | 377.82314762903945 | 377.8231455850006 | 377.8231656707512 |\n",
    "| $\\mathcal H_2$ | 111.544872299012 | 111.54487308411399 | 111.54486701689059 | 111.54487228213134 |"
   ]
  },
  {
   "cell_type": "markdown",
   "id": "37619530",
   "metadata": {},
   "source": [
    "### $m=5$, $\\theta=\\frac12$\n",
    "\n",
    "| Control | Exact | Discrete adjoint gradient | Continuous adjoint gradient | Adjoint-free gradient |\n",
    "| --- | --- | --- | --- | --- |\n",
    "| $\\mathcal H_0$ | 329.2900712222381 | 329.290042780578 | 56.78621847257681 | 329.29009819835346 |\n",
    "| $\\mathcal H_1$ | 20.945296008141895 | 20.945293461478762 | -7.754552383889311 | 20.9452982768191622 |\n",
    "| $\\mathcal H_2$ | 1.5845813860534008 | 1.5845811897041913 | 6.223052320945998 | 1.5845838540562007 |"
   ]
  },
  {
   "cell_type": "markdown",
   "id": "bbdb0e08",
   "metadata": {},
   "source": [
    "### $m=5$, $\\theta=1$\n",
    "\n",
    "| Control | Exact | Discrete adjoint gradient | Continuous adjoint gradient | Adjoint-free gradient |\n",
    "| --- | --- | --- | --- | --- |\n",
    "| $\\mathcal H_0$ | 84.64720043647787 | 84.64719576829249 | 84.64719576829249 | 84.64719576829249 |\n",
    "| $\\mathcal H_1$ | 11.212695995766921 | 11.212695689257226 | 11.212695466139648 | 11.212696813701077 |\n",
    "| $\\mathcal H_2$ | 1.4489872470329175 | 1.448986932869168 | 1.4489975420571772 | 1.4489978602280074 |"
   ]
  },
  {
   "cell_type": "markdown",
   "id": "7b16e4fd",
   "metadata": {},
   "source": [
    "Plot the parameter space"
   ]
  },
  {
   "cell_type": "code",
   "execution_count": 33,
   "id": "6eeee2f3",
   "metadata": {},
   "outputs": [
    {
     "data": {
      "image/png": "[encoded data removed]",
      "text/plain": [
       "<Figure size 576x576 with 1 Axes>"
      ]
     },
     "metadata": {
      "needs_background": "light"
     },
     "output_type": "display_data"
    }
   ],
   "source": [
    "fig, axes = plt.subplots(figsize=(8, 8))\n",
    "xx = np.linspace(2, 10, 100)\n",
    "axes.plot(xx, L(xx), ':', color='C0')\n",
    "axes.plot(L_min, L(L_min), '*', markersize=14, color='C0', label=r\"$m^\\star={:.4f}$\".format(L_min))\n",
    "\n",
    "delta_m = 0.25\n",
    "m = [5.0, 10.0]\n",
    "f = [J5, J10]\n",
    "g = [gc5, gc10]\n",
    "for i, (mi, fi, gi) in enumerate(zip(m, f, g)):\n",
    "    x = np.array([mi - delta_m, mi + delta_m])\n",
    "    axes.plot(x, gi*(x - mi) + fi, '-', color='C2', linewidth=5, label='Cont. adj. gradients' if i == 0 else None)\n",
    "axes.plot(m, f, 'o', color='C1', markersize=8)\n",
    "\n",
    "axes.set_xlabel(\"Control parameter\")\n",
    "axes.set_ylabel(\"Quantity of Interest\")\n",
    "axes.grid(True)\n",
    "axes.legend();"
   ]
  },
  {
   "cell_type": "markdown",
   "id": "1fbbfb4c",
   "metadata": {},
   "source": [
    "Minimisers for $\\theta=\\frac12$: 4.0913, 4.7927, 4.9221.\n",
    "Minimisers for $\\theta=1$: 4.5361, 4.8471, 4.9342"
   ]
  },
  {
   "cell_type": "code",
   "execution_count": null,
   "id": "f28a0501",
   "metadata": {},
   "outputs": [],
   "source": []
  }
 ],
 "metadata": {
  "kernelspec": {
   "display_name": "Python 3",
   "language": "python",
   "name": "python3"
  },
  "language_info": {
   "codemirror_mode": {
    "name": "ipython",
    "version": 3
   },
   "file_extension": ".py",
   "mimetype": "text/x-python",
   "name": "python",
   "nbconvert_exporter": "python",
   "pygments_lexer": "ipython3",
   "version": "3.8.5"
  }
 },
 "nbformat": 4,
 "nbformat_minor": 5
}
