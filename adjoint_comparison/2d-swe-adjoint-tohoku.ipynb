{
 "cells": [
  {
   "cell_type": "markdown",
   "id": "61dd7619",
   "metadata": {},
   "source": [
    "This notebook shows that the continuous and discrete adjoint methods give the same result if no stabilisation is applied.\n",
    "\n",
    "### TO DO:\n",
    "* What's going on with Crank-Nicolson?\n",
    "* Fix trapezium"
   ]
  },
  {
   "cell_type": "code",
   "execution_count": 1,
   "id": "4a47b9bd",
   "metadata": {},
   "outputs": [],
   "source": [
    "from firedrake import *\n",
    "from firedrake_adjoint import *\n",
    "from firedrake.adjoint.blocks import GenericSolveBlock, ProjectBlock"
   ]
  },
  {
   "cell_type": "code",
   "execution_count": 2,
   "id": "6ec62508",
   "metadata": {},
   "outputs": [],
   "source": [
    "import matplotlib.pyplot as plt\n",
    "import scipy.interpolate as si"
   ]
  },
  {
   "cell_type": "code",
   "execution_count": 3,
   "id": "5efb943e",
   "metadata": {},
   "outputs": [],
   "source": [
    "from adapt_utils.case_studies.tohoku.options.options import TohokuInversionOptions\n",
    "from adapt_utils.misc import gaussian, ellipse"
   ]
  },
  {
   "cell_type": "markdown",
   "id": "ddc9c884",
   "metadata": {},
   "source": [
    "Specify 'optimum' and initial guess"
   ]
  },
  {
   "cell_type": "code",
   "execution_count": 4,
   "id": "04cacd0c",
   "metadata": {},
   "outputs": [],
   "source": [
    "m_opt = 5.0\n",
    "m_prior = 10.0"
   ]
  },
  {
   "cell_type": "markdown",
   "id": "7224727e",
   "metadata": {},
   "source": [
    "Create `Options` object and setup gauges."
   ]
  },
  {
   "cell_type": "code",
   "execution_count": 5,
   "id": "757fa14a",
   "metadata": {},
   "outputs": [
    {
     "name": "stderr",
     "output_type": "stream",
     "text": [
      "/home/joe/software/firedrake-pragmatic/src/firedrake/firedrake/parloops.py:130: LoopyWarning: 'lang_version' was not passed to make_function(). To avoid this warning, pass lang_version=(2018, 2) in this invocation. (Or say 'from loopy.version import LOOPY_USE_LANGUAGE_VERSION_2018_2' in the global scope of the calling frame.)\n",
      "  knl = loopy.make_function(kernel_domains, instructions, kargs, seq_dependencies=True,\n"
     ]
    }
   ],
   "source": [
    "level = 2\n",
    "op = TohokuInversionOptions(level=level)\n",
    "gauges = list(op.gauges.keys())\n",
    "for gauge in gauges:\n",
    "    if gauge[:2] not in ('P0', '80'):\n",
    "        op.gauges.pop(gauge)\n",
    "gauges = list(op.gauges.keys())"
   ]
  },
  {
   "cell_type": "markdown",
   "id": "98e28d8f",
   "metadata": {},
   "source": [
    "Setup timestepping parameters"
   ]
  },
  {
   "cell_type": "code",
   "execution_count": 6,
   "id": "0367f361",
   "metadata": {},
   "outputs": [],
   "source": [
    "num_timesteps = 30\n",
    "dt = Constant(op.dt)\n",
    "theta = Constant(1.0)"
   ]
  },
  {
   "cell_type": "markdown",
   "id": "7fb5a51f",
   "metadata": {},
   "source": [
    "Create function spaces"
   ]
  },
  {
   "cell_type": "code",
   "execution_count": 7,
   "id": "11c74113",
   "metadata": {},
   "outputs": [],
   "source": [
    "mesh = op.default_mesh\n",
    "P2 = VectorFunctionSpace(mesh, \"CG\", 1)\n",
    "P1 = FunctionSpace(mesh, \"CG\", 1)\n",
    "V = P2*P1\n",
    "R = FunctionSpace(mesh, \"R\", 0)"
   ]
  },
  {
   "cell_type": "markdown",
   "id": "dec7b03a",
   "metadata": {},
   "source": [
    "Create `Function`s"
   ]
  },
  {
   "cell_type": "code",
   "execution_count": 8,
   "id": "74fcd334",
   "metadata": {},
   "outputs": [],
   "source": [
    "u, eta = TrialFunctions(V)\n",
    "z, zeta = TestFunctions(V)\n",
    "m = Function(R).assign(m_prior)\n",
    "c = Control(m)\n",
    "eta0 = Function(P1)\n",
    "eta0.interpolate(gaussian([(0.7e+06, 4.2e+06, 48e+03, 96e+03)], mesh, rotation=pi/12))\n",
    "q_ = Function(V)\n",
    "u_, eta_ = q_.split();"
   ]
  },
  {
   "cell_type": "code",
   "execution_count": 9,
   "id": "b72bf82e",
   "metadata": {},
   "outputs": [],
   "source": [
    "# fig, axes = plt.subplots(figsize=(7, 6))\n",
    "# tc = tricontourf(eta0, axes=axes, cmap='coolwarm')\n",
    "# cb = plt.colorbar(tc, ax=axes)\n",
    "# axes.axis(False);"
   ]
  },
  {
   "cell_type": "markdown",
   "id": "fe3b2f2e",
   "metadata": {},
   "source": [
    "Set physical parameters"
   ]
  },
  {
   "cell_type": "code",
   "execution_count": 10,
   "id": "b1a9b265",
   "metadata": {},
   "outputs": [],
   "source": [
    "b = Function(P1).assign(op.set_bathymetry(P1))\n",
    "g = Constant(9.81)"
   ]
  },
  {
   "cell_type": "markdown",
   "id": "0e9caae5",
   "metadata": {},
   "source": [
    "Setup forward variational problem"
   ]
  },
  {
   "cell_type": "code",
   "execution_count": 11,
   "id": "481827b1",
   "metadata": {},
   "outputs": [],
   "source": [
    "a = inner(u, z)*dx + eta*zeta*dx + theta*dt*g*inner(grad(eta), z)*dx - theta*dt*b*inner(u, grad(zeta))*dx\n",
    "L = inner(u_, z)*dx + eta_*zeta*dx - (1-theta)*dt*g*inner(grad(eta_), z)*dx + (1-theta)*dt*b*inner(u_, grad(zeta))*dx\n",
    "q = Function(V)\n",
    "u, eta = q.split()\n",
    "bc = DirichletBC(V.sub(1), 0, 100)\n",
    "problem = LinearVariationalProblem(a, L, q, bcs=bc)"
   ]
  },
  {
   "cell_type": "markdown",
   "id": "dd1efa70",
   "metadata": {},
   "source": [
    "Setup forward variational solver"
   ]
  },
  {
   "cell_type": "code",
   "execution_count": 12,
   "id": "b8e494b5",
   "metadata": {},
   "outputs": [],
   "source": [
    "sp = {\n",
    "    \"snes_type\": \"ksponly\",\n",
    "    \"ksp_type\": \"gmres\",\n",
    "    \"pc_type\": \"fieldsplit\",\n",
    "    \"pc_fieldsplit_type\": \"multiplicative\",\n",
    "}\n",
    "solver = LinearVariationalSolver(problem, solver_parameters=sp)"
   ]
  },
  {
   "cell_type": "markdown",
   "id": "236a87a7",
   "metadata": {},
   "source": [
    "Setup QoI"
   ]
  },
  {
   "cell_type": "code",
   "execution_count": 13,
   "id": "9cc5ba39",
   "metadata": {},
   "outputs": [],
   "source": [
    "P0 = FunctionSpace(mesh, \"DG\", 0)\n",
    "J_form = 0\n",
    "radius = 20e+03*2**level\n",
    "for gauge in gauges:\n",
    "    op.gauges[gauge][\"data\"] = []\n",
    "    k = Function(P0*P0)\n",
    "    ku, keta = k.split()\n",
    "    keta.interpolate(ellipse([op.gauges[gauge][\"coords\"] + (radius,)], mesh))\n",
    "    keta.assign(keta/assemble(keta*dx))\n",
    "#     qd = Function(V)\n",
    "#     ud, op.gauges[gauge][\"obs\"] = qd.split()\n",
    "    op.gauges[gauge][\"obs\"] = Function(R)\n",
    "    op.gauges[gauge][\"obs_old\"] = Function(R)\n",
    "    J_form += 0.5*dt*keta*(eta - op.gauges[gauge][\"obs\"])**2*dx\n",
    "    op.gauges[gauge][\"indicator\"] = keta"
   ]
  },
  {
   "cell_type": "code",
   "execution_count": 14,
   "id": "926c20af",
   "metadata": {},
   "outputs": [],
   "source": [
    "# fig, axes = plt.subplots(figsize=(6, 6))\n",
    "# tricontourf(keta, axes=axes, cmap='coolwarm')\n",
    "# axes.axis(False);"
   ]
  },
  {
   "cell_type": "markdown",
   "id": "79a6d743",
   "metadata": {},
   "source": [
    "Solve forward to generate 'data'"
   ]
  },
  {
   "cell_type": "code",
   "execution_count": 15,
   "id": "a8cd0253",
   "metadata": {},
   "outputs": [
    {
     "name": "stdout",
     "output_type": "stream",
     "text": [
      "t =   0.0 min  ||u|| = 0.0000e+00  ||eta|| = 0.0000e+00\n",
      "t =   1.0 min  ||u|| = 4.8480e+03  ||eta|| = 3.9131e+05\n",
      "t =   2.0 min  ||u|| = 8.7409e+03  ||eta|| = 3.5397e+05\n"
     ]
    }
   ],
   "source": [
    "with stop_annotating():\n",
    "    u_.assign(0.0)\n",
    "    eta_.project(m_opt*eta0)\n",
    "#     for gauge in gauges:\n",
    "#         op.gauges[gauge][\"data\"].append(float(eta_.at(op.gauges[gauge][\"coords\"])))\n",
    "    for i in range(num_timesteps):\n",
    "        print(f\"t = {i*op.dt/60:5.1f} min  ||u|| = {norm(u):.4e}  ||eta|| = {norm(eta):.4e}\")\n",
    "        solver.solve()\n",
    "        q_.assign(q)\n",
    "        for gauge in gauges:\n",
    "            op.gauges[gauge][\"data\"].append(float(eta.at(op.gauges[gauge][\"coords\"])))\n",
    "    print(f\"t = {(i+1)*op.dt/60:5.1f} min  ||u|| = {norm(u):.4e}  ||eta|| = {norm(eta):.4e}\")"
   ]
  },
  {
   "cell_type": "code",
   "execution_count": 16,
   "id": "1a108a83",
   "metadata": {},
   "outputs": [],
   "source": [
    "# fig, axes = plt.subplots(figsize=(7, 6))\n",
    "# tc = tricontourf(eta, axes=axes, cmap='coolwarm')\n",
    "# cb = plt.colorbar(tc, ax=axes)\n",
    "# axes.axis(False);"
   ]
  },
  {
   "cell_type": "code",
   "execution_count": 17,
   "id": "cad1ef24",
   "metadata": {},
   "outputs": [],
   "source": [
    "adj_free_form = 0\n",
    "for gauge in gauges:\n",
    "    adj_free_form += dt*op.gauges[gauge][\"indicator\"]*(eta - op.gauges[gauge][\"obs\"])*eta*dx"
   ]
  },
  {
   "cell_type": "markdown",
   "id": "e706af8c",
   "metadata": {},
   "source": [
    "Solve forward to annotate to tape"
   ]
  },
  {
   "cell_type": "code",
   "execution_count": 18,
   "id": "ab04ea61",
   "metadata": {},
   "outputs": [
    {
     "name": "stdout",
     "output_type": "stream",
     "text": [
      "t =   0.0 min  ||u|| = 8.7409e+03  ||eta|| = 3.5397e+05\n",
      "t =   1.0 min  ||u|| = 9.6961e+03  ||eta|| = 7.8262e+05\n",
      "t =   2.0 min  ||u|| = 1.7482e+04  ||eta|| = 7.0795e+05\n"
     ]
    }
   ],
   "source": [
    "J = 0\n",
    "adj_free = 0\n",
    "# solutions = [q.copy(deepcopy=True)]\n",
    "solutions = []\n",
    "u_.assign(0.0)\n",
    "eta_.project(m*eta0)\n",
    "for i in range(num_timesteps):\n",
    "    print(f\"t = {i*op.dt/60:5.1f} min  ||u|| = {norm(u):.4e}  ||eta|| = {norm(eta):.4e}\")\n",
    "#     J += assemble(theta*J_form)\n",
    "#     adj_free += assemble(theta*adj_free_form)\n",
    "    solver.solve()\n",
    "    q_.assign(q)\n",
    "    solutions.append(q.copy(deepcopy=True))\n",
    "    for gauge in gauges:\n",
    "        op.gauges[gauge][\"obs\"].assign(op.gauges[gauge][\"data\"][i])\n",
    "#     J += assemble((1-theta)*J_form)\n",
    "#     adj_free += assemble((1-theta)*adj_free_form)\n",
    "    J += assemble(J_form)\n",
    "    adj_free += assemble(adj_free_form)\n",
    "J10 = float(J)\n",
    "gaf10 = float(adj_free)/10\n",
    "print(f\"t = {(i+1)*op.dt/60:5.1f} min  ||u|| = {norm(u):.4e}  ||eta|| = {norm(eta):.4e}\")\n",
    "stop_annotating();"
   ]
  },
  {
   "cell_type": "code",
   "execution_count": 19,
   "id": "5db3d6d5",
   "metadata": {},
   "outputs": [],
   "source": [
    "# fig, axes = plt.subplots(figsize=(7, 6))\n",
    "# tricontourf(eta, axes=axes, cmap='coolwarm')\n",
    "# cb = plt.colorbar(tc, ax=axes)\n",
    "# axes.axis(False);"
   ]
  },
  {
   "cell_type": "markdown",
   "id": "91c38359",
   "metadata": {},
   "source": [
    "Create `ReducedFunctional` and compute gradient using discrete adjoint"
   ]
  },
  {
   "cell_type": "code",
   "execution_count": 20,
   "id": "f6d9188f",
   "metadata": {},
   "outputs": [],
   "source": [
    "Jhat = ReducedFunctional(J, c)\n",
    "gd10 = Jhat.derivative().dat.data[0]"
   ]
  },
  {
   "cell_type": "markdown",
   "id": "9086e727",
   "metadata": {},
   "source": [
    "Setup continuous adjoint variational problem and solver"
   ]
  },
  {
   "cell_type": "code",
   "execution_count": 21,
   "id": "d735e41c",
   "metadata": {},
   "outputs": [],
   "source": [
    "phi = TestFunction(V)\n",
    "cont_adj = Function(V)\n",
    "cont_adj_ = Function(V)\n",
    "z_, zeta_ = cont_adj_.split()\n",
    "a_star = adjoint(a)\n",
    "# L_star = inner(phi, cont_adj_)*dx + derivative(J_form, eta, zeta)\n",
    "L_star = replace(L, {z: z_, zeta: zeta_})\n",
    "L_star = replace(L_star, {u_: z, eta_: zeta})\n",
    "for gauge in gauges:\n",
    "    L_star += theta*dt*op.gauges[gauge][\"indicator\"]*(eta - op.gauges[gauge][\"obs\"])*zeta*dx\n",
    "#     L_star += (1-theta)*dt*op.gauges[gauge][\"indicator\"]*(eta_ - op.gauges[gauge][\"obs_old\"])*zeta*dx\n",
    "adj_problem = LinearVariationalProblem(a_star, L_star, cont_adj, bcs=bc)\n",
    "adj_solver = LinearVariationalSolver(adj_problem, solver_parameters=sp)"
   ]
  },
  {
   "cell_type": "markdown",
   "id": "2f2f7e46",
   "metadata": {},
   "source": [
    "Solve continuous adjoint problem"
   ]
  },
  {
   "cell_type": "code",
   "execution_count": 23,
   "id": "70300e69",
   "metadata": {},
   "outputs": [
    {
     "name": "stdout",
     "output_type": "stream",
     "text": [
      "t =   1.0 min  ||z|| = 0.0000e+00  ||zeta|| = 0.0000e+00\n",
      "t =   0.0 min  ||z|| = 4.7255e-03  ||zeta|| = 1.0057e-03\n",
      "t =   0.0 min  ||z|| = 1.1506e-02  ||zeta|| = 1.5677e-03\n"
     ]
    }
   ],
   "source": [
    "z, zeta = cont_adj.split()\n",
    "for i in range(num_timesteps-1, -1, -1):\n",
    "    print(f\"t = {(i+1)*op.dt/60:5.1f} min  ||z|| = {norm(z):.4e}  ||zeta|| = {norm(zeta):.4e}\")\n",
    "#     discrete_adj = solve_blocks[i].adj_sol\n",
    "    cont_adj_.assign(cont_adj)\n",
    "    for gauge in gauges:\n",
    "        op.gauges[gauge][\"obs\"].assign(op.gauges[gauge][\"data\"][i])\n",
    "#         op.gauges[gauge][\"obs_old\"].assign(op.gauges[gauge][\"data\"][i-1])\n",
    "    q.assign(solutions[i])\n",
    "#     q_.assign(solutions[i-1])\n",
    "    adj_solver.solve()\n",
    "print(f\"t = {0*op.dt/60:5.1f} min  ||z|| = {norm(z):.4e}  ||zeta|| = {norm(zeta):.4e}\")"
   ]
  },
  {
   "cell_type": "markdown",
   "id": "880101cb",
   "metadata": {},
   "source": [
    "Compute gradient using continuous adjoint method and check that it matches"
   ]
  },
  {
   "cell_type": "code",
   "execution_count": 24,
   "id": "db4e0eac",
   "metadata": {},
   "outputs": [],
   "source": [
    "gc10 = assemble(eta0*cont_adj.split()[1]*dx)\n",
    "assert np.isclose(gc10, gd10), f\"{gc10} vs. {gd10}\""
   ]
  },
  {
   "cell_type": "markdown",
   "id": "f08a9e1e",
   "metadata": {},
   "source": [
    "Sample control space at two more points and compute the discrete adjoint gradient at 5"
   ]
  },
  {
   "cell_type": "code",
   "execution_count": 25,
   "id": "a4fb6c70",
   "metadata": {},
   "outputs": [],
   "source": [
    "J2 = Jhat(m.assign(2.0))\n",
    "J5 = Jhat(m.assign(5.0))\n",
    "gd5 = Jhat.derivative().dat.data[0]"
   ]
  },
  {
   "cell_type": "markdown",
   "id": "33494919",
   "metadata": {},
   "source": [
    "Rerun the forward solver at 5"
   ]
  },
  {
   "cell_type": "code",
   "execution_count": 26,
   "id": "887a5bdd",
   "metadata": {},
   "outputs": [],
   "source": [
    "J = 0\n",
    "adj_free = 0\n",
    "solutions = []\n",
    "u_.assign(0.0)\n",
    "eta_.project(5*eta0)\n",
    "for i in range(num_timesteps):\n",
    "    solver.solve()\n",
    "    q_.assign(q)\n",
    "    solutions.append(q.copy(deepcopy=True))\n",
    "    for gauge in gauges:\n",
    "        op.gauges[gauge][\"obs\"].assign(op.gauges[gauge][\"data\"][i])\n",
    "    J += assemble(J_form)\n",
    "    adj_free += assemble(adj_free_form)\n",
    "assert np.isclose(float(J), J5)\n",
    "gaf5 = float(adj_free)/5"
   ]
  },
  {
   "cell_type": "markdown",
   "id": "76f74aa9",
   "metadata": {},
   "source": [
    "Compute the continuous adjoint gradient"
   ]
  },
  {
   "cell_type": "code",
   "execution_count": 27,
   "id": "58c5219d",
   "metadata": {},
   "outputs": [],
   "source": [
    "cont_adj.assign(0.0)\n",
    "for i in range(num_timesteps-1, -1, -1):\n",
    "    cont_adj_.assign(cont_adj)\n",
    "    for gauge in gauges:\n",
    "        op.gauges[gauge][\"obs\"].assign(op.gauges[gauge][\"data\"][i])\n",
    "    q.assign(solutions[i])\n",
    "    adj_solver.solve()\n",
    "gc5 = assemble(eta0*cont_adj.split()[1]*dx)"
   ]
  },
  {
   "cell_type": "code",
   "execution_count": 28,
   "id": "d0f2b812",
   "metadata": {},
   "outputs": [
    {
     "name": "stdout",
     "output_type": "stream",
     "text": [
      "Minimiser of quadratic: 3.5982\n"
     ]
    }
   ],
   "source": [
    "L = si.lagrange([2, 5, 10], [J2, J5, J10])\n",
    "dL = L.deriv()\n",
    "L_min = -dL.coefficients[1]/dL.coefficients[0]\n",
    "print(\"Minimiser of quadratic: {:.4f}\".format(L_min))"
   ]
  },
  {
   "cell_type": "code",
   "execution_count": 29,
   "id": "7db1b2a4",
   "metadata": {},
   "outputs": [
    {
     "name": "stdout",
     "output_type": "stream",
     "text": [
      "Exact gradient at 10              = 10.464451194048001\n",
      "Discrete adjoint gradient at 10   = 10.464451115366826\n",
      "Continuous adjoint gradient at 10 = 10.464451119270135\n",
      "Adjoint-free gradient at 10       = 10.464451079461266\n"
     ]
    }
   ],
   "source": [
    "print(f\"Exact gradient at 10              = {dL(10.0)}\")\n",
    "print(f\"Discrete adjoint gradient at 10   = {gd10}\")\n",
    "print(f\"Continuous adjoint gradient at 10 = {gc10}\")\n",
    "print(f\"Adjoint-free gradient at 10       = {gaf10}\")"
   ]
  },
  {
   "cell_type": "code",
   "execution_count": 30,
   "id": "6cb4590d",
   "metadata": {},
   "outputs": [
    {
     "name": "stdout",
     "output_type": "stream",
     "text": [
      "Exact gradient at  5              = 2.2913393130917274\n",
      "Discrete adjoint gradient at 5    = 2.291339302240442\n",
      "Continuous adjoint gradient at 5  = 2.2913398250282166\n",
      "Adjoint-free gradient at 10       = 2.2913396500067327\n"
     ]
    }
   ],
   "source": [
    "print(f\"Exact gradient at  5              = {dL(5.0)}\")\n",
    "print(f\"Discrete adjoint gradient at 5    = {gd5}\")\n",
    "print(f\"Continuous adjoint gradient at 5  = {gc5}\")\n",
    "print(f\"Adjoint-free gradient at 10       = {gaf5}\")"
   ]
  },
  {
   "cell_type": "markdown",
   "id": "6a269ad1",
   "metadata": {},
   "source": [
    "### $m = 10$\n",
    "\n",
    "| Control | Exact | Discrete adjoint gradient | Continuous adjoint gradient | Adjoint-free gradient |\n",
    "| --- | --- | --- | --- | --- |\n",
    "| $\\mathcal H_0$ | 996.9466319771284 | 996.9466416950728 | 996.9466387449290 | 996.9466477902282 |\n",
    "| $\\mathcal H_1$ | 609.2850012285952 | 609.2849884854936 | 609.2849774146049 | 609.2849984312206 |\n",
    "| $\\mathcal H_2$ | ... | ... | ... | ... |"
   ]
  },
  {
   "cell_type": "markdown",
   "id": "bbdb0e08",
   "metadata": {},
   "source": [
    "### $m=5$\n",
    "\n",
    "| Control | Exact | Discrete adjoint gradient | Continuous adjoint gradient | Adjoint-free gradient |\n",
    "| --- | --- | --- | --- | --- |\n",
    "| $\\mathcal H_0$ | 84.64718438015461 | 84.64719747549468 | 84.64720660517209 | 84.64720964339078 |\n",
    "| $\\mathcal H_1$ | 155.87189673017906 | 155.87189515509976 | 155.87189898928300 | 155.87191175728236 |\n",
    "| $\\mathcal H_2$ | ... | ... | ... | ... |"
   ]
  },
  {
   "cell_type": "markdown",
   "id": "7b16e4fd",
   "metadata": {},
   "source": [
    "Plot the parameter space"
   ]
  },
  {
   "cell_type": "code",
   "execution_count": null,
   "id": "6eeee2f3",
   "metadata": {},
   "outputs": [],
   "source": [
    "fig, axes = plt.subplots(figsize=(8, 8))\n",
    "xx = np.linspace(2, 10, 100)\n",
    "axes.plot(xx, L(xx), ':', color='C0')\n",
    "axes.plot(L_min, L(L_min), '*', markersize=14, color='C0', label=r\"$m^\\star={:.4f}$\".format(L_min))\n",
    "axes.set_xlabel(\"Control parameter\")\n",
    "axes.set_ylabel(\"Quantity of Interest\")\n",
    "axes.grid(True)\n",
    "axes.legend();"
   ]
  },
  {
   "cell_type": "code",
   "execution_count": null,
   "id": "7db75d2f",
   "metadata": {},
   "outputs": [],
   "source": []
  }
 ],
 "metadata": {
  "kernelspec": {
   "display_name": "Python 3",
   "language": "python",
   "name": "python3"
  },
  "language_info": {
   "codemirror_mode": {
    "name": "ipython",
    "version": 3
   },
   "file_extension": ".py",
   "mimetype": "text/x-python",
   "name": "python",
   "nbconvert_exporter": "python",
   "pygments_lexer": "ipython3",
   "version": "3.8.5"
  }
 },
 "nbformat": 4,
 "nbformat_minor": 5
}
