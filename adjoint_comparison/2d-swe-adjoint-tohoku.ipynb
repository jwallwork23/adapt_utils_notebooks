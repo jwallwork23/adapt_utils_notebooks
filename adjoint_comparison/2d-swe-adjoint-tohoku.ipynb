{
 "cells": [
  {
   "cell_type": "markdown",
   "id": "61dd7619",
   "metadata": {},
   "source": [
    "This notebook shows that the continuous and discrete adjoint methods give the same result if no stabilisation is applied."
   ]
  },
  {
   "cell_type": "code",
   "execution_count": 1,
   "id": "4a47b9bd",
   "metadata": {},
   "outputs": [],
   "source": [
    "from firedrake import *\n",
    "from firedrake_adjoint import *\n",
    "from firedrake.adjoint.blocks import GenericSolveBlock, ProjectBlock"
   ]
  },
  {
   "cell_type": "code",
   "execution_count": 2,
   "id": "6ec62508",
   "metadata": {},
   "outputs": [],
   "source": [
    "import matplotlib.pyplot as plt\n",
    "import scipy.interpolate as si"
   ]
  },
  {
   "cell_type": "code",
   "execution_count": 3,
   "id": "5efb943e",
   "metadata": {},
   "outputs": [],
   "source": [
    "from adapt_utils.case_studies.tohoku.options.options import TohokuInversionOptions\n",
    "from adapt_utils.misc import gaussian, ellipse"
   ]
  },
  {
   "cell_type": "markdown",
   "id": "ddc9c884",
   "metadata": {},
   "source": [
    "Specify 'optimum' and initial guess"
   ]
  },
  {
   "cell_type": "code",
   "execution_count": 4,
   "id": "04cacd0c",
   "metadata": {},
   "outputs": [],
   "source": [
    "m_opt = 5.0\n",
    "m_prior = 10.0"
   ]
  },
  {
   "cell_type": "markdown",
   "id": "7224727e",
   "metadata": {},
   "source": [
    "Create `Options` object and setup gauges."
   ]
  },
  {
   "cell_type": "code",
   "execution_count": 5,
   "id": "757fa14a",
   "metadata": {},
   "outputs": [
    {
     "name": "stderr",
     "output_type": "stream",
     "text": [
      "/home/joe/software/firedrake/src/firedrake/firedrake/parloops.py:130: LoopyWarning: 'lang_version' was not passed to make_function(). To avoid this warning, pass lang_version=(2018, 2) in this invocation. (Or say 'from loopy.version import LOOPY_USE_LANGUAGE_VERSION_2018_2' in the global scope of the calling frame.)\n",
      "  knl = loopy.make_function(kernel_domains, instructions, kargs, seq_dependencies=True,\n"
     ]
    }
   ],
   "source": [
    "level = 0\n",
    "op = TohokuInversionOptions(level=level)\n",
    "gauges = list(op.gauges.keys())\n",
    "for gauge in gauges:\n",
    "    if gauge[:2] not in ('P0', '80'):\n",
    "        op.gauges.pop(gauge)\n",
    "gauges = list(op.gauges.keys())"
   ]
  },
  {
   "cell_type": "markdown",
   "id": "98e28d8f",
   "metadata": {},
   "source": [
    "Setup timestepping parameters"
   ]
  },
  {
   "cell_type": "code",
   "execution_count": 6,
   "id": "0367f361",
   "metadata": {},
   "outputs": [],
   "source": [
    "num_timesteps = 30\n",
    "dt = Constant(op.dt)\n",
    "theta = Constant(0.5)"
   ]
  },
  {
   "cell_type": "markdown",
   "id": "7fb5a51f",
   "metadata": {},
   "source": [
    "Create function spaces"
   ]
  },
  {
   "cell_type": "code",
   "execution_count": 7,
   "id": "11c74113",
   "metadata": {},
   "outputs": [],
   "source": [
    "mesh = op.default_mesh\n",
    "P2 = VectorFunctionSpace(mesh, \"CG\", 1)\n",
    "P1 = FunctionSpace(mesh, \"CG\", 1)\n",
    "V = P2*P1\n",
    "R = FunctionSpace(mesh, \"R\", 0)"
   ]
  },
  {
   "cell_type": "markdown",
   "id": "dec7b03a",
   "metadata": {},
   "source": [
    "Create `Function`s"
   ]
  },
  {
   "cell_type": "code",
   "execution_count": 8,
   "id": "74fcd334",
   "metadata": {},
   "outputs": [],
   "source": [
    "u, eta = TrialFunctions(V)\n",
    "test_u, test_eta = TestFunctions(V)\n",
    "m = Function(R).assign(m_prior)\n",
    "c = Control(m)\n",
    "q0 = Function(V)\n",
    "u0, eta0 = q0.split()\n",
    "eta0.interpolate(gaussian([(0.7e+06, 4.2e+06, 48e+03, 96e+03)], mesh, rotation=pi/12))\n",
    "q_ = Function(V)\n",
    "u_, eta_ = q_.split();"
   ]
  },
  {
   "cell_type": "code",
   "execution_count": 9,
   "id": "b72bf82e",
   "metadata": {},
   "outputs": [],
   "source": [
    "# fig, axes = plt.subplots(figsize=(7, 6))\n",
    "# tc = tricontourf(eta0, axes=axes, cmap='coolwarm')\n",
    "# cb = plt.colorbar(tc, ax=axes)\n",
    "# axes.axis(False);"
   ]
  },
  {
   "cell_type": "markdown",
   "id": "fe3b2f2e",
   "metadata": {},
   "source": [
    "Set physical parameters"
   ]
  },
  {
   "cell_type": "code",
   "execution_count": 10,
   "id": "b1a9b265",
   "metadata": {},
   "outputs": [],
   "source": [
    "b = Function(P1).assign(op.set_bathymetry(P1))\n",
    "g = Constant(9.81)"
   ]
  },
  {
   "cell_type": "markdown",
   "id": "0e9caae5",
   "metadata": {},
   "source": [
    "Setup forward variational problem"
   ]
  },
  {
   "cell_type": "code",
   "execution_count": 11,
   "id": "481827b1",
   "metadata": {},
   "outputs": [],
   "source": [
    "a = inner(u, test_u)*dx + eta*test_eta*dx\n",
    "a += theta*dt*g*inner(grad(eta), test_u)*dx - theta*dt*b*inner(u, grad(test_eta))*dx\n",
    "L = inner(u_, test_u)*dx + eta_*test_eta*dx\n",
    "L += -(1-theta)*dt*g*inner(grad(eta_), test_u)*dx + (1-theta)*dt*b*inner(u_, grad(test_eta))*dx\n",
    "q = Function(V)\n",
    "u, eta = q.split()\n",
    "bc = DirichletBC(V.sub(1), 0, 100)\n",
    "problem = LinearVariationalProblem(a, L, q, bcs=bc)"
   ]
  },
  {
   "cell_type": "markdown",
   "id": "dd1efa70",
   "metadata": {},
   "source": [
    "Setup forward variational solver"
   ]
  },
  {
   "cell_type": "code",
   "execution_count": 12,
   "id": "b8e494b5",
   "metadata": {},
   "outputs": [],
   "source": [
    "sp = {\n",
    "    \"snes_type\": \"ksponly\",\n",
    "    \"ksp_type\": \"gmres\",\n",
    "    \"pc_type\": \"fieldsplit\",\n",
    "    \"pc_fieldsplit_type\": \"multiplicative\",\n",
    "}\n",
    "solver = LinearVariationalSolver(problem, solver_parameters=sp)"
   ]
  },
  {
   "cell_type": "markdown",
   "id": "236a87a7",
   "metadata": {},
   "source": [
    "Setup QoI"
   ]
  },
  {
   "cell_type": "code",
   "execution_count": 13,
   "id": "9cc5ba39",
   "metadata": {},
   "outputs": [],
   "source": [
    "P0 = FunctionSpace(mesh, \"DG\", 0)\n",
    "J_form = 0\n",
    "radius = 20e+03*0.5**level\n",
    "for gauge in gauges:\n",
    "    op.gauges[gauge][\"data\"] = []\n",
    "    k = Function(P0*P0)\n",
    "    ku, keta = k.split()\n",
    "    keta.interpolate(ellipse([op.gauges[gauge][\"coords\"] + (radius,)], mesh))\n",
    "    keta.assign(keta/assemble(keta*dx))\n",
    "    op.gauges[gauge][\"indicator\"] = keta\n",
    "    op.gauges[gauge][\"obs\"] = Function(R)\n",
    "    op.gauges[gauge][\"obs_old\"] = Function(R)\n",
    "    J_form += theta*0.5*dt*keta*(eta - op.gauges[gauge][\"obs\"])**2*dx\n",
    "    J_form += (1-theta)*0.5*dt*keta*(eta_ - op.gauges[gauge][\"obs_old\"])**2*dx"
   ]
  },
  {
   "cell_type": "code",
   "execution_count": 14,
   "id": "926c20af",
   "metadata": {},
   "outputs": [],
   "source": [
    "# fig, axes = plt.subplots(figsize=(6, 6))\n",
    "# tricontourf(keta, axes=axes, cmap='coolwarm')\n",
    "# axes.axis(False);"
   ]
  },
  {
   "cell_type": "markdown",
   "id": "79a6d743",
   "metadata": {},
   "source": [
    "Solve forward to generate 'data'"
   ]
  },
  {
   "cell_type": "code",
   "execution_count": 15,
   "id": "a8cd0253",
   "metadata": {},
   "outputs": [
    {
     "name": "stdout",
     "output_type": "stream",
     "text": [
      "t =   0.0 min  ||u|| = 0.0000e+00  ||eta|| = 0.0000e+00\n",
      "t =   0.2 min  ||u|| = 1.4483e+03  ||eta|| = 4.2366e+05\n",
      "t =   0.5 min  ||u|| = 2.8814e+03  ||eta|| = 4.2073e+05\n",
      "t =   0.8 min  ||u|| = 4.2853e+03  ||eta|| = 4.1598e+05\n",
      "t =   1.0 min  ||u|| = 5.6470e+03  ||eta|| = 4.0959e+05\n",
      "t =   1.2 min  ||u|| = 6.9557e+03  ||eta|| = 4.0180e+05\n",
      "t =   1.5 min  ||u|| = 8.2022e+03  ||eta|| = 3.9289e+05\n",
      "t =   1.8 min  ||u|| = 9.3798e+03  ||eta|| = 3.8312e+05\n",
      "t =   2.0 min  ||u|| = 1.0484e+04  ||eta|| = 3.7281e+05\n",
      "t =   2.2 min  ||u|| = 1.1513e+04  ||eta|| = 3.6221e+05\n",
      "t =   2.5 min  ||u|| = 1.2464e+04  ||eta|| = 3.5158e+05\n",
      "t =   2.8 min  ||u|| = 1.3340e+04  ||eta|| = 3.4115e+05\n",
      "t =   3.0 min  ||u|| = 1.4141e+04  ||eta|| = 3.3111e+05\n",
      "t =   3.2 min  ||u|| = 1.4870e+04  ||eta|| = 3.2162e+05\n",
      "t =   3.5 min  ||u|| = 1.5531e+04  ||eta|| = 3.1281e+05\n",
      "t =   3.8 min  ||u|| = 1.6126e+04  ||eta|| = 3.0476e+05\n",
      "t =   4.0 min  ||u|| = 1.6661e+04  ||eta|| = 2.9754e+05\n",
      "t =   4.2 min  ||u|| = 1.7140e+04  ||eta|| = 2.9117e+05\n",
      "t =   4.5 min  ||u|| = 1.7566e+04  ||eta|| = 2.8567e+05\n",
      "t =   4.8 min  ||u|| = 1.7944e+04  ||eta|| = 2.8102e+05\n",
      "t =   5.0 min  ||u|| = 1.8280e+04  ||eta|| = 2.7720e+05\n",
      "t =   5.2 min  ||u|| = 1.8575e+04  ||eta|| = 2.7414e+05\n",
      "t =   5.5 min  ||u|| = 1.8836e+04  ||eta|| = 2.7180e+05\n",
      "t =   5.8 min  ||u|| = 1.9066e+04  ||eta|| = 2.7012e+05\n",
      "t =   6.0 min  ||u|| = 1.9269e+04  ||eta|| = 2.6902e+05\n",
      "t =   6.2 min  ||u|| = 1.9448e+04  ||eta|| = 2.6844e+05\n",
      "t =   6.5 min  ||u|| = 1.9607e+04  ||eta|| = 2.6830e+05\n",
      "t =   6.8 min  ||u|| = 1.9749e+04  ||eta|| = 2.6855e+05\n",
      "t =   7.0 min  ||u|| = 1.9877e+04  ||eta|| = 2.6911e+05\n",
      "t =   7.2 min  ||u|| = 1.9995e+04  ||eta|| = 2.6993e+05\n",
      "t =   7.5 min  ||u|| = 2.0104e+04  ||eta|| = 2.7095e+05\n"
     ]
    }
   ],
   "source": [
    "u_.assign(u0)\n",
    "eta_.project(m_opt*eta0)\n",
    "for gauge in gauges:\n",
    "    op.gauges[gauge][\"data\"].append(float(eta_.at(op.gauges[gauge][\"coords\"])))\n",
    "for i in range(num_timesteps):\n",
    "    print(f\"t = {i*op.dt/60:5.1f} min  ||u|| = {norm(u):.4e}  ||eta|| = {norm(eta):.4e}\")\n",
    "    solver.solve()\n",
    "    q_.assign(q)\n",
    "    for gauge in gauges:\n",
    "        op.gauges[gauge][\"data\"].append(float(eta.at(op.gauges[gauge][\"coords\"])))\n",
    "print(f\"t = {(i+1)*op.dt/60:5.1f} min  ||u|| = {norm(u):.4e}  ||eta|| = {norm(eta):.4e}\")"
   ]
  },
  {
   "cell_type": "code",
   "execution_count": 16,
   "id": "1a108a83",
   "metadata": {},
   "outputs": [],
   "source": [
    "# fig, axes = plt.subplots(figsize=(7, 6))\n",
    "# tc = tricontourf(eta, axes=axes, cmap='coolwarm')\n",
    "# cb = plt.colorbar(tc, ax=axes)\n",
    "# axes.axis(False);"
   ]
  },
  {
   "cell_type": "code",
   "execution_count": 17,
   "id": "cad1ef24",
   "metadata": {},
   "outputs": [],
   "source": [
    "adj_free_form = 0\n",
    "for gauge in gauges:\n",
    "    adj_free_form += theta*dt*op.gauges[gauge][\"indicator\"]*(eta - op.gauges[gauge][\"obs\"])*eta*dx\n",
    "    adj_free_form += (1-theta)*dt*op.gauges[gauge][\"indicator\"]*(eta_ - op.gauges[gauge][\"obs_old\"])*eta_*dx"
   ]
  },
  {
   "cell_type": "markdown",
   "id": "e706af8c",
   "metadata": {},
   "source": [
    "Solve forward to annotate to tape"
   ]
  },
  {
   "cell_type": "code",
   "execution_count": 18,
   "id": "ab04ea61",
   "metadata": {},
   "outputs": [
    {
     "name": "stdout",
     "output_type": "stream",
     "text": [
      "t =   0.0 min  ||u|| = 2.0104e+04  ||eta|| = 2.7095e+05\n",
      "t =   0.2 min  ||u|| = 2.8965e+03  ||eta|| = 8.4732e+05\n",
      "t =   0.5 min  ||u|| = 5.7628e+03  ||eta|| = 8.4146e+05\n",
      "t =   0.8 min  ||u|| = 8.5706e+03  ||eta|| = 8.3196e+05\n",
      "t =   1.0 min  ||u|| = 1.1294e+04  ||eta|| = 8.1918e+05\n",
      "t =   1.2 min  ||u|| = 1.3911e+04  ||eta|| = 8.0361e+05\n",
      "t =   1.5 min  ||u|| = 1.6404e+04  ||eta|| = 7.8577e+05\n",
      "t =   1.8 min  ||u|| = 1.8760e+04  ||eta|| = 7.6625e+05\n",
      "t =   2.0 min  ||u|| = 2.0968e+04  ||eta|| = 7.4561e+05\n",
      "t =   2.2 min  ||u|| = 2.3025e+04  ||eta|| = 7.2441e+05\n",
      "t =   2.5 min  ||u|| = 2.4928e+04  ||eta|| = 7.0316e+05\n",
      "t =   2.8 min  ||u|| = 2.6679e+04  ||eta|| = 6.8230e+05\n",
      "t =   3.0 min  ||u|| = 2.8281e+04  ||eta|| = 6.6222e+05\n",
      "t =   3.2 min  ||u|| = 2.9740e+04  ||eta|| = 6.4325e+05\n",
      "t =   3.5 min  ||u|| = 3.1061e+04  ||eta|| = 6.2562e+05\n",
      "t =   3.8 min  ||u|| = 3.2253e+04  ||eta|| = 6.0952e+05\n",
      "t =   4.0 min  ||u|| = 3.3323e+04  ||eta|| = 5.9507e+05\n",
      "t =   4.2 min  ||u|| = 3.4279e+04  ||eta|| = 5.8234e+05\n",
      "t =   4.5 min  ||u|| = 3.5132e+04  ||eta|| = 5.7135e+05\n",
      "t =   4.8 min  ||u|| = 3.5889e+04  ||eta|| = 5.6205e+05\n",
      "t =   5.0 min  ||u|| = 3.6559e+04  ||eta|| = 5.5439e+05\n",
      "t =   5.2 min  ||u|| = 3.7151e+04  ||eta|| = 5.4828e+05\n",
      "t =   5.5 min  ||u|| = 3.7673e+04  ||eta|| = 5.4361e+05\n",
      "t =   5.8 min  ||u|| = 3.8132e+04  ||eta|| = 5.4024e+05\n",
      "t =   6.0 min  ||u|| = 3.8538e+04  ||eta|| = 5.3804e+05\n",
      "t =   6.2 min  ||u|| = 3.8896e+04  ||eta|| = 5.3688e+05\n",
      "t =   6.5 min  ||u|| = 3.9213e+04  ||eta|| = 5.3661e+05\n",
      "t =   6.8 min  ||u|| = 3.9498e+04  ||eta|| = 5.3710e+05\n",
      "t =   7.0 min  ||u|| = 3.9755e+04  ||eta|| = 5.3822e+05\n",
      "t =   7.2 min  ||u|| = 3.9990e+04  ||eta|| = 5.3986e+05\n",
      "t =   7.5 min  ||u|| = 4.0209e+04  ||eta|| = 5.4191e+05\n"
     ]
    }
   ],
   "source": [
    "J = 0\n",
    "u_.assign(u0)\n",
    "eta_.project(m*eta0)\n",
    "solutions = [q_.copy(deepcopy=True)]\n",
    "for i in range(num_timesteps):\n",
    "    print(f\"t = {i*op.dt/60:5.1f} min  ||u|| = {norm(u):.4e}  ||eta|| = {norm(eta):.4e}\")\n",
    "    solver.solve()\n",
    "    solutions.append(q.copy(deepcopy=True))\n",
    "    for gauge in gauges:\n",
    "        op.gauges[gauge][\"obs\"].assign(op.gauges[gauge][\"data\"][i+1])\n",
    "        op.gauges[gauge][\"obs_old\"].assign(op.gauges[gauge][\"data\"][i])\n",
    "    J = J + assemble(J_form)\n",
    "    q_.assign(q)\n",
    "J10 = float(J)\n",
    "gaf10 = float(adj_free)/10\n",
    "print(f\"t = {(i+1)*op.dt/60:5.1f} min  ||u|| = {norm(u):.4e}  ||eta|| = {norm(eta):.4e}\")\n",
    "stop_annotating();"
   ]
  },
  {
   "cell_type": "code",
   "execution_count": 19,
   "id": "94ae6b01",
   "metadata": {},
   "outputs": [],
   "source": [
    "tape = get_working_tape()\n",
    "solve_blocks = [\n",
    "    block\n",
    "    for block in tape.get_blocks()\n",
    "    if issubclass(type(block), GenericSolveBlock)\n",
    "    and not issubclass(type(block), ProjectBlock)\n",
    "]"
   ]
  },
  {
   "cell_type": "code",
   "execution_count": 20,
   "id": "5db3d6d5",
   "metadata": {},
   "outputs": [],
   "source": [
    "# fig, axes = plt.subplots(figsize=(7, 6))\n",
    "# tricontourf(eta, axes=axes, cmap='coolwarm')\n",
    "# cb = plt.colorbar(tc, ax=axes)\n",
    "# axes.axis(False);"
   ]
  },
  {
   "cell_type": "markdown",
   "id": "91c38359",
   "metadata": {},
   "source": [
    "Create `ReducedFunctional` and compute gradient using discrete adjoint"
   ]
  },
  {
   "cell_type": "code",
   "execution_count": 21,
   "id": "f6d9188f",
   "metadata": {},
   "outputs": [],
   "source": [
    "Jhat = ReducedFunctional(J, c)\n",
    "gd10 = Jhat.derivative().dat.data[0]"
   ]
  },
  {
   "cell_type": "code",
   "execution_count": 22,
   "id": "53b99f06",
   "metadata": {},
   "outputs": [],
   "source": [
    "# _J10 = Jhat(10.0)\n",
    "# assert np.isclose(J10, _J10), f\"{_J10} vs. {J10}\""
   ]
  },
  {
   "cell_type": "code",
   "execution_count": 23,
   "id": "e4643624",
   "metadata": {},
   "outputs": [],
   "source": [
    "# minconv = taylor_test(Jhat, Function(R).assign(10.0), Function(R).assign(0.1))\n",
    "# assert minconv > 1.90, f\"{minconv}\""
   ]
  },
  {
   "cell_type": "markdown",
   "id": "9086e727",
   "metadata": {},
   "source": [
    "Setup continuous adjoint variational problem and solver"
   ]
  },
  {
   "cell_type": "code",
   "execution_count": 24,
   "id": "d735e41c",
   "metadata": {},
   "outputs": [],
   "source": [
    "phi = TestFunction(V)\n",
    "cont_adj = Function(V)\n",
    "z, zeta = cont_adj.split()\n",
    "cont_adj_ = Function(V)\n",
    "z_, zeta_ = cont_adj_.split()\n",
    "a_star = adjoint(a)"
   ]
  },
  {
   "cell_type": "code",
   "execution_count": 25,
   "id": "dfb38e89",
   "metadata": {},
   "outputs": [],
   "source": [
    "w1 = Constant(1.0)\n",
    "w2 = Constant(0.0)\n",
    "L_star = replace(L, {test_u: z_, test_eta: zeta_, u_: test_u, eta_: test_eta})\n",
    "for gauge in gauges:\n",
    "    L_star += w1*theta*dt*op.gauges[gauge][\"indicator\"]*(eta - op.gauges[gauge][\"obs\"])*test_eta*dx\n",
    "    L_star += w2*(1-theta)*dt*op.gauges[gauge][\"indicator\"]*(eta - op.gauges[gauge][\"obs\"])*test_eta*dx"
   ]
  },
  {
   "cell_type": "code",
   "execution_count": 26,
   "id": "6302b5a8",
   "metadata": {},
   "outputs": [],
   "source": [
    "adj_problem = LinearVariationalProblem(a_star, L_star, cont_adj, bcs=bc)\n",
    "adj_solver = LinearVariationalSolver(adj_problem, solver_parameters=sp)"
   ]
  },
  {
   "cell_type": "markdown",
   "id": "2f2f7e46",
   "metadata": {},
   "source": [
    "Solve continuous adjoint problem"
   ]
  },
  {
   "cell_type": "code",
   "execution_count": 27,
   "id": "70300e69",
   "metadata": {},
   "outputs": [
    {
     "name": "stdout",
     "output_type": "stream",
     "text": [
      "t =   7.5 min  ||z|| = 0.0000e+00  ||zeta|| = 0.0000e+00\n",
      "t =   7.2 min  ||z|| = 3.1274e-03  ||zeta|| = 1.4149e-03\n",
      "t =   7.0 min  ||z|| = 1.4566e-02  ||zeta|| = 3.8896e-03\n",
      "t =   6.8 min  ||z|| = 3.4093e-02  ||zeta|| = 5.6837e-03\n",
      "t =   6.5 min  ||z|| = 5.6666e-02  ||zeta|| = 6.7193e-03\n",
      "t =   6.2 min  ||z|| = 7.7167e-02  ||zeta|| = 7.2073e-03\n",
      "t =   6.0 min  ||z|| = 9.2056e-02  ||zeta|| = 7.5241e-03\n",
      "t =   5.8 min  ||z|| = 1.0048e-01  ||zeta|| = 7.9244e-03\n",
      "t =   5.5 min  ||z|| = 1.0426e-01  ||zeta|| = 8.3569e-03\n",
      "t =   5.2 min  ||z|| = 1.0649e-01  ||zeta|| = 8.6226e-03\n",
      "t =   5.0 min  ||z|| = 1.0920e-01  ||zeta|| = 8.6393e-03\n",
      "t =   4.8 min  ||z|| = 1.1234e-01  ||zeta|| = 8.5199e-03\n",
      "t =   4.5 min  ||z|| = 1.1490e-01  ||zeta|| = 8.4464e-03\n",
      "t =   4.2 min  ||z|| = 1.1658e-01  ||zeta|| = 8.4866e-03\n",
      "t =   4.0 min  ||z|| = 1.1801e-01  ||zeta|| = 8.5625e-03\n",
      "t =   3.8 min  ||z|| = 1.1970e-01  ||zeta|| = 8.5885e-03\n",
      "t =   3.5 min  ||z|| = 1.2125e-01  ||zeta|| = 8.5777e-03\n",
      "t =   3.2 min  ||z|| = 1.2184e-01  ||zeta|| = 8.6011e-03\n",
      "t =   3.0 min  ||z|| = 1.2122e-01  ||zeta|| = 8.6801e-03\n",
      "t =   2.8 min  ||z|| = 1.1987e-01  ||zeta|| = 8.7628e-03\n",
      "t =   2.5 min  ||z|| = 1.1847e-01  ||zeta|| = 8.8030e-03\n",
      "t =   2.2 min  ||z|| = 1.1716e-01  ||zeta|| = 8.8212e-03\n",
      "t =   2.0 min  ||z|| = 1.1577e-01  ||zeta|| = 8.8662e-03\n",
      "t =   1.8 min  ||z|| = 1.1440e-01  ||zeta|| = 8.9362e-03\n",
      "t =   1.5 min  ||z|| = 1.1356e-01  ||zeta|| = 8.9740e-03\n",
      "t =   1.2 min  ||z|| = 1.1353e-01  ||zeta|| = 8.9460e-03\n",
      "t =   1.0 min  ||z|| = 1.1381e-01  ||zeta|| = 8.8997e-03\n",
      "t =   0.8 min  ||z|| = 1.1365e-01  ||zeta|| = 8.9163e-03\n",
      "t =   0.5 min  ||z|| = 1.1284e-01  ||zeta|| = 9.0103e-03\n",
      "t =   0.2 min  ||z|| = 1.1200e-01  ||zeta|| = 9.1041e-03\n",
      "t =   0.0 min  ||z|| = 1.1181e-01  ||zeta|| = 9.1196e-03\n"
     ]
    }
   ],
   "source": [
    "for i in range(num_timesteps-1, -1, -1):\n",
    "    if i == num_timesteps-2:\n",
    "        w2.assign(1.0)\n",
    "    print(f\"t = {(i+1)*op.dt/60:5.1f} min  ||z|| = {norm(z):.4e}  ||zeta|| = {norm(zeta):.4e}\")\n",
    "    for gauge in gauges:\n",
    "        op.gauges[gauge][\"obs\"].assign(op.gauges[gauge][\"data\"][i+1])\n",
    "        op.gauges[gauge][\"obs_old\"].assign(op.gauges[gauge][\"data\"][i])\n",
    "    q.assign(solutions[i+1])\n",
    "    q_.assign(solutions[i])\n",
    "    adj_solver.solve()\n",
    "    cont_adj_.assign(cont_adj)\n",
    "print(f\"t = {0*op.dt/60:5.1f} min  ||z|| = {norm(z):.4e}  ||zeta|| = {norm(zeta):.4e}\")"
   ]
  },
  {
   "cell_type": "code",
   "execution_count": 28,
   "id": "99ba962b",
   "metadata": {},
   "outputs": [
    {
     "data": {
      "image/png": "[encoded data removed]",
      "text/plain": [
       "<Figure size 1080x432 with 4 Axes>"
      ]
     },
     "metadata": {
      "needs_background": "light"
     },
     "output_type": "display_data"
    }
   ],
   "source": [
    "fig, axes = plt.subplots(ncols=2, figsize=(15, 6))\n",
    "tc = tricontourf(zeta, axes=axes[0], cmap='coolwarm')\n",
    "cb = plt.colorbar(tc, ax=axes[0])\n",
    "axes[0].axis(False)\n",
    "disc_adj = solve_blocks[0].adj_sol\n",
    "tc = tricontourf(disc_adj.split()[1], axes=axes[1], cmap='coolwarm')\n",
    "cb = plt.colorbar(tc, ax=axes[1])\n",
    "axes[1].axis(False);"
   ]
  },
  {
   "cell_type": "code",
   "execution_count": 29,
   "id": "caba225d",
   "metadata": {},
   "outputs": [],
   "source": [
    "assert np.allclose(disc_adj.dat.data[1], cont_adj.dat.data[1])"
   ]
  },
  {
   "cell_type": "markdown",
   "id": "880101cb",
   "metadata": {},
   "source": [
    "Compute gradient using continuous adjoint method and check that it matches"
   ]
  },
  {
   "cell_type": "code",
   "execution_count": 30,
   "id": "db4e0eac",
   "metadata": {},
   "outputs": [],
   "source": [
    "gc = eta0*zeta*dx \\\n",
    "    - (1-theta)*dt*g*inner(grad(eta0), z)*dx\n",
    "for gauge in gauges:\n",
    "    op.gauges[gauge]['obs0'] = Function(R).assign(op.gauges[gauge]['data'][0])\n",
    "    gc += dt*(1-theta)*op.gauges[gauge]['indicator']*(m*eta0 - op.gauges[gauge]['obs0'])*eta0*dx\n",
    "gc10 = assemble(gc)"
   ]
  },
  {
   "cell_type": "markdown",
   "id": "f08a9e1e",
   "metadata": {},
   "source": [
    "Sample control space at two more points and compute the discrete adjoint gradient at 5"
   ]
  },
  {
   "cell_type": "code",
   "execution_count": 31,
   "id": "a4fb6c70",
   "metadata": {},
   "outputs": [],
   "source": [
    "J2 = Jhat(m.assign(2.0))\n",
    "J5 = Jhat(m.assign(5.0))\n",
    "gd5 = Jhat.derivative().dat.data[0]"
   ]
  },
  {
   "cell_type": "code",
   "execution_count": 32,
   "id": "852d6be6",
   "metadata": {},
   "outputs": [],
   "source": [
    "# minconv = taylor_test(Jhat, Function(R).assign(5.0), Function(R).assign(0.1))\n",
    "# assert minconv > 1.90, f\"{minconv}\""
   ]
  },
  {
   "cell_type": "markdown",
   "id": "33494919",
   "metadata": {},
   "source": [
    "Rerun the forward solver at 5"
   ]
  },
  {
   "cell_type": "code",
   "execution_count": 33,
   "id": "887a5bdd",
   "metadata": {},
   "outputs": [],
   "source": [
    "J = 0\n",
    "adj_free = 0\n",
    "u_.assign(0.0)\n",
    "eta_.project(5*eta0)\n",
    "solutions = [q_.copy(deepcopy=True)]\n",
    "for i in range(num_timesteps):\n",
    "    solver.solve()\n",
    "    solutions.append(q.copy(deepcopy=True))\n",
    "    for gauge in gauges:\n",
    "        op.gauges[gauge][\"obs\"].assign(op.gauges[gauge][\"data\"][i+1])\n",
    "        op.gauges[gauge][\"obs_old\"].assign(op.gauges[gauge][\"data\"][i])\n",
    "    J = J + assemble(J_form)\n",
    "    adj_free = adj_free + assemble(adj_free_form, annotate=False)\n",
    "    q_.assign(q)\n",
    "gaf5 = float(adj_free)/5\n",
    "assert np.isclose(float(J), J5), f\"{float(J)} vs. {J5}\""
   ]
  },
  {
   "cell_type": "markdown",
   "id": "76f74aa9",
   "metadata": {},
   "source": [
    "Compute the continuous adjoint gradient"
   ]
  },
  {
   "cell_type": "code",
   "execution_count": 34,
   "id": "58c5219d",
   "metadata": {},
   "outputs": [],
   "source": [
    "w1.assign(1.0)\n",
    "w2.assign(0.0)\n",
    "cont_adj_.assign(0.0)\n",
    "for i in range(num_timesteps-1, -1, -1):\n",
    "    if i == num_timesteps-2:\n",
    "        w2.assign(1.0)\n",
    "    for gauge in gauges:\n",
    "        op.gauges[gauge][\"obs\"].assign(op.gauges[gauge][\"data\"][i+1])\n",
    "        op.gauges[gauge][\"obs_old\"].assign(op.gauges[gauge][\"data\"][i])\n",
    "    q.assign(solutions[i+1])\n",
    "    q_.assign(solutions[i])\n",
    "    adj_solver.solve()\n",
    "    cont_adj_.assign(cont_adj)\n",
    "gc5 = assemble(gc)"
   ]
  },
  {
   "cell_type": "code",
   "execution_count": 35,
   "id": "1addf4bc",
   "metadata": {},
   "outputs": [
    {
     "data": {
      "image/png": "[encoded data removed]",
      "text/plain": [
       "<Figure size 1080x432 with 4 Axes>"
      ]
     },
     "metadata": {
      "needs_background": "light"
     },
     "output_type": "display_data"
    }
   ],
   "source": [
    "fig, axes = plt.subplots(ncols=2, figsize=(15, 6))\n",
    "tc = tricontourf(zeta, axes=axes[0], cmap='coolwarm')\n",
    "cb = plt.colorbar(tc, ax=axes[0])\n",
    "axes[0].axis(False)\n",
    "disc_adj = solve_blocks[0].adj_sol\n",
    "tc = tricontourf(solve_blocks[0].adj_sol.split()[1], axes=axes[1], cmap='coolwarm')\n",
    "cb = plt.colorbar(tc, ax=axes[1])\n",
    "axes[1].axis(False);"
   ]
  },
  {
   "cell_type": "code",
   "execution_count": 36,
   "id": "bec47642",
   "metadata": {},
   "outputs": [],
   "source": [
    "assert np.allclose(disc_adj.dat.data[1], cont_adj.dat.data[1])"
   ]
  },
  {
   "cell_type": "code",
   "execution_count": 37,
   "id": "d0f2b812",
   "metadata": {},
   "outputs": [
    {
     "name": "stdout",
     "output_type": "stream",
     "text": [
      "Minimiser of quadratic: 4.9221\n"
     ]
    }
   ],
   "source": [
    "l = si.lagrange([2, 5, 10], [J2, J5, J10])\n",
    "dl = l.deriv()\n",
    "l_min = -dl.coefficients[1]/dl.coefficients[0]\n",
    "print(\"Minimiser of quadratic: {:.4f}\".format(l_min))"
   ]
  },
  {
   "cell_type": "code",
   "execution_count": 38,
   "id": "7db1b2a4",
   "metadata": {},
   "outputs": [
    {
     "name": "stdout",
     "output_type": "stream",
     "text": [
      "Exact gradient at 10              = 103.2936425525666\n",
      "Discrete adjoint gradient at 10   = 103.293643891921\n",
      "Continuous adjoint gradient at 10 = 103.29364442297997\n",
      "Adjoint-free gradient at 10       = 103.2936424708101\n"
     ]
    }
   ],
   "source": [
    "print(f\"Exact gradient at 10              = {dl(10.0)}\")\n",
    "print(f\"Discrete adjoint gradient at 10   = {gd10}\")\n",
    "print(f\"Continuous adjoint gradient at 10 = {gc10}\")\n",
    "print(f\"Adjoint-free gradient at 10       = {gaf10}\")"
   ]
  },
  {
   "cell_type": "code",
   "execution_count": 39,
   "id": "6cb4590d",
   "metadata": {},
   "outputs": [
    {
     "name": "stdout",
     "output_type": "stream",
     "text": [
      "Exact gradient at  5              = 1.5845798591097946\n",
      "Discrete adjoint gradient at 5    = 1.584579584758134\n",
      "Continuous adjoint gradient at 5  = 1.5845835472714234\n",
      "Adjoint-free gradient at 5        = 1.5845839324007172\n"
     ]
    }
   ],
   "source": [
    "print(f\"Exact gradient at  5              = {dl(5.0)}\")\n",
    "print(f\"Discrete adjoint gradient at 5    = {gd5}\")\n",
    "print(f\"Continuous adjoint gradient at 5  = {gc5}\")\n",
    "print(f\"Adjoint-free gradient at 5        = {gaf5}\")"
   ]
  },
  {
   "cell_type": "markdown",
   "id": "c7f4e9fd",
   "metadata": {},
   "source": [
    "### $m = 10,\\quad\\theta=\\frac12$\n",
    "\n",
    "| Mesh | Exact | Discrete adjoint gradient | Continuous adjoint gradient | Adjoint-free gradient |\n",
    "| --- | --- | --- | --- | --- |\n",
    "| $\\mathcal H_0$ | 2141.207639251425 | 2141.207581531595 | 2141.2075199664973 | 2141.207638910488 |\n",
    "| $\\mathcal H_1$ | 526.1674328791948 | 526.1673905055596 | 526.1673949096349 | 526.1674328084456 |\n",
    "| $\\mathcal H_2$ | 103.2936469887949 | 103.29364695354961 | 103.29364442297997 | 103.29364699009201 |"
   ]
  },
  {
   "cell_type": "markdown",
   "id": "6a269ad1",
   "metadata": {},
   "source": [
    "### $m = 10,\\quad\\theta=1$\n",
    "\n",
    "| Mesh | Exact | Discrete adjoint gradient | Continuous adjoint gradient | Adjoint-free gradient |\n",
    "| --- | --- | --- | --- | --- |\n",
    "| $\\mathcal H_0$ | 996.946711548131 | 996.9466818678358 | 996.9466789234594 | 996.9467112931563 |\n",
    "| $\\mathcal H_1$ | 377.8231655990096 | 377.82314762903945 | 377.8231455850006 | 377.8231656707512 |\n",
    "| $\\mathcal H_2$ | 111.544872299012 | 111.54487308411399 | 111.54486701689059 | 111.54487228213134 |"
   ]
  },
  {
   "cell_type": "markdown",
   "id": "c6bd6ba1",
   "metadata": {},
   "source": [
    "### $m=5,\\quad\\theta=\\frac12$\n",
    "\n",
    "| Mesh | Exact | Discrete adjoint gradient | Continuous adjoint gradient | Adjoint-free gradient |\n",
    "| --- | --- | --- | --- | --- |\n",
    "| $\\mathcal H_0$ | 329.2900712222381 | 329.290042780578 | 329.2900738160331 | 329.29009819835346 |\n",
    "| $\\mathcal H_1$ | 20.945296008141895 | 20.945293461478762 | 20.945297492965857 | 20.9452982768191622 |\n",
    "| $\\mathcal H_2$ | 1.5845813860534008 | 1.5845811897041913 | 1.5845835472714234 | 1.5845838540562007 |"
   ]
  },
  {
   "cell_type": "markdown",
   "id": "bbdb0e08",
   "metadata": {},
   "source": [
    "### $m=5,\\quad\\theta=1$\n",
    "\n",
    "| Mesh | Exact | Discrete adjoint gradient | Continuous adjoint gradient | Adjoint-free gradient |\n",
    "| --- | --- | --- | --- | --- |\n",
    "| $\\mathcal H_0$ | 84.64720043647787 | 84.64719576829249 | 84.64719576829249 | 84.64719576829249 |\n",
    "| $\\mathcal H_1$ | 11.212695995766921 | 11.212695689257226 | 11.212695466139648 | 11.212696813701077 |\n",
    "| $\\mathcal H_2$ | 1.4489872470329175 | 1.448986932869168 | 1.4489975420571772 | 1.4489978602280074 |"
   ]
  },
  {
   "cell_type": "markdown",
   "id": "7b16e4fd",
   "metadata": {},
   "source": [
    "Plot the parameter space"
   ]
  },
  {
   "cell_type": "code",
   "execution_count": 40,
   "id": "6eeee2f3",
   "metadata": {},
   "outputs": [
    {
     "data": {
      "image/png": "[encoded data removed]",
      "text/plain": [
       "<Figure size 576x576 with 1 Axes>"
      ]
     },
     "metadata": {
      "needs_background": "light"
     },
     "output_type": "display_data"
    }
   ],
   "source": [
    "fig, axes = plt.subplots(figsize=(8, 8))\n",
    "xx = np.linspace(2, 10, 100)\n",
    "axes.plot(xx, l(xx), ':', color='C0')\n",
    "axes.plot(l_min, l(l_min), '*', markersize=14, color='C0', label=r\"$m^\\star={:.4f}$\".format(l_min))\n",
    "\n",
    "delta_m = 0.25\n",
    "m = [5.0, 10.0]\n",
    "f = [J5, J10]\n",
    "for i, (mi, fi, gi) in enumerate(zip(m, f, [gc5, gc10])):\n",
    "    x = np.array([mi - delta_m, mi + delta_m])\n",
    "    axes.plot(x, gi*(x - mi) + fi, '-', color='C2', linewidth=5, label='Cont. adj. gradients' if i == 0 else None)\n",
    "axes.plot(m, f, 'o', color='C1', markersize=8)\n",
    "\n",
    "axes.set_xlabel(\"Control parameter\")\n",
    "axes.set_ylabel(\"Quantity of Interest\")\n",
    "axes.grid(True)\n",
    "axes.legend();"
   ]
  },
  {
   "cell_type": "markdown",
   "id": "cf4f0a4e",
   "metadata": {},
   "source": [
    "Minimisers for $\\theta=\\frac12$: 4.0913, 4.7927, 4.9221.\n",
    "Minimisers for $\\theta=1$: 4.5361, 4.8471, 4.9342"
   ]
  },
  {
   "cell_type": "code",
   "execution_count": null,
   "id": "8f601faa",
   "metadata": {},
   "outputs": [],
   "source": []
  }
 ],
 "metadata": {
  "kernelspec": {
   "display_name": "Python 3",
   "language": "python",
   "name": "python3"
  },
  "language_info": {
   "codemirror_mode": {
    "name": "ipython",
    "version": 3
   },
   "file_extension": ".py",
   "mimetype": "text/x-python",
   "name": "python",
   "nbconvert_exporter": "python",
   "pygments_lexer": "ipython3",
   "version": "3.8.5"
  }
 },
 "nbformat": 4,
 "nbformat_minor": 5
}
