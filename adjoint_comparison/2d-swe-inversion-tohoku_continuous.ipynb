{
 "cells": [
  {
   "cell_type": "code",
   "execution_count": 1,
   "id": "4a47b9bd",
   "metadata": {},
   "outputs": [],
   "source": [
    "from firedrake import *"
   ]
  },
  {
   "cell_type": "code",
   "execution_count": 2,
   "id": "6ec62508",
   "metadata": {},
   "outputs": [],
   "source": [
    "from contexttimer import Timer\n",
    "import matplotlib.pyplot as plt\n",
    "import scipy.interpolate as si\n",
    "import scipy.optimize as so"
   ]
  },
  {
   "cell_type": "code",
   "execution_count": 3,
   "id": "5efb943e",
   "metadata": {},
   "outputs": [],
   "source": [
    "from adapt_utils.case_studies.tohoku.options.options import TohokuInversionOptions\n",
    "from adapt_utils.misc import gaussian, ellipse"
   ]
  },
  {
   "cell_type": "code",
   "execution_count": 4,
   "id": "700bf84a",
   "metadata": {},
   "outputs": [],
   "source": [
    "class OptimisationProgress(object):\n",
    "    def __init__(self):\n",
    "        self.m_progress = []\n",
    "        self.J_progress = []\n",
    "        self.dJdm_progress = []\n",
    "        self.ls_iteration = 0\n",
    "        self.feval = 0\n",
    "        self.geval = 0"
   ]
  },
  {
   "cell_type": "code",
   "execution_count": 5,
   "id": "286b9b73",
   "metadata": {},
   "outputs": [],
   "source": [
    "OP = OptimisationProgress()"
   ]
  },
  {
   "cell_type": "markdown",
   "id": "ddc9c884",
   "metadata": {},
   "source": [
    "Specify 'optimum' and initial guess"
   ]
  },
  {
   "cell_type": "code",
   "execution_count": 6,
   "id": "04cacd0c",
   "metadata": {},
   "outputs": [],
   "source": [
    "m_opt = 5.0\n",
    "m_prior = 10.0"
   ]
  },
  {
   "cell_type": "markdown",
   "id": "7224727e",
   "metadata": {},
   "source": [
    "Create `Options` object and setup gauges."
   ]
  },
  {
   "cell_type": "code",
   "execution_count": 7,
   "id": "757fa14a",
   "metadata": {},
   "outputs": [
    {
     "name": "stderr",
     "output_type": "stream",
     "text": [
      "/home/joe/software/firedrake-pragmatic/src/firedrake/firedrake/parloops.py:130: LoopyWarning: 'lang_version' was not passed to make_function(). To avoid this warning, pass lang_version=(2018, 2) in this invocation. (Or say 'from loopy.version import LOOPY_USE_LANGUAGE_VERSION_2018_2' in the global scope of the calling frame.)\n",
      "  knl = loopy.make_function(kernel_domains, instructions, kargs, seq_dependencies=True,\n"
     ]
    }
   ],
   "source": [
    "level = 2\n",
    "op = TohokuInversionOptions(level=level)\n",
    "gauges = list(op.gauges.keys())\n",
    "for gauge in gauges:\n",
    "    if gauge[:2] not in ('P0', '80'):\n",
    "        op.gauges.pop(gauge)\n",
    "gauges = list(op.gauges.keys())"
   ]
  },
  {
   "cell_type": "markdown",
   "id": "98e28d8f",
   "metadata": {},
   "source": [
    "Setup timestepping parameters"
   ]
  },
  {
   "cell_type": "code",
   "execution_count": 8,
   "id": "0367f361",
   "metadata": {},
   "outputs": [],
   "source": [
    "num_timesteps = 30*2**level\n",
    "dt = Constant(op.dt)\n",
    "theta = Constant(0.5)"
   ]
  },
  {
   "cell_type": "markdown",
   "id": "7fb5a51f",
   "metadata": {},
   "source": [
    "Create function spaces"
   ]
  },
  {
   "cell_type": "code",
   "execution_count": 9,
   "id": "11c74113",
   "metadata": {},
   "outputs": [],
   "source": [
    "mesh = op.default_mesh\n",
    "P2 = VectorFunctionSpace(mesh, \"CG\", 1)\n",
    "P1 = FunctionSpace(mesh, \"CG\", 1)\n",
    "V = P2*P1\n",
    "R = FunctionSpace(mesh, \"R\", 0)"
   ]
  },
  {
   "cell_type": "markdown",
   "id": "dec7b03a",
   "metadata": {},
   "source": [
    "Create `Function`s"
   ]
  },
  {
   "cell_type": "code",
   "execution_count": 10,
   "id": "74fcd334",
   "metadata": {},
   "outputs": [],
   "source": [
    "u, eta = TrialFunctions(V)\n",
    "test_u, test_eta = TestFunctions(V)\n",
    "m = Function(R).assign(m_prior)\n",
    "q0 = Function(V)\n",
    "u0, eta0 = q0.split()\n",
    "eta0.interpolate(gaussian([(0.7e+06, 4.2e+06, 48e+03, 96e+03)], mesh, rotation=pi/12))\n",
    "q_ = Function(V)\n",
    "u_, eta_ = q_.split();"
   ]
  },
  {
   "cell_type": "markdown",
   "id": "fe3b2f2e",
   "metadata": {},
   "source": [
    "Set physical parameters"
   ]
  },
  {
   "cell_type": "code",
   "execution_count": 11,
   "id": "b1a9b265",
   "metadata": {},
   "outputs": [],
   "source": [
    "b = Function(P1).assign(op.set_bathymetry(P1))\n",
    "g = Constant(9.81)"
   ]
  },
  {
   "cell_type": "markdown",
   "id": "0e9caae5",
   "metadata": {},
   "source": [
    "Setup forward variational problem"
   ]
  },
  {
   "cell_type": "code",
   "execution_count": 12,
   "id": "481827b1",
   "metadata": {},
   "outputs": [],
   "source": [
    "a = inner(u, test_u)*dx + eta*test_eta*dx\n",
    "a += theta*dt*g*inner(grad(eta), test_u)*dx - theta*dt*b*inner(u, grad(test_eta))*dx\n",
    "L = inner(u_, test_u)*dx + eta_*test_eta*dx\n",
    "L += -(1-theta)*dt*g*inner(grad(eta_), test_u)*dx + (1-theta)*dt*b*inner(u_, grad(test_eta))*dx\n",
    "q = Function(V)\n",
    "u, eta = q.split()\n",
    "bc = DirichletBC(V.sub(1), 0, 100)\n",
    "problem = LinearVariationalProblem(a, L, q, bcs=bc)"
   ]
  },
  {
   "cell_type": "markdown",
   "id": "dd1efa70",
   "metadata": {},
   "source": [
    "Setup forward variational solver"
   ]
  },
  {
   "cell_type": "code",
   "execution_count": 13,
   "id": "b8e494b5",
   "metadata": {},
   "outputs": [],
   "source": [
    "sp = {\n",
    "    \"snes_type\": \"ksponly\",\n",
    "    \"ksp_type\": \"gmres\",\n",
    "    \"pc_type\": \"fieldsplit\",\n",
    "    \"pc_fieldsplit_type\": \"multiplicative\",\n",
    "}\n",
    "solver = LinearVariationalSolver(problem, solver_parameters=sp)"
   ]
  },
  {
   "cell_type": "code",
   "execution_count": 14,
   "id": "0dadffba",
   "metadata": {},
   "outputs": [],
   "source": [
    "# class NaiveSolver(object):\n",
    "#     def __init__(self, lhs, rhs, sol, bcs, **kwargs):\n",
    "#         self.lhs = lhs\n",
    "#         self.rhs = rhs\n",
    "#         self.sol = sol\n",
    "#         self.bcs = bcs\n",
    "#         self.kwargs = kwargs\n",
    "    \n",
    "#     def solve(self):\n",
    "#         solve(self.lhs == self.rhs, self.sol, bcs=self.bcs, **self.kwargs)"
   ]
  },
  {
   "cell_type": "code",
   "execution_count": 15,
   "id": "7b7eabd2",
   "metadata": {},
   "outputs": [],
   "source": [
    "# solver = NaiveSolver(a, L, q, bc, solver_parameters=sp)"
   ]
  },
  {
   "cell_type": "markdown",
   "id": "236a87a7",
   "metadata": {},
   "source": [
    "Setup QoI"
   ]
  },
  {
   "cell_type": "code",
   "execution_count": 16,
   "id": "9cc5ba39",
   "metadata": {},
   "outputs": [],
   "source": [
    "P0 = FunctionSpace(mesh, \"DG\", 0)\n",
    "J_form = 0\n",
    "radius = 20e+03*0.5**level\n",
    "for gauge in gauges:\n",
    "    op.gauges[gauge][\"data\"] = []\n",
    "    k = Function(P0*P0)\n",
    "    ku, keta = k.split()\n",
    "    keta.interpolate(ellipse([op.gauges[gauge][\"coords\"] + (radius,)], mesh))\n",
    "    keta.assign(keta/assemble(keta*dx))\n",
    "    op.gauges[gauge][\"indicator\"] = keta\n",
    "    op.gauges[gauge][\"obs\"] = Function(R)\n",
    "    op.gauges[gauge][\"obs_old\"] = Function(R)\n",
    "    J_form += theta*0.5*dt*keta*(eta - op.gauges[gauge][\"obs\"])**2*dx\n",
    "    J_form += (1-theta)*0.5*dt*keta*(eta_ - op.gauges[gauge][\"obs_old\"])**2*dx"
   ]
  },
  {
   "cell_type": "markdown",
   "id": "79a6d743",
   "metadata": {},
   "source": [
    "Solve forward to generate 'data'"
   ]
  },
  {
   "cell_type": "code",
   "execution_count": 17,
   "id": "a8cd0253",
   "metadata": {},
   "outputs": [
    {
     "name": "stdout",
     "output_type": "stream",
     "text": [
      "t =   0.0 min  ||u|| = 0.0000e+00  ||eta|| = 0.0000e+00\n",
      "t =   0.2 min  ||u|| = 1.4483e+03  ||eta|| = 4.2366e+05\n",
      "t =   0.5 min  ||u|| = 2.8814e+03  ||eta|| = 4.2073e+05\n",
      "t =   0.8 min  ||u|| = 4.2853e+03  ||eta|| = 4.1598e+05\n",
      "t =   1.0 min  ||u|| = 5.6470e+03  ||eta|| = 4.0959e+05\n",
      "t =   1.2 min  ||u|| = 6.9557e+03  ||eta|| = 4.0180e+05\n",
      "t =   1.5 min  ||u|| = 8.2022e+03  ||eta|| = 3.9289e+05\n",
      "t =   1.8 min  ||u|| = 9.3798e+03  ||eta|| = 3.8312e+05\n",
      "t =   2.0 min  ||u|| = 1.0484e+04  ||eta|| = 3.7281e+05\n",
      "t =   2.2 min  ||u|| = 1.1513e+04  ||eta|| = 3.6221e+05\n",
      "t =   2.5 min  ||u|| = 1.2464e+04  ||eta|| = 3.5158e+05\n",
      "t =   2.8 min  ||u|| = 1.3340e+04  ||eta|| = 3.4115e+05\n",
      "t =   3.0 min  ||u|| = 1.4141e+04  ||eta|| = 3.3111e+05\n",
      "t =   3.2 min  ||u|| = 1.4870e+04  ||eta|| = 3.2162e+05\n",
      "t =   3.5 min  ||u|| = 1.5531e+04  ||eta|| = 3.1281e+05\n",
      "t =   3.8 min  ||u|| = 1.6126e+04  ||eta|| = 3.0476e+05\n",
      "t =   4.0 min  ||u|| = 1.6661e+04  ||eta|| = 2.9754e+05\n",
      "t =   4.2 min  ||u|| = 1.7140e+04  ||eta|| = 2.9117e+05\n",
      "t =   4.5 min  ||u|| = 1.7566e+04  ||eta|| = 2.8567e+05\n",
      "t =   4.8 min  ||u|| = 1.7944e+04  ||eta|| = 2.8102e+05\n",
      "t =   5.0 min  ||u|| = 1.8280e+04  ||eta|| = 2.7720e+05\n",
      "t =   5.2 min  ||u|| = 1.8575e+04  ||eta|| = 2.7414e+05\n",
      "t =   5.5 min  ||u|| = 1.8836e+04  ||eta|| = 2.7180e+05\n",
      "t =   5.8 min  ||u|| = 1.9066e+04  ||eta|| = 2.7012e+05\n",
      "t =   6.0 min  ||u|| = 1.9269e+04  ||eta|| = 2.6902e+05\n",
      "t =   6.2 min  ||u|| = 1.9448e+04  ||eta|| = 2.6844e+05\n",
      "t =   6.5 min  ||u|| = 1.9607e+04  ||eta|| = 2.6830e+05\n",
      "t =   6.8 min  ||u|| = 1.9749e+04  ||eta|| = 2.6855e+05\n",
      "t =   7.0 min  ||u|| = 1.9877e+04  ||eta|| = 2.6911e+05\n",
      "t =   7.2 min  ||u|| = 1.9995e+04  ||eta|| = 2.6993e+05\n",
      "t =   7.5 min  ||u|| = 2.0104e+04  ||eta|| = 2.7095e+05\n",
      "t =   7.8 min  ||u|| = 2.0208e+04  ||eta|| = 2.7213e+05\n",
      "t =   8.0 min  ||u|| = 2.0309e+04  ||eta|| = 2.7342e+05\n",
      "t =   8.2 min  ||u|| = 2.0409e+04  ||eta|| = 2.7477e+05\n",
      "t =   8.5 min  ||u|| = 2.0510e+04  ||eta|| = 2.7616e+05\n",
      "t =   8.8 min  ||u|| = 2.0613e+04  ||eta|| = 2.7755e+05\n",
      "t =   9.0 min  ||u|| = 2.0720e+04  ||eta|| = 2.7892e+05\n",
      "t =   9.2 min  ||u|| = 2.0832e+04  ||eta|| = 2.8024e+05\n",
      "t =   9.5 min  ||u|| = 2.0951e+04  ||eta|| = 2.8150e+05\n",
      "t =   9.8 min  ||u|| = 2.1076e+04  ||eta|| = 2.8269e+05\n",
      "t =  10.0 min  ||u|| = 2.1208e+04  ||eta|| = 2.8380e+05\n",
      "t =  10.2 min  ||u|| = 2.1347e+04  ||eta|| = 2.8483e+05\n",
      "t =  10.5 min  ||u|| = 2.1494e+04  ||eta|| = 2.8578e+05\n",
      "t =  10.8 min  ||u|| = 2.1649e+04  ||eta|| = 2.8665e+05\n",
      "t =  11.0 min  ||u|| = 2.1812e+04  ||eta|| = 2.8745e+05\n",
      "t =  11.2 min  ||u|| = 2.1983e+04  ||eta|| = 2.8819e+05\n",
      "t =  11.5 min  ||u|| = 2.2163e+04  ||eta|| = 2.8887e+05\n",
      "t =  11.8 min  ||u|| = 2.2351e+04  ||eta|| = 2.8949e+05\n",
      "t =  12.0 min  ||u|| = 2.2548e+04  ||eta|| = 2.9007e+05\n",
      "t =  12.2 min  ||u|| = 2.2755e+04  ||eta|| = 2.9061e+05\n",
      "t =  12.5 min  ||u|| = 2.2971e+04  ||eta|| = 2.9111e+05\n",
      "t =  12.8 min  ||u|| = 2.3198e+04  ||eta|| = 2.9158e+05\n",
      "t =  13.0 min  ||u|| = 2.3435e+04  ||eta|| = 2.9201e+05\n",
      "t =  13.2 min  ||u|| = 2.3683e+04  ||eta|| = 2.9241e+05\n",
      "t =  13.5 min  ||u|| = 2.3942e+04  ||eta|| = 2.9277e+05\n",
      "t =  13.8 min  ||u|| = 2.4212e+04  ||eta|| = 2.9310e+05\n",
      "t =  14.0 min  ||u|| = 2.4492e+04  ||eta|| = 2.9339e+05\n",
      "t =  14.2 min  ||u|| = 2.4782e+04  ||eta|| = 2.9365e+05\n",
      "t =  14.5 min  ||u|| = 2.5082e+04  ||eta|| = 2.9386e+05\n",
      "t =  14.8 min  ||u|| = 2.5391e+04  ||eta|| = 2.9405e+05\n",
      "t =  15.0 min  ||u|| = 2.5708e+04  ||eta|| = 2.9420e+05\n",
      "t =  15.2 min  ||u|| = 2.6033e+04  ||eta|| = 2.9431e+05\n",
      "t =  15.5 min  ||u|| = 2.6364e+04  ||eta|| = 2.9441e+05\n",
      "t =  15.8 min  ||u|| = 2.6700e+04  ||eta|| = 2.9448e+05\n",
      "t =  16.0 min  ||u|| = 2.7041e+04  ||eta|| = 2.9454e+05\n",
      "t =  16.2 min  ||u|| = 2.7386e+04  ||eta|| = 2.9459e+05\n",
      "t =  16.5 min  ||u|| = 2.7734e+04  ||eta|| = 2.9464e+05\n",
      "t =  16.8 min  ||u|| = 2.8085e+04  ||eta|| = 2.9469e+05\n",
      "t =  17.0 min  ||u|| = 2.8438e+04  ||eta|| = 2.9475e+05\n",
      "t =  17.2 min  ||u|| = 2.8794e+04  ||eta|| = 2.9483e+05\n",
      "t =  17.5 min  ||u|| = 2.9151e+04  ||eta|| = 2.9492e+05\n",
      "t =  17.8 min  ||u|| = 2.9511e+04  ||eta|| = 2.9504e+05\n",
      "t =  18.0 min  ||u|| = 2.9875e+04  ||eta|| = 2.9517e+05\n",
      "t =  18.2 min  ||u|| = 3.0241e+04  ||eta|| = 2.9533e+05\n",
      "t =  18.5 min  ||u|| = 3.0612e+04  ||eta|| = 2.9550e+05\n",
      "t =  18.8 min  ||u|| = 3.0988e+04  ||eta|| = 2.9568e+05\n",
      "t =  19.0 min  ||u|| = 3.1370e+04  ||eta|| = 2.9588e+05\n",
      "t =  19.2 min  ||u|| = 3.1759e+04  ||eta|| = 2.9608e+05\n",
      "t =  19.5 min  ||u|| = 3.2155e+04  ||eta|| = 2.9628e+05\n",
      "t =  19.8 min  ||u|| = 3.2560e+04  ||eta|| = 2.9648e+05\n",
      "t =  20.0 min  ||u|| = 3.2973e+04  ||eta|| = 2.9667e+05\n",
      "t =  20.2 min  ||u|| = 3.3395e+04  ||eta|| = 2.9686e+05\n",
      "t =  20.5 min  ||u|| = 3.3826e+04  ||eta|| = 2.9702e+05\n",
      "t =  20.8 min  ||u|| = 3.4265e+04  ||eta|| = 2.9718e+05\n",
      "t =  21.0 min  ||u|| = 3.4713e+04  ||eta|| = 2.9731e+05\n",
      "t =  21.2 min  ||u|| = 3.5169e+04  ||eta|| = 2.9743e+05\n",
      "t =  21.5 min  ||u|| = 3.5633e+04  ||eta|| = 2.9753e+05\n",
      "t =  21.8 min  ||u|| = 3.6103e+04  ||eta|| = 2.9761e+05\n",
      "t =  22.0 min  ||u|| = 3.6579e+04  ||eta|| = 2.9767e+05\n",
      "t =  22.2 min  ||u|| = 3.7060e+04  ||eta|| = 2.9771e+05\n",
      "t =  22.5 min  ||u|| = 3.7545e+04  ||eta|| = 2.9773e+05\n",
      "t =  22.8 min  ||u|| = 3.8032e+04  ||eta|| = 2.9774e+05\n",
      "t =  23.0 min  ||u|| = 3.8521e+04  ||eta|| = 2.9772e+05\n",
      "t =  23.2 min  ||u|| = 3.9011e+04  ||eta|| = 2.9769e+05\n",
      "t =  23.5 min  ||u|| = 3.9499e+04  ||eta|| = 2.9765e+05\n",
      "t =  23.8 min  ||u|| = 3.9985e+04  ||eta|| = 2.9759e+05\n",
      "t =  24.0 min  ||u|| = 4.0466e+04  ||eta|| = 2.9753e+05\n",
      "t =  24.2 min  ||u|| = 4.0942e+04  ||eta|| = 2.9746e+05\n",
      "t =  24.5 min  ||u|| = 4.1411e+04  ||eta|| = 2.9739e+05\n",
      "t =  24.8 min  ||u|| = 4.1872e+04  ||eta|| = 2.9731e+05\n",
      "t =  25.0 min  ||u|| = 4.2321e+04  ||eta|| = 2.9724e+05\n",
      "t =  25.2 min  ||u|| = 4.2759e+04  ||eta|| = 2.9719e+05\n",
      "t =  25.5 min  ||u|| = 4.3183e+04  ||eta|| = 2.9714e+05\n",
      "t =  25.8 min  ||u|| = 4.3592e+04  ||eta|| = 2.9712e+05\n",
      "t =  26.0 min  ||u|| = 4.3986e+04  ||eta|| = 2.9712e+05\n",
      "t =  26.2 min  ||u|| = 4.4363e+04  ||eta|| = 2.9715e+05\n",
      "t =  26.5 min  ||u|| = 4.4724e+04  ||eta|| = 2.9722e+05\n",
      "t =  26.8 min  ||u|| = 4.5068e+04  ||eta|| = 2.9732e+05\n",
      "t =  27.0 min  ||u|| = 4.5397e+04  ||eta|| = 2.9746e+05\n",
      "t =  27.2 min  ||u|| = 4.5712e+04  ||eta|| = 2.9764e+05\n",
      "t =  27.5 min  ||u|| = 4.6016e+04  ||eta|| = 2.9787e+05\n",
      "t =  27.8 min  ||u|| = 4.6312e+04  ||eta|| = 2.9813e+05\n",
      "t =  28.0 min  ||u|| = 4.6601e+04  ||eta|| = 2.9842e+05\n",
      "t =  28.2 min  ||u|| = 4.6890e+04  ||eta|| = 2.9875e+05\n",
      "t =  28.5 min  ||u|| = 4.7182e+04  ||eta|| = 2.9910e+05\n",
      "t =  28.8 min  ||u|| = 4.7481e+04  ||eta|| = 2.9946e+05\n",
      "t =  29.0 min  ||u|| = 4.7792e+04  ||eta|| = 2.9982e+05\n",
      "t =  29.2 min  ||u|| = 4.8121e+04  ||eta|| = 3.0018e+05\n",
      "t =  29.5 min  ||u|| = 4.8471e+04  ||eta|| = 3.0053e+05\n",
      "t =  29.8 min  ||u|| = 4.8846e+04  ||eta|| = 3.0086e+05\n",
      "t =  30.0 min  ||u|| = 4.9250e+04  ||eta|| = 3.0117e+05\n"
     ]
    }
   ],
   "source": [
    "u_.assign(u0)\n",
    "eta_.project(m_opt*eta0)\n",
    "for gauge in gauges:\n",
    "    op.gauges[gauge][\"data\"].append(float(eta_.at(op.gauges[gauge][\"coords\"])))\n",
    "for i in range(num_timesteps):\n",
    "    print(f\"t = {i*op.dt/60:5.1f} min  ||u|| = {norm(u):.4e}  ||eta|| = {norm(eta):.4e}\")\n",
    "    solver.solve()\n",
    "    q_.assign(q)\n",
    "    for gauge in gauges:\n",
    "        op.gauges[gauge][\"data\"].append(float(eta.at(op.gauges[gauge][\"coords\"])))\n",
    "print(f\"t = {(i+1)*op.dt/60:5.1f} min  ||u|| = {norm(u):.4e}  ||eta|| = {norm(eta):.4e}\")"
   ]
  },
  {
   "cell_type": "markdown",
   "id": "e706af8c",
   "metadata": {},
   "source": [
    "Reduced functional"
   ]
  },
  {
   "cell_type": "code",
   "execution_count": 18,
   "id": "ab04ea61",
   "metadata": {},
   "outputs": [],
   "source": [
    "def rf(ctrl):\n",
    "    m.assign(ctrl[0])\n",
    "    OP.J = 0\n",
    "    u_.assign(u0)\n",
    "    eta_.project(m*eta0)\n",
    "    OP.solutions = [q_.copy(deepcopy=True)]\n",
    "    for i in range(num_timesteps):\n",
    "        solver.solve()\n",
    "        OP.solutions.append(q.copy(deepcopy=True))\n",
    "        for gauge in gauges:\n",
    "            op.gauges[gauge][\"obs\"].assign(op.gauges[gauge][\"data\"][i+1])\n",
    "            op.gauges[gauge][\"obs_old\"].assign(op.gauges[gauge][\"data\"][i])\n",
    "        OP.J = OP.J + assemble(J_form)\n",
    "        q_.assign(q)\n",
    "    return OP.J"
   ]
  },
  {
   "cell_type": "markdown",
   "id": "9086e727",
   "metadata": {},
   "source": [
    "Setup continuous adjoint variational problem and solver"
   ]
  },
  {
   "cell_type": "code",
   "execution_count": 19,
   "id": "d735e41c",
   "metadata": {},
   "outputs": [],
   "source": [
    "phi = TestFunction(V)\n",
    "cont_adj = Function(V)\n",
    "z, zeta = cont_adj.split()\n",
    "cont_adj_ = Function(V)\n",
    "z_, zeta_ = cont_adj_.split()\n",
    "a_star = adjoint(a)"
   ]
  },
  {
   "cell_type": "code",
   "execution_count": 20,
   "id": "dfb38e89",
   "metadata": {},
   "outputs": [],
   "source": [
    "w1 = Constant(1.0)\n",
    "w2 = Constant(0.0)\n",
    "L_star = replace(L, {test_u: z_, test_eta: zeta_, u_: test_u, eta_: test_eta})\n",
    "for gauge in gauges:\n",
    "    L_star += w1*theta*dt*op.gauges[gauge][\"indicator\"]*(eta - op.gauges[gauge][\"obs\"])*test_eta*dx\n",
    "    L_star += w2*(1-theta)*dt*op.gauges[gauge][\"indicator\"]*(eta - op.gauges[gauge][\"obs\"])*test_eta*dx"
   ]
  },
  {
   "cell_type": "code",
   "execution_count": 21,
   "id": "6302b5a8",
   "metadata": {},
   "outputs": [],
   "source": [
    "adj_problem = LinearVariationalProblem(a_star, L_star, cont_adj, bcs=bc)\n",
    "adj_solver = LinearVariationalSolver(adj_problem, solver_parameters=sp)"
   ]
  },
  {
   "cell_type": "code",
   "execution_count": 22,
   "id": "d067e469",
   "metadata": {},
   "outputs": [],
   "source": [
    "# adj_solver = NaiveSolver(a_star, L_star, cont_adj, bc, solver_parameters=sp)"
   ]
  },
  {
   "cell_type": "code",
   "execution_count": 23,
   "id": "5f1faedf",
   "metadata": {},
   "outputs": [],
   "source": [
    "gc = eta0*zeta*dx - (1-theta)*dt*g*inner(grad(eta0), z)*dx\n",
    "for gauge in gauges:\n",
    "    op.gauges[gauge]['obs0'] = Function(R).assign(op.gauges[gauge]['data'][0])\n",
    "    gc += dt*(1-theta)*op.gauges[gauge]['indicator']*(m*eta0 - op.gauges[gauge]['obs0'])*eta0*dx"
   ]
  },
  {
   "cell_type": "markdown",
   "id": "2f2f7e46",
   "metadata": {},
   "source": [
    "Function to evaluate gradient"
   ]
  },
  {
   "cell_type": "code",
   "execution_count": 24,
   "id": "70300e69",
   "metadata": {},
   "outputs": [],
   "source": [
    "def gradient(ctrl):\n",
    "    m.assign(ctrl[0])\n",
    "    OP.m = ctrl[0]\n",
    "    cont_adj_.assign(0.0)\n",
    "    w2.assign(0.0)\n",
    "    for i in range(num_timesteps-1, -1, -1):\n",
    "        if i == num_timesteps-2:\n",
    "            w2.assign(1.0)\n",
    "        for gauge in gauges:\n",
    "            op.gauges[gauge][\"obs\"].assign(op.gauges[gauge][\"data\"][i+1])\n",
    "            op.gauges[gauge][\"obs_old\"].assign(op.gauges[gauge][\"data\"][i])\n",
    "        q.assign(OP.solutions[i+1])\n",
    "        q_.assign(OP.solutions[i])\n",
    "        adj_solver.solve()\n",
    "        cont_adj_.assign(cont_adj)\n",
    "    OP.dJdm = assemble(gc)\n",
    "    return OP.dJdm"
   ]
  },
  {
   "cell_type": "code",
   "execution_count": 25,
   "id": "5b3e1e9e",
   "metadata": {},
   "outputs": [],
   "source": [
    "def cb(ctrl):\n",
    "    OP.ls_iteration += 1\n",
    "    print(f\"{OP.ls_iteration:4d}  {OP.m:7.4}  {OP.J:.8}  {OP.dJdm:.8}\")\n",
    "    OP.m_progress.append(OP.m)\n",
    "    OP.J_progress.append(OP.J)\n",
    "    OP.dJdm_progress.append(OP.dJdm)"
   ]
  },
  {
   "cell_type": "code",
   "execution_count": 26,
   "id": "e4478cd0",
   "metadata": {},
   "outputs": [
    {
     "name": "stdout",
     "output_type": "stream",
     "text": [
      "   1     8.99  3901.0899  1786.1037\n",
      "   2    6.697  956.175  782.95454\n",
      "   3    4.908  255.67785  1.9804559e-05\n",
      "   4    4.908  255.67785  9.0280433e-06\n",
      "Optimization terminated successfully.\n",
      "         Current function value: 255.677847\n",
      "         Iterations: 4\n",
      "         Function evaluations: 5\n",
      "         Gradient evaluations: 5\n",
      "CPU time: 1091.203s, 5 function evaluations, 5 gradient evaluations, 4 line searches\n"
     ]
    }
   ],
   "source": [
    "OP.__init__()\n",
    "with Timer() as t:\n",
    "    out = so.fmin_bfgs(rf, 10.0, fprime=gradient, callback=cb, full_output=True)\n",
    "m_opt, J_opt, dJdm_opt, B_opt, feval, geval, warn = out\n",
    "print(f\"CPU time: {t}s, {feval} function evaluations, {geval} gradient evaluations, {OP.ls_iteration} line searches\")"
   ]
  },
  {
   "cell_type": "code",
   "execution_count": 27,
   "id": "7282fa96",
   "metadata": {},
   "outputs": [
    {
     "name": "stdout",
     "output_type": "stream",
     "text": [
      "Approximate Hessian: 437.5591\n"
     ]
    }
   ],
   "source": [
    "print(f\"Approximate Hessian: {1/B_opt[0][0]:.4f}\")"
   ]
  },
  {
   "cell_type": "markdown",
   "id": "58c0adc4",
   "metadata": {},
   "source": [
    "## Performance\n",
    "\n",
    "`solve` (Naive)\n",
    "\n",
    "|      Mesh      | feval | geval | LS |   Run 1   |   Run 2   |   Run 3   |   Run 4   |  Average  |\n",
    "| -------------- | ----- | ----- | -- | --------- | --------- | --------- | --------- | --------- |\n",
    "| $\\mathcal H_0$ |   4   |   4   |  3 |   21.916  |   25.966  |   22.355  |   21.973  |   23.053  |\n",
    "| $\\mathcal H_1$ |   5   |   5   |  4 |  148.415  |  153.655  |  154.318  |  150.071  |  151.610  |\n",
    "| $\\mathcal H_2$ |   5   |   5   |  4 | 1154.650  | 1123.264  | 1074.954  | 1091.203  | 1111.000  |\n",
    "\n",
    "`LinearVariationalSolver`\n",
    "\n",
    "|      Mesh      | feval | geval | LS |   Run 1   |   Run 2   |   Run 3   |   Run 4   |  Average  |\n",
    "| -------------- | ----- | ----- | -- | --------- | --------- | --------- | --------- | --------- |\n",
    "| $\\mathcal H_0$ |   4   |   4   |  3 |   11.700  |   10.244  |   10.131  |   10.140  |   10.554  |\n",
    "| $\\mathcal H_1$ |   5   |   5   |  4 |   84.672  |   81.813  |   81.788  |   82.015  |   82.572  |\n",
    "| $\\mathcal H_2$ |   5   |   5   |  4 |  623.400  |  627.681  |  616.115  |  618.146  |  633.840|"
   ]
  },
  {
   "cell_type": "code",
   "execution_count": 28,
   "id": "7fabd17f",
   "metadata": {},
   "outputs": [
    {
     "name": "stdout",
     "output_type": "stream",
     "text": [
      "Minimiser of quadratic: 4.9080\n",
      "Exact Hessian: 437.5592\n"
     ]
    }
   ],
   "source": [
    "l = si.lagrange(OP.m_progress[:3], OP.J_progress[:3])\n",
    "dl = l.deriv()\n",
    "l_min = -dl.coefficients[1]/dl.coefficients[0]\n",
    "print(f\"Minimiser of quadratic: {l_min:.4f}\")\n",
    "print(f\"Exact Hessian: {dl.coefficients[0]:.4f}\")"
   ]
  },
  {
   "cell_type": "markdown",
   "id": "cce8e5a3",
   "metadata": {},
   "source": [
    "Plot progress of optimisation"
   ]
  },
  {
   "cell_type": "code",
   "execution_count": 29,
   "id": "4363dbd3",
   "metadata": {},
   "outputs": [
    {
     "data": {
      "image/png": "[encoded data removed]",
      "text/plain": [
       "<Figure size 576x576 with 1 Axes>"
      ]
     },
     "metadata": {
      "needs_background": "light"
     },
     "output_type": "display_data"
    }
   ],
   "source": [
    "fig, axes = plt.subplots(figsize=(8, 8))\n",
    "xx = np.linspace(2, 10, 100)\n",
    "axes.plot(xx, l(xx), ':', color='C0')\n",
    "axes.plot(l_min, l(l_min), '*', markersize=14, color='C0', label=r\"$m^\\star={:.4f}$\".format(l_min))\n",
    "\n",
    "delta_m = 0.25\n",
    "for i, (mi, fi, gi) in enumerate(zip(OP.m_progress, OP.J_progress, OP.dJdm_progress)):\n",
    "    x = np.array([mi - delta_m, mi + delta_m])\n",
    "    axes.plot(x, gi*(x - mi) + fi, '-', color='C2', linewidth=5)\n",
    "axes.plot(OP.m_progress, OP.J_progress, 'o', color='C1', markersize=8)\n",
    "\n",
    "axes.set_xlabel(\"Control parameter\")\n",
    "axes.set_ylabel(\"Quantity of Interest\")\n",
    "axes.grid(True)\n",
    "axes.legend()\n",
    "plt.tight_layout()\n",
    "plt.savefig(f\"plots/tohoku1d_inversion_continuous_{level}.pdf\")"
   ]
  },
  {
   "cell_type": "markdown",
   "id": "42bc0690",
   "metadata": {},
   "source": [
    "Minimisers for $\\theta=\\frac12$: 4.0913, 4.5619, 4.9080."
   ]
  }
 ],
 "metadata": {
  "kernelspec": {
   "display_name": "Python 3",
   "language": "python",
   "name": "python3"
  },
  "language_info": {
   "codemirror_mode": {
    "name": "ipython",
    "version": 3
   },
   "file_extension": ".py",
   "mimetype": "text/x-python",
   "name": "python",
   "nbconvert_exporter": "python",
   "pygments_lexer": "ipython3",
   "version": "3.8.5"
  }
 },
 "nbformat": 4,
 "nbformat_minor": 5
}
