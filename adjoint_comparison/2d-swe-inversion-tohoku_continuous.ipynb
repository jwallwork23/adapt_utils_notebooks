{
 "cells": [
  {
   "cell_type": "code",
   "execution_count": 1,
   "id": "4a47b9bd",
   "metadata": {},
   "outputs": [],
   "source": [
    "from firedrake import *"
   ]
  },
  {
   "cell_type": "code",
   "execution_count": 2,
   "id": "6ec62508",
   "metadata": {},
   "outputs": [],
   "source": [
    "from contexttimer import Timer\n",
    "import matplotlib.pyplot as plt\n",
    "import scipy.interpolate as si\n",
    "import scipy.optimize as so"
   ]
  },
  {
   "cell_type": "code",
   "execution_count": 3,
   "id": "5efb943e",
   "metadata": {},
   "outputs": [],
   "source": [
    "from adapt_utils.case_studies.tohoku.options.options import TohokuInversionOptions\n",
    "from adapt_utils.misc import gaussian, ellipse"
   ]
  },
  {
   "cell_type": "code",
   "execution_count": 4,
   "id": "2dcb0f23",
   "metadata": {},
   "outputs": [],
   "source": [
    "class OptimisationProgress(object):\n",
    "    def __init__(self):\n",
    "        self.m_progress = []\n",
    "        self.J_progress = []\n",
    "        self.dJdm_progress = []\n",
    "        self.ls_iteration = 0\n",
    "        self.feval = 0\n",
    "        self.geval = 0"
   ]
  },
  {
   "cell_type": "code",
   "execution_count": 5,
   "id": "f574b9d6",
   "metadata": {},
   "outputs": [],
   "source": [
    "OP = OptimisationProgress()"
   ]
  },
  {
   "cell_type": "markdown",
   "id": "ddc9c884",
   "metadata": {},
   "source": [
    "Specify 'optimum' and initial guess"
   ]
  },
  {
   "cell_type": "code",
   "execution_count": 6,
   "id": "04cacd0c",
   "metadata": {},
   "outputs": [],
   "source": [
    "m_opt = 5.0\n",
    "m_prior = 10.0"
   ]
  },
  {
   "cell_type": "markdown",
   "id": "7224727e",
   "metadata": {},
   "source": [
    "Create `Options` object and setup gauges."
   ]
  },
  {
   "cell_type": "code",
   "execution_count": 7,
   "id": "757fa14a",
   "metadata": {},
   "outputs": [
    {
     "name": "stderr",
     "output_type": "stream",
     "text": [
      "/home/joe/software/firedrake-pragmatic/src/firedrake/firedrake/parloops.py:130: LoopyWarning: 'lang_version' was not passed to make_function(). To avoid this warning, pass lang_version=(2018, 2) in this invocation. (Or say 'from loopy.version import LOOPY_USE_LANGUAGE_VERSION_2018_2' in the global scope of the calling frame.)\n",
      "  knl = loopy.make_function(kernel_domains, instructions, kargs, seq_dependencies=True,\n"
     ]
    }
   ],
   "source": [
    "level = 0\n",
    "op = TohokuInversionOptions(level=level)\n",
    "gauges = list(op.gauges.keys())\n",
    "for gauge in gauges:\n",
    "    if gauge[:2] not in ('P0', '80'):\n",
    "        op.gauges.pop(gauge)\n",
    "gauges = list(op.gauges.keys())"
   ]
  },
  {
   "cell_type": "markdown",
   "id": "98e28d8f",
   "metadata": {},
   "source": [
    "Setup timestepping parameters"
   ]
  },
  {
   "cell_type": "code",
   "execution_count": 8,
   "id": "0367f361",
   "metadata": {},
   "outputs": [],
   "source": [
    "num_timesteps = 30\n",
    "dt = Constant(op.dt)\n",
    "theta = Constant(0.5)"
   ]
  },
  {
   "cell_type": "markdown",
   "id": "7fb5a51f",
   "metadata": {},
   "source": [
    "Create function spaces"
   ]
  },
  {
   "cell_type": "code",
   "execution_count": 9,
   "id": "11c74113",
   "metadata": {},
   "outputs": [],
   "source": [
    "mesh = op.default_mesh\n",
    "P2 = VectorFunctionSpace(mesh, \"CG\", 1)\n",
    "P1 = FunctionSpace(mesh, \"CG\", 1)\n",
    "V = P2*P1\n",
    "R = FunctionSpace(mesh, \"R\", 0)"
   ]
  },
  {
   "cell_type": "markdown",
   "id": "dec7b03a",
   "metadata": {},
   "source": [
    "Create `Function`s"
   ]
  },
  {
   "cell_type": "code",
   "execution_count": 10,
   "id": "74fcd334",
   "metadata": {},
   "outputs": [],
   "source": [
    "u, eta = TrialFunctions(V)\n",
    "test_u, test_eta = TestFunctions(V)\n",
    "m = Function(R).assign(m_prior)\n",
    "q0 = Function(V)\n",
    "u0, eta0 = q0.split()\n",
    "eta0.interpolate(gaussian([(0.7e+06, 4.2e+06, 48e+03, 96e+03)], mesh, rotation=pi/12))\n",
    "q_ = Function(V)\n",
    "u_, eta_ = q_.split();"
   ]
  },
  {
   "cell_type": "markdown",
   "id": "fe3b2f2e",
   "metadata": {},
   "source": [
    "Set physical parameters"
   ]
  },
  {
   "cell_type": "code",
   "execution_count": 11,
   "id": "b1a9b265",
   "metadata": {},
   "outputs": [],
   "source": [
    "b = Function(P1).assign(op.set_bathymetry(P1))\n",
    "g = Constant(9.81)"
   ]
  },
  {
   "cell_type": "markdown",
   "id": "0e9caae5",
   "metadata": {},
   "source": [
    "Setup forward variational problem"
   ]
  },
  {
   "cell_type": "code",
   "execution_count": 12,
   "id": "481827b1",
   "metadata": {},
   "outputs": [],
   "source": [
    "a = inner(u, test_u)*dx + eta*test_eta*dx\n",
    "a += theta*dt*g*inner(grad(eta), test_u)*dx - theta*dt*b*inner(u, grad(test_eta))*dx\n",
    "L = inner(u_, test_u)*dx + eta_*test_eta*dx\n",
    "L += -(1-theta)*dt*g*inner(grad(eta_), test_u)*dx + (1-theta)*dt*b*inner(u_, grad(test_eta))*dx\n",
    "q = Function(V)\n",
    "u, eta = q.split()\n",
    "bc = DirichletBC(V.sub(1), 0, 100)\n",
    "problem = LinearVariationalProblem(a, L, q, bcs=bc)"
   ]
  },
  {
   "cell_type": "markdown",
   "id": "dd1efa70",
   "metadata": {},
   "source": [
    "Setup forward variational solver"
   ]
  },
  {
   "cell_type": "code",
   "execution_count": 13,
   "id": "b8e494b5",
   "metadata": {},
   "outputs": [],
   "source": [
    "sp = {\n",
    "    \"snes_type\": \"ksponly\",\n",
    "    \"ksp_type\": \"gmres\",\n",
    "    \"pc_type\": \"fieldsplit\",\n",
    "    \"pc_fieldsplit_type\": \"multiplicative\",\n",
    "}\n",
    "solver = LinearVariationalSolver(problem, solver_parameters=sp)"
   ]
  },
  {
   "cell_type": "markdown",
   "id": "236a87a7",
   "metadata": {},
   "source": [
    "Setup QoI"
   ]
  },
  {
   "cell_type": "code",
   "execution_count": 14,
   "id": "9cc5ba39",
   "metadata": {},
   "outputs": [],
   "source": [
    "P0 = FunctionSpace(mesh, \"DG\", 0)\n",
    "J_form = 0\n",
    "radius = 20e+03*0.5**level\n",
    "for gauge in gauges:\n",
    "    op.gauges[gauge][\"data\"] = []\n",
    "    k = Function(P0*P0)\n",
    "    ku, keta = k.split()\n",
    "    keta.interpolate(ellipse([op.gauges[gauge][\"coords\"] + (radius,)], mesh))\n",
    "    keta.assign(keta/assemble(keta*dx))\n",
    "    op.gauges[gauge][\"indicator\"] = keta\n",
    "    op.gauges[gauge][\"obs\"] = Function(R)\n",
    "    op.gauges[gauge][\"obs_old\"] = Function(R)\n",
    "    J_form += theta*0.5*dt*keta*(eta - op.gauges[gauge][\"obs\"])**2*dx\n",
    "    J_form += (1-theta)*0.5*dt*keta*(eta_ - op.gauges[gauge][\"obs_old\"])**2*dx"
   ]
  },
  {
   "cell_type": "markdown",
   "id": "79a6d743",
   "metadata": {},
   "source": [
    "Solve forward to generate 'data'"
   ]
  },
  {
   "cell_type": "code",
   "execution_count": 15,
   "id": "a8cd0253",
   "metadata": {},
   "outputs": [
    {
     "name": "stdout",
     "output_type": "stream",
     "text": [
      "t =   0.0 min  ||u|| = 0.0000e+00  ||eta|| = 0.0000e+00\n",
      "t =   1.0 min  ||u|| = 5.2975e+03  ||eta|| = 4.0166e+05\n",
      "t =   2.0 min  ||u|| = 9.9006e+03  ||eta|| = 3.6750e+05\n",
      "t =   3.0 min  ||u|| = 1.3447e+04  ||eta|| = 3.2741e+05\n",
      "t =   4.0 min  ||u|| = 1.5945e+04  ||eta|| = 2.9399e+05\n",
      "t =   5.0 min  ||u|| = 1.7591e+04  ||eta|| = 2.7287e+05\n",
      "t =   6.0 min  ||u|| = 1.8619e+04  ||eta|| = 2.6383e+05\n",
      "t =   7.0 min  ||u|| = 1.9256e+04  ||eta|| = 2.6336e+05\n",
      "t =   8.0 min  ||u|| = 1.9689e+04  ||eta|| = 2.6755e+05\n",
      "t =   9.0 min  ||u|| = 2.0066e+04  ||eta|| = 2.7331e+05\n",
      "t =  10.0 min  ||u|| = 2.0495e+04  ||eta|| = 2.7878e+05\n",
      "t =  11.0 min  ||u|| = 2.1033e+04  ||eta|| = 2.8348e+05\n",
      "t =  12.0 min  ||u|| = 2.1702e+04  ||eta|| = 2.8719e+05\n",
      "t =  13.0 min  ||u|| = 2.2506e+04  ||eta|| = 2.8959e+05\n",
      "t =  14.0 min  ||u|| = 2.3413e+04  ||eta|| = 2.9162e+05\n",
      "t =  15.0 min  ||u|| = 2.4402e+04  ||eta|| = 2.9433e+05\n",
      "t =  16.0 min  ||u|| = 2.5498e+04  ||eta|| = 2.9657e+05\n",
      "t =  17.0 min  ||u|| = 2.6723e+04  ||eta|| = 2.9679e+05\n",
      "t =  18.0 min  ||u|| = 2.8035e+04  ||eta|| = 2.9616e+05\n",
      "t =  19.0 min  ||u|| = 2.9379e+04  ||eta|| = 2.9693e+05\n",
      "t =  20.0 min  ||u|| = 3.0766e+04  ||eta|| = 2.9889e+05\n",
      "t =  21.0 min  ||u|| = 3.2253e+04  ||eta|| = 3.0007e+05\n",
      "t =  22.0 min  ||u|| = 3.3856e+04  ||eta|| = 3.0003e+05\n",
      "t =  23.0 min  ||u|| = 3.5515e+04  ||eta|| = 3.0018e+05\n",
      "t =  24.0 min  ||u|| = 3.7133e+04  ||eta|| = 3.0148e+05\n",
      "t =  25.0 min  ||u|| = 3.8628e+04  ||eta|| = 3.0330e+05\n",
      "t =  26.0 min  ||u|| = 3.9975e+04  ||eta|| = 3.0467e+05\n",
      "t =  27.0 min  ||u|| = 4.1212e+04  ||eta|| = 3.0560e+05\n",
      "t =  28.0 min  ||u|| = 4.2446e+04  ||eta|| = 3.0673e+05\n",
      "t =  29.0 min  ||u|| = 4.3812e+04  ||eta|| = 3.0836e+05\n",
      "t =  30.0 min  ||u|| = 4.5433e+04  ||eta|| = 3.1014e+05\n"
     ]
    }
   ],
   "source": [
    "u_.assign(u0)\n",
    "eta_.project(m_opt*eta0)\n",
    "for gauge in gauges:\n",
    "    op.gauges[gauge][\"data\"].append(float(eta_.at(op.gauges[gauge][\"coords\"])))\n",
    "for i in range(num_timesteps):\n",
    "    print(f\"t = {i*op.dt/60:5.1f} min  ||u|| = {norm(u):.4e}  ||eta|| = {norm(eta):.4e}\")\n",
    "    solver.solve()\n",
    "    q_.assign(q)\n",
    "    for gauge in gauges:\n",
    "        op.gauges[gauge][\"data\"].append(float(eta.at(op.gauges[gauge][\"coords\"])))\n",
    "print(f\"t = {(i+1)*op.dt/60:5.1f} min  ||u|| = {norm(u):.4e}  ||eta|| = {norm(eta):.4e}\")"
   ]
  },
  {
   "cell_type": "markdown",
   "id": "e706af8c",
   "metadata": {},
   "source": [
    "Reduced functional"
   ]
  },
  {
   "cell_type": "code",
   "execution_count": 16,
   "id": "ab04ea61",
   "metadata": {},
   "outputs": [],
   "source": [
    "def rf(ctrl):\n",
    "    m.assign(ctrl[0])\n",
    "    OP.J = 0\n",
    "    u_.assign(u0)\n",
    "    eta_.project(m*eta0)\n",
    "    OP.solutions = [q_.copy(deepcopy=True)]\n",
    "    for i in range(num_timesteps):\n",
    "        solver.solve()\n",
    "        OP.solutions.append(q.copy(deepcopy=True))\n",
    "        for gauge in gauges:\n",
    "            op.gauges[gauge][\"obs\"].assign(op.gauges[gauge][\"data\"][i+1])\n",
    "            op.gauges[gauge][\"obs_old\"].assign(op.gauges[gauge][\"data\"][i])\n",
    "        OP.J = OP.J + assemble(J_form)\n",
    "        q_.assign(q)\n",
    "    return OP.J"
   ]
  },
  {
   "cell_type": "markdown",
   "id": "9086e727",
   "metadata": {},
   "source": [
    "Setup continuous adjoint variational problem and solver"
   ]
  },
  {
   "cell_type": "code",
   "execution_count": 17,
   "id": "d735e41c",
   "metadata": {},
   "outputs": [],
   "source": [
    "phi = TestFunction(V)\n",
    "cont_adj = Function(V)\n",
    "z, zeta = cont_adj.split()\n",
    "cont_adj_ = Function(V)\n",
    "z_, zeta_ = cont_adj_.split()\n",
    "a_star = adjoint(a)"
   ]
  },
  {
   "cell_type": "code",
   "execution_count": 18,
   "id": "dfb38e89",
   "metadata": {},
   "outputs": [],
   "source": [
    "w1 = Constant(1.0)\n",
    "w2 = Constant(0.0)\n",
    "L_star = replace(L, {test_u: z_, test_eta: zeta_, u_: test_u, eta_: test_eta})\n",
    "for gauge in gauges:\n",
    "    L_star += w1*theta*dt*op.gauges[gauge][\"indicator\"]*(eta - op.gauges[gauge][\"obs\"])*test_eta*dx\n",
    "    L_star += w2*(1-theta)*dt*op.gauges[gauge][\"indicator\"]*(eta - op.gauges[gauge][\"obs\"])*test_eta*dx"
   ]
  },
  {
   "cell_type": "code",
   "execution_count": 19,
   "id": "6302b5a8",
   "metadata": {},
   "outputs": [],
   "source": [
    "adj_problem = LinearVariationalProblem(a_star, L_star, cont_adj, bcs=bc)\n",
    "adj_solver = LinearVariationalSolver(adj_problem, solver_parameters=sp)"
   ]
  },
  {
   "cell_type": "code",
   "execution_count": 20,
   "id": "83c696fa",
   "metadata": {},
   "outputs": [],
   "source": [
    "gc = eta0*zeta*dx - (1-theta)*dt*g*inner(grad(eta0), z)*dx\n",
    "for gauge in gauges:\n",
    "    op.gauges[gauge]['obs0'] = Function(R).assign(op.gauges[gauge]['data'][0])\n",
    "    gc += dt*(1-theta)*op.gauges[gauge]['indicator']*(m*eta0 - op.gauges[gauge]['obs0'])*eta0*dx"
   ]
  },
  {
   "cell_type": "markdown",
   "id": "2f2f7e46",
   "metadata": {},
   "source": [
    "Function to evaluate gradient"
   ]
  },
  {
   "cell_type": "code",
   "execution_count": 21,
   "id": "70300e69",
   "metadata": {},
   "outputs": [],
   "source": [
    "def gradient(ctrl):\n",
    "    m.assign(ctrl[0])\n",
    "    OP.m = ctrl[0]\n",
    "    cont_adj_.assign(0.0)\n",
    "    w2.assign(0.0)\n",
    "    for i in range(num_timesteps-1, -1, -1):\n",
    "        if i == num_timesteps-2:\n",
    "            w2.assign(1.0)\n",
    "        for gauge in gauges:\n",
    "            op.gauges[gauge][\"obs\"].assign(op.gauges[gauge][\"data\"][i+1])\n",
    "            op.gauges[gauge][\"obs_old\"].assign(op.gauges[gauge][\"data\"][i])\n",
    "        q.assign(OP.solutions[i+1])\n",
    "        q_.assign(OP.solutions[i])\n",
    "        adj_solver.solve()\n",
    "        cont_adj_.assign(cont_adj)\n",
    "    OP.dJdm = assemble(gc)\n",
    "    return OP.dJdm"
   ]
  },
  {
   "cell_type": "code",
   "execution_count": 22,
   "id": "1839a400",
   "metadata": {},
   "outputs": [],
   "source": [
    "def cb(ctrl):\n",
    "    OP.ls_iteration += 1\n",
    "    print(f\"{OP.ls_iteration:4d}  {OP.m:7.4}  {OP.J:.8}  {OP.dJdm:.8}\")\n",
    "    OP.m_progress.append(OP.m)\n",
    "    OP.J_progress.append(OP.J)\n",
    "    OP.dJdm_progress.append(OP.dJdm)"
   ]
  },
  {
   "cell_type": "code",
   "execution_count": 23,
   "id": "22ca6161",
   "metadata": {},
   "outputs": [
    {
     "name": "stdout",
     "output_type": "stream",
     "text": [
      "   1     8.99  6041.5815  1775.2002\n",
      "   2    6.739  2964.1631  959.64811\n",
      "   3    4.091  1693.5139  7.5182133e-06\n",
      "Optimization terminated successfully.\n",
      "         Current function value: 1693.513946\n",
      "         Iterations: 3\n",
      "         Function evaluations: 4\n",
      "         Gradient evaluations: 4\n",
      "CPU time: 10.140s, 4 function evaluations, 4 gradient evaluations, 3 line searches\n"
     ]
    }
   ],
   "source": [
    "OP.__init__()\n",
    "with Timer() as t:\n",
    "    out = so.fmin_bfgs(rf, 10.0, fprime=gradient, callback=cb, full_output=True)\n",
    "m_opt, J_opt, dJdm_opt, B_opt, feval, geval, warn = out\n",
    "print(f\"CPU time: {t}s, {feval} function evaluations, {geval} gradient evaluations, {OP.ls_iteration} line searches\")"
   ]
  },
  {
   "cell_type": "markdown",
   "id": "45ac154f",
   "metadata": {},
   "source": [
    "## Performance\n",
    "\n",
    "|      Mesh      | feval | geval | LS |   Run 1   |   Run 2   |   Run 3   |   Run 4   |  Average  | Reduction |\n",
    "| -------------- | ----- | ----- | -- | --------- | --------- | --------- | --------- | --------- | --------- |\n",
    "| $\\mathcal H_0$ |   4   |   4   |  3 |   11.700  |   10.244  |   10.131  |   10.140  |   10.554  |  74%      |\n",
    "| $\\mathcal H_1$ |   4   |   4   |  3 |   31.295  |   29.674  |   29.803  |   29.967  |   30.185  |  53%      |\n",
    "| $\\mathcal H_2$ |   4   |   4   |  3 |  113.946  |  113.074  |  112.513  |  112.632  |  113.040  |  41%      |"
   ]
  },
  {
   "cell_type": "code",
   "execution_count": 24,
   "id": "a83b72e0",
   "metadata": {},
   "outputs": [
    {
     "name": "stdout",
     "output_type": "stream",
     "text": [
      "Minimiser of quadratic: 4.0913\n"
     ]
    }
   ],
   "source": [
    "l = si.lagrange(OP.m_progress[:3], OP.J_progress[:3])\n",
    "dl = l.deriv()\n",
    "l_min = -dl.coefficients[1]/dl.coefficients[0]\n",
    "print(\"Minimiser of quadratic: {:.4f}\".format(l_min))"
   ]
  },
  {
   "cell_type": "markdown",
   "id": "37b1b850",
   "metadata": {},
   "source": [
    "Plot progress of optimisation"
   ]
  },
  {
   "cell_type": "code",
   "execution_count": 25,
   "id": "7d7194b4",
   "metadata": {},
   "outputs": [
    {
     "data": {
      "image/png": "[encoded data removed]",
      "text/plain": [
       "<Figure size 576x576 with 1 Axes>"
      ]
     },
     "metadata": {
      "needs_background": "light"
     },
     "output_type": "display_data"
    }
   ],
   "source": [
    "fig, axes = plt.subplots(figsize=(8, 8))\n",
    "xx = np.linspace(2, 10, 100)\n",
    "axes.plot(xx, l(xx), ':', color='C0')\n",
    "axes.plot(l_min, l(l_min), '*', markersize=14, color='C0', label=r\"$m^\\star={:.4f}$\".format(l_min))\n",
    "\n",
    "delta_m = 0.25\n",
    "for i, (mi, fi, gi) in enumerate(zip(OP.m_progress, OP.J_progress, OP.dJdm_progress)):\n",
    "    x = np.array([mi - delta_m, mi + delta_m])\n",
    "    axes.plot(x, gi*(x - mi) + fi, '-', color='C2', linewidth=5)\n",
    "axes.plot(OP.m_progress, OP.J_progress, 'o', color='C1', markersize=8)\n",
    "\n",
    "axes.set_xlabel(\"Control parameter\")\n",
    "axes.set_ylabel(\"Quantity of Interest\")\n",
    "axes.grid(True)\n",
    "axes.legend();\n",
    "plt.savefig(f\"plots/tohoku1d_inversion_continuous_{level}.pdf\")"
   ]
  },
  {
   "cell_type": "markdown",
   "id": "6d814405",
   "metadata": {},
   "source": [
    "Minimisers for $\\theta=\\frac12$: 4.0913, 4.7927, 4.9221."
   ]
  }
 ],
 "metadata": {
  "kernelspec": {
   "display_name": "Python 3",
   "language": "python",
   "name": "python3"
  },
  "language_info": {
   "codemirror_mode": {
    "name": "ipython",
    "version": 3
   },
   "file_extension": ".py",
   "mimetype": "text/x-python",
   "name": "python",
   "nbconvert_exporter": "python",
   "pygments_lexer": "ipython3",
   "version": "3.8.5"
  }
 },
 "nbformat": 4,
 "nbformat_minor": 5
}
