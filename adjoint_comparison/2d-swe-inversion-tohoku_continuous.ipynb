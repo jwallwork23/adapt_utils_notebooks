{
 "cells": [
  {
   "cell_type": "code",
   "execution_count": 1,
   "id": "4a47b9bd",
   "metadata": {},
   "outputs": [],
   "source": [
    "from firedrake import *"
   ]
  },
  {
   "cell_type": "code",
   "execution_count": 2,
   "id": "6ec62508",
   "metadata": {},
   "outputs": [],
   "source": [
    "from contexttimer import Timer\n",
    "import matplotlib.pyplot as plt\n",
    "import scipy.interpolate as si\n",
    "import scipy.optimize as so"
   ]
  },
  {
   "cell_type": "code",
   "execution_count": 3,
   "id": "5efb943e",
   "metadata": {},
   "outputs": [],
   "source": [
    "from adapt_utils.case_studies.tohoku.options.options import TohokuInversionOptions\n",
    "from adapt_utils.misc import gaussian, ellipse"
   ]
  },
  {
   "cell_type": "code",
   "execution_count": 4,
   "id": "700bf84a",
   "metadata": {},
   "outputs": [],
   "source": [
    "class OptimisationProgress(object):\n",
    "    def __init__(self):\n",
    "        self.m_progress = []\n",
    "        self.J_progress = []\n",
    "        self.dJdm_progress = []\n",
    "        self.ls_iteration = 0\n",
    "        self.feval = 0\n",
    "        self.geval = 0"
   ]
  },
  {
   "cell_type": "code",
   "execution_count": 5,
   "id": "286b9b73",
   "metadata": {},
   "outputs": [],
   "source": [
    "OP = OptimisationProgress()"
   ]
  },
  {
   "cell_type": "markdown",
   "id": "ddc9c884",
   "metadata": {},
   "source": [
    "Specify 'optimum' and initial guess"
   ]
  },
  {
   "cell_type": "code",
   "execution_count": 6,
   "id": "04cacd0c",
   "metadata": {},
   "outputs": [],
   "source": [
    "m_opt = 5.0\n",
    "m_prior = 10.0"
   ]
  },
  {
   "cell_type": "markdown",
   "id": "7224727e",
   "metadata": {},
   "source": [
    "Create `Options` object and setup gauges."
   ]
  },
  {
   "cell_type": "code",
   "execution_count": 7,
   "id": "757fa14a",
   "metadata": {},
   "outputs": [
    {
     "name": "stderr",
     "output_type": "stream",
     "text": [
      "/home/joe/software/firedrake-pragmatic/src/firedrake/firedrake/parloops.py:130: LoopyWarning: 'lang_version' was not passed to make_function(). To avoid this warning, pass lang_version=(2018, 2) in this invocation. (Or say 'from loopy.version import LOOPY_USE_LANGUAGE_VERSION_2018_2' in the global scope of the calling frame.)\n",
      "  knl = loopy.make_function(kernel_domains, instructions, kargs, seq_dependencies=True,\n"
     ]
    }
   ],
   "source": [
    "level = 1\n",
    "op = TohokuInversionOptions(level=level)\n",
    "gauges = list(op.gauges.keys())\n",
    "for gauge in gauges:\n",
    "    if gauge[:2] not in ('P0', '80'):\n",
    "        op.gauges.pop(gauge)\n",
    "gauges = list(op.gauges.keys())"
   ]
  },
  {
   "cell_type": "markdown",
   "id": "98e28d8f",
   "metadata": {},
   "source": [
    "Setup timestepping parameters"
   ]
  },
  {
   "cell_type": "code",
   "execution_count": 8,
   "id": "0367f361",
   "metadata": {},
   "outputs": [],
   "source": [
    "num_timesteps = 30*2**level\n",
    "dt = Constant(op.dt)\n",
    "theta = Constant(0.5)"
   ]
  },
  {
   "cell_type": "markdown",
   "id": "7fb5a51f",
   "metadata": {},
   "source": [
    "Create function spaces"
   ]
  },
  {
   "cell_type": "code",
   "execution_count": 9,
   "id": "11c74113",
   "metadata": {},
   "outputs": [],
   "source": [
    "mesh = op.default_mesh\n",
    "P2 = VectorFunctionSpace(mesh, \"CG\", 1)\n",
    "P1 = FunctionSpace(mesh, \"CG\", 1)\n",
    "V = P2*P1\n",
    "R = FunctionSpace(mesh, \"R\", 0)"
   ]
  },
  {
   "cell_type": "markdown",
   "id": "dec7b03a",
   "metadata": {},
   "source": [
    "Create `Function`s"
   ]
  },
  {
   "cell_type": "code",
   "execution_count": 10,
   "id": "74fcd334",
   "metadata": {},
   "outputs": [],
   "source": [
    "u, eta = TrialFunctions(V)\n",
    "test_u, test_eta = TestFunctions(V)\n",
    "m = Function(R).assign(m_prior)\n",
    "q0 = Function(V)\n",
    "u0, eta0 = q0.split()\n",
    "eta0.interpolate(gaussian([(0.7e+06, 4.2e+06, 48e+03, 96e+03)], mesh, rotation=pi/12))\n",
    "q_ = Function(V)\n",
    "u_, eta_ = q_.split();"
   ]
  },
  {
   "cell_type": "markdown",
   "id": "fe3b2f2e",
   "metadata": {},
   "source": [
    "Set physical parameters"
   ]
  },
  {
   "cell_type": "code",
   "execution_count": 11,
   "id": "b1a9b265",
   "metadata": {},
   "outputs": [],
   "source": [
    "b = Function(P1).assign(op.set_bathymetry(P1))\n",
    "g = Constant(9.81)"
   ]
  },
  {
   "cell_type": "markdown",
   "id": "0e9caae5",
   "metadata": {},
   "source": [
    "Setup forward variational problem"
   ]
  },
  {
   "cell_type": "code",
   "execution_count": 12,
   "id": "481827b1",
   "metadata": {},
   "outputs": [],
   "source": [
    "a = inner(u, test_u)*dx + eta*test_eta*dx\n",
    "a += theta*dt*g*inner(grad(eta), test_u)*dx - theta*dt*b*inner(u, grad(test_eta))*dx\n",
    "L = inner(u_, test_u)*dx + eta_*test_eta*dx\n",
    "L += -(1-theta)*dt*g*inner(grad(eta_), test_u)*dx + (1-theta)*dt*b*inner(u_, grad(test_eta))*dx\n",
    "q = Function(V)\n",
    "u, eta = q.split()\n",
    "bc = DirichletBC(V.sub(1), 0, 100)\n",
    "problem = LinearVariationalProblem(a, L, q, bcs=bc)"
   ]
  },
  {
   "cell_type": "markdown",
   "id": "dd1efa70",
   "metadata": {},
   "source": [
    "Setup forward variational solver"
   ]
  },
  {
   "cell_type": "code",
   "execution_count": 13,
   "id": "b8e494b5",
   "metadata": {},
   "outputs": [],
   "source": [
    "sp = {\n",
    "    \"snes_type\": \"ksponly\",\n",
    "    \"ksp_type\": \"gmres\",\n",
    "    \"pc_type\": \"fieldsplit\",\n",
    "    \"pc_fieldsplit_type\": \"multiplicative\",\n",
    "}\n",
    "solver = LinearVariationalSolver(problem, solver_parameters=sp)"
   ]
  },
  {
   "cell_type": "markdown",
   "id": "236a87a7",
   "metadata": {},
   "source": [
    "Setup QoI"
   ]
  },
  {
   "cell_type": "code",
   "execution_count": 14,
   "id": "9cc5ba39",
   "metadata": {},
   "outputs": [],
   "source": [
    "P0 = FunctionSpace(mesh, \"DG\", 0)\n",
    "J_form = 0\n",
    "radius = 20e+03*0.5**level\n",
    "for gauge in gauges:\n",
    "    op.gauges[gauge][\"data\"] = []\n",
    "    k = Function(P0*P0)\n",
    "    ku, keta = k.split()\n",
    "    keta.interpolate(ellipse([op.gauges[gauge][\"coords\"] + (radius,)], mesh))\n",
    "    keta.assign(keta/assemble(keta*dx))\n",
    "    op.gauges[gauge][\"indicator\"] = keta\n",
    "    op.gauges[gauge][\"obs\"] = Function(R)\n",
    "    op.gauges[gauge][\"obs_old\"] = Function(R)\n",
    "    J_form += theta*0.5*dt*keta*(eta - op.gauges[gauge][\"obs\"])**2*dx\n",
    "    J_form += (1-theta)*0.5*dt*keta*(eta_ - op.gauges[gauge][\"obs_old\"])**2*dx"
   ]
  },
  {
   "cell_type": "markdown",
   "id": "79a6d743",
   "metadata": {},
   "source": [
    "Solve forward to generate 'data'"
   ]
  },
  {
   "cell_type": "code",
   "execution_count": 15,
   "id": "a8cd0253",
   "metadata": {},
   "outputs": [
    {
     "name": "stdout",
     "output_type": "stream",
     "text": [
      "t =   0.0 min  ||u|| = 0.0000e+00  ||eta|| = 0.0000e+00\n",
      "t =   0.5 min  ||u|| = 2.8360e+03  ||eta|| = 4.1834e+05\n",
      "t =   1.0 min  ||u|| = 5.5607e+03  ||eta|| = 4.0746e+05\n",
      "t =   1.5 min  ||u|| = 8.0824e+03  ||eta|| = 3.9108e+05\n",
      "t =   2.0 min  ||u|| = 1.0340e+04  ||eta|| = 3.7131e+05\n",
      "t =   2.5 min  ||u|| = 1.2304e+04  ||eta|| = 3.5031e+05\n",
      "t =   3.0 min  ||u|| = 1.3972e+04  ||eta|| = 3.2998e+05\n",
      "t =   3.5 min  ||u|| = 1.5357e+04  ||eta|| = 3.1171e+05\n",
      "t =   4.0 min  ||u|| = 1.6488e+04  ||eta|| = 2.9641e+05\n",
      "t =   4.5 min  ||u|| = 1.7396e+04  ||eta|| = 2.8446e+05\n",
      "t =   5.0 min  ||u|| = 1.8115e+04  ||eta|| = 2.7587e+05\n",
      "t =   5.5 min  ||u|| = 1.8677e+04  ||eta|| = 2.7035e+05\n",
      "t =   6.0 min  ||u|| = 1.9113e+04  ||eta|| = 2.6745e+05\n",
      "t =   6.5 min  ||u|| = 1.9453e+04  ||eta|| = 2.6664e+05\n",
      "t =   7.0 min  ||u|| = 1.9725e+04  ||eta|| = 2.6737e+05\n",
      "t =   7.5 min  ||u|| = 1.9952e+04  ||eta|| = 2.6917e+05\n",
      "t =   8.0 min  ||u|| = 2.0156e+04  ||eta|| = 2.7159e+05\n",
      "t =   8.5 min  ||u|| = 2.0355e+04  ||eta|| = 2.7431e+05\n",
      "t =   9.0 min  ||u|| = 2.0562e+04  ||eta|| = 2.7706e+05\n",
      "t =   9.5 min  ||u|| = 2.0788e+04  ||eta|| = 2.7967e+05\n",
      "t =  10.0 min  ||u|| = 2.1041e+04  ||eta|| = 2.8202e+05\n",
      "t =  10.5 min  ||u|| = 2.1324e+04  ||eta|| = 2.8407e+05\n",
      "t =  11.0 min  ||u|| = 2.1640e+04  ||eta|| = 2.8580e+05\n",
      "t =  11.5 min  ||u|| = 2.1989e+04  ||eta|| = 2.8727e+05\n",
      "t =  12.0 min  ||u|| = 2.2372e+04  ||eta|| = 2.8852e+05\n",
      "t =  12.5 min  ||u|| = 2.2790e+04  ||eta|| = 2.8961e+05\n",
      "t =  13.0 min  ||u|| = 2.3244e+04  ||eta|| = 2.9055e+05\n",
      "t =  13.5 min  ||u|| = 2.3736e+04  ||eta|| = 2.9136e+05\n",
      "t =  14.0 min  ||u|| = 2.4265e+04  ||eta|| = 2.9203e+05\n",
      "t =  14.5 min  ||u|| = 2.4831e+04  ||eta|| = 2.9256e+05\n",
      "t =  15.0 min  ||u|| = 2.5431e+04  ||eta|| = 2.9295e+05\n",
      "t =  15.5 min  ||u|| = 2.6059e+04  ||eta|| = 2.9323e+05\n",
      "t =  16.0 min  ||u|| = 2.6711e+04  ||eta|| = 2.9347e+05\n",
      "t =  16.5 min  ||u|| = 2.7382e+04  ||eta|| = 2.9370e+05\n",
      "t =  17.0 min  ||u|| = 2.8070e+04  ||eta|| = 2.9392e+05\n",
      "t =  17.5 min  ||u|| = 2.8774e+04  ||eta|| = 2.9414e+05\n",
      "t =  18.0 min  ||u|| = 2.9495e+04  ||eta|| = 2.9437e+05\n",
      "t =  18.5 min  ||u|| = 3.0231e+04  ||eta|| = 2.9464e+05\n",
      "t =  19.0 min  ||u|| = 3.0986e+04  ||eta|| = 2.9495e+05\n",
      "t =  19.5 min  ||u|| = 3.1762e+04  ||eta|| = 2.9529e+05\n",
      "t =  20.0 min  ||u|| = 3.2563e+04  ||eta|| = 2.9565e+05\n",
      "t =  20.5 min  ||u|| = 3.3392e+04  ||eta|| = 2.9597e+05\n",
      "t =  21.0 min  ||u|| = 3.4251e+04  ||eta|| = 2.9625e+05\n",
      "t =  21.5 min  ||u|| = 3.5140e+04  ||eta|| = 2.9647e+05\n",
      "t =  22.0 min  ||u|| = 3.6054e+04  ||eta|| = 2.9663e+05\n",
      "t =  22.5 min  ||u|| = 3.6984e+04  ||eta|| = 2.9676e+05\n",
      "t =  23.0 min  ||u|| = 3.7921e+04  ||eta|| = 2.9685e+05\n",
      "t =  23.5 min  ||u|| = 3.8854e+04  ||eta|| = 2.9691e+05\n",
      "t =  24.0 min  ||u|| = 3.9771e+04  ||eta|| = 2.9696e+05\n",
      "t =  24.5 min  ||u|| = 4.0664e+04  ||eta|| = 2.9700e+05\n",
      "t =  25.0 min  ||u|| = 4.1523e+04  ||eta|| = 2.9703e+05\n",
      "t =  25.5 min  ||u|| = 4.2340e+04  ||eta|| = 2.9705e+05\n",
      "t =  26.0 min  ||u|| = 4.3110e+04  ||eta|| = 2.9709e+05\n",
      "t =  26.5 min  ||u|| = 4.3830e+04  ||eta|| = 2.9721e+05\n",
      "t =  27.0 min  ||u|| = 4.4504e+04  ||eta|| = 2.9748e+05\n",
      "t =  27.5 min  ||u|| = 4.5141e+04  ||eta|| = 2.9795e+05\n",
      "t =  28.0 min  ||u|| = 4.5759e+04  ||eta|| = 2.9856e+05\n",
      "t =  28.5 min  ||u|| = 4.6382e+04  ||eta|| = 2.9926e+05\n",
      "t =  29.0 min  ||u|| = 4.7036e+04  ||eta|| = 2.9996e+05\n",
      "t =  29.5 min  ||u|| = 4.7750e+04  ||eta|| = 3.0057e+05\n",
      "t =  30.0 min  ||u|| = 4.8553e+04  ||eta|| = 3.0107e+05\n"
     ]
    }
   ],
   "source": [
    "u_.assign(u0)\n",
    "eta_.project(m_opt*eta0)\n",
    "for gauge in gauges:\n",
    "    op.gauges[gauge][\"data\"].append(float(eta_.at(op.gauges[gauge][\"coords\"])))\n",
    "for i in range(num_timesteps):\n",
    "    print(f\"t = {i*op.dt/60:5.1f} min  ||u|| = {norm(u):.4e}  ||eta|| = {norm(eta):.4e}\")\n",
    "    solver.solve()\n",
    "    q_.assign(q)\n",
    "    for gauge in gauges:\n",
    "        op.gauges[gauge][\"data\"].append(float(eta.at(op.gauges[gauge][\"coords\"])))\n",
    "print(f\"t = {(i+1)*op.dt/60:5.1f} min  ||u|| = {norm(u):.4e}  ||eta|| = {norm(eta):.4e}\")"
   ]
  },
  {
   "cell_type": "markdown",
   "id": "e706af8c",
   "metadata": {},
   "source": [
    "Reduced functional"
   ]
  },
  {
   "cell_type": "code",
   "execution_count": 16,
   "id": "ab04ea61",
   "metadata": {},
   "outputs": [],
   "source": [
    "def rf(ctrl):\n",
    "    m.assign(ctrl[0])\n",
    "    OP.J = 0\n",
    "    u_.assign(u0)\n",
    "    eta_.project(m*eta0)\n",
    "    OP.solutions = [q_.copy(deepcopy=True)]\n",
    "    for i in range(num_timesteps):\n",
    "        solver.solve()\n",
    "        OP.solutions.append(q.copy(deepcopy=True))\n",
    "        for gauge in gauges:\n",
    "            op.gauges[gauge][\"obs\"].assign(op.gauges[gauge][\"data\"][i+1])\n",
    "            op.gauges[gauge][\"obs_old\"].assign(op.gauges[gauge][\"data\"][i])\n",
    "        OP.J = OP.J + assemble(J_form)\n",
    "        q_.assign(q)\n",
    "    return OP.J"
   ]
  },
  {
   "cell_type": "markdown",
   "id": "9086e727",
   "metadata": {},
   "source": [
    "Setup continuous adjoint variational problem and solver"
   ]
  },
  {
   "cell_type": "code",
   "execution_count": 17,
   "id": "d735e41c",
   "metadata": {},
   "outputs": [],
   "source": [
    "phi = TestFunction(V)\n",
    "cont_adj = Function(V)\n",
    "z, zeta = cont_adj.split()\n",
    "cont_adj_ = Function(V)\n",
    "z_, zeta_ = cont_adj_.split()\n",
    "a_star = adjoint(a)"
   ]
  },
  {
   "cell_type": "code",
   "execution_count": 18,
   "id": "dfb38e89",
   "metadata": {},
   "outputs": [],
   "source": [
    "w1 = Constant(1.0)\n",
    "w2 = Constant(0.0)\n",
    "L_star = replace(L, {test_u: z_, test_eta: zeta_, u_: test_u, eta_: test_eta})\n",
    "for gauge in gauges:\n",
    "    L_star += w1*theta*dt*op.gauges[gauge][\"indicator\"]*(eta - op.gauges[gauge][\"obs\"])*test_eta*dx\n",
    "    L_star += w2*(1-theta)*dt*op.gauges[gauge][\"indicator\"]*(eta - op.gauges[gauge][\"obs\"])*test_eta*dx"
   ]
  },
  {
   "cell_type": "code",
   "execution_count": 19,
   "id": "6302b5a8",
   "metadata": {},
   "outputs": [],
   "source": [
    "adj_problem = LinearVariationalProblem(a_star, L_star, cont_adj, bcs=bc)\n",
    "adj_solver = LinearVariationalSolver(adj_problem, solver_parameters=sp)"
   ]
  },
  {
   "cell_type": "code",
   "execution_count": 20,
   "id": "5f1faedf",
   "metadata": {},
   "outputs": [],
   "source": [
    "gc = eta0*zeta*dx - (1-theta)*dt*g*inner(grad(eta0), z)*dx\n",
    "for gauge in gauges:\n",
    "    op.gauges[gauge]['obs0'] = Function(R).assign(op.gauges[gauge]['data'][0])\n",
    "    gc += dt*(1-theta)*op.gauges[gauge]['indicator']*(m*eta0 - op.gauges[gauge]['obs0'])*eta0*dx"
   ]
  },
  {
   "cell_type": "markdown",
   "id": "2f2f7e46",
   "metadata": {},
   "source": [
    "Function to evaluate gradient"
   ]
  },
  {
   "cell_type": "code",
   "execution_count": 21,
   "id": "70300e69",
   "metadata": {},
   "outputs": [],
   "source": [
    "def gradient(ctrl):\n",
    "    m.assign(ctrl[0])\n",
    "    OP.m = ctrl[0]\n",
    "    cont_adj_.assign(0.0)\n",
    "    w2.assign(0.0)\n",
    "    for i in range(num_timesteps-1, -1, -1):\n",
    "        if i == num_timesteps-2:\n",
    "            w2.assign(1.0)\n",
    "        for gauge in gauges:\n",
    "            op.gauges[gauge][\"obs\"].assign(op.gauges[gauge][\"data\"][i+1])\n",
    "            op.gauges[gauge][\"obs_old\"].assign(op.gauges[gauge][\"data\"][i])\n",
    "        q.assign(OP.solutions[i+1])\n",
    "        q_.assign(OP.solutions[i])\n",
    "        adj_solver.solve()\n",
    "        cont_adj_.assign(cont_adj)\n",
    "    OP.dJdm = assemble(gc)\n",
    "    return OP.dJdm"
   ]
  },
  {
   "cell_type": "code",
   "execution_count": 22,
   "id": "5b3e1e9e",
   "metadata": {},
   "outputs": [],
   "source": [
    "def cb(ctrl):\n",
    "    OP.ls_iteration += 1\n",
    "    print(f\"{OP.ls_iteration:4d}  {OP.m:7.4}  {OP.J:.8}  {OP.dJdm:.8}\")\n",
    "    OP.m_progress.append(OP.m)\n",
    "    OP.J_progress.append(OP.J)\n",
    "    OP.dJdm_progress.append(OP.dJdm)"
   ]
  },
  {
   "cell_type": "code",
   "execution_count": 23,
   "id": "e4478cd0",
   "metadata": {},
   "outputs": [
    {
     "name": "stdout",
     "output_type": "stream",
     "text": [
      "   1     8.99  4993.7553  1852.9221\n",
      "   2    6.717  1863.1306  901.85156\n",
      "   3    4.562  891.27337  -1.2215774e-05\n",
      "   4    4.562  891.27336  -6.3674112e-06\n",
      "Optimization terminated successfully.\n",
      "         Current function value: 891.273364\n",
      "         Iterations: 4\n",
      "         Function evaluations: 5\n",
      "         Gradient evaluations: 5\n",
      "CPU time: 83.049s, 5 function evaluations, 5 gradient evaluations, 4 line searches\n"
     ]
    }
   ],
   "source": [
    "OP.__init__()\n",
    "with Timer() as t:\n",
    "    out = so.fmin_bfgs(rf, 10.0, fprime=gradient, callback=cb, full_output=True)\n",
    "m_opt, J_opt, dJdm_opt, B_opt, feval, geval, warn = out\n",
    "print(f\"CPU time: {t}s, {feval} function evaluations, {geval} gradient evaluations, {OP.ls_iteration} line searches\")"
   ]
  },
  {
   "cell_type": "code",
   "execution_count": 24,
   "id": "7282fa96",
   "metadata": {},
   "outputs": [
    {
     "name": "stdout",
     "output_type": "stream",
     "text": [
      "Approximate Hessian: 418.4443\n"
     ]
    }
   ],
   "source": [
    "print(f\"Approximate Hessian: {1/B_opt[0][0]:.4f}\")"
   ]
  },
  {
   "cell_type": "markdown",
   "id": "58c0adc4",
   "metadata": {},
   "source": [
    "## Performance\n",
    "\n",
    "|      Mesh      | feval | geval | LS |   Run 1   |   Run 2   |   Run 3   |   Run 4   |  Average  |\n",
    "| -------------- | ----- | ----- | -- | --------- | --------- | --------- | --------- | --------- |\n",
    "| $\\mathcal H_0$ |   4   |   4   |  3 |   11.700  |   10.244  |   10.131  |   10.140  |   10.554  |\n",
    "| $\\mathcal H_1$ |   5   |   5   |  4 |   84.672  |   81.813  |   81.788  |   82.015  |   82.572  |\n",
    "| $\\mathcal H_2$ |   5   |   5   |  4 |  623.400  |  627.681  |  616.115  |  618.146  |  633.840|"
   ]
  },
  {
   "cell_type": "code",
   "execution_count": 25,
   "id": "7fabd17f",
   "metadata": {},
   "outputs": [
    {
     "name": "stdout",
     "output_type": "stream",
     "text": [
      "Minimiser of quadratic: 4.5619\n",
      "Exact Hessian: 418.4443\n"
     ]
    }
   ],
   "source": [
    "l = si.lagrange(OP.m_progress[:3], OP.J_progress[:3])\n",
    "dl = l.deriv()\n",
    "l_min = -dl.coefficients[1]/dl.coefficients[0]\n",
    "print(f\"Minimiser of quadratic: {l_min:.4f}\")\n",
    "print(f\"Exact Hessian: {dl.coefficients[0]:.4f}\")"
   ]
  },
  {
   "cell_type": "markdown",
   "id": "cce8e5a3",
   "metadata": {},
   "source": [
    "Plot progress of optimisation"
   ]
  },
  {
   "cell_type": "code",
   "execution_count": 26,
   "id": "4363dbd3",
   "metadata": {},
   "outputs": [
    {
     "data": {
      "image/png": "[encoded data removed]",
      "text/plain": [
       "<Figure size 576x576 with 1 Axes>"
      ]
     },
     "metadata": {
      "needs_background": "light"
     },
     "output_type": "display_data"
    }
   ],
   "source": [
    "fig, axes = plt.subplots(figsize=(8, 8))\n",
    "xx = np.linspace(2, 10, 100)\n",
    "axes.plot(xx, l(xx), ':', color='C0')\n",
    "axes.plot(l_min, l(l_min), '*', markersize=14, color='C0', label=r\"$m^\\star={:.4f}$\".format(l_min))\n",
    "\n",
    "delta_m = 0.25\n",
    "for i, (mi, fi, gi) in enumerate(zip(OP.m_progress, OP.J_progress, OP.dJdm_progress)):\n",
    "    x = np.array([mi - delta_m, mi + delta_m])\n",
    "    axes.plot(x, gi*(x - mi) + fi, '-', color='C2', linewidth=5)\n",
    "axes.plot(OP.m_progress, OP.J_progress, 'o', color='C1', markersize=8)\n",
    "\n",
    "axes.set_xlabel(\"Control parameter\")\n",
    "axes.set_ylabel(\"Quantity of Interest\")\n",
    "axes.grid(True)\n",
    "axes.legend()\n",
    "plt.tight_layout()\n",
    "plt.savefig(f\"plots/tohoku1d_inversion_continuous_{level}.pdf\")"
   ]
  },
  {
   "cell_type": "markdown",
   "id": "42bc0690",
   "metadata": {},
   "source": [
    "Minimisers for $\\theta=\\frac12$: 4.0913, 4.5619, 4.9080."
   ]
  }
 ],
 "metadata": {
  "kernelspec": {
   "display_name": "Python 3",
   "language": "python",
   "name": "python3"
  },
  "language_info": {
   "codemirror_mode": {
    "name": "ipython",
    "version": 3
   },
   "file_extension": ".py",
   "mimetype": "text/x-python",
   "name": "python",
   "nbconvert_exporter": "python",
   "pygments_lexer": "ipython3",
   "version": "3.8.5"
  }
 },
 "nbformat": 4,
 "nbformat_minor": 5
}
